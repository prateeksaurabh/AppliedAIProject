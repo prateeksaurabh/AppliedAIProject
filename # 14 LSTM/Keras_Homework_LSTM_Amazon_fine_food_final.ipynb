{
  "nbformat": 4,
  "nbformat_minor": 0,
  "metadata": {
    "colab": {
      "name": "Keras_Homework_LSTM_Amazon_fine_food.ipynb",
      "provenance": [],
      "collapsed_sections": [],
      "machine_shape": "hm"
    },
    "kernelspec": {
      "name": "python3",
      "display_name": "Python 3"
    },
    "accelerator": "GPU"
  },
  "cells": [
    {
      "cell_type": "code",
      "metadata": {
        "id": "ljFWPHECeqR-",
        "colab_type": "code",
        "colab": {}
      },
      "source": [
        "%matplotlib inline\n",
        "import warnings\n",
        "warnings.filterwarnings(\"ignore\")\n",
        "import sqlite3\n",
        "import pandas as pd\n",
        "import numpy as np\n",
        "import nltk\n",
        "import string\n",
        "import matplotlib.pyplot as plt\n",
        "import seaborn as sns\n",
        "from nltk.stem.porter import PorterStemmer\n",
        "from nltk.stem import PorterStemmer\n",
        "from nltk.stem.snowball import SnowballStemmer\n",
        "from keras.models import Sequential\n",
        "from keras.layers import Dense\n",
        "from keras.layers import LSTM\n",
        "from keras.layers.embeddings import Embedding\n",
        "from keras.preprocessing import sequence\n",
        "from sklearn.model_selection import train_test_split\n",
        "from sklearn.feature_extraction.text import TfidfTransformer\n",
        "from sklearn.feature_extraction.text import TfidfVectorizer\n",
        "from sklearn.feature_extraction.text import CountVectorizer\n",
        "from sklearn.metrics import confusion_matrix\n",
        "from sklearn import metrics\n",
        "from sklearn.metrics import roc_curve, auc\n",
        "from nltk.stem.porter import PorterStemmer\n",
        "from nltk.stem import PorterStemmer\n",
        "from nltk.stem.snowball import SnowballStemmer\n",
        "import re\n",
        "# Tutorial about Python regular expressions: https://pymotw.com/2/re/\n",
        "from nltk.corpus import stopwords\n",
        "from nltk.stem import PorterStemmer\n",
        "from nltk.stem.wordnet import WordNetLemmatizer\n",
        "from gensim.models import Word2Vec\n",
        "from gensim.models import KeyedVectors\n",
        "import pickle\n",
        "from tqdm import tqdm\n",
        "import os\n"
      ],
      "execution_count": 0,
      "outputs": []
    },
    {
      "cell_type": "markdown",
      "metadata": {
        "id": "2Eb3bCO3iOzW",
        "colab_type": "text"
      },
      "source": [
        "How to read csv file from drive i followed this link https://stackoverflow.com/questions/53619189/read-file-from-drive-in-google-colab"
      ]
    },
    {
      "cell_type": "code",
      "metadata": {
        "id": "dB1IoQwQgl4I",
        "colab_type": "code",
        "outputId": "68c8e0d2-79ff-4dce-a060-78749d3cc86e",
        "colab": {
          "base_uri": "https://localhost:8080/",
          "height": 34
        }
      },
      "source": [
        "from google.colab import drive\n",
        "drive.mount(\"/content/drive\")"
      ],
      "execution_count": 20,
      "outputs": [
        {
          "output_type": "stream",
          "text": [
            "Drive already mounted at /content/drive; to attempt to forcibly remount, call drive.mount(\"/content/drive\", force_remount=True).\n"
          ],
          "name": "stdout"
        }
      ]
    },
    {
      "cell_type": "code",
      "metadata": {
        "id": "ux7MWobpin6M",
        "colab_type": "code",
        "colab": {}
      },
      "source": [
        "import pandas as pd\n",
        "#data = pd.read_csv(\"/content/drive/My Drive/Reviews.csv\")\n",
        "con = sqlite3.connect(r\"/content/drive/My Drive/database.sqlite\")\n",
        "data = pd.read_sql_query(\"\"\" SELECT * FROM Reviews WHERE Score != 3\"\"\",con)\n"
      ],
      "execution_count": 0,
      "outputs": []
    },
    {
      "cell_type": "code",
      "metadata": {
        "id": "_G1QU0BpjJe8",
        "colab_type": "code",
        "outputId": "0629f0ac-cbaf-49c1-be60-6d1cf6822594",
        "colab": {
          "base_uri": "https://localhost:8080/",
          "height": 255
        }
      },
      "source": [
        "print (data)"
      ],
      "execution_count": 22,
      "outputs": [
        {
          "output_type": "stream",
          "text": [
            "            Id  ...                                               Text\n",
            "0            1  ...  I have bought several of the Vitality canned d...\n",
            "1            2  ...  Product arrived labeled as Jumbo Salted Peanut...\n",
            "2            3  ...  This is a confection that has been around a fe...\n",
            "3            4  ...  If you are looking for the secret ingredient i...\n",
            "4            5  ...  Great taffy at a great price.  There was a wid...\n",
            "...        ...  ...                                                ...\n",
            "525809  568450  ...  Great for sesame chicken..this is a good if no...\n",
            "525810  568451  ...  I'm disappointed with the flavor. The chocolat...\n",
            "525811  568452  ...  These stars are small, so you can give 10-15 o...\n",
            "525812  568453  ...  These are the BEST treats for training and rew...\n",
            "525813  568454  ...  I am very satisfied ,product is as advertised,...\n",
            "\n",
            "[525814 rows x 10 columns]\n"
          ],
          "name": "stdout"
        }
      ]
    },
    {
      "cell_type": "markdown",
      "metadata": {
        "id": "svKxFCdCvnPf",
        "colab_type": "text"
      },
      "source": [
        "The below code i am copying from my own assignment (Assignment number 4 from naive bayes where we already performed few data cleaning,data deplication etc processes)"
      ]
    },
    {
      "cell_type": "code",
      "metadata": {
        "id": "oXbv0TYlvmW7",
        "colab_type": "code",
        "outputId": "bdcaa940-dfeb-4581-f3c5-4fae88d888d0",
        "colab": {
          "base_uri": "https://localhost:8080/",
          "height": 1000
        }
      },
      "source": [
        "# Change Score with 1 n 2 as -ve and 4 n 5 as +ve\n",
        "\n",
        "def chng_to_0_or_1 (Score):\n",
        "    if Score ==4 or Score ==5:\n",
        "        return 1\n",
        "    elif Score ==1 or Score ==2:\n",
        "        return 0\n",
        "    else:# Thus in case by some mistake any data is their with rating 6 or 7 etc due to some error is removed\n",
        "        pass\n",
        "currentScore = data[\"Score\"]\n",
        "new_Score = currentScore.map(chng_to_0_or_1)\n",
        "data[\"Score\"] = new_Score\n",
        "print (\"Number of data points available\")\n",
        "print (data.shape)#Gives original number of data points available\n",
        "\n",
        "\n",
        "#2 Data Cleaning a.) Getting rid of duplicates and b.) if helpnessdenominator < helpfulnessnumerator\n",
        "\n",
        "\n",
        "data = data.drop_duplicates(subset = [\"UserId\",\"ProfileName\",\"HelpfulnessNumerator\",\"HelpfulnessDenominator\",\"Score\",\"Time\",\"Summary\",\"Text\"], keep='first', inplace=False)\n",
        "print (\"Number of data points after removing duplicates\")\n",
        "print (data.shape)#Gives data points are deduplication\n",
        "\n",
        "# Reference: Copied from above cell  final=final[final.HelpfulnessNumerator<=final.HelpfulnessDenominator]\n",
        "data=data[data.HelpfulnessNumerator<=data.HelpfulnessDenominator]\n",
        "print (\"Number of data points after removing where HelpfulnessNumerator is more than HelpfulnessDenominator \")\n",
        "print (data.shape)\n",
        "\n",
        "#3 Preprocessing begins\n",
        "\n",
        "#Convert to lower case,convert shortcut words to proper words, remove Special Character\n",
        "\n",
        "#i) Convert to lower case:\n",
        "data[\"Text\"] =  (data[\"Text\"].str.lower())\n",
        "data[\"Summary\"] =  (data[\"Summary\"].str.lower())\n",
        "\n",
        "#ii) Convert Shortcuts words to proper words\n",
        "#List of Words are:https://en.wikipedia.org/wiki/Wikipedia:List_of_English_contractions\n",
        "#Reference:https://stackoverflow.com/questions/39602824/pandas-replace-string-with-another-string\n",
        "data['Text'] = data['Text'].replace({\"ain't\":\"am not\",\"amn't\":\"am not\",\"aren't\":\"are not\", \\\n",
        "\"can't\":\"cannot\",\"cause\":\"because\",\"could've\":\"could have\",\"couldn't\":\"could not\",\"couldn't've\":\"could not have\", \\\n",
        "\"daren't\":\"dare not\",\"daresn't\":\"dare not\",\"dasn't\":\"dare not\",\"didn't\":\"did not\",\"doesn't\":\"does not\", \\\n",
        "\"don't\":\"do not\",\"e'er\":\"ever\",\"everyone's\":\"everyone is\",\"finna\":\"fixing to\",\"gimme\":\"give me\", \\\n",
        "\"gonna\":\"going to\",\"gon't\":\"go not\",\"gotta\":\"got to\",\"hadn't\":\"had not\",\"hasn't\":\"has not\",\"haven't\":\"have not\",\\\n",
        "\"he'd\":\"he had\",\"he'll\":\"he shall\",\"he's\":\"he has\",\"he've\":\"he have\",\"how'd\":\"how did\",\"how'll\":\"how will\",\\\n",
        "\"how're\":\"how are\",\"how's\":\"how has\",\"I'd\":\"I had\",\"I'll\":\"I shall\",\"I'm\":\"I am\",\"I'm'a\":\"I am about to\",\\\n",
        "\"I'm'o\":\"I am going to\",\"I've\":\"I have\",\"isn't\":\"is not\",\"it'd\":\"it would\",\"it'll\":\"it shall\",\"it's\":\"it has\",\\\n",
        "\"let's\":\"let us\",\"mayn't\":\"may not\",\"may've\":\"may have\",\"mightn't\":\"might not\",\"might've\":\"might have\",\\\n",
        "\"mustn't\":\"must not\",\"mustn't've\":\"must not have\",\"must've\":\"must have\",\"needn't\":\"need not\",\"ne'er\":\"never\",\\\n",
        "\"o'clock\":\"of the clock\",\"o'er\":\"\",\"ol'\":\"old\",\"oughtn't\":\"ought not\",\"shalln't\":\"shall not\",\"shan't\":\"shall not\",\\\n",
        "\"she'd\":\"she had\",\"she'll\":\"she shall\",\"she's\":\"she is\",\"should've\":\"should have\",\"shouldn't\":\"should not\",\\\n",
        "\"shouldn't've\":\"should not have\",\"somebody's\":\"somebody has\",\"someone's\":\"someone has\",\"something's\":\"something has\",\\\n",
        "\"that'll\":\"that will\",\"that're\":\"that are\",\"that's\":\"that is\",\"that'd\":\"that would\",\"there'd\":\"there had\",\\\n",
        "\"there'll\":\"there shall\",\"there're\":\"there are\",\"there's\":\"there is\",\"these're\":\"hese are\",\"they'd\":\"they had\",\\\n",
        "\"they'll\":\"they will\",\"they're\":\"they are\",\"they've\":\"they have\",\"this's\":\"\",\"those're\":\"those are\",\"tis\":\"it is\",\\\n",
        "\"twas\":\"it was\",\"wasn't\":\"was not\",\"we'd\":\"we had\",\"we'd've\":\"we would have\",\"we'll\":\"we will\",\"we're\":\"we are\",\\\n",
        "\"we've\":\"we have\",\"weren't\":\"were not\",\"what'd\":\"what did\",\"what'll\":\"what will\",\"what're\":\"what are\",\"what's\":\"what is\",\\\n",
        "\"what've\":\"what have\",\"when's\":\"when is\",\"where'd\":\"where did\",\"where're\":\"where are\",\"where've\":\"where have\",\\\n",
        "\"which's\":\"which has\",\"who'd\":\"who would\",\"who'd've\":\"who would have\",\"who'll\":\"who shall\",\"who're\":\"who are\",\\\n",
        "\"who's\":\"who has\",\"who've\":\"who have\",\"why'd\":\"why did\",\"why're\":\"why are\",\"why's\":\"why has\",\"won't\":\"will not\",\\\n",
        "\"would've\":\"would have\",\"wouldn't\":\"would not\",\"y'all\":\"you all\",\"you'd\":\"you had\",\"you'll\":\"you shall\",\"you're\":\"you are\",\\\n",
        "\"you've\":\"you have\"})\n",
        "##############Lets do the same for summary Text##################################\n",
        "data['Summary'] = data['Summary'].replace({\"ain't\":\"am not\",\"amn't\":\"am not\",\"aren't\":\"are not\", \\\n",
        "\"can't\":\"cannot\",\"cause\":\"because\",\"could've\":\"could have\",\"couldn't\":\"could not\",\"couldn't've\":\"could not have\", \\\n",
        "\"daren't\":\"dare not\",\"daresn't\":\"dare not\",\"dasn't\":\"dare not\",\"didn't\":\"did not\",\"doesn't\":\"does not\", \\\n",
        "\"don't\":\"do not\",\"e'er\":\"ever\",\"everyone's\":\"everyone is\",\"finna\":\"fixing to\",\"gimme\":\"give me\", \\\n",
        "\"gonna\":\"going to\",\"gon't\":\"go not\",\"gotta\":\"got to\",\"hadn't\":\"had not\",\"hasn't\":\"has not\",\"haven't\":\"have not\",\\\n",
        "\"he'd\":\"he had\",\"he'll\":\"he shall\",\"he's\":\"he has\",\"he've\":\"he have\",\"how'd\":\"how did\",\"how'll\":\"how will\",\\\n",
        "\"how're\":\"how are\",\"how's\":\"how has\",\"I'd\":\"I had\",\"I'll\":\"I shall\",\"I'm\":\"I am\",\"I'm'a\":\"I am about to\",\\\n",
        "\"I'm'o\":\"I am going to\",\"I've\":\"I have\",\"isn't\":\"is not\",\"it'd\":\"it would\",\"it'll\":\"it shall\",\"it's\":\"it has\",\\\n",
        "\"let's\":\"let us\",\"mayn't\":\"may not\",\"may've\":\"may have\",\"mightn't\":\"might not\",\"might've\":\"might have\",\\\n",
        "\"mustn't\":\"must not\",\"mustn't've\":\"must not have\",\"must've\":\"must have\",\"needn't\":\"need not\",\"ne'er\":\"never\",\\\n",
        "\"o'clock\":\"of the clock\",\"o'er\":\"\",\"ol'\":\"old\",\"oughtn't\":\"ought not\",\"shalln't\":\"shall not\",\"shan't\":\"shall not\",\\\n",
        "\"she'd\":\"she had\",\"she'll\":\"she shall\",\"she's\":\"she is\",\"should've\":\"should have\",\"shouldn't\":\"should not\",\\\n",
        "\"shouldn't've\":\"should not have\",\"somebody's\":\"somebody has\",\"someone's\":\"someone has\",\"something's\":\"something has\",\\\n",
        "\"that'll\":\"that will\",\"that're\":\"that are\",\"that's\":\"that is\",\"that'd\":\"that would\",\"there'd\":\"there had\",\\\n",
        "\"there'll\":\"there shall\",\"there're\":\"there are\",\"there's\":\"there is\",\"these're\":\"hese are\",\"they'd\":\"they had\",\\\n",
        "\"they'll\":\"they will\",\"they're\":\"they are\",\"they've\":\"they have\",\"this's\":\"\",\"those're\":\"those are\",\"tis\":\"it is\",\\\n",
        "\"twas\":\"it was\",\"wasn't\":\"was not\",\"we'd\":\"we had\",\"we'd've\":\"we would have\",\"we'll\":\"we will\",\"we're\":\"we are\",\\\n",
        "\"we've\":\"we have\",\"weren't\":\"were not\",\"what'd\":\"what did\",\"what'll\":\"what will\",\"what're\":\"what are\",\"what's\":\"what is\",\\\n",
        "\"what've\":\"what have\",\"when's\":\"when is\",\"where'd\":\"where did\",\"where're\":\"where are\",\"where've\":\"where have\",\\\n",
        "\"which's\":\"which has\",\"who'd\":\"who would\",\"who'd've\":\"who would have\",\"who'll\":\"who shall\",\"who're\":\"who are\",\\\n",
        "\"who's\":\"who has\",\"who've\":\"who have\",\"why'd\":\"why did\",\"why're\":\"why are\",\"why's\":\"why has\",\"won't\":\"will not\",\\\n",
        "\"would've\":\"would have\",\"wouldn't\":\"would not\",\"y'all\":\"you all\",\"you'd\":\"you had\",\"you'll\":\"you shall\",\"you're\":\"you are\",\\\n",
        "\"you've\":\"you have\"})\n",
        "########################################################################################\n",
        "# iii) Remove Special Characters except alpahbets and numbers\n",
        "#The reason i dont want to remove number people might write got five eggs as 5 eggs or vice versa and dont want to lose \n",
        "#that information which could be useful\n",
        "#Ref:https://stackoverflow.com/questions/33257344/how-to-remove-special-characers-from-a-column-of-dataframe-using-module-re\n",
        "data[\"Text\"]=data[\"Text\"].map(lambda x: re.sub(r'[^a-zA-Z ]', '', x))\n",
        "data[\"Summary_copy\"]=data[\"Summary\"].map(lambda x: re.sub(r'[^a-zA-Z ]', '', x))\n",
        "import nltk\n",
        "nltk.download(\"popular\")\n",
        "\n",
        "#The Summary are usually so small if we remove few stopwords the meaning itself would be complely lost or chamge\n",
        "# So let us see what all stopwords we have\n",
        "#Ref:::::::::https://stackoverflow.com/questions/5511708/adding-words-to-nltk-stoplist\n",
        "#https://chrisalbon.com/machine_learning/preprocessing_text/remove_stop_words/\n",
        "\n",
        "stopwords = nltk.corpus.stopwords.words('english')\n",
        "newStopWords = ['would','could','br','<br>','<','>','-','---br', '-----br','------br','-------j','', '-', '--', '---', '----', '-----', '------', '-------', '---------', '-------------------------', '----------------------------------------------------------------------------------------------------------------------------br', '------------------------------------------------------------------------------------------------------br', '---------------------------------------------------------------------------------------------------br', '-----------------------------------------------------------------------------------br', '--------------------------------------------------------------------------------br', '-------------------------------------------------------------------------------br', '--------------------------------------------------------------------------br', '-------------------------------------------------------------------------br', '---------------------------------------------------------------------br', '-------------------------------------------------------------------br', '-----------------------------------------------------------------br', '---------------------------------------------------------------br', '--------------------------------------------------------------br', '-------------------------------------------------------------br', '------------------------------------------------------------br', '-----------------------------------------------------------br', '---------------------------------------------------------br', '------------------------------------------------------br', '--------------------------------------------------br', '------------------------------------------------br', '-----------------------------------------------br', '---------------------------------------------br', '-------------------------------------------br', '------------------------------------------br', '---------------------------------------br', '-------------------------------------br', '-----------------------------------br', '---------------------------------br', '--------------------------------br', '-------------------------------br', '----------------------------br', '---------------------------br', '--------------------------br', '-------------------------br', '-----------------------br', '----------------------br', '---------------------br', '--------------------br', '--------------------old', '-------------------br', '-------------------update', '------------------br', '-----------------br', '----------------br', '----------------powdered--------wheatgrass', '---------------br', '--------------br', '-------------br', '------------br', '-----------br', '----------850mg--------------550mg------br', '----------br', '---------br', '---------j', '--------br', '-------br', '-------excelent', '-------j', '-------this', '------br', '------open', '-----br']\n",
        "#newStopWords = ['would','could','br','<br>','<','>','-','---br', '-----br','------br','-------j','']\n",
        "notstopwords = ['not','no','nor']\n",
        "stopwords.extend(newStopWords)\n",
        "stopwords = [word for word in stopwords if word not in notstopwords]\n",
        "\n",
        "#  iv) For now let us just go with flow will use default stopwords as creating our own stop words is very time consuming\n",
        "#Rather will use n-gram stratergy to get rid of problem of stopwords removal changing the meaning of sentences\n",
        "#Ref:https://stackoverflow.com/questions/43184364/python-remove-stop-words-from-pandas-dataframe-give-wrong-output\n",
        "data[\"New_Text\"]= data['Text'].apply(lambda x: [item for item in str.split(x) if item not in stopwords])\n",
        "data[\"Summary\"]= data['Summary'].apply(lambda x: [item for item in str.split(x) if item not in stopwords])\n",
        "\n",
        "#Ref:https://stackoverflow.com/questions/37347725/converting-a-panda-df-list-into-a-string/37347837\n",
        "#we are creating new column New_summary so in case in future we need summary it is intact\n",
        "data[\"New_Text\"]=data[\"New_Text\"].apply(' '.join)\n",
        "data[\"Summary\"]=data[\"Summary\"].apply(' '.join)\n",
        "\n",
        "# v) Now lets do Stemming\n",
        "#https://stackoverflow.com/questions/48617589/beginner-stemming-in-pandas-produces-letters-not-stems\n",
        "english_stemmer=SnowballStemmer('english', ignore_stopwords=True)\n",
        "data[\"New_Text\"] = data[\"New_Text\"].apply(english_stemmer.stem)\n",
        "data[\"Summary\"] = data[\"Summary\"].apply(english_stemmer.stem)\n",
        "data[\"New_Text\"] = data[\"New_Text\"].astype(str)\n",
        "data[\"Summary\"] = data[\"Summary\"].astype(str)\n",
        "\n",
        "#vi) stemming without removing stop words\n",
        "english_stemmer=SnowballStemmer('english', ignore_stopwords=True)\n",
        "#https://stackoverflow.com/questions/34724246/attributeerror-float-object-has-no-attribute-lower\n",
        "data[\"Text_with_stop\"]=data[\"Text\"].astype(str)\n",
        "data[\"Summary\"]=data[\"Summary\"].astype(str)\n",
        "data[\"Text_with_stop\"]=data[\"Text_with_stop\"].str.lower().map(english_stemmer.stem)\n",
        "data[\"Summary\"]=data[\"Summary\"].str.lower().map(english_stemmer.stem)\n",
        "data[\"Text_with_stop\"]=data[\"Text_with_stop\"].apply(''.join)\n",
        "data[\"Summary\"]=data[\"Summary\"].apply(''.join)\n",
        "data[\"Text_with_stop\"] = data[\"Text_with_stop\"].astype(str)\n",
        "data[\"Summary\"] = data[\"Summary\"].astype(str)\n",
        "################\n",
        "# New_text_without_stop_convert as string\n",
        "data[\"New_Text\"] = data[\"New_Text\"].astype(str)\n",
        "data[\"New_Text\"]=data[\"New_Text\"].apply(''.join)\n",
        "data[\"Summary\"]=data[\"Summary\"].apply(''.join)\n",
        "data[\"Summary\"] = data[\"Summary\"].astype(str)\n",
        "data[\"New_Text\"] = data[\"New_Text\"].astype(str)\n",
        "print(data[\"Score\"].value_counts())\n",
        "print (\"Thus we see there are 85% and 15% positive and negative reviews,thus a unbalanced dataset.So to create a balanced \\\n",
        "dataset we first copy negative dataset 6 times than we sample with same number of times as positive\")\n",
        "# Let include another feature which is the length of the text \n",
        "data_neg = data[data[\"Score\"] == 0]\n",
        "data_pos = data[data[\"Score\"] == 1]\n",
        "data = pd.concat([data_pos,data_neg])\n",
        "#https://stackoverflow.com/questions/46429033/how-do-i-count-the-total-number-of-words-in-a-pandas-dataframe-cell-and-add-thos\n",
        "data[\"Text_length\"]= (data[\"New_Text\"].str.count(' ') + 1)\n",
        "data[\"Summary_length\"]= (data[\"Summary\"].str.count(' ') + 1)\n",
        "data[\"Time_formatted\"]= pd.to_datetime(data[\"Time\"])\n",
        "data.sort_values(by=['Time_formatted'], inplace=True)\n",
        "\n"
      ],
      "execution_count": 23,
      "outputs": [
        {
          "output_type": "stream",
          "text": [
            "Number of data points available\n",
            "(525814, 10)\n",
            "Number of data points after removing duplicates\n",
            "(366392, 10)\n",
            "Number of data points after removing where HelpfulnessNumerator is more than HelpfulnessDenominator \n",
            "(366390, 10)\n",
            "[nltk_data] Downloading collection 'popular'\n",
            "[nltk_data]    | \n",
            "[nltk_data]    | Downloading package cmudict to /root/nltk_data...\n",
            "[nltk_data]    |   Package cmudict is already up-to-date!\n",
            "[nltk_data]    | Downloading package gazetteers to /root/nltk_data...\n",
            "[nltk_data]    |   Package gazetteers is already up-to-date!\n",
            "[nltk_data]    | Downloading package genesis to /root/nltk_data...\n",
            "[nltk_data]    |   Package genesis is already up-to-date!\n",
            "[nltk_data]    | Downloading package gutenberg to /root/nltk_data...\n",
            "[nltk_data]    |   Package gutenberg is already up-to-date!\n",
            "[nltk_data]    | Downloading package inaugural to /root/nltk_data...\n",
            "[nltk_data]    |   Package inaugural is already up-to-date!\n",
            "[nltk_data]    | Downloading package movie_reviews to\n",
            "[nltk_data]    |     /root/nltk_data...\n",
            "[nltk_data]    |   Package movie_reviews is already up-to-date!\n",
            "[nltk_data]    | Downloading package names to /root/nltk_data...\n",
            "[nltk_data]    |   Package names is already up-to-date!\n",
            "[nltk_data]    | Downloading package shakespeare to /root/nltk_data...\n",
            "[nltk_data]    |   Package shakespeare is already up-to-date!\n",
            "[nltk_data]    | Downloading package stopwords to /root/nltk_data...\n",
            "[nltk_data]    |   Package stopwords is already up-to-date!\n",
            "[nltk_data]    | Downloading package treebank to /root/nltk_data...\n",
            "[nltk_data]    |   Package treebank is already up-to-date!\n",
            "[nltk_data]    | Downloading package twitter_samples to\n",
            "[nltk_data]    |     /root/nltk_data...\n",
            "[nltk_data]    |   Package twitter_samples is already up-to-date!\n",
            "[nltk_data]    | Downloading package omw to /root/nltk_data...\n",
            "[nltk_data]    |   Package omw is already up-to-date!\n",
            "[nltk_data]    | Downloading package wordnet to /root/nltk_data...\n",
            "[nltk_data]    |   Package wordnet is already up-to-date!\n",
            "[nltk_data]    | Downloading package wordnet_ic to /root/nltk_data...\n",
            "[nltk_data]    |   Package wordnet_ic is already up-to-date!\n",
            "[nltk_data]    | Downloading package words to /root/nltk_data...\n",
            "[nltk_data]    |   Package words is already up-to-date!\n",
            "[nltk_data]    | Downloading package maxent_ne_chunker to\n",
            "[nltk_data]    |     /root/nltk_data...\n",
            "[nltk_data]    |   Package maxent_ne_chunker is already up-to-date!\n",
            "[nltk_data]    | Downloading package punkt to /root/nltk_data...\n",
            "[nltk_data]    |   Package punkt is already up-to-date!\n",
            "[nltk_data]    | Downloading package snowball_data to\n",
            "[nltk_data]    |     /root/nltk_data...\n",
            "[nltk_data]    |   Package snowball_data is already up-to-date!\n",
            "[nltk_data]    | Downloading package averaged_perceptron_tagger to\n",
            "[nltk_data]    |     /root/nltk_data...\n",
            "[nltk_data]    |   Package averaged_perceptron_tagger is already up-\n",
            "[nltk_data]    |       to-date!\n",
            "[nltk_data]    | \n",
            "[nltk_data]  Done downloading collection popular\n",
            "1    308679\n",
            "0     57711\n",
            "Name: Score, dtype: int64\n",
            "Thus we see there are 85% and 15% positive and negative reviews,thus a unbalanced dataset.So to create a balanced dataset we first copy negative dataset 6 times than we sample with same number of times as positive\n"
          ],
          "name": "stdout"
        }
      ]
    },
    {
      "cell_type": "code",
      "metadata": {
        "id": "1DwsTJlwDLAe",
        "colab_type": "code",
        "colab": {
          "base_uri": "https://localhost:8080/",
          "height": 255
        },
        "outputId": "c807f58d-9cea-44de-8d2f-999e0b2c2169"
      },
      "source": [
        "print (data)"
      ],
      "execution_count": 24,
      "outputs": [
        {
          "output_type": "stream",
          "text": [
            "            Id   ProductId  ... Summary_length                Time_formatted\n",
            "138706  150524  0006641040  ...              3 1970-01-01 00:00:00.939340800\n",
            "138683  150501  0006641040  ...              7 1970-01-01 00:00:00.940809600\n",
            "417839  451856  B00004CXX9  ...              2 1970-01-01 00:00:00.944092800\n",
            "212472  230285  B00004RYGX  ...              4 1970-01-01 00:00:00.944438400\n",
            "417838  451855  B00004CXX9  ...              1 1970-01-01 00:00:00.946857600\n",
            "...        ...         ...  ...            ...                           ...\n",
            "478157  517064  B007OYUZIM  ...              1 1970-01-01 00:00:01.351209600\n",
            "457460  494625  B0012VSXIM  ...              5 1970-01-01 00:00:01.351209600\n",
            "42269    45991  B007VQQT1K  ...              3 1970-01-01 00:00:01.351209600\n",
            "15069    16426  B007TJGZ54  ...              2 1970-01-01 00:00:01.351209600\n",
            "479033  518008  B00529PFX6  ...              1 1970-01-01 00:00:01.351209600\n",
            "\n",
            "[366390 rows x 16 columns]\n"
          ],
          "name": "stdout"
        }
      ]
    },
    {
      "cell_type": "markdown",
      "metadata": {
        "id": "DeZzy4-fCFi_",
        "colab_type": "text"
      },
      "source": [
        "So we see we have 16 rows few of them are copy. The eason we made copy so in case we need to use them in future incase our data gets corrupted due to some of our mistakes. But for now everything looks good. Lets make another dataframe with just 12 columns leaving copies and now we can operate on this new dataframe "
      ]
    },
    {
      "cell_type": "markdown",
      "metadata": {
        "id": "emC85kS0ECTg",
        "colab_type": "text"
      },
      "source": [
        "Also as number of rows is almost 3.5 lakhs which is taking us too long to compute lets us just take last 1.5 lakh rows to work on"
      ]
    },
    {
      "cell_type": "code",
      "metadata": {
        "id": "hC20JhzUEOdn",
        "colab_type": "code",
        "colab": {
          "base_uri": "https://localhost:8080/",
          "height": 255
        },
        "outputId": "7017cc74-5cd4-4615-dd00-7064d74790d0"
      },
      "source": [
        "#data.sort_values(by=['Time_formatted'], inplace=True)\n",
        "data = data.tail(150000)\n",
        "print (data)"
      ],
      "execution_count": 25,
      "outputs": [
        {
          "output_type": "stream",
          "text": [
            "            Id   ProductId  ... Summary_length                Time_formatted\n",
            "57121    61959  B000CQG8K8  ...              3 1970-01-01 00:00:01.320451200\n",
            "503701  544672  B001P3PR54  ...              3 1970-01-01 00:00:01.320451200\n",
            "144439  156703  B002L35LH6  ...              3 1970-01-01 00:00:01.320451200\n",
            "100504  109185  B003SE8CN2  ...              5 1970-01-01 00:00:01.320451200\n",
            "128467  139421  B000EM8308  ...              1 1970-01-01 00:00:01.320451200\n",
            "...        ...         ...  ...            ...                           ...\n",
            "478157  517064  B007OYUZIM  ...              1 1970-01-01 00:00:01.351209600\n",
            "457460  494625  B0012VSXIM  ...              5 1970-01-01 00:00:01.351209600\n",
            "42269    45991  B007VQQT1K  ...              3 1970-01-01 00:00:01.351209600\n",
            "15069    16426  B007TJGZ54  ...              2 1970-01-01 00:00:01.351209600\n",
            "479033  518008  B00529PFX6  ...              1 1970-01-01 00:00:01.351209600\n",
            "\n",
            "[150000 rows x 16 columns]\n"
          ],
          "name": "stdout"
        }
      ]
    },
    {
      "cell_type": "code",
      "metadata": {
        "id": "bKt4a0X0CEr6",
        "colab_type": "code",
        "outputId": "139fdfe6-431a-41ff-8a6b-c211722ec878",
        "colab": {
          "base_uri": "https://localhost:8080/",
          "height": 527
        }
      },
      "source": [
        "#data.sort_values(by=['Time_formatted'], inplace=True)\n",
        "data_text= data['New_Text']\n",
        "#data.sort_values(by=['Time_formatted'], inplace=True)\n",
        "data_summary= data['Summary_copy']\n",
        "#data.sort_values(by=['Time_formatted'], inplace=True)\n",
        "new_data_x = data[['Id','ProductId','UserId','ProfileName','HelpfulnessNumerator','HelpfulnessDenominator','Score','Summary_copy','New_Text','Text_length','Summary_length','Time_formatted']]\n",
        "new_data_y = data[['Score']]\n",
        "data_text_summary = pd.concat([data_summary, data_text], axis=1, ignore_index=True)\n",
        "data_text_summary.columns = [\"Summary\", \"Text\"]\n",
        "print (\"############################\")\n",
        "print ((data_text_summary))\n",
        "merged_data_text_summary = pd.DataFrame()\n",
        "merged_data_text_summary['Summary_Text'] = data_text_summary[['Summary', 'Text']].apply(lambda x: ' '.join(x), axis = 1)\n",
        "print (\"############################\")\n",
        "print ((merged_data_text_summary))\n",
        "#X= new_data_x.values"
      ],
      "execution_count": 26,
      "outputs": [
        {
          "output_type": "stream",
          "text": [
            "############################\n",
            "                                Summary                                               Text\n",
            "57121            wonderful aromatic tea  tea wonderful treat cold night cinnamon aroma ...\n",
            "503701          great treat for my dogs  one best products market cleaning dogs teeth o...\n",
            "144439                 yummy lil things  not potato chip tortia chip seaweed paper form...\n",
            "100504  its a hit   stopped smelly poop  product definitely hit two finicky cats one ye...\n",
            "128467                             yuck  bought pregnant terrible morning sickness thin...\n",
            "...                                 ...                                                ...\n",
            "478157                         just bad  watery unpleasant like yoohoo mixed dirty dish...\n",
            "457460      good  plenty licorice candy  like licorice love candy remember eating candy...\n",
            "42269                   great irish tea  recently returned wonderful three week excursi...\n",
            "15069                      super coffee  great coffee easy brew coffee great aroma good...\n",
            "479033                        expensive  expensive tough salty tried piece not care muc...\n",
            "\n",
            "[150000 rows x 2 columns]\n",
            "############################\n",
            "                                             Summary_Text\n",
            "57121   wonderful aromatic tea tea wonderful treat col...\n",
            "503701  great treat for my dogs one best products mark...\n",
            "144439  yummy lil things not potato chip tortia chip s...\n",
            "100504  its a hit   stopped smelly poop product defini...\n",
            "128467  yuck bought pregnant terrible morning sickness...\n",
            "...                                                   ...\n",
            "478157  just bad watery unpleasant like yoohoo mixed d...\n",
            "457460  good  plenty licorice candy like licorice love...\n",
            "42269   great irish tea recently returned wonderful th...\n",
            "15069   super coffee great coffee easy brew coffee gre...\n",
            "479033  expensive expensive tough salty tried piece no...\n",
            "\n",
            "[150000 rows x 1 columns]\n"
          ],
          "name": "stdout"
        }
      ]
    },
    {
      "cell_type": "code",
      "metadata": {
        "id": "WsFYDUBnMr-X",
        "colab_type": "code",
        "outputId": "24b34c5c-3a84-4e1d-ed70-0f2ecc7da7cf",
        "colab": {
          "base_uri": "https://localhost:8080/",
          "height": 255
        }
      },
      "source": [
        "data_text_summary_train,data_text_summary_test = train_test_split(merged_data_text_summary, test_size=0.33, shuffle=False)\n",
        "print (data_text_summary_train)"
      ],
      "execution_count": 27,
      "outputs": [
        {
          "output_type": "stream",
          "text": [
            "                                             Summary_Text\n",
            "57121   wonderful aromatic tea tea wonderful treat col...\n",
            "503701  great treat for my dogs one best products mark...\n",
            "144439  yummy lil things not potato chip tortia chip s...\n",
            "100504  its a hit   stopped smelly poop product defini...\n",
            "128467  yuck bought pregnant terrible morning sickness...\n",
            "...                                                   ...\n",
            "88548   fantastic buy exact product large oriental mar...\n",
            "15067   coffee flavored water excited see pack coffee ...\n",
            "110968  too sweet and too artificial not impressed pro...\n",
            "15033   very bland and weak coffee admit like strong f...\n",
            "425885  sweet with a kick candies sweet chewy mean kic...\n",
            "\n",
            "[100500 rows x 1 columns]\n"
          ],
          "name": "stdout"
        }
      ]
    },
    {
      "cell_type": "code",
      "metadata": {
        "id": "avzjQkKGMVfW",
        "colab_type": "code",
        "outputId": "77cb132f-d516-4319-f54d-077d0e5eba66",
        "colab": {
          "base_uri": "https://localhost:8080/",
          "height": 51
        }
      },
      "source": [
        "Y = new_data_y['Score'].values\n",
        "\n",
        "y_train,y_test = train_test_split(Y, test_size=0.33, shuffle=False)\n",
        "print ((y_train).shape)\n",
        "print ((y_test).shape)"
      ],
      "execution_count": 28,
      "outputs": [
        {
          "output_type": "stream",
          "text": [
            "(100500,)\n",
            "(49500,)\n"
          ],
          "name": "stdout"
        }
      ]
    },
    {
      "cell_type": "code",
      "metadata": {
        "id": "VQCU2n8G-iPV",
        "colab_type": "code",
        "outputId": "bc4e45c9-8f97-401f-be3d-096621d3fefa",
        "colab": {
          "base_uri": "https://localhost:8080/",
          "height": 360
        }
      },
      "source": [
        "data_text_summary_train_val = data_text_summary_train.values\n",
        "data_text_summary_test_val = data_text_summary_test.values\n",
        "\n",
        "\n",
        "print (type(data_text_summary_train_val))\n",
        "print (\"Shape of data_text_summary_train is::\")\n",
        "\n",
        "print (data_text_summary_train_val.shape)\n",
        "print (\"First few row of data_text_summary_train looks like::\")\n",
        "\n",
        "print (data_text_summary_train_val)\n",
        "print (\"###########################################################\")\n",
        "print (type(data_text_summary_train_val.ravel()))\n",
        "print (\"###########################################################\")\n",
        "print (data_text_summary_train_val.ravel().shape)\n",
        "print (\"###########################################################\")\n",
        "print (type(data_text_summary_train['Summary_Text'].astype(str).values.shape))\n",
        "print (\"###########################################################\")\n",
        "#print (type(data_text_summary_train_val_xml))\n",
        "print (\"###########################################################\")\n",
        "#print ((data_text_summary_train_val_xml))\n"
      ],
      "execution_count": 29,
      "outputs": [
        {
          "output_type": "stream",
          "text": [
            "<class 'numpy.ndarray'>\n",
            "Shape of data_text_summary_train is::\n",
            "(100500, 1)\n",
            "First few row of data_text_summary_train looks like::\n",
            "[['wonderful aromatic tea tea wonderful treat cold night cinnamon aroma enticing buying years amazon always best pric']\n",
            " ['great treat for my dogs one best products market cleaning dogs teeth opinion like give treat day clean teeth noticed difference week']\n",
            " ['yummy lil things not potato chip tortia chip seaweed paper formbr please dont create bad review thinking something lunchbr seaweed paper form meant soup miso soup quick appetite supresant please give bad reviews items didnt research things dont understand']\n",
            " ...\n",
            " ['too sweet and too artificial not impressed product fact sitting pantry might possible brew cup strong coffee divide two run cappuccino add flavor']\n",
            " ['very bland and weak coffee admit like strong flavorful not burnt tasting coffee give four stars tully house blend breakfast blend quite weakbr ordering fifty husband desperation trying use putting kcup espresso setting using kcups expresso needed fill coffee cup im sure fine kcup like weak coffe']\n",
            " ['sweet with a kick candies sweet chewy mean kick towards end think helped little morning sickness keep using se']]\n",
            "###########################################################\n",
            "<class 'numpy.ndarray'>\n",
            "###########################################################\n",
            "(100500,)\n",
            "###########################################################\n",
            "<class 'tuple'>\n",
            "###########################################################\n",
            "###########################################################\n"
          ],
          "name": "stdout"
        }
      ]
    },
    {
      "cell_type": "markdown",
      "metadata": {
        "id": "jbnbcT79QmgH",
        "colab_type": "text"
      },
      "source": [
        "https://machinelearningmastery.com/prepare-text-data-deep-learning-keras/"
      ]
    },
    {
      "cell_type": "code",
      "metadata": {
        "id": "-Qj5qb3EhYeq",
        "colab_type": "code",
        "colab": {}
      },
      "source": [
        "from keras.preprocessing.text import Tokenizer\n",
        "# create the tokenizer\n",
        "t1 = Tokenizer(num_words=5000, filters='!\"#$%&()*+,-./:;<=>?@[\\\\]^_`{|}~\\t\\n', lower=True, split=' ')\n",
        "t1.fit_on_texts(data_text_summary_train['Summary_Text'].astype(str).values)\n",
        "\n",
        "# summarize what was learned\n",
        "t1_word_count = (t1.word_counts)\n",
        "t1_document_count = (t1.document_count)\n",
        "t1_word_index = (t1.word_index)\n",
        "t1_word_docs=(t1.word_docs)\n",
        "\n",
        "text_to_seq_train = t1.texts_to_sequences(data_text_summary_train['Summary_Text'].astype(str).values)\n",
        "text_to_seq_test = t1.texts_to_sequences(data_text_summary_test['Summary_Text'].astype(str).values)\n"
      ],
      "execution_count": 0,
      "outputs": []
    },
    {
      "cell_type": "code",
      "metadata": {
        "id": "Qm0Tik1pyrVP",
        "colab_type": "code",
        "outputId": "94130fba-97e5-4bb3-9114-8ff08c5c6526",
        "colab": {
          "base_uri": "https://localhost:8080/",
          "height": 156
        }
      },
      "source": [
        "print (list(t1_word_count.items())[:100])\n",
        "print ((t1_document_count))\n",
        "print (list(t1_word_index.items())[:150])\n",
        "print (list(t1_word_docs.items())[:500])\n",
        "print (\"##################\")\n",
        "print ((text_to_seq_train[:1]))\n",
        "print (text_to_seq_test[:1])"
      ],
      "execution_count": 31,
      "outputs": [
        {
          "output_type": "stream",
          "text": [
            "[('wonderful', 5025), ('aromatic', 210), ('tea', 24812), ('treat', 5140), ('cold', 2368), ('night', 1576), ('cinnamon', 2694), ('aroma', 1611), ('enticing', 43), ('buying', 4900), ('years', 6501), ('amazon', 14079), ('always', 6574), ('best', 18375), ('pric', 1088), ('great', 42261), ('for', 6797), ('my', 4676), ('dogs', 6541), ('one', 30522), ('products', 5315), ('market', 2106), ('cleaning', 303), ('teeth', 1565), ('opinion', 1227), ('like', 45706), ('give', 7327), ('day', 8131), ('clean', 1779), ('noticed', 1543), ('difference', 2065), ('week', 2296), ('yummy', 3602), ('lil', 88), ('things', 3589), ('not', 63868), ('potato', 1348), ('chip', 947), ('tortia', 1), ('seaweed', 246), ('paper', 805), ('formbr', 19), ('please', 1440), ('dont', 17379), ('create', 310), ('bad', 6073), ('review', 3555), ('thinking', 987), ('something', 6796), ('lunchbr', 33), ('form', 791), ('meant', 312), ('soup', 3055), ('miso', 260), ('quick', 2639), ('appetite', 220), ('supresant', 1), ('reviews', 3716), ('items', 1393), ('didnt', 6699), ('research', 871), ('understand', 727), ('its', 910), ('a', 6940), ('hit', 1215), ('stopped', 1114), ('smelly', 120), ('poop', 273), ('product', 31762), ('definitely', 5740), ('two', 8514), ('finicky', 260), ('cats', 4071), ('old', 5616), ('trying', 3823), ('find', 13325), ('natural', 4909), ('yet', 2440), ('affordable', 471), ('wet', 830), ('cat', 5306), ('food', 20220), ('boys', 217), ('feces', 26), ('carrying', 619), ('potent', 197), ('odor', 425), ('read', 2644), ('many', 7634), ('sites', 119), ('suggested', 464), ('better', 12432), ('digestive', 477), ('system', 654), ('ultimately', 70), ('fecal', 14), ('use', 16265), ('litter', 683), ('without', 6653), ('perfumes', 12)]\n",
            "100500\n",
            "[('not', 1), ('like', 2), ('good', 3), ('great', 4), ('taste', 5), ('product', 6), ('one', 7), ('coffee', 8), ('flavor', 9), ('love', 10), ('tea', 11), ('food', 12), ('no', 13), ('get', 14), ('really', 15), ('best', 16), ('dont', 17), ('much', 18), ('use', 19), ('little', 20), ('buy', 21), ('also', 22), ('time', 23), ('price', 24), ('amazon', 25), ('im', 26), ('make', 27), ('even', 28), ('find', 29), ('ive', 30), ('tried', 31), ('well', 32), ('chocolate', 33), ('better', 34), ('water', 35), ('try', 36), ('first', 37), ('eat', 38), ('delicious', 39), ('drink', 40), ('dog', 41), ('sweet', 42), ('sugar', 43), ('used', 44), ('made', 45), ('bag', 46), ('found', 47), ('tastes', 48), ('bought', 49), ('box', 50), ('way', 51), ('the', 52), ('nice', 53), ('recommend', 54), ('cup', 55), ('two', 56), ('stuff', 57), ('think', 58), ('go', 59), ('day', 60), ('since', 61), ('hot', 62), ('mix', 63), ('got', 64), ('bit', 65), ('store', 66), ('favorite', 67), ('still', 68), ('know', 69), ('order', 70), ('many', 71), ('ever', 72), ('cant', 73), ('give', 74), ('perfect', 75), ('never', 76), ('free', 77), ('add', 78), ('quality', 79), ('want', 80), ('a', 81), ('brand', 82), ('milk', 83), ('for', 84), ('something', 85), ('say', 86), ('flavors', 87), ('didnt', 88), ('every', 89), ('makes', 90), ('without', 91), ('right', 92), ('always', 93), ('lot', 94), ('and', 95), ('dogs', 96), ('healthy', 97), ('years', 98), ('loves', 99), ('less', 100), ('different', 101), ('fresh', 102), ('oil', 103), ('easy', 104), ('doesnt', 105), ('small', 106), ('back', 107), ('ordered', 108), ('tasty', 109), ('excellent', 110), ('bad', 111), ('using', 112), ('put', 113), ('organic', 114), ('enough', 115), ('snack', 116), ('long', 117), ('pack', 118), ('definitely', 119), ('sure', 120), ('keep', 121), ('need', 122), ('ingredients', 123), ('pretty', 124), ('old', 125), ('hard', 126), ('whole', 127), ('enjoy', 128), ('green', 129), ('see', 130), ('sauce', 131), ('strong', 132), ('happy', 133), ('products', 134), ('cat', 135), ('however', 136), ('thought', 137), ('new', 138), ('work', 139), ('though', 140), ('far', 141), ('coconut', 142), ('treat', 143), ('thing', 144), ('looking', 145), ('high', 146), ('eating', 147), ('local', 148), ('big', 149), ('wonderful', 150)]\n",
            "[('night', 1398), ('always', 5901), ('aroma', 1417), ('wonderful', 4525), ('enticing', 42), ('aromatic', 201), ('buying', 4554), ('amazon', 11510), ('tea', 8775), ('best', 14611), ('pric', 1088), ('treat', 4087), ('years', 5728), ('cold', 2000), ('cinnamon', 1594), ('cleaning', 281), ('great', 30760), ('products', 4384), ('one', 22327), ('teeth', 1197), ('market', 1921), ('day', 6814), ('difference', 1851), ('clean', 1561), ('my', 4631), ('week', 2125), ('opinion', 1174), ('for', 6672), ('dogs', 3631), ('give', 6566), ('noticed', 1416), ('like', 30701), ('something', 6000), ('dont', 14309), ('yummy', 3219), ('please', 1296), ('didnt', 5794), ('thinking', 962), ('review', 3164), ('tortia', 1), ('supresant', 1), ('miso', 114), ('formbr', 19), ('bad', 5185), ('potato', 959), ('meant', 297), ('soup', 1587), ('paper', 655), ('reviews', 3301), ('seaweed', 156), ('quick', 2421), ('research', 791), ('lil', 78), ('understand', 710), ('create', 296), ('lunchbr', 33), ('not', 39188), ('items', 1205), ('chip', 754), ('appetite', 185), ('things', 3250), ('form', 707), ('find', 11453), ('petsmart', 125), ('system', 598), ('save', 2649), ('beat', 852), ('book', 354), ('eating', 4418), ('savings', 207), ('significantly', 199), ('affordable', 448), ('cans', 1496), ('trying', 3624), ('many', 6672), ('full', 3261), ('definitely', 5331), ('hit', 1160), ('ultimately', 69), ('litter', 259), ('free', 5207), ('suggested', 444), ('older', 512), ('least', 2778), ('favs', 21), ('cats', 1998), ('stopped', 1054), ('moist', 809), ('two', 7228), ('commercialized', 4), ('its', 880), ('poop', 195), ('boy', 490), ('needing', 123), ('better', 10616), ('digestive', 410), ('much', 14069), ('may', 3715), ('juice', 1615), ('box', 6685), ('smelly', 113), ('even', 11498), ('gravy', 314), ('odor', 330), ('use', 12557), ('notice', 926), ('portions', 217), ('fecal', 13), ('try', 10295), ('plusbr', 34), ('want', 6147), ('stay', 1087), ('petco', 131), ('food', 10134), ('case', 2349), ('helped', 652), ('commit', 34), ('doesnt', 5577), ('feces', 24), ('luck', 385), ('stores', 3336), ('per', 3469), ('make', 11383), ('product', 22363), ('sure', 5284), ('carrying', 598), ('drink', 7238), ('highly', 4343), ('finicky', 237), ('super', 2128), ('sop', 8), ('deal', 2551), ('wet', 654), ('get', 16147), ('eat', 8741), ('purchased', 4084), ('deorderizers', 1), ('say', 6131), ('single', 1417), ('flavors', 5296), ('yet', 2303), ('portion', 606), ('sites', 114), ('old', 4690), ('potent', 181), ('brand', 5589), ('perfumes', 12), ('watery', 395), ('good', 30795), ('natural', 3739), ('boys', 190), ('achieve', 71), ('goal', 63), ('pricesbr', 20), ('found', 8636), ('also', 12858), ('hungry', 441), ('see', 4864), ('havent', 1932), ('read', 2421), ('subscribe', 1572), ('recommend', 8645), ('pet', 1149), ('waterbr', 301), ('anyone', 2147), ('a', 6610), ('cat', 2348), ('reduced', 304), ('new', 4388), ('without', 6059), ('spicy', 1699), ('terrible', 1109), ('actually', 4451), ('trash', 322), ('take', 4288), ('mouth', 1913), ('rather', 2056), ('getting', 3489), ('morning', 2905), ('went', 2719), ('yuck', 422), ('candy', 2964), ('sickness', 78), ('pregnant', 109), ('wrong', 1642), ('put', 5235), ('bought', 8662), ('call', 954), ('wash', 364), ('washing', 118), ('looking', 4697), ('steam', 139), ('brezza', 52), ('maker', 935), ('already', 1619), ('makes', 6173), ('pricey', 1040), ('well', 11163), ('container', 1715), ('stuff', 6874), ('bulk', 1285), ('mine', 1332), ('issue', 951), ('puree', 181), ('convenient', 1471), ('no', 15438), ('strong', 4359), ('intent', 21), ('process', 649), ('add', 5671), ('know', 6801), ('baby', 1618), ('freeze', 414), ('holds', 376), ('hand', 1571), ('babysit', 7), ('processor', 73), ('love', 20666), ('fresh', 5416), ('tried', 11219), ('loves', 5352), ('big', 4562), ('anyway', 1207), ('decided', 2698), ('come', 3267), ('ingredients', 4312), ('breeze', 65), ('homemade', 921), ('dishwasher', 46), ('way', 8218), ('easy', 5470), ('overtim', 1), ('small', 5310), ('away', 3373), ('making', 3258), ('walk', 256), ('parts', 270), ('used', 8892), ('couple', 2561), ('weeks', 1618), ('look', 3135), ('completely', 1472), ('oz', 3096), ('baking', 1171), ('locally', 913), ('machine', 1333), ('red', 2015), ('wouldnt', 1911), ('price', 11393), ('people', 3872), ('bread', 1577), ('think', 7372), ('himher', 10), ('close', 1545), ('yeast', 334), ('star', 1859), ('package', 3979), ('money', 3299), ('said', 3475), ('hesitate', 216), ('jarsbr', 15), ('alone', 689), ('to', 3728), ('another', 4468), ('excessive', 126), ('knocked', 62), ('lot', 5818), ('reviewer', 779), ('ive', 10524), ('ord', 1136), ('store', 6871), ('final', 205), ('just', 1219), ('pound', 1183), ('cheaper', 2441), ('smart', 226), ('it', 4699), ('rating', 522), ('starbucks', 1253), ('their', 112), ('expire', 107), ('often', 1737), ('days', 3201), ('todaybr', 30), ('cool', 728), ('soonbr', 31), ('buy', 13474), ('bugs', 120), ('expiration', 643), ('are', 1206), ('groceries', 101), ('yesterday', 328), ('date', 1179), ('got', 7048), ('pods', 720), ('coffee', 11773), ('cap', 293), ('bottle', 3138), ('dome', 11), ('travelling', 25), ('namebut', 1), ('mainly', 256), ('atleast', 24), ('attractive', 184), ('lookleakages', 1), ('fit', 829), ('bcoz', 2), ('expect', 1411), ('woulkd', 1), ('galore', 18), ('looked', 1606), ('moreone', 1), ('fooled', 131), ('course', 1661), ('dosenti', 1), ('bottles', 1377), ('be', 807), ('bag', 7052), ('kind', 2990), ('pieces', 1811), ('chewy', 1201), ('expensive', 3689), ('bitohoney', 4), ('topeanuty', 1), ('and', 6417), ('worth', 4414), ('taste', 22870), ('morningbr', 64), ('the', 8632), ('english', 484), ('breakfast', 2130), ('every', 6059), ('twinings', 166), ('favoritebr', 82), ('nighttim', 1), ('nice', 7526), ('expressions', 10), ('latte', 397), ('mess', 898), ('dinner', 1011), ('flavor', 19459), ('caffeine', 1328), ('answer', 219), ('decaf', 1122), ('enjoy', 4873), ('espresso', 896), ('told', 1147), ('withi', 2), ('organic', 3834), ('wound', 77), ('have', 844), ('hole', 220), ('sandwich', 440), ('size', 3861), ('bothering', 17), ('production', 188), ('sandwiches', 356), ('experience', 1457), ('health', 2627), ('breads', 191), ('tasty', 5383), ('productionbatch', 1), ('emailed', 125), ('farmers', 91), ('poor', 790), ('tell', 1959), ('darn', 248), ('bonus', 444), ('truly', 1098), ('go', 7448), ('piece', 974), ('ball', 298), ('utterly', 71), ('berkeley', 10), ('neighbor', 94), ('udis', 50), ('gf', 474), ('air', 624), ('problem', 2878), ('can', 640), ('rest', 1331), ('i', 3679), ('mailed', 53), ('bionaturae', 16), ('againbr', 356), ('little', 12604), ('loafseveral', 1), ('coupon', 128), ('live', 1462), ('simple', 1188), ('etc', 1775), ('correctedno', 1), ('udiswow', 1), ('loaf', 177), ('markets', 179), ('flavorbr', 562), ('gluten', 2224), ('simply', 1749), ('based', 1186), ('middle', 478), ('giant', 180), ('opposite', 90), ('bubble', 289), ('pretty', 4927), ('crumble', 147), ('loafbr', 6), ('pastasbut', 1), ('thats', 3620), ('mushy', 322), ('never', 6564), ('bin', 81), ('rice', 2468), ('again', 298), ('happening', 68), ('daybr', 253), ('life', 1601), ('service', 1388), ('theyd', 239), ('near', 821), ('compost', 83), ('pasta', 1274), ('cant', 6991), ('loaves', 75), ('thanks', 1410), ('info', 284), ('mentioned', 648), ('texture', 3459), ('crust', 270), ('golf', 28), ('depressing', 12), ('intolerance', 71), ('sometimes', 1821), ('unless', 1084), ('might', 3172), ('quality', 5786), ('nutritional', 774), ('worry', 609), ('ask', 701), ('order', 6590), ('hey', 272), ('shipping', 3528), ('dad', 261), ('youre', 2785), ('heard', 833), ('im', 11258), ('copy', 47), ('dads', 36), ('teenager', 37), ('sense', 431), ('christmas', 1685), ('let', 2358), ('okay', 808), ('d', 394), ('around', 3858), ('though', 4767), ('knowbr', 69), ('dollar', 415), ('placesdollar', 1), ('came', 3966), ('birthday', 573), ('else', 2031), ('afford', 287), ('plastic', 1845), ('cause', 760), ('excellent', 5322), ('ones', 2594), ('bitomoney', 1), ('haha', 81), ('hard', 4985), ('sold', 1296), ('butsince', 1), ('original', 1431), ('loved', 3686), ('easily', 1783), ('facts', 172), ('someplace', 19), ('since', 7210), ('everyone', 1826), ('caffeinated', 158), ('sak', 7), ('mountain', 749), ('instantly', 279), ('kick', 864), ('smooth', 2599), ('samples', 191), ('but', 3302), ('feel', 3792), ('fact', 2517), ('bzzagent', 9), ('really', 15011), ('green', 3344), ('liked', 2471), ('coffees', 1235), ('very', 2899), ('downside', 313), ('cup', 5942), ('syrups', 234), ('plus', 2240), ('perfected', 18), ('twice', 1092)]\n",
            "##################\n",
            "[[150, 2582, 11, 11, 150, 143, 363, 540, 323, 532, 157, 98, 25, 93, 16, 745]]\n",
            "[[548, 1035, 498, 8, 67, 8, 310, 68, 296, 2683, 553, 278, 1425, 4609, 579, 3542, 278, 8, 3, 22, 19, 239, 9, 310, 25, 27, 296, 1098, 1573, 22]]\n"
          ],
          "name": "stdout"
        }
      ]
    },
    {
      "cell_type": "markdown",
      "metadata": {
        "id": "K2ufLQRw9yxl",
        "colab_type": "text"
      },
      "source": [
        "Lets see what is the average length of sentences. "
      ]
    },
    {
      "cell_type": "code",
      "metadata": {
        "id": "NVLallaz7Jz2",
        "colab_type": "code",
        "outputId": "94563c79-5cba-425c-efda-ff45155a6a30",
        "colab": {
          "base_uri": "https://localhost:8080/",
          "height": 85
        }
      },
      "source": [
        "print(sum(map(len, text_to_seq_train[:245481])))\n",
        "print (\"Average length of sentences are:\")\n",
        "print (4025586/100500)\n",
        "print (\"###############\")\n"
      ],
      "execution_count": 32,
      "outputs": [
        {
          "output_type": "stream",
          "text": [
            "4076411\n",
            "Average length of sentences are:\n",
            "40.05558208955224\n",
            "###############\n"
          ],
          "name": "stdout"
        }
      ]
    },
    {
      "cell_type": "markdown",
      "metadata": {
        "id": "p6YtbIvBGyBI",
        "colab_type": "text"
      },
      "source": [
        "Also lets see sentence with highset number of words"
      ]
    },
    {
      "cell_type": "code",
      "metadata": {
        "id": "WTC6r_QcGT8S",
        "colab_type": "code",
        "outputId": "d76433c3-b0d6-4351-db7d-4fdea6eab958",
        "colab": {
          "base_uri": "https://localhost:8080/",
          "height": 34
        }
      },
      "source": [
        "def FindMaxLength(lst): \n",
        "    maxList = max((x) for x in lst) \n",
        "    maxLength = max(len(x) for x in lst ) \n",
        "  \n",
        "    return maxList, maxLength\n",
        "\n",
        "print(FindMaxLength(text_to_seq_train)) \n"
      ],
      "execution_count": 33,
      "outputs": [
        {
          "output_type": "stream",
          "text": [
            "([4997, 674, 3596, 4997, 3596, 693, 1037, 1193, 3523, 2236, 22, 1, 487, 450, 162, 1306, 480, 451, 288, 74, 1011, 15, 302, 457, 555, 20, 305, 999, 693, 1037, 458, 28, 217, 1, 21], 1075)\n"
          ],
          "name": "stdout"
        }
      ]
    },
    {
      "cell_type": "code",
      "metadata": {
        "id": "C6piWp-JIKAk",
        "colab_type": "code",
        "outputId": "d6c76943-a6e6-493b-eb15-5966ec5ea09a",
        "colab": {
          "base_uri": "https://localhost:8080/",
          "height": 408
        }
      },
      "source": [
        "max_review_length = 300\n",
        "X_train = sequence.pad_sequences(text_to_seq_train, maxlen=max_review_length)\n",
        "X_test = sequence.pad_sequences(text_to_seq_test, maxlen=max_review_length)\n",
        "\n",
        "print(X_train.shape)\n",
        "print(X_train[1])"
      ],
      "execution_count": 34,
      "outputs": [
        {
          "output_type": "stream",
          "text": [
            "(100500, 300)\n",
            "[   0    0    0    0    0    0    0    0    0    0    0    0    0    0\n",
            "    0    0    0    0    0    0    0    0    0    0    0    0    0    0\n",
            "    0    0    0    0    0    0    0    0    0    0    0    0    0    0\n",
            "    0    0    0    0    0    0    0    0    0    0    0    0    0    0\n",
            "    0    0    0    0    0    0    0    0    0    0    0    0    0    0\n",
            "    0    0    0    0    0    0    0    0    0    0    0    0    0    0\n",
            "    0    0    0    0    0    0    0    0    0    0    0    0    0    0\n",
            "    0    0    0    0    0    0    0    0    0    0    0    0    0    0\n",
            "    0    0    0    0    0    0    0    0    0    0    0    0    0    0\n",
            "    0    0    0    0    0    0    0    0    0    0    0    0    0    0\n",
            "    0    0    0    0    0    0    0    0    0    0    0    0    0    0\n",
            "    0    0    0    0    0    0    0    0    0    0    0    0    0    0\n",
            "    0    0    0    0    0    0    0    0    0    0    0    0    0    0\n",
            "    0    0    0    0    0    0    0    0    0    0    0    0    0    0\n",
            "    0    0    0    0    0    0    0    0    0    0    0    0    0    0\n",
            "    0    0    0    0    0    0    0    0    0    0    0    0    0    0\n",
            "    0    0    0    0    0    0    0    0    0    0    0    0    0    0\n",
            "    0    0    0    0    0    0    0    0    0    0    0    0    0    0\n",
            "    0    0    0    0    0    0    0    0    0    0    0    0    0    0\n",
            "    0    0    0    0    0    0    0    0    0    0    0    0    4  143\n",
            "   84  168   96    7   16  134  396 2006   96  544  672    2   74  143\n",
            "   60  480  544  552  405  374]\n"
          ],
          "name": "stdout"
        }
      ]
    },
    {
      "cell_type": "markdown",
      "metadata": {
        "id": "FCrV-pJbtYGQ",
        "colab_type": "text"
      },
      "source": [
        "Lets Try Single Layer LSTM first"
      ]
    },
    {
      "cell_type": "code",
      "metadata": {
        "id": "5pmwUYoPtc3Z",
        "colab_type": "code",
        "colab": {
          "base_uri": "https://localhost:8080/",
          "height": 357
        },
        "outputId": "e2ca3220-5815-405c-8827-5f6d6c0c64ae"
      },
      "source": [
        "import warnings\n",
        "\n",
        "with warnings.catch_warnings():\n",
        "    warnings.filterwarnings(\"ignore\",category=DeprecationWarning)\n",
        "\n",
        "epochs = 10\n",
        "batch_size = 512\n",
        "\n",
        "from keras.layers import Dense, Embedding, LSTM, Dropout\n",
        "from keras.layers.normalization import BatchNormalization\n",
        "\n",
        "\n",
        "embed_vector_length = 32\n",
        "model1 = Sequential()\n",
        "model1.add(Embedding(5000, embed_vector_length, input_length=max_review_length,embeddings_initializer='random_normal'))\n",
        "model1.add(Dropout(0.3))\n",
        "model1.add(LSTM(100))\n",
        "model1.add(BatchNormalization())\n",
        "model1.add(Dense(1, activation='sigmoid'))\n",
        "model1.compile(loss='binary_crossentropy', optimizer='adam', metrics=['accuracy'])\n",
        "print(\"Printing the Model Summary\")\n",
        "print(model1.summary())\n"
      ],
      "execution_count": 39,
      "outputs": [
        {
          "output_type": "stream",
          "text": [
            "Printing the Model Summary\n",
            "Model: \"sequential_4\"\n",
            "_________________________________________________________________\n",
            "Layer (type)                 Output Shape              Param #   \n",
            "=================================================================\n",
            "embedding_4 (Embedding)      (None, 300, 32)           160000    \n",
            "_________________________________________________________________\n",
            "dropout_6 (Dropout)          (None, 300, 32)           0         \n",
            "_________________________________________________________________\n",
            "lstm_6 (LSTM)                (None, 100)               53200     \n",
            "_________________________________________________________________\n",
            "batch_normalization_4 (Batch (None, 100)               400       \n",
            "_________________________________________________________________\n",
            "dense_4 (Dense)              (None, 1)                 101       \n",
            "=================================================================\n",
            "Total params: 213,701\n",
            "Trainable params: 213,501\n",
            "Non-trainable params: 200\n",
            "_________________________________________________________________\n",
            "None\n"
          ],
          "name": "stdout"
        }
      ]
    },
    {
      "cell_type": "code",
      "metadata": {
        "id": "9Z3IegTotdDt",
        "colab_type": "code",
        "colab": {
          "base_uri": "https://localhost:8080/",
          "height": 374
        },
        "outputId": "1cd7c1d0-f646-4b13-c537-ba13afb33f01"
      },
      "source": [
        "from keras.callbacks import EarlyStopping\n",
        "\n",
        "callbacks = [EarlyStopping(monitor='val_loss', patience=3)]\n",
        "\n",
        "import warnings\n",
        "\n",
        "with warnings.catch_warnings():\n",
        "    warnings.filterwarnings(\"ignore\",category=DeprecationWarning)\n",
        "\n",
        "history1=model1.fit(X_train, y_train,batch_size=batch_size,epochs=epochs,callbacks=callbacks,verbose=1,validation_data=(X_test, y_test))"
      ],
      "execution_count": 40,
      "outputs": [
        {
          "output_type": "stream",
          "text": [
            "Train on 100500 samples, validate on 49500 samples\n",
            "Epoch 1/10\n",
            "100500/100500 [==============================] - 104s 1ms/step - loss: 0.3067 - acc: 0.8726 - val_loss: 0.2327 - val_acc: 0.9190\n",
            "Epoch 2/10\n",
            "100500/100500 [==============================] - 103s 1ms/step - loss: 0.1660 - acc: 0.9378 - val_loss: 0.2284 - val_acc: 0.9166\n",
            "Epoch 3/10\n",
            "100500/100500 [==============================] - 104s 1ms/step - loss: 0.1481 - acc: 0.9434 - val_loss: 0.1720 - val_acc: 0.9394\n",
            "Epoch 4/10\n",
            "100500/100500 [==============================] - 103s 1ms/step - loss: 0.1326 - acc: 0.9499 - val_loss: 0.1644 - val_acc: 0.9347\n",
            "Epoch 5/10\n",
            "100500/100500 [==============================] - 104s 1ms/step - loss: 0.1188 - acc: 0.9545 - val_loss: 0.1844 - val_acc: 0.9342\n",
            "Epoch 6/10\n",
            "100500/100500 [==============================] - 100s 995us/step - loss: 0.1080 - acc: 0.9586 - val_loss: 0.1618 - val_acc: 0.9424\n",
            "Epoch 7/10\n",
            "100500/100500 [==============================] - 98s 975us/step - loss: 0.1028 - acc: 0.9605 - val_loss: 0.1614 - val_acc: 0.9391\n",
            "Epoch 8/10\n",
            "100500/100500 [==============================] - 98s 976us/step - loss: 0.0956 - acc: 0.9631 - val_loss: 0.1750 - val_acc: 0.9411\n",
            "Epoch 9/10\n",
            "100500/100500 [==============================] - 97s 970us/step - loss: 0.0878 - acc: 0.9659 - val_loss: 0.1803 - val_acc: 0.9413\n",
            "Epoch 10/10\n",
            "100500/100500 [==============================] - 98s 974us/step - loss: 0.0806 - acc: 0.9687 - val_loss: 0.1803 - val_acc: 0.9389\n"
          ],
          "name": "stdout"
        }
      ]
    },
    {
      "cell_type": "code",
      "metadata": {
        "colab_type": "code",
        "id": "p7Vmyb8V2YNA",
        "colab": {}
      },
      "source": [
        "def plt_dynamic(x, vy, ty, ax, colors=['b']):\n",
        "    ax.plot(x, vy, 'b', label=\"Validation Loss\")\n",
        "    ax.plot(x, ty, 'r', label=\"Train Loss\")\n",
        "    plt.legend()\n",
        "    plt.grid()\n",
        "    fig.canvas.draw()"
      ],
      "execution_count": 0,
      "outputs": []
    },
    {
      "cell_type": "code",
      "metadata": {
        "colab_type": "code",
        "id": "iHoS2KE22YNG",
        "colab": {}
      },
      "source": [
        "x = list(range(1,epochs+1))\n",
        "\n",
        "%matplotlib notebook\n",
        "%matplotlib inline\n",
        "import matplotlib.pyplot as plt\n",
        "\n",
        "scores1 = model1.evaluate(X_test, y_test, verbose=0)\n"
      ],
      "execution_count": 0,
      "outputs": []
    },
    {
      "cell_type": "code",
      "metadata": {
        "colab_type": "code",
        "outputId": "1aadbb1b-867e-4fb6-b923-9fc9514045c5",
        "id": "8CPpe_yf2YNK",
        "colab": {
          "base_uri": "https://localhost:8080/",
          "height": 313
        }
      },
      "source": [
        "print('Test score:', scores1[0]) \n",
        "print('Test accuracy:', scores1[1])\n",
        "\n",
        "fig,ax = plt.subplots(1,1)\n",
        "ax.set_xlabel('epoch') ; ax.set_ylabel('Categorical Crossentropy Loss')\n",
        "\n",
        "# list of epoch numbers\n",
        "vy1 = history1.history['val_loss']\n",
        "ty1 = history1.history['loss']\n",
        "plt_dynamic(x, vy1, ty1, ax)"
      ],
      "execution_count": 43,
      "outputs": [
        {
          "output_type": "stream",
          "text": [
            "Test score: 0.1802538271431971\n",
            "Test accuracy: 0.9388686868542373\n"
          ],
          "name": "stdout"
        },
        {
          "output_type": "display_data",
          "data": {
            "image/png": "[encoded data removed]",
            "text/plain": [
              "<Figure size 432x288 with 1 Axes>"
            ]
          },
          "metadata": {
            "tags": []
          }
        }
      ]
    },
    {
      "cell_type": "markdown",
      "metadata": {
        "id": "l3H8zBG72v3x",
        "colab_type": "text"
      },
      "source": [
        "Now lets dig in 2 layer LSTM model"
      ]
    },
    {
      "cell_type": "code",
      "metadata": {
        "id": "_ilcmqSxYoLE",
        "colab_type": "code",
        "outputId": "a10474d6-b5d6-49ba-b397-c220acb934a9",
        "colab": {
          "base_uri": "https://localhost:8080/",
          "height": 425
        }
      },
      "source": [
        "import warnings\n",
        "\n",
        "with warnings.catch_warnings():\n",
        "    warnings.filterwarnings(\"ignore\",category=DeprecationWarning)\n",
        "\n",
        "epochs = 10\n",
        "batch_size = 512\n",
        "\n",
        "from keras.layers import Dense, Embedding, LSTM, Dropout\n",
        "from keras.layers.normalization import BatchNormalization\n",
        "\n",
        "\n",
        "embed_vector_length = 32\n",
        "model2 = Sequential()\n",
        "model2.add(Embedding(5000, embed_vector_length, input_length=max_review_length,embeddings_initializer='random_normal'))\n",
        "model2.add(Dropout(0.3))\n",
        "model2.add(LSTM(100, return_sequences=True))\n",
        "model2.add(Dropout(0.3))\n",
        "model2.add(LSTM(100))\n",
        "model2.add(BatchNormalization())\n",
        "model2.add(Dense(1, activation='sigmoid'))\n",
        "model2.compile(loss='binary_crossentropy', optimizer='adam', metrics=['accuracy'])\n",
        "print(\"Printing the Model Summary\")\n",
        "print(model2.summary())\n"
      ],
      "execution_count": 35,
      "outputs": [
        {
          "output_type": "stream",
          "text": [
            "Printing the Model Summary\n",
            "Model: \"sequential_2\"\n",
            "_________________________________________________________________\n",
            "Layer (type)                 Output Shape              Param #   \n",
            "=================================================================\n",
            "embedding_2 (Embedding)      (None, 300, 32)           160000    \n",
            "_________________________________________________________________\n",
            "dropout_3 (Dropout)          (None, 300, 32)           0         \n",
            "_________________________________________________________________\n",
            "lstm_3 (LSTM)                (None, 300, 100)          53200     \n",
            "_________________________________________________________________\n",
            "dropout_4 (Dropout)          (None, 300, 100)          0         \n",
            "_________________________________________________________________\n",
            "lstm_4 (LSTM)                (None, 100)               80400     \n",
            "_________________________________________________________________\n",
            "batch_normalization_2 (Batch (None, 100)               400       \n",
            "_________________________________________________________________\n",
            "dense_2 (Dense)              (None, 1)                 101       \n",
            "=================================================================\n",
            "Total params: 294,101\n",
            "Trainable params: 293,901\n",
            "Non-trainable params: 200\n",
            "_________________________________________________________________\n",
            "None\n"
          ],
          "name": "stdout"
        }
      ]
    },
    {
      "cell_type": "markdown",
      "metadata": {
        "id": "qibcfH9QMloO",
        "colab_type": "text"
      },
      "source": [
        "https://chrisalbon.com/deep_learning/keras/neural_network_early_stopping/"
      ]
    },
    {
      "cell_type": "code",
      "metadata": {
        "id": "drf5-njE9-rS",
        "colab_type": "code",
        "outputId": "22205170-ae43-4ff6-ff11-8dfdee2b7c37",
        "colab": {
          "base_uri": "https://localhost:8080/",
          "height": 374
        }
      },
      "source": [
        "from keras.callbacks import EarlyStopping\n",
        "\n",
        "callbacks = [EarlyStopping(monitor='val_loss', patience=3)]\n",
        "\n",
        "import warnings\n",
        "\n",
        "with warnings.catch_warnings():\n",
        "    warnings.filterwarnings(\"ignore\",category=DeprecationWarning)\n",
        "\n",
        "history2=model2.fit(X_train, y_train,batch_size=batch_size,epochs=epochs,callbacks=callbacks,verbose=1,validation_data=(X_test, y_test))"
      ],
      "execution_count": 36,
      "outputs": [
        {
          "output_type": "stream",
          "text": [
            "Train on 100500 samples, validate on 49500 samples\n",
            "Epoch 1/10\n",
            "100500/100500 [==============================] - 197s 2ms/step - loss: 0.3352 - acc: 0.8631 - val_loss: 0.1803 - val_acc: 0.9318\n",
            "Epoch 2/10\n",
            "100500/100500 [==============================] - 195s 2ms/step - loss: 0.1688 - acc: 0.9366 - val_loss: 0.1670 - val_acc: 0.9359\n",
            "Epoch 3/10\n",
            "100500/100500 [==============================] - 197s 2ms/step - loss: 0.1446 - acc: 0.9454 - val_loss: 0.1636 - val_acc: 0.9343\n",
            "Epoch 4/10\n",
            "100500/100500 [==============================] - 200s 2ms/step - loss: 0.1303 - acc: 0.9508 - val_loss: 0.1895 - val_acc: 0.9278\n",
            "Epoch 5/10\n",
            "100500/100500 [==============================] - 203s 2ms/step - loss: 0.1217 - acc: 0.9534 - val_loss: 0.1839 - val_acc: 0.9301\n",
            "Epoch 6/10\n",
            "100500/100500 [==============================] - 204s 2ms/step - loss: 0.1108 - acc: 0.9576 - val_loss: 0.1582 - val_acc: 0.9402\n",
            "Epoch 7/10\n",
            "100500/100500 [==============================] - 206s 2ms/step - loss: 0.1032 - acc: 0.9604 - val_loss: 0.1562 - val_acc: 0.9411\n",
            "Epoch 8/10\n",
            "100500/100500 [==============================] - 206s 2ms/step - loss: 0.0976 - acc: 0.9620 - val_loss: 0.1698 - val_acc: 0.9397\n",
            "Epoch 9/10\n",
            "100500/100500 [==============================] - 206s 2ms/step - loss: 0.0880 - acc: 0.9662 - val_loss: 0.1772 - val_acc: 0.9432\n",
            "Epoch 10/10\n",
            "100500/100500 [==============================] - 206s 2ms/step - loss: 0.0822 - acc: 0.9683 - val_loss: 0.1750 - val_acc: 0.9403\n"
          ],
          "name": "stdout"
        }
      ]
    },
    {
      "cell_type": "code",
      "metadata": {
        "colab_type": "code",
        "id": "BAu2eBEg26hu",
        "colab": {}
      },
      "source": [
        "def plt_dynamic(x, vy, ty, ax, colors=['b']):\n",
        "    ax.plot(x, vy, 'b', label=\"Validation Loss\")\n",
        "    ax.plot(x, ty, 'r', label=\"Train Loss\")\n",
        "    plt.legend()\n",
        "    plt.grid()\n",
        "    fig.canvas.draw()"
      ],
      "execution_count": 0,
      "outputs": []
    },
    {
      "cell_type": "code",
      "metadata": {
        "colab_type": "code",
        "id": "B38rutiC26h2",
        "colab": {}
      },
      "source": [
        "x = list(range(1,epochs+1))\n",
        "\n",
        "%matplotlib notebook\n",
        "%matplotlib inline\n",
        "import matplotlib.pyplot as plt\n",
        "\n",
        "scores2 = model2.evaluate(X_test, y_test, verbose=0)\n"
      ],
      "execution_count": 0,
      "outputs": []
    },
    {
      "cell_type": "code",
      "metadata": {
        "colab_type": "code",
        "outputId": "4f7b2245-6189-4306-8e20-cdcce29b0140",
        "id": "fPG_KEtj26h9",
        "colab": {
          "base_uri": "https://localhost:8080/",
          "height": 313
        }
      },
      "source": [
        "print('Test score:', scores2[0]) \n",
        "print('Test accuracy:', scores2[1])\n",
        "\n",
        "fig,ax = plt.subplots(1,1)\n",
        "ax.set_xlabel('epoch') ; ax.set_ylabel('Categorical Crossentropy Loss')\n",
        "\n",
        "# list of epoch numbers\n",
        "vy2 = history2.history['val_loss']\n",
        "ty2 = history2.history['loss']\n",
        "plt_dynamic(x, vy2, ty2, ax)"
      ],
      "execution_count": 47,
      "outputs": [
        {
          "output_type": "stream",
          "text": [
            "Test score: 0.1749505036221911\n",
            "Test accuracy: 0.9403434343289847\n"
          ],
          "name": "stdout"
        },
        {
          "output_type": "display_data",
          "data": {
            "image/png": "[encoded data removed]",
            "text/plain": [
              "<Figure size 432x288 with 1 Axes>"
            ]
          },
          "metadata": {
            "tags": []
          }
        }
      ]
    },
    {
      "cell_type": "markdown",
      "metadata": {
        "id": "2lUanROI4Dcc",
        "colab_type": "text"
      },
      "source": [
        "Conclusion:\n",
        "\n",
        "Both the model single and double layer LSTM performed very well. Both being around 95% accurate"
      ]
    }
  ]
}