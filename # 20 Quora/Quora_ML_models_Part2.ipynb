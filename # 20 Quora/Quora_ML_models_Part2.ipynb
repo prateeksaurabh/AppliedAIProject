{
 "cells": [
  {
   "cell_type": "code",
   "execution_count": 1,
   "metadata": {
    "colab": {},
    "colab_type": "code",
    "id": "6VXPfRp-tARR",
    "outputId": "6c27acaf-2c6a-467f-fd7a-68efce98e30b"
   },
   "outputs": [],
   "source": [
    "import pandas as pd\n",
    "import matplotlib.pyplot as plt\n",
    "import re\n",
    "import time\n",
    "import warnings\n",
    "import sqlite3\n",
    "from sqlalchemy import create_engine # database connection\n",
    "import csv\n",
    "import os\n",
    "warnings.filterwarnings(\"ignore\")\n",
    "import datetime as dt\n",
    "import numpy as np\n",
    "from nltk.corpus import stopwords\n",
    "from sklearn.decomposition import TruncatedSVD\n",
    "from sklearn.preprocessing import normalize\n",
    "from sklearn.feature_extraction.text import CountVectorizer\n",
    "from sklearn.manifold import TSNE\n",
    "import seaborn as sns\n",
    "from sklearn.neighbors import KNeighborsClassifier\n",
    "from sklearn.metrics import confusion_matrix\n",
    "from sklearn.metrics.classification import accuracy_score, log_loss\n",
    "from sklearn.feature_extraction.text import TfidfVectorizer\n",
    "from collections import Counter\n",
    "from scipy.sparse import hstack\n",
    "from sklearn.multiclass import OneVsRestClassifier\n",
    "from sklearn.svm import SVC\n",
    "from sklearn.model_selection import StratifiedKFold \n",
    "from collections import Counter, defaultdict\n",
    "from sklearn.calibration import CalibratedClassifierCV\n",
    "from sklearn.naive_bayes import MultinomialNB\n",
    "from sklearn.naive_bayes import GaussianNB\n",
    "from sklearn.model_selection import train_test_split\n",
    "from sklearn.model_selection import GridSearchCV\n",
    "import math\n",
    "from sklearn.metrics import normalized_mutual_info_score\n",
    "from sklearn.ensemble import RandomForestClassifier\n",
    "\n",
    "\n",
    "\n",
    "from sklearn.model_selection import cross_val_score\n",
    "from sklearn.linear_model import SGDClassifier\n",
    "from mlxtend.classifier import StackingClassifier\n",
    "\n",
    "from sklearn import model_selection\n",
    "from sklearn.linear_model import LogisticRegression\n",
    "from sklearn.metrics import precision_recall_curve, auc, roc_curve"
   ]
  },
  {
   "cell_type": "markdown",
   "metadata": {
    "colab_type": "text",
    "id": "ZihvUPvHtARd"
   },
   "source": [
    "<h1>4. Machine Learning Models </h1>"
   ]
  },
  {
   "cell_type": "code",
   "execution_count": 3,
   "metadata": {},
   "outputs": [],
   "source": [
    "# remove the first row \n",
    "data_xgboost = pd.read_csv(r\"D:\\AppliedAI\\Homework-n-Assignments\\# 20 Quora\\final_features_old.csv\")\n",
    "data_xgboost = data_xgboost.head(80000)\n",
    "data_xgboost.drop(data_xgboost.index[0], inplace=True)\n",
    "y_true_xgboost = data_xgboost['is_duplicate']\n",
    "data_xgboost.drop(['Unnamed: 0', 'id','is_duplicate'], axis=1, inplace=True)"
   ]
  },
  {
   "cell_type": "code",
   "execution_count": 4,
   "metadata": {},
   "outputs": [
    {
     "name": "stdout",
     "output_type": "stream",
     "text": [
      "(79999, 794)\n"
     ]
    },
    {
     "data": {
      "text/html": [
       "<div>\n",
       "<style scoped>\n",
       "    .dataframe tbody tr th:only-of-type {\n",
       "        vertical-align: middle;\n",
       "    }\n",
       "\n",
       "    .dataframe tbody tr th {\n",
       "        vertical-align: top;\n",
       "    }\n",
       "\n",
       "    .dataframe thead th {\n",
       "        text-align: right;\n",
       "    }\n",
       "</style>\n",
       "<table border=\"1\" class=\"dataframe\">\n",
       "  <thead>\n",
       "    <tr style=\"text-align: right;\">\n",
       "      <th></th>\n",
       "      <th>cwc_min</th>\n",
       "      <th>cwc_max</th>\n",
       "      <th>csc_min</th>\n",
       "      <th>csc_max</th>\n",
       "      <th>ctc_min</th>\n",
       "      <th>ctc_max</th>\n",
       "      <th>last_word_eq</th>\n",
       "      <th>first_word_eq</th>\n",
       "      <th>abs_len_diff</th>\n",
       "      <th>mean_len</th>\n",
       "      <th>...</th>\n",
       "      <th>374_y</th>\n",
       "      <th>375_y</th>\n",
       "      <th>376_y</th>\n",
       "      <th>377_y</th>\n",
       "      <th>378_y</th>\n",
       "      <th>379_y</th>\n",
       "      <th>380_y</th>\n",
       "      <th>381_y</th>\n",
       "      <th>382_y</th>\n",
       "      <th>383_y</th>\n",
       "    </tr>\n",
       "  </thead>\n",
       "  <tbody>\n",
       "    <tr>\n",
       "      <th>1</th>\n",
       "      <td>0.799984</td>\n",
       "      <td>0.399996</td>\n",
       "      <td>0.749981</td>\n",
       "      <td>0.599988</td>\n",
       "      <td>0.699993</td>\n",
       "      <td>0.466664</td>\n",
       "      <td>0.0</td>\n",
       "      <td>1.0</td>\n",
       "      <td>5.0</td>\n",
       "      <td>12.5</td>\n",
       "      <td>...</td>\n",
       "      <td>-4.901128</td>\n",
       "      <td>-4.565393</td>\n",
       "      <td>41.520751</td>\n",
       "      <td>-0.727564</td>\n",
       "      <td>-16.413776</td>\n",
       "      <td>-7.373778</td>\n",
       "      <td>2.638877</td>\n",
       "      <td>-7.403457</td>\n",
       "      <td>2.703070</td>\n",
       "      <td>0.408040</td>\n",
       "    </tr>\n",
       "    <tr>\n",
       "      <th>2</th>\n",
       "      <td>0.399992</td>\n",
       "      <td>0.333328</td>\n",
       "      <td>0.399992</td>\n",
       "      <td>0.249997</td>\n",
       "      <td>0.399996</td>\n",
       "      <td>0.285712</td>\n",
       "      <td>0.0</td>\n",
       "      <td>1.0</td>\n",
       "      <td>4.0</td>\n",
       "      <td>12.0</td>\n",
       "      <td>...</td>\n",
       "      <td>8.359966</td>\n",
       "      <td>-2.165985</td>\n",
       "      <td>10.936580</td>\n",
       "      <td>-16.531660</td>\n",
       "      <td>14.681230</td>\n",
       "      <td>15.633759</td>\n",
       "      <td>-1.210901</td>\n",
       "      <td>14.183826</td>\n",
       "      <td>11.703135</td>\n",
       "      <td>10.148075</td>\n",
       "    </tr>\n",
       "    <tr>\n",
       "      <th>3</th>\n",
       "      <td>0.000000</td>\n",
       "      <td>0.000000</td>\n",
       "      <td>0.000000</td>\n",
       "      <td>0.000000</td>\n",
       "      <td>0.000000</td>\n",
       "      <td>0.000000</td>\n",
       "      <td>0.0</td>\n",
       "      <td>0.0</td>\n",
       "      <td>2.0</td>\n",
       "      <td>12.0</td>\n",
       "      <td>...</td>\n",
       "      <td>3.311411</td>\n",
       "      <td>3.788879</td>\n",
       "      <td>13.398598</td>\n",
       "      <td>-6.592596</td>\n",
       "      <td>6.437365</td>\n",
       "      <td>5.993293</td>\n",
       "      <td>2.732392</td>\n",
       "      <td>-3.727647</td>\n",
       "      <td>5.614115</td>\n",
       "      <td>6.023693</td>\n",
       "    </tr>\n",
       "    <tr>\n",
       "      <th>4</th>\n",
       "      <td>0.399992</td>\n",
       "      <td>0.199998</td>\n",
       "      <td>0.999950</td>\n",
       "      <td>0.666644</td>\n",
       "      <td>0.571420</td>\n",
       "      <td>0.307690</td>\n",
       "      <td>0.0</td>\n",
       "      <td>1.0</td>\n",
       "      <td>6.0</td>\n",
       "      <td>10.0</td>\n",
       "      <td>...</td>\n",
       "      <td>-2.403870</td>\n",
       "      <td>11.991204</td>\n",
       "      <td>8.088483</td>\n",
       "      <td>-15.090201</td>\n",
       "      <td>8.375166</td>\n",
       "      <td>1.727225</td>\n",
       "      <td>-6.601129</td>\n",
       "      <td>11.317413</td>\n",
       "      <td>11.544603</td>\n",
       "      <td>2.478689</td>\n",
       "    </tr>\n",
       "    <tr>\n",
       "      <th>5</th>\n",
       "      <td>0.666656</td>\n",
       "      <td>0.571420</td>\n",
       "      <td>0.888879</td>\n",
       "      <td>0.799992</td>\n",
       "      <td>0.705878</td>\n",
       "      <td>0.705878</td>\n",
       "      <td>1.0</td>\n",
       "      <td>0.0</td>\n",
       "      <td>0.0</td>\n",
       "      <td>17.0</td>\n",
       "      <td>...</td>\n",
       "      <td>10.240244</td>\n",
       "      <td>10.188453</td>\n",
       "      <td>18.522278</td>\n",
       "      <td>-19.722884</td>\n",
       "      <td>-8.420450</td>\n",
       "      <td>9.489836</td>\n",
       "      <td>-7.418802</td>\n",
       "      <td>18.077984</td>\n",
       "      <td>16.476179</td>\n",
       "      <td>-2.602082</td>\n",
       "    </tr>\n",
       "  </tbody>\n",
       "</table>\n",
       "<p>5 rows × 794 columns</p>\n",
       "</div>"
      ],
      "text/plain": [
       "    cwc_min   cwc_max   csc_min   csc_max   ctc_min   ctc_max  last_word_eq  \\\n",
       "1  0.799984  0.399996  0.749981  0.599988  0.699993  0.466664           0.0   \n",
       "2  0.399992  0.333328  0.399992  0.249997  0.399996  0.285712           0.0   \n",
       "3  0.000000  0.000000  0.000000  0.000000  0.000000  0.000000           0.0   \n",
       "4  0.399992  0.199998  0.999950  0.666644  0.571420  0.307690           0.0   \n",
       "5  0.666656  0.571420  0.888879  0.799992  0.705878  0.705878           1.0   \n",
       "\n",
       "   first_word_eq  abs_len_diff  mean_len    ...          374_y      375_y  \\\n",
       "1            1.0           5.0      12.5    ...      -4.901128  -4.565393   \n",
       "2            1.0           4.0      12.0    ...       8.359966  -2.165985   \n",
       "3            0.0           2.0      12.0    ...       3.311411   3.788879   \n",
       "4            1.0           6.0      10.0    ...      -2.403870  11.991204   \n",
       "5            0.0           0.0      17.0    ...      10.240244  10.188453   \n",
       "\n",
       "       376_y      377_y      378_y      379_y     380_y      381_y      382_y  \\\n",
       "1  41.520751  -0.727564 -16.413776  -7.373778  2.638877  -7.403457   2.703070   \n",
       "2  10.936580 -16.531660  14.681230  15.633759 -1.210901  14.183826  11.703135   \n",
       "3  13.398598  -6.592596   6.437365   5.993293  2.732392  -3.727647   5.614115   \n",
       "4   8.088483 -15.090201   8.375166   1.727225 -6.601129  11.317413  11.544603   \n",
       "5  18.522278 -19.722884  -8.420450   9.489836 -7.418802  18.077984  16.476179   \n",
       "\n",
       "       383_y  \n",
       "1   0.408040  \n",
       "2  10.148075  \n",
       "3   6.023693  \n",
       "4   2.478689  \n",
       "5  -2.602082  \n",
       "\n",
       "[5 rows x 794 columns]"
      ]
     },
     "execution_count": 4,
     "metadata": {},
     "output_type": "execute_result"
    }
   ],
   "source": [
    "print (data_xgboost.shape)\n",
    "data_xgboost.head()"
   ]
  },
  {
   "cell_type": "markdown",
   "metadata": {
    "colab_type": "text",
    "id": "KaWHDzqUtASD"
   },
   "source": [
    "<h2> 4.2 Converting strings to numerics </h2>"
   ]
  },
  {
   "cell_type": "code",
   "execution_count": null,
   "metadata": {
    "colab": {},
    "colab_type": "code",
    "id": "iLV60gkptASD",
    "outputId": "f297e0f4-52d5-4ab4-8a43-f0ff82f63698"
   },
   "outputs": [],
   "source": [
    "# after we read from sql table each entry was read it as a string\n",
    "# we convert all the features into numaric before we apply any model\n",
    "cols = list(data.columns)\n",
    "for i in cols:\n",
    "    data[i] = data[i].apply(pd.to_numeric)\n",
    "    print(i)"
   ]
  },
  {
   "cell_type": "code",
   "execution_count": 5,
   "metadata": {},
   "outputs": [
    {
     "name": "stdout",
     "output_type": "stream",
     "text": [
      "79999\n"
     ]
    }
   ],
   "source": [
    "# https://stackoverflow.com/questions/7368789/convert-all-strings-in-a-list-to-int\n",
    "y_true_xgboost = list(map(int, y_true_xgboost))\n",
    "print (len(y_true_xgboost))"
   ]
  },
  {
   "cell_type": "markdown",
   "metadata": {
    "colab_type": "text",
    "id": "CuMTqWGutASO"
   },
   "source": [
    "<h2> 4.3 Random train test split( 70:30) </h2>"
   ]
  },
  {
   "cell_type": "code",
   "execution_count": 6,
   "metadata": {},
   "outputs": [],
   "source": [
    "X_train_xgboost,X_test_xgboost, y_train_xgboost, y_test_xgboost = train_test_split(data_xgboost, y_true_xgboost, stratify=y_true_xgboost, test_size=0.3)"
   ]
  },
  {
   "cell_type": "code",
   "execution_count": 6,
   "metadata": {},
   "outputs": [
    {
     "name": "stdout",
     "output_type": "stream",
     "text": [
      "Number of data points in train data for XGBoost setup : (55999, 794)\n",
      "Number of data points in test data for XGBoost setup: (24000, 794)\n"
     ]
    }
   ],
   "source": [
    "print(\"Number of data points in train data for XGBoost setup :\",X_train_xgboost.shape)\n",
    "print(\"Number of data points in test data for XGBoost setup:\",X_test_xgboost.shape)"
   ]
  },
  {
   "cell_type": "code",
   "execution_count": 7,
   "metadata": {},
   "outputs": [
    {
     "name": "stdout",
     "output_type": "stream",
     "text": [
      "---------- Distribution of output variable in train data for xgboost setup ----------\n",
      "Class 0:  0.6274754906337613 Class 1:  0.3725245093662387\n",
      "---------- Distribution of output variable in train data for xgboost setup ----------\n",
      "Class 0:  0.37254166666666666 Class 1:  0.37254166666666666\n"
     ]
    }
   ],
   "source": [
    "print(\"-\"*10, \"Distribution of output variable in train data for xgboost setup\", \"-\"*10)\n",
    "train_distr_xgboost = Counter(y_train_xgboost)\n",
    "train_len_xgboost = len(y_train_xgboost)\n",
    "print(\"Class 0: \",int(train_distr_xgboost[0])/train_len_xgboost,\"Class 1: \", int(train_distr_xgboost[1])/train_len_xgboost)\n",
    "print(\"-\"*10, \"Distribution of output variable in train data for xgboost setup\", \"-\"*10)\n",
    "test_distr_xgboost = Counter(y_test_xgboost)\n",
    "test_len_xgboost = len(y_test_xgboost)\n",
    "print(\"Class 0: \",int(test_distr_xgboost[1])/test_len_xgboost, \"Class 1: \",int(test_distr_xgboost[1])/test_len_xgboost)"
   ]
  },
  {
   "cell_type": "code",
   "execution_count": 8,
   "metadata": {
    "colab": {},
    "colab_type": "code",
    "id": "XfxcPT6jtASg"
   },
   "outputs": [],
   "source": [
    "# This function plots the confusion matrices given y_i, y_i_hat.\n",
    "def plot_confusion_matrix(test_y, predict_y):\n",
    "    C = confusion_matrix(test_y, predict_y)\n",
    "    # C = 9,9 matrix, each cell (i,j) represents number of points of class i are predicted class j\n",
    "    \n",
    "    A =(((C.T)/(C.sum(axis=1))).T)\n",
    "    #divid each element of the confusion matrix with the sum of elements in that column\n",
    "    \n",
    "    # C = [[1, 2],\n",
    "    #     [3, 4]]\n",
    "    # C.T = [[1, 3],\n",
    "    #        [2, 4]]\n",
    "    # C.sum(axis = 1)  axis=0 corresonds to columns and axis=1 corresponds to rows in two diamensional array\n",
    "    # C.sum(axix =1) = [[3, 7]]\n",
    "    # ((C.T)/(C.sum(axis=1))) = [[1/3, 3/7]\n",
    "    #                           [2/3, 4/7]]\n",
    "\n",
    "    # ((C.T)/(C.sum(axis=1))).T = [[1/3, 2/3]\n",
    "    #                           [3/7, 4/7]]\n",
    "    # sum of row elements = 1\n",
    "    \n",
    "    B =(C/C.sum(axis=0))\n",
    "    #divid each element of the confusion matrix with the sum of elements in that row\n",
    "    # C = [[1, 2],\n",
    "    #     [3, 4]]\n",
    "    # C.sum(axis = 0)  axis=0 corresonds to columns and axis=1 corresponds to rows in two diamensional array\n",
    "    # C.sum(axix =0) = [[4, 6]]\n",
    "    # (C/C.sum(axis=0)) = [[1/4, 2/6],\n",
    "    #                      [3/4, 4/6]] \n",
    "    plt.figure(figsize=(20,4))\n",
    "    \n",
    "    labels = [1,2]\n",
    "    # representing A in heatmap format\n",
    "    cmap=sns.light_palette(\"blue\")\n",
    "    plt.subplot(1, 3, 1)\n",
    "    sns.heatmap(C, annot=True, cmap=cmap, fmt=\".3f\", xticklabels=labels, yticklabels=labels)\n",
    "    plt.xlabel('Predicted Class')\n",
    "    plt.ylabel('Original Class')\n",
    "    plt.title(\"Confusion matrix\")\n",
    "    \n",
    "    plt.subplot(1, 3, 2)\n",
    "    sns.heatmap(B, annot=True, cmap=cmap, fmt=\".3f\", xticklabels=labels, yticklabels=labels)\n",
    "    plt.xlabel('Predicted Class')\n",
    "    plt.ylabel('Original Class')\n",
    "    plt.title(\"Precision matrix\")\n",
    "    \n",
    "    plt.subplot(1, 3, 3)\n",
    "    # representing B in heatmap format\n",
    "    sns.heatmap(A, annot=True, cmap=cmap, fmt=\".3f\", xticklabels=labels, yticklabels=labels)\n",
    "    plt.xlabel('Predicted Class')\n",
    "    plt.ylabel('Original Class')\n",
    "    plt.title(\"Recall matrix\")\n",
    "    \n",
    "    plt.show()"
   ]
  },
  {
   "cell_type": "markdown",
   "metadata": {},
   "source": [
    "<h2> Building a random model (Finding worst-case log-loss XGBoost) </h2>"
   ]
  },
  {
   "cell_type": "code",
   "execution_count": 9,
   "metadata": {},
   "outputs": [
    {
     "name": "stdout",
     "output_type": "stream",
     "text": [
      "Log loss on Test Data using Random Model 0.8909061016014086\n"
     ]
    },
    {
     "data": {
      "image/png": "[encoded data removed]",
      "text/plain": [
       "<Figure size 1440x288 with 6 Axes>"
      ]
     },
     "metadata": {},
     "output_type": "display_data"
    }
   ],
   "source": [
    "# we need to generate 9 numbers and the sum of numbers should be 1\n",
    "# one solution is to genarate 9 numbers and divide each of the numbers by their sum\n",
    "# ref: https://stackoverflow.com/a/18662466/4084039\n",
    "# we create a output array that has exactly same size as the CV data\n",
    "predicted_y_xgboost = np.zeros((test_len_xgboost,2))\n",
    "for i in range(test_len_xgboost):\n",
    "    rand_probs_xgboost = np.random.rand(1,2)\n",
    "    predicted_y_xgboost[i] = ((rand_probs_xgboost/sum(sum(rand_probs_xgboost)))[0])\n",
    "print(\"Log loss on Test Data using Random Model\",log_loss(y_test_xgboost, predicted_y_xgboost, eps=1e-15))\n",
    "\n",
    "predicted_y_xgboost =np.argmax(predicted_y_xgboost, axis=1)\n",
    "plot_confusion_matrix(y_test_xgboost, predicted_y_xgboost)"
   ]
  },
  {
   "cell_type": "markdown",
   "metadata": {
    "colab_type": "text",
    "id": "ZhTJgclztAS6"
   },
   "source": [
    "<h2> 4.6 XGBoost </h2>"
   ]
  },
  {
   "cell_type": "code",
   "execution_count": 12,
   "metadata": {},
   "outputs": [
    {
     "name": "stdout",
     "output_type": "stream",
     "text": [
      "Fitting 3 folds for each of 10 candidates, totalling 30 fits\n",
      "[CV] n_estimators=500, max_depth=7 ...................................\n"
     ]
    },
    {
     "name": "stderr",
     "output_type": "stream",
     "text": [
      "[Parallel(n_jobs=1)]: Using backend SequentialBackend with 1 concurrent workers.\n"
     ]
    },
    {
     "name": "stdout",
     "output_type": "stream",
     "text": [
      "[CV] .................... n_estimators=500, max_depth=7, total=43.1min\n",
      "[CV] n_estimators=500, max_depth=7 ...................................\n"
     ]
    },
    {
     "name": "stderr",
     "output_type": "stream",
     "text": [
      "[Parallel(n_jobs=1)]: Done   1 out of   1 | elapsed: 43.1min remaining:    0.0s\n"
     ]
    },
    {
     "name": "stdout",
     "output_type": "stream",
     "text": [
      "[CV] .................... n_estimators=500, max_depth=7, total=44.6min\n",
      "[CV] n_estimators=500, max_depth=7 ...................................\n",
      "[CV] .................... n_estimators=500, max_depth=7, total=43.9min\n",
      "[CV] n_estimators=100, max_depth=5 ...................................\n",
      "[CV] .................... n_estimators=100, max_depth=5, total= 6.3min\n",
      "[CV] n_estimators=100, max_depth=5 ...................................\n",
      "[CV] .................... n_estimators=100, max_depth=5, total= 6.3min\n",
      "[CV] n_estimators=100, max_depth=5 ...................................\n",
      "[CV] .................... n_estimators=100, max_depth=5, total= 6.3min\n",
      "[CV] n_estimators=200, max_depth=7 ...................................\n",
      "[CV] .................... n_estimators=200, max_depth=7, total=17.4min\n",
      "[CV] n_estimators=200, max_depth=7 ...................................\n",
      "[CV] .................... n_estimators=200, max_depth=7, total=17.7min\n",
      "[CV] n_estimators=200, max_depth=7 ...................................\n",
      "[CV] .................... n_estimators=200, max_depth=7, total=18.6min\n",
      "[CV] n_estimators=500, max_depth=3 ...................................\n",
      "[CV] .................... n_estimators=500, max_depth=3, total=19.0min\n",
      "[CV] n_estimators=500, max_depth=3 ...................................\n",
      "[CV] .................... n_estimators=500, max_depth=3, total=19.4min\n",
      "[CV] n_estimators=500, max_depth=3 ...................................\n",
      "[CV] .................... n_estimators=500, max_depth=3, total=19.4min\n",
      "[CV] n_estimators=200, max_depth=9 ...................................\n",
      "[CV] .................... n_estimators=200, max_depth=9, total=22.9min\n",
      "[CV] n_estimators=200, max_depth=9 ...................................\n",
      "[CV] .................... n_estimators=200, max_depth=9, total=22.7min\n",
      "[CV] n_estimators=200, max_depth=9 ...................................\n",
      "[CV] .................... n_estimators=200, max_depth=9, total=22.6min\n",
      "[CV] n_estimators=300, max_depth=9 ...................................\n",
      "[CV] .................... n_estimators=300, max_depth=9, total=33.0min\n",
      "[CV] n_estimators=300, max_depth=9 ...................................\n",
      "[CV] .................... n_estimators=300, max_depth=9, total=33.3min\n",
      "[CV] n_estimators=300, max_depth=9 ...................................\n",
      "[CV] .................... n_estimators=300, max_depth=9, total=33.4min\n",
      "[CV] n_estimators=300, max_depth=1 ...................................\n",
      "[CV] .................... n_estimators=300, max_depth=1, total= 4.7min\n",
      "[CV] n_estimators=300, max_depth=1 ...................................\n",
      "[CV] .................... n_estimators=300, max_depth=1, total= 4.7min\n",
      "[CV] n_estimators=300, max_depth=1 ...................................\n",
      "[CV] .................... n_estimators=300, max_depth=1, total= 4.7min\n",
      "[CV] n_estimators=50, max_depth=1 ....................................\n",
      "[CV] ..................... n_estimators=50, max_depth=1, total=  51.6s\n",
      "[CV] n_estimators=50, max_depth=1 ....................................\n",
      "[CV] ..................... n_estimators=50, max_depth=1, total=  51.5s\n",
      "[CV] n_estimators=50, max_depth=1 ....................................\n",
      "[CV] ..................... n_estimators=50, max_depth=1, total=  51.8s\n",
      "[CV] n_estimators=300, max_depth=7 ...................................\n",
      "[CV] .................... n_estimators=300, max_depth=7, total=26.4min\n",
      "[CV] n_estimators=300, max_depth=7 ...................................\n",
      "[CV] .................... n_estimators=300, max_depth=7, total=26.8min\n",
      "[CV] n_estimators=300, max_depth=7 ...................................\n",
      "[CV] .................... n_estimators=300, max_depth=7, total=26.8min\n",
      "[CV] n_estimators=300, max_depth=3 ...................................\n",
      "[CV] .................... n_estimators=300, max_depth=3, total=11.6min\n",
      "[CV] n_estimators=300, max_depth=3 ...................................\n",
      "[CV] .................... n_estimators=300, max_depth=3, total=11.6min\n",
      "[CV] n_estimators=300, max_depth=3 ...................................\n",
      "[CV] .................... n_estimators=300, max_depth=3, total=11.7min\n"
     ]
    },
    {
     "name": "stderr",
     "output_type": "stream",
     "text": [
      "[Parallel(n_jobs=1)]: Done  30 out of  30 | elapsed: 561.6min finished\n"
     ]
    },
    {
     "data": {
      "text/plain": [
       "{'n_estimators': 500, 'max_depth': 7}"
      ]
     },
     "execution_count": 12,
     "metadata": {},
     "output_type": "execute_result"
    }
   ],
   "source": [
    "from xgboost import XGBClassifier\n",
    "\n",
    "from scipy.stats import uniform, randint\n",
    "from sklearn.model_selection import cross_val_score, GridSearchCV, KFold, RandomizedSearchCV, train_test_split\n",
    "import warnings\n",
    "warnings.filterwarnings(\"ignore\")\n",
    "\n",
    "\n",
    "XGB = XGBClassifier(booster='gbtree',objective = 'binary:logistic',eval_metric= 'logloss')\n",
    "\n",
    "param_grid = {'max_depth':[1,3,5,7,9],'n_estimators':[50,100,200,300,500]}\n",
    "xgboost_GBDT = RandomizedSearchCV(XGB,param_grid,cv=3, verbose=2)\n",
    "xgboost_GBDT.fit(X_train_xgboost,y_train_xgboost)\n",
    "xgboost_GBDT.best_params_"
   ]
  },
  {
   "cell_type": "code",
   "execution_count": 9,
   "metadata": {},
   "outputs": [],
   "source": [
    "from xgboost import XGBClassifier\n",
    "\n",
    "from scipy.stats import uniform, randint\n",
    "from sklearn.model_selection import cross_val_score, GridSearchCV, KFold, RandomizedSearchCV, train_test_split\n",
    "import warnings\n",
    "\n",
    "besthyperpara_xgboost = XGBClassifier(booster='gbtree',objective = 'binary:logistic',eval_metric= 'logloss',max_depth=9,n_estimators=500)\n",
    "besthyperpara_xgboost.fit(X_train_xgboost,y_train_xgboost)\n",
    "sig_clf = CalibratedClassifierCV(besthyperpara_xgboost, method=\"sigmoid\")\n",
    "sig_clf.fit(X_train_xgboost, y_train_xgboost)\n",
    "predict_y_xgboo = sig_clf.predict_proba(X_test_xgboost)"
   ]
  },
  {
   "cell_type": "code",
   "execution_count": 11,
   "metadata": {},
   "outputs": [
    {
     "name": "stdout",
     "output_type": "stream",
     "text": [
      "0.3644462554369013\n"
     ]
    }
   ],
   "source": [
    "print (log_loss(y_test_xgboost, predict_y_xgboo, labels=besthyperpara_xgboost.classes_, eps=1e-15))"
   ]
  },
  {
   "cell_type": "code",
   "execution_count": 13,
   "metadata": {},
   "outputs": [
    {
     "name": "stdout",
     "output_type": "stream",
     "text": [
      "<class 'numpy.ndarray'>\n",
      "(24000, 2)\n"
     ]
    }
   ],
   "source": [
    "print (type(predict_y_xgboo))\n",
    "print (predict_y_xgboo.shape)"
   ]
  },
  {
   "cell_type": "code",
   "execution_count": 16,
   "metadata": {},
   "outputs": [
    {
     "name": "stdout",
     "output_type": "stream",
     "text": [
      "<class 'numpy.ndarray'>\n",
      "(24000,)\n"
     ]
    }
   ],
   "source": [
    "predicted_y_xgboo =np.argmax(predict_y_xgboo,axis=1)\n",
    "print (type(predicted_y_xgboo))\n",
    "print (predicted_y_xgboo.shape)"
   ]
  },
  {
   "cell_type": "code",
   "execution_count": 17,
   "metadata": {},
   "outputs": [
    {
     "data": {
      "image/png": "[encoded data removed]",
      "text/plain": [
       "<Figure size 1440x288 with 6 Axes>"
      ]
     },
     "metadata": {},
     "output_type": "display_data"
    }
   ],
   "source": [
    "plot_confusion_matrix(y_test_xgboost, predicted_y_xgboo)"
   ]
  },
  {
   "cell_type": "markdown",
   "metadata": {
    "colab_type": "text",
    "id": "WmiIgHOJtATF"
   },
   "source": [
    "<h1> 5. Assignments </h1>"
   ]
  },
  {
   "cell_type": "markdown",
   "metadata": {
    "colab_type": "text",
    "id": "CWS6JoB0tATF"
   },
   "source": [
    "1. Try out models (Logistic regression, Linear-SVM) with simple TF-IDF vectors instead of TD_IDF weighted word2Vec.\n",
    "2. Hyperparameter tune XgBoost using RandomSearch to reduce the log-loss.\n"
   ]
  },
  {
   "cell_type": "code",
   "execution_count": null,
   "metadata": {},
   "outputs": [],
   "source": []
  },
  {
   "cell_type": "code",
   "execution_count": null,
   "metadata": {
    "colab": {},
    "colab_type": "code",
    "id": "9U367-xetAS7",
    "outputId": "167e8588-2ac4-4c6d-ac22-f56a2fce5657"
   },
   "outputs": [],
   "source": []
  }
 ],
 "metadata": {
  "colab": {
   "name": "4.ML_models.ipynb",
   "provenance": [],
   "version": "0.3.2"
  },
  "kernelspec": {
   "display_name": "Python 3",
   "language": "python",
   "name": "python3"
  },
  "language_info": {
   "codemirror_mode": {
    "name": "ipython",
    "version": 3
   },
   "file_extension": ".py",
   "mimetype": "text/x-python",
   "name": "python",
   "nbconvert_exporter": "python",
   "pygments_lexer": "ipython3",
   "version": "3.6.5"
  }
 },
 "nbformat": 4,
 "nbformat_minor": 1
}
