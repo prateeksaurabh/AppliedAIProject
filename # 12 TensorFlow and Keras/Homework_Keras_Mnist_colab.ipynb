{
  "nbformat": 4,
  "nbformat_minor": 0,
  "metadata": {
    "colab": {
      "name": "Homework_Keras_Mnist_colab.ipynb",
      "provenance": [],
      "collapsed_sections": []
    },
    "kernelspec": {
      "display_name": "Python 3",
      "language": "python",
      "name": "python3"
    },
    "accelerator": "GPU"
  },
  "cells": [
    {
      "cell_type": "markdown",
      "metadata": {
        "id": "UTJmsXnXQKbG",
        "colab_type": "text"
      },
      "source": [
        "## Keras -- MLPs on MNIST"
      ]
    },
    {
      "cell_type": "code",
      "metadata": {
        "id": "2UILABPAQKbH",
        "colab_type": "code",
        "colab": {}
      },
      "source": [
        "# if you keras is not using tensorflow as backend set \"KERAS_BACKEND=tensorflow\" use this command\n",
        "from keras.utils import np_utils \n",
        "from keras.datasets import mnist \n",
        "import seaborn as sns\n",
        "from keras.initializers import RandomNormal"
      ],
      "execution_count": 0,
      "outputs": []
    },
    {
      "cell_type": "code",
      "metadata": {
        "id": "lOO-TM_7QKbM",
        "colab_type": "code",
        "colab": {}
      },
      "source": [
        "%matplotlib notebook\n",
        "%matplotlib inline\n",
        "import matplotlib.pyplot as plt\n",
        "import numpy as np\n",
        "import time\n",
        "# https://gist.github.com/greydanus/f6eee59eaf1d90fcb3b534a25362cea4\n",
        "# https://stackoverflow.com/a/14434334\n",
        "# this function is used to update the plots for each epoch and error\n",
        "def plt_dynamic(x, vy, ty, ax, colors=['b']):\n",
        "    ax.plot(x, vy, 'b', label=\"Validation Loss\")\n",
        "    ax.plot(x, ty, 'r', label=\"Train Loss\")\n",
        "    plt.legend()\n",
        "    plt.grid()\n",
        "    fig.canvas.draw()"
      ],
      "execution_count": 0,
      "outputs": []
    },
    {
      "cell_type": "code",
      "metadata": {
        "id": "TKmYKnibQKbQ",
        "colab_type": "code",
        "colab": {}
      },
      "source": [
        "\n",
        "# the data, shuffled and split between train and test sets \n",
        "(X_train, y_train), (X_test, y_test) = mnist.load_data()"
      ],
      "execution_count": 0,
      "outputs": []
    },
    {
      "cell_type": "code",
      "metadata": {
        "id": "CCwnZae-QKbT",
        "colab_type": "code",
        "outputId": "c4d4f62b-ca5b-4a20-ba48-8ab19c5f3ca9",
        "colab": {
          "base_uri": "https://localhost:8080/",
          "height": 52
        }
      },
      "source": [
        "print(\"Number of training examples :\", X_train.shape[0], \"and each image is of shape (%d, %d)\"%(X_train.shape[1], X_train.shape[2]))\n",
        "print(\"Number of training examples :\", X_test.shape[0], \"and each image is of shape (%d, %d)\"%(X_test.shape[1], X_test.shape[2]))"
      ],
      "execution_count": 65,
      "outputs": [
        {
          "output_type": "stream",
          "text": [
            "Number of training examples : 60000 and each image is of shape (28, 28)\n",
            "Number of training examples : 10000 and each image is of shape (28, 28)\n"
          ],
          "name": "stdout"
        }
      ]
    },
    {
      "cell_type": "code",
      "metadata": {
        "id": "BlotuCmoQKbW",
        "colab_type": "code",
        "colab": {}
      },
      "source": [
        "# if you observe the input shape its 2 dimensional vector\n",
        "# for each image we have a (28*28) vector\n",
        "# we will convert the (28*28) vector into single dimensional vector of 1 * 784 \n",
        "\n",
        "X_train = X_train.reshape(X_train.shape[0], X_train.shape[1]*X_train.shape[2]) \n",
        "X_test = X_test.reshape(X_test.shape[0], X_test.shape[1]*X_test.shape[2]) "
      ],
      "execution_count": 0,
      "outputs": []
    },
    {
      "cell_type": "code",
      "metadata": {
        "id": "8JvpNJy4QKbY",
        "colab_type": "code",
        "outputId": "b8fc81d8-b2c6-4687-e731-09ba55a0e796",
        "colab": {
          "base_uri": "https://localhost:8080/",
          "height": 52
        }
      },
      "source": [
        "# after converting the input images from 3d to 2d vectors\n",
        "\n",
        "print(\"Number of training examples :\", X_train.shape[0], \"and each image is of shape (%d)\"%(X_train.shape[1]))\n",
        "print(\"Number of training examples :\", X_test.shape[0], \"and each image is of shape (%d)\"%(X_test.shape[1]))"
      ],
      "execution_count": 67,
      "outputs": [
        {
          "output_type": "stream",
          "text": [
            "Number of training examples : 60000 and each image is of shape (784)\n",
            "Number of training examples : 10000 and each image is of shape (784)\n"
          ],
          "name": "stdout"
        }
      ]
    },
    {
      "cell_type": "code",
      "metadata": {
        "id": "qvuaHDk0QKbb",
        "colab_type": "code",
        "colab": {
          "base_uri": "https://localhost:8080/",
          "height": 791
        },
        "outputId": "9fdeb084-c447-4211-fb5a-4cabf0f1c29a"
      },
      "source": [
        "# An example data point\n",
        "print(X_train[0])"
      ],
      "execution_count": 68,
      "outputs": [
        {
          "output_type": "stream",
          "text": [
            "[  0   0   0   0   0   0   0   0   0   0   0   0   0   0   0   0   0   0\n",
            "   0   0   0   0   0   0   0   0   0   0   0   0   0   0   0   0   0   0\n",
            "   0   0   0   0   0   0   0   0   0   0   0   0   0   0   0   0   0   0\n",
            "   0   0   0   0   0   0   0   0   0   0   0   0   0   0   0   0   0   0\n",
            "   0   0   0   0   0   0   0   0   0   0   0   0   0   0   0   0   0   0\n",
            "   0   0   0   0   0   0   0   0   0   0   0   0   0   0   0   0   0   0\n",
            "   0   0   0   0   0   0   0   0   0   0   0   0   0   0   0   0   0   0\n",
            "   0   0   0   0   0   0   0   0   0   0   0   0   0   0   0   0   0   0\n",
            "   0   0   0   0   0   0   0   0   3  18  18  18 126 136 175  26 166 255\n",
            " 247 127   0   0   0   0   0   0   0   0   0   0   0   0  30  36  94 154\n",
            " 170 253 253 253 253 253 225 172 253 242 195  64   0   0   0   0   0   0\n",
            "   0   0   0   0   0  49 238 253 253 253 253 253 253 253 253 251  93  82\n",
            "  82  56  39   0   0   0   0   0   0   0   0   0   0   0   0  18 219 253\n",
            " 253 253 253 253 198 182 247 241   0   0   0   0   0   0   0   0   0   0\n",
            "   0   0   0   0   0   0   0   0  80 156 107 253 253 205  11   0  43 154\n",
            "   0   0   0   0   0   0   0   0   0   0   0   0   0   0   0   0   0   0\n",
            "   0  14   1 154 253  90   0   0   0   0   0   0   0   0   0   0   0   0\n",
            "   0   0   0   0   0   0   0   0   0   0   0   0   0 139 253 190   2   0\n",
            "   0   0   0   0   0   0   0   0   0   0   0   0   0   0   0   0   0   0\n",
            "   0   0   0   0   0  11 190 253  70   0   0   0   0   0   0   0   0   0\n",
            "   0   0   0   0   0   0   0   0   0   0   0   0   0   0   0   0  35 241\n",
            " 225 160 108   1   0   0   0   0   0   0   0   0   0   0   0   0   0   0\n",
            "   0   0   0   0   0   0   0   0   0  81 240 253 253 119  25   0   0   0\n",
            "   0   0   0   0   0   0   0   0   0   0   0   0   0   0   0   0   0   0\n",
            "   0   0  45 186 253 253 150  27   0   0   0   0   0   0   0   0   0   0\n",
            "   0   0   0   0   0   0   0   0   0   0   0   0   0  16  93 252 253 187\n",
            "   0   0   0   0   0   0   0   0   0   0   0   0   0   0   0   0   0   0\n",
            "   0   0   0   0   0   0   0 249 253 249  64   0   0   0   0   0   0   0\n",
            "   0   0   0   0   0   0   0   0   0   0   0   0   0   0  46 130 183 253\n",
            " 253 207   2   0   0   0   0   0   0   0   0   0   0   0   0   0   0   0\n",
            "   0   0   0   0  39 148 229 253 253 253 250 182   0   0   0   0   0   0\n",
            "   0   0   0   0   0   0   0   0   0   0   0   0  24 114 221 253 253 253\n",
            " 253 201  78   0   0   0   0   0   0   0   0   0   0   0   0   0   0   0\n",
            "   0   0  23  66 213 253 253 253 253 198  81   2   0   0   0   0   0   0\n",
            "   0   0   0   0   0   0   0   0   0   0  18 171 219 253 253 253 253 195\n",
            "  80   9   0   0   0   0   0   0   0   0   0   0   0   0   0   0   0   0\n",
            "  55 172 226 253 253 253 253 244 133  11   0   0   0   0   0   0   0   0\n",
            "   0   0   0   0   0   0   0   0   0   0 136 253 253 253 212 135 132  16\n",
            "   0   0   0   0   0   0   0   0   0   0   0   0   0   0   0   0   0   0\n",
            "   0   0   0   0   0   0   0   0   0   0   0   0   0   0   0   0   0   0\n",
            "   0   0   0   0   0   0   0   0   0   0   0   0   0   0   0   0   0   0\n",
            "   0   0   0   0   0   0   0   0   0   0   0   0   0   0   0   0   0   0\n",
            "   0   0   0   0   0   0   0   0   0   0   0   0   0   0   0   0   0   0\n",
            "   0   0   0   0   0   0   0   0   0   0]\n"
          ],
          "name": "stdout"
        }
      ]
    },
    {
      "cell_type": "code",
      "metadata": {
        "id": "lfohtdKPQKbd",
        "colab_type": "code",
        "colab": {}
      },
      "source": [
        "# if we observe the above matrix each cell is having a value between 0-255\n",
        "# before we move to apply machine learning algorithms lets try to normalize the data\n",
        "# X => (X - Xmin)/(Xmax-Xmin) = X/255\n",
        "\n",
        "X_train = X_train/255\n",
        "X_test = X_test/255"
      ],
      "execution_count": 0,
      "outputs": []
    },
    {
      "cell_type": "code",
      "metadata": {
        "id": "4C-dmsXJQKbf",
        "colab_type": "code",
        "colab": {
          "base_uri": "https://localhost:8080/",
          "height": 2322
        },
        "outputId": "2c50a9e8-e5e0-43cf-a1c4-56c098fbc10d"
      },
      "source": [
        "# example data point after normlizing\n",
        "print(X_train[0])"
      ],
      "execution_count": 70,
      "outputs": [
        {
          "output_type": "stream",
          "text": [
            "[0.         0.         0.         0.         0.         0.\n",
            " 0.         0.         0.         0.         0.         0.\n",
            " 0.         0.         0.         0.         0.         0.\n",
            " 0.         0.         0.         0.         0.         0.\n",
            " 0.         0.         0.         0.         0.         0.\n",
            " 0.         0.         0.         0.         0.         0.\n",
            " 0.         0.         0.         0.         0.         0.\n",
            " 0.         0.         0.         0.         0.         0.\n",
            " 0.         0.         0.         0.         0.         0.\n",
            " 0.         0.         0.         0.         0.         0.\n",
            " 0.         0.         0.         0.         0.         0.\n",
            " 0.         0.         0.         0.         0.         0.\n",
            " 0.         0.         0.         0.         0.         0.\n",
            " 0.         0.         0.         0.         0.         0.\n",
            " 0.         0.         0.         0.         0.         0.\n",
            " 0.         0.         0.         0.         0.         0.\n",
            " 0.         0.         0.         0.         0.         0.\n",
            " 0.         0.         0.         0.         0.         0.\n",
            " 0.         0.         0.         0.         0.         0.\n",
            " 0.         0.         0.         0.         0.         0.\n",
            " 0.         0.         0.         0.         0.         0.\n",
            " 0.         0.         0.         0.         0.         0.\n",
            " 0.         0.         0.         0.         0.         0.\n",
            " 0.         0.         0.         0.         0.         0.\n",
            " 0.         0.         0.         0.         0.         0.\n",
            " 0.         0.         0.01176471 0.07058824 0.07058824 0.07058824\n",
            " 0.49411765 0.53333333 0.68627451 0.10196078 0.65098039 1.\n",
            " 0.96862745 0.49803922 0.         0.         0.         0.\n",
            " 0.         0.         0.         0.         0.         0.\n",
            " 0.         0.         0.11764706 0.14117647 0.36862745 0.60392157\n",
            " 0.66666667 0.99215686 0.99215686 0.99215686 0.99215686 0.99215686\n",
            " 0.88235294 0.6745098  0.99215686 0.94901961 0.76470588 0.25098039\n",
            " 0.         0.         0.         0.         0.         0.\n",
            " 0.         0.         0.         0.         0.         0.19215686\n",
            " 0.93333333 0.99215686 0.99215686 0.99215686 0.99215686 0.99215686\n",
            " 0.99215686 0.99215686 0.99215686 0.98431373 0.36470588 0.32156863\n",
            " 0.32156863 0.21960784 0.15294118 0.         0.         0.\n",
            " 0.         0.         0.         0.         0.         0.\n",
            " 0.         0.         0.         0.07058824 0.85882353 0.99215686\n",
            " 0.99215686 0.99215686 0.99215686 0.99215686 0.77647059 0.71372549\n",
            " 0.96862745 0.94509804 0.         0.         0.         0.\n",
            " 0.         0.         0.         0.         0.         0.\n",
            " 0.         0.         0.         0.         0.         0.\n",
            " 0.         0.         0.31372549 0.61176471 0.41960784 0.99215686\n",
            " 0.99215686 0.80392157 0.04313725 0.         0.16862745 0.60392157\n",
            " 0.         0.         0.         0.         0.         0.\n",
            " 0.         0.         0.         0.         0.         0.\n",
            " 0.         0.         0.         0.         0.         0.\n",
            " 0.         0.05490196 0.00392157 0.60392157 0.99215686 0.35294118\n",
            " 0.         0.         0.         0.         0.         0.\n",
            " 0.         0.         0.         0.         0.         0.\n",
            " 0.         0.         0.         0.         0.         0.\n",
            " 0.         0.         0.         0.         0.         0.\n",
            " 0.         0.54509804 0.99215686 0.74509804 0.00784314 0.\n",
            " 0.         0.         0.         0.         0.         0.\n",
            " 0.         0.         0.         0.         0.         0.\n",
            " 0.         0.         0.         0.         0.         0.\n",
            " 0.         0.         0.         0.         0.         0.04313725\n",
            " 0.74509804 0.99215686 0.2745098  0.         0.         0.\n",
            " 0.         0.         0.         0.         0.         0.\n",
            " 0.         0.         0.         0.         0.         0.\n",
            " 0.         0.         0.         0.         0.         0.\n",
            " 0.         0.         0.         0.         0.1372549  0.94509804\n",
            " 0.88235294 0.62745098 0.42352941 0.00392157 0.         0.\n",
            " 0.         0.         0.         0.         0.         0.\n",
            " 0.         0.         0.         0.         0.         0.\n",
            " 0.         0.         0.         0.         0.         0.\n",
            " 0.         0.         0.         0.31764706 0.94117647 0.99215686\n",
            " 0.99215686 0.46666667 0.09803922 0.         0.         0.\n",
            " 0.         0.         0.         0.         0.         0.\n",
            " 0.         0.         0.         0.         0.         0.\n",
            " 0.         0.         0.         0.         0.         0.\n",
            " 0.         0.         0.17647059 0.72941176 0.99215686 0.99215686\n",
            " 0.58823529 0.10588235 0.         0.         0.         0.\n",
            " 0.         0.         0.         0.         0.         0.\n",
            " 0.         0.         0.         0.         0.         0.\n",
            " 0.         0.         0.         0.         0.         0.\n",
            " 0.         0.0627451  0.36470588 0.98823529 0.99215686 0.73333333\n",
            " 0.         0.         0.         0.         0.         0.\n",
            " 0.         0.         0.         0.         0.         0.\n",
            " 0.         0.         0.         0.         0.         0.\n",
            " 0.         0.         0.         0.         0.         0.\n",
            " 0.         0.97647059 0.99215686 0.97647059 0.25098039 0.\n",
            " 0.         0.         0.         0.         0.         0.\n",
            " 0.         0.         0.         0.         0.         0.\n",
            " 0.         0.         0.         0.         0.         0.\n",
            " 0.         0.         0.18039216 0.50980392 0.71764706 0.99215686\n",
            " 0.99215686 0.81176471 0.00784314 0.         0.         0.\n",
            " 0.         0.         0.         0.         0.         0.\n",
            " 0.         0.         0.         0.         0.         0.\n",
            " 0.         0.         0.         0.         0.15294118 0.58039216\n",
            " 0.89803922 0.99215686 0.99215686 0.99215686 0.98039216 0.71372549\n",
            " 0.         0.         0.         0.         0.         0.\n",
            " 0.         0.         0.         0.         0.         0.\n",
            " 0.         0.         0.         0.         0.         0.\n",
            " 0.09411765 0.44705882 0.86666667 0.99215686 0.99215686 0.99215686\n",
            " 0.99215686 0.78823529 0.30588235 0.         0.         0.\n",
            " 0.         0.         0.         0.         0.         0.\n",
            " 0.         0.         0.         0.         0.         0.\n",
            " 0.         0.         0.09019608 0.25882353 0.83529412 0.99215686\n",
            " 0.99215686 0.99215686 0.99215686 0.77647059 0.31764706 0.00784314\n",
            " 0.         0.         0.         0.         0.         0.\n",
            " 0.         0.         0.         0.         0.         0.\n",
            " 0.         0.         0.         0.         0.07058824 0.67058824\n",
            " 0.85882353 0.99215686 0.99215686 0.99215686 0.99215686 0.76470588\n",
            " 0.31372549 0.03529412 0.         0.         0.         0.\n",
            " 0.         0.         0.         0.         0.         0.\n",
            " 0.         0.         0.         0.         0.         0.\n",
            " 0.21568627 0.6745098  0.88627451 0.99215686 0.99215686 0.99215686\n",
            " 0.99215686 0.95686275 0.52156863 0.04313725 0.         0.\n",
            " 0.         0.         0.         0.         0.         0.\n",
            " 0.         0.         0.         0.         0.         0.\n",
            " 0.         0.         0.         0.         0.53333333 0.99215686\n",
            " 0.99215686 0.99215686 0.83137255 0.52941176 0.51764706 0.0627451\n",
            " 0.         0.         0.         0.         0.         0.\n",
            " 0.         0.         0.         0.         0.         0.\n",
            " 0.         0.         0.         0.         0.         0.\n",
            " 0.         0.         0.         0.         0.         0.\n",
            " 0.         0.         0.         0.         0.         0.\n",
            " 0.         0.         0.         0.         0.         0.\n",
            " 0.         0.         0.         0.         0.         0.\n",
            " 0.         0.         0.         0.         0.         0.\n",
            " 0.         0.         0.         0.         0.         0.\n",
            " 0.         0.         0.         0.         0.         0.\n",
            " 0.         0.         0.         0.         0.         0.\n",
            " 0.         0.         0.         0.         0.         0.\n",
            " 0.         0.         0.         0.         0.         0.\n",
            " 0.         0.         0.         0.         0.         0.\n",
            " 0.         0.         0.         0.         0.         0.\n",
            " 0.         0.         0.         0.         0.         0.\n",
            " 0.         0.         0.         0.        ]\n"
          ],
          "name": "stdout"
        }
      ]
    },
    {
      "cell_type": "code",
      "metadata": {
        "id": "3Ruu-vXzQKbi",
        "colab_type": "code",
        "outputId": "12c256ae-0283-4b5a-9c30-f489b18d480e",
        "colab": {
          "base_uri": "https://localhost:8080/",
          "height": 52
        }
      },
      "source": [
        "# here we are having a class number for each image\n",
        "print(\"Class label of first image :\", y_train[0])\n",
        "\n",
        "# lets convert this into a 10 dimensional vector\n",
        "# ex: consider an image is 5 convert it into 5 => [0, 0, 0, 0, 0, 1, 0, 0, 0, 0]\n",
        "# this conversion needed for MLPs \n",
        "\n",
        "Y_train = np_utils.to_categorical(y_train, 10) \n",
        "Y_test = np_utils.to_categorical(y_test, 10)\n",
        "\n",
        "print(\"After converting the output into a vector : \",Y_train[0])"
      ],
      "execution_count": 71,
      "outputs": [
        {
          "output_type": "stream",
          "text": [
            "Class label of first image : 5\n",
            "After converting the output into a vector :  [0. 0. 0. 0. 0. 1. 0. 0. 0. 0.]\n"
          ],
          "name": "stdout"
        }
      ]
    },
    {
      "cell_type": "markdown",
      "metadata": {
        "id": "u0pWB6UyQKbk",
        "colab_type": "text"
      },
      "source": [
        "<h2>  Softmax classifier  </h2>"
      ]
    },
    {
      "cell_type": "code",
      "metadata": {
        "id": "tLAGMubCQKbm",
        "colab_type": "code",
        "colab": {}
      },
      "source": [
        "# https://keras.io/getting-started/sequential-model-guide/\n",
        "\n",
        "# The Sequential model is a linear stack of layers.\n",
        "# you can create a Sequential model by passing a list of layer instances to the constructor:\n",
        "\n",
        "# model = Sequential([\n",
        "#     Dense(32, input_shape=(784,)),\n",
        "#     Activation('relu'),\n",
        "#     Dense(10),\n",
        "#     Activation('softmax'),\n",
        "# ])\n",
        "\n",
        "# You can also simply add layers via the .add() method:\n",
        "\n",
        "# model = Sequential()\n",
        "# model.add(Dense(32, input_dim=784))\n",
        "# model.add(Activation('relu'))\n",
        "\n",
        "###\n",
        "\n",
        "# https://keras.io/layers/core/\n",
        "\n",
        "# keras.layers.Dense(units, activation=None, use_bias=True, kernel_initializer='glorot_uniform', \n",
        "# bias_initializer='zeros', kernel_regularizer=None, bias_regularizer=None, activity_regularizer=None, \n",
        "# kernel_constraint=None, bias_constraint=None)\n",
        "\n",
        "# Dense implements the operation: output = activation(dot(input, kernel) + bias) where\n",
        "# activation is the element-wise activation function passed as the activation argument, \n",
        "# kernel is a weights matrix created by the layer, and \n",
        "# bias is a bias vector created by the layer (only applicable if use_bias is True).\n",
        "\n",
        "# output = activation(dot(input, kernel) + bias)  => y = activation(WT. X + b)\n",
        "\n",
        "####\n",
        "\n",
        "# https://keras.io/activations/\n",
        "\n",
        "# Activations can either be used through an Activation layer, or through the activation argument supported by all forward layers:\n",
        "\n",
        "# from keras.layers import Activation, Dense\n",
        "\n",
        "# model.add(Dense(64))\n",
        "# model.add(Activation('tanh'))\n",
        "\n",
        "# This is equivalent to:\n",
        "# model.add(Dense(64, activation='tanh'))\n",
        "\n",
        "# there are many activation functions ar available ex: tanh, relu, softmax\n",
        "\n",
        "\n",
        "from keras.models import Sequential \n",
        "from keras.layers import Dense, Activation \n"
      ],
      "execution_count": 0,
      "outputs": []
    },
    {
      "cell_type": "code",
      "metadata": {
        "id": "I0s7jzhVQKbn",
        "colab_type": "code",
        "colab": {}
      },
      "source": [
        "# some model parameters\n",
        "\n",
        "output_dim = 10\n",
        "input_dim = X_train.shape[1]\n",
        "\n",
        "batch_size = 128 \n",
        "nb_epoch = 30"
      ],
      "execution_count": 0,
      "outputs": []
    },
    {
      "cell_type": "markdown",
      "metadata": {
        "id": "WdhMR7mr7cFY",
        "colab_type": "text"
      },
      "source": [
        "\n",
        "\n",
        ">**MLP + BN + Dropout + AdamOptimizer + ReLu activation**\n",
        "\n",
        "> **Architecture 1**: 784-366-100-10;   \n",
        "> droput: .5,.5 \n",
        "\n",
        "std = sqrt(2/fan-in) as it is relu\n",
        "\n",
        "\n"
      ]
    },
    {
      "cell_type": "code",
      "metadata": {
        "id": "-NUURE4g7Yh7",
        "colab_type": "code",
        "colab": {
          "base_uri": "https://localhost:8080/",
          "height": 1478
        },
        "outputId": "7e005e60-f925-4060-c499-e45033c8c6a8"
      },
      "source": [
        "from keras.layers.normalization import BatchNormalization\n",
        "from keras.layers import Dropout\n",
        "\n",
        "\n",
        "model = Sequential()\n",
        "\n",
        "model.add(Dense(366, activation='relu', input_shape=(input_dim,), kernel_initializer=RandomNormal(mean=0.0, stddev=0.07392, seed=None)))\n",
        "model.add(BatchNormalization())\n",
        "model.add(Dropout(0.5))\n",
        "\n",
        "\n",
        "model.add(Dense(100, activation='relu', kernel_initializer=RandomNormal(mean=0.0, stddev=0.14142, seed=None)) )\n",
        "model.add(BatchNormalization())\n",
        "model.add(Dropout(0.5))\n",
        "\n",
        "\n",
        "model.add(Dense(output_dim, activation='softmax'))\n",
        "\n",
        "\n",
        "model.summary()\n",
        "\n",
        "model.compile(optimizer='adam', loss='categorical_crossentropy', metrics=['accuracy'])\n",
        "\n",
        "history = model.fit(X_train, Y_train, batch_size=batch_size, epochs=nb_epoch, verbose=1, validation_data=(X_test, Y_test))"
      ],
      "execution_count": 74,
      "outputs": [
        {
          "output_type": "stream",
          "text": [
            "Model: \"sequential_14\"\n",
            "_________________________________________________________________\n",
            "Layer (type)                 Output Shape              Param #   \n",
            "=================================================================\n",
            "dense_44 (Dense)             (None, 366)               287310    \n",
            "_________________________________________________________________\n",
            "batch_normalization_31 (Batc (None, 366)               1464      \n",
            "_________________________________________________________________\n",
            "dropout_31 (Dropout)         (None, 366)               0         \n",
            "_________________________________________________________________\n",
            "dense_45 (Dense)             (None, 100)               36700     \n",
            "_________________________________________________________________\n",
            "batch_normalization_32 (Batc (None, 100)               400       \n",
            "_________________________________________________________________\n",
            "dropout_32 (Dropout)         (None, 100)               0         \n",
            "_________________________________________________________________\n",
            "dense_46 (Dense)             (None, 10)                1010      \n",
            "=================================================================\n",
            "Total params: 326,884\n",
            "Trainable params: 325,952\n",
            "Non-trainable params: 932\n",
            "_________________________________________________________________\n",
            "Train on 60000 samples, validate on 10000 samples\n",
            "Epoch 1/30\n",
            "60000/60000 [==============================] - 9s 158us/step - loss: 0.5750 - acc: 0.8249 - val_loss: 0.1816 - val_acc: 0.9442\n",
            "Epoch 2/30\n",
            "60000/60000 [==============================] - 5s 88us/step - loss: 0.2700 - acc: 0.9192 - val_loss: 0.1328 - val_acc: 0.9593\n",
            "Epoch 3/30\n",
            "60000/60000 [==============================] - 5s 91us/step - loss: 0.2075 - acc: 0.9374 - val_loss: 0.1125 - val_acc: 0.9648\n",
            "Epoch 4/30\n",
            "60000/60000 [==============================] - 6s 94us/step - loss: 0.1752 - acc: 0.9472 - val_loss: 0.0954 - val_acc: 0.9719\n",
            "Epoch 5/30\n",
            "60000/60000 [==============================] - 6s 95us/step - loss: 0.1544 - acc: 0.9544 - val_loss: 0.0912 - val_acc: 0.9709\n",
            "Epoch 6/30\n",
            "60000/60000 [==============================] - 5s 87us/step - loss: 0.1380 - acc: 0.9580 - val_loss: 0.0817 - val_acc: 0.9746\n",
            "Epoch 7/30\n",
            "60000/60000 [==============================] - 6s 93us/step - loss: 0.1268 - acc: 0.9616 - val_loss: 0.0742 - val_acc: 0.9769\n",
            "Epoch 8/30\n",
            "60000/60000 [==============================] - 5s 90us/step - loss: 0.1162 - acc: 0.9647 - val_loss: 0.0793 - val_acc: 0.9750\n",
            "Epoch 9/30\n",
            "60000/60000 [==============================] - 5s 90us/step - loss: 0.1100 - acc: 0.9672 - val_loss: 0.0721 - val_acc: 0.9791\n",
            "Epoch 10/30\n",
            "60000/60000 [==============================] - 5s 89us/step - loss: 0.1020 - acc: 0.9690 - val_loss: 0.0642 - val_acc: 0.9816\n",
            "Epoch 11/30\n",
            "60000/60000 [==============================] - 5s 91us/step - loss: 0.0961 - acc: 0.9705 - val_loss: 0.0653 - val_acc: 0.9808\n",
            "Epoch 12/30\n",
            "60000/60000 [==============================] - 5s 91us/step - loss: 0.0918 - acc: 0.9719 - val_loss: 0.0672 - val_acc: 0.9793\n",
            "Epoch 13/30\n",
            "60000/60000 [==============================] - 5s 90us/step - loss: 0.0866 - acc: 0.9737 - val_loss: 0.0617 - val_acc: 0.9827\n",
            "Epoch 14/30\n",
            "60000/60000 [==============================] - 5s 92us/step - loss: 0.0821 - acc: 0.9746 - val_loss: 0.0610 - val_acc: 0.9822\n",
            "Epoch 15/30\n",
            "60000/60000 [==============================] - 6s 92us/step - loss: 0.0762 - acc: 0.9759 - val_loss: 0.0605 - val_acc: 0.9825\n",
            "Epoch 16/30\n",
            "60000/60000 [==============================] - 6s 92us/step - loss: 0.0750 - acc: 0.9771 - val_loss: 0.0618 - val_acc: 0.9818\n",
            "Epoch 17/30\n",
            "60000/60000 [==============================] - 6s 92us/step - loss: 0.0722 - acc: 0.9774 - val_loss: 0.0598 - val_acc: 0.9823\n",
            "Epoch 18/30\n",
            "60000/60000 [==============================] - 5s 89us/step - loss: 0.0700 - acc: 0.9780 - val_loss: 0.0647 - val_acc: 0.9811\n",
            "Epoch 19/30\n",
            "60000/60000 [==============================] - 5s 91us/step - loss: 0.0695 - acc: 0.9785 - val_loss: 0.0596 - val_acc: 0.9828\n",
            "Epoch 20/30\n",
            "60000/60000 [==============================] - 5s 89us/step - loss: 0.0640 - acc: 0.9800 - val_loss: 0.0599 - val_acc: 0.9830\n",
            "Epoch 21/30\n",
            "60000/60000 [==============================] - 5s 91us/step - loss: 0.0616 - acc: 0.9810 - val_loss: 0.0624 - val_acc: 0.9820\n",
            "Epoch 22/30\n",
            "60000/60000 [==============================] - 5s 90us/step - loss: 0.0604 - acc: 0.9800 - val_loss: 0.0621 - val_acc: 0.9827\n",
            "Epoch 23/30\n",
            "60000/60000 [==============================] - 5s 89us/step - loss: 0.0577 - acc: 0.9815 - val_loss: 0.0692 - val_acc: 0.9826\n",
            "Epoch 24/30\n",
            "60000/60000 [==============================] - 5s 87us/step - loss: 0.0599 - acc: 0.9811 - val_loss: 0.0634 - val_acc: 0.9820\n",
            "Epoch 25/30\n",
            "60000/60000 [==============================] - 5s 90us/step - loss: 0.0567 - acc: 0.9819 - val_loss: 0.0608 - val_acc: 0.9832\n",
            "Epoch 26/30\n",
            "60000/60000 [==============================] - 5s 90us/step - loss: 0.0529 - acc: 0.9834 - val_loss: 0.0544 - val_acc: 0.9856\n",
            "Epoch 27/30\n",
            "60000/60000 [==============================] - 5s 89us/step - loss: 0.0540 - acc: 0.9829 - val_loss: 0.0586 - val_acc: 0.9844\n",
            "Epoch 28/30\n",
            "60000/60000 [==============================] - 5s 88us/step - loss: 0.0505 - acc: 0.9836 - val_loss: 0.0609 - val_acc: 0.9838\n",
            "Epoch 29/30\n",
            "60000/60000 [==============================] - 6s 92us/step - loss: 0.0521 - acc: 0.9831 - val_loss: 0.0608 - val_acc: 0.9833\n",
            "Epoch 30/30\n",
            "60000/60000 [==============================] - 6s 92us/step - loss: 0.0482 - acc: 0.9848 - val_loss: 0.0579 - val_acc: 0.9844\n"
          ],
          "name": "stdout"
        }
      ]
    },
    {
      "cell_type": "code",
      "metadata": {
        "id": "cjabib00J2vT",
        "colab_type": "code",
        "colab": {
          "base_uri": "https://localhost:8080/",
          "height": 318
        },
        "outputId": "c03e929a-ca49-478d-a5d4-4aa9fe41dbc4"
      },
      "source": [
        "%matplotlib notebook\n",
        "%matplotlib inline\n",
        "import matplotlib.pyplot as plt\n",
        "\n",
        "score = model.evaluate(X_test, Y_test, verbose=0) \n",
        "print('Test score:', score[0]) \n",
        "print('Test accuracy:', score[1])\n",
        "\n",
        "fig,ax = plt.subplots(1,1)\n",
        "ax.set_xlabel('epoch') ; ax.set_ylabel('Categorical Crossentropy Loss')\n",
        "\n",
        "# list of epoch numbers\n",
        "x = list(range(1,nb_epoch+1))\n",
        "\n",
        "# print(history.history.keys())\n",
        "# dict_keys(['val_loss', 'val_acc', 'loss', 'acc'])\n",
        "# history = model_drop.fit(X_train, Y_train, batch_size=batch_size, epochs=nb_epoch, verbose=1, validation_data=(X_test, Y_test))\n",
        "\n",
        "# we will get val_loss and val_acc only when you pass the paramter validation_data\n",
        "# val_loss : validation loss\n",
        "# val_acc : validation accuracy\n",
        "\n",
        "# loss : training loss\n",
        "# acc : train accuracy\n",
        "# for each key in histrory.histrory we will have a list of length equal to number of epochs\n",
        "\n",
        "\n",
        "vy = history.history['val_loss']\n",
        "ty = history.history['loss']\n",
        "plt_dynamic(x, vy, ty, ax)"
      ],
      "execution_count": 75,
      "outputs": [
        {
          "output_type": "stream",
          "text": [
            "Test score: 0.05789125898362254\n",
            "Test accuracy: 0.9844\n"
          ],
          "name": "stdout"
        },
        {
          "output_type": "display_data",
          "data": {
            "image/png": "[encoded data removed]",
            "text/plain": [
              "<Figure size 432x288 with 1 Axes>"
            ]
          },
          "metadata": {
            "tags": []
          }
        }
      ]
    },
    {
      "cell_type": "code",
      "metadata": {
        "id": "4ufA0k5VKl1r",
        "colab_type": "code",
        "colab": {
          "base_uri": "https://localhost:8080/",
          "height": 285
        },
        "outputId": "2b1ea312-1dc3-4267-c3c8-31303069cc4f"
      },
      "source": [
        "%matplotlib notebook\n",
        "%matplotlib inline\n",
        "import matplotlib.pyplot as plt\n",
        "\n",
        "w_after = model.get_weights()\n",
        "\n",
        "h1_w = w_after[0].flatten().reshape(-1,1)\n",
        "h2_w = w_after[2].flatten().reshape(-1,1)\n",
        "out_w = w_after[4].flatten().reshape(-1,1)\n",
        "\n",
        "\n",
        "fig = plt.figure()\n",
        "plt.title(\"Weight matrices after model trained\")\n",
        "plt.subplot(1, 3, 1)\n",
        "plt.title(\"Trained model Weights\")\n",
        "ax = sns.violinplot(y=h1_w,color='b')\n",
        "plt.xlabel('Hidden Layer 1')\n",
        "\n",
        "plt.subplot(1, 3, 2)\n",
        "plt.title(\"Trained model Weights\")\n",
        "ax = sns.violinplot(y=h2_w, color='r')\n",
        "plt.xlabel('Hidden Layer 2 ')\n",
        "\n",
        "plt.subplot(1, 3, 3)\n",
        "plt.title(\"Trained model Weights\")\n",
        "ax = sns.violinplot(y=out_w,color='y')\n",
        "plt.xlabel('Output Layer ')\n",
        "plt.show()"
      ],
      "execution_count": 76,
      "outputs": [
        {
          "output_type": "display_data",
          "data": {
            "image/png": "[encoded data removed]",
            "text/plain": [
              "<Figure size 432x288 with 3 Axes>"
            ]
          },
          "metadata": {
            "tags": []
          }
        }
      ]
    },
    {
      "cell_type": "markdown",
      "metadata": {
        "colab_type": "text",
        "id": "2LK4ZuadQgQm"
      },
      "source": [
        "\n",
        "\n",
        ">**MLP + BN + Dropout + AdamOptimizer + ReLu activation**\n",
        "\n",
        "> **Architecture 2**: 784-456-128-10;   \n",
        "> droput: .5,.5 \n",
        "\n",
        "std = sqrt(2/fan-in) as it is ReLu\n",
        "\n",
        "\n"
      ]
    },
    {
      "cell_type": "code",
      "metadata": {
        "colab_type": "code",
        "outputId": "8dbf6cb6-a441-4559-b510-4e25941e984e",
        "id": "d5zChtnPQgQy",
        "colab": {
          "base_uri": "https://localhost:8080/",
          "height": 1090
        }
      },
      "source": [
        "from keras.layers.normalization import BatchNormalization\n",
        "from keras.layers import Dropout\n",
        "import warnings\n",
        "warnings.filterwarnings('ignore')\n",
        "\n",
        "model2 = Sequential()\n",
        "\n",
        "model2.add(Dense(456, activation='relu', input_shape=(input_dim,), kernel_initializer=RandomNormal(mean=0.0, stddev=0.0662, seed=None)))\n",
        "model2.add(BatchNormalization())\n",
        "model2.add(Dropout(0.5))\n",
        "\n",
        "\n",
        "model2.add(Dense(128, activation='relu', kernel_initializer=RandomNormal(mean=0.0, stddev=0.125, seed=None)) )\n",
        "model2.add(BatchNormalization())\n",
        "model2.add(Dropout(0.5))\n",
        "\n",
        "\n",
        "model2.add(Dense(output_dim, activation='softmax'))\n",
        "model2.compile(optimizer='adam', loss='categorical_crossentropy', metrics=['accuracy'])\n",
        "\n",
        "history2 = model2.fit(X_train, Y_train, batch_size=batch_size, epochs=nb_epoch, verbose=1, validation_data=(X_test, Y_test))"
      ],
      "execution_count": 77,
      "outputs": [
        {
          "output_type": "stream",
          "text": [
            "Train on 60000 samples, validate on 10000 samples\n",
            "Epoch 1/30\n",
            "60000/60000 [==============================] - 10s 165us/step - loss: 0.5033 - acc: 0.8461 - val_loss: 0.1629 - val_acc: 0.9510\n",
            "Epoch 2/30\n",
            "60000/60000 [==============================] - 6s 94us/step - loss: 0.2371 - acc: 0.9293 - val_loss: 0.1171 - val_acc: 0.9648\n",
            "Epoch 3/30\n",
            "60000/60000 [==============================] - 6s 94us/step - loss: 0.1830 - acc: 0.9448 - val_loss: 0.0951 - val_acc: 0.9704\n",
            "Epoch 4/30\n",
            "60000/60000 [==============================] - 6s 97us/step - loss: 0.1527 - acc: 0.9544 - val_loss: 0.0912 - val_acc: 0.9707\n",
            "Epoch 5/30\n",
            "60000/60000 [==============================] - 6s 94us/step - loss: 0.1358 - acc: 0.9595 - val_loss: 0.0830 - val_acc: 0.9747\n",
            "Epoch 6/30\n",
            "60000/60000 [==============================] - 6s 95us/step - loss: 0.1195 - acc: 0.9641 - val_loss: 0.0758 - val_acc: 0.9767\n",
            "Epoch 7/30\n",
            "60000/60000 [==============================] - 6s 96us/step - loss: 0.1078 - acc: 0.9671 - val_loss: 0.0742 - val_acc: 0.9776\n",
            "Epoch 8/30\n",
            "60000/60000 [==============================] - 6s 94us/step - loss: 0.1015 - acc: 0.9685 - val_loss: 0.0642 - val_acc: 0.9805\n",
            "Epoch 9/30\n",
            "60000/60000 [==============================] - 6s 94us/step - loss: 0.0918 - acc: 0.9712 - val_loss: 0.0647 - val_acc: 0.9802\n",
            "Epoch 10/30\n",
            "60000/60000 [==============================] - 6s 94us/step - loss: 0.0878 - acc: 0.9731 - val_loss: 0.0699 - val_acc: 0.9786\n",
            "Epoch 11/30\n",
            "60000/60000 [==============================] - 6s 93us/step - loss: 0.0861 - acc: 0.9733 - val_loss: 0.0658 - val_acc: 0.9804\n",
            "Epoch 12/30\n",
            "60000/60000 [==============================] - 6s 93us/step - loss: 0.0768 - acc: 0.9761 - val_loss: 0.0627 - val_acc: 0.9801\n",
            "Epoch 13/30\n",
            "60000/60000 [==============================] - 6s 94us/step - loss: 0.0740 - acc: 0.9770 - val_loss: 0.0617 - val_acc: 0.9808\n",
            "Epoch 14/30\n",
            "60000/60000 [==============================] - 6s 97us/step - loss: 0.0736 - acc: 0.9771 - val_loss: 0.0608 - val_acc: 0.9831\n",
            "Epoch 15/30\n",
            "60000/60000 [==============================] - 6s 96us/step - loss: 0.0678 - acc: 0.9790 - val_loss: 0.0605 - val_acc: 0.9825\n",
            "Epoch 16/30\n",
            "60000/60000 [==============================] - 6s 95us/step - loss: 0.0644 - acc: 0.9796 - val_loss: 0.0558 - val_acc: 0.9828\n",
            "Epoch 17/30\n",
            "60000/60000 [==============================] - 6s 94us/step - loss: 0.0650 - acc: 0.9795 - val_loss: 0.0592 - val_acc: 0.9813\n",
            "Epoch 18/30\n",
            "60000/60000 [==============================] - 6s 95us/step - loss: 0.0606 - acc: 0.9805 - val_loss: 0.0527 - val_acc: 0.9848\n",
            "Epoch 19/30\n",
            "60000/60000 [==============================] - 6s 93us/step - loss: 0.0605 - acc: 0.9808 - val_loss: 0.0548 - val_acc: 0.9827\n",
            "Epoch 20/30\n",
            "60000/60000 [==============================] - 6s 93us/step - loss: 0.0559 - acc: 0.9816 - val_loss: 0.0552 - val_acc: 0.9832\n",
            "Epoch 21/30\n",
            "60000/60000 [==============================] - 6s 94us/step - loss: 0.0548 - acc: 0.9820 - val_loss: 0.0546 - val_acc: 0.9836\n",
            "Epoch 22/30\n",
            "60000/60000 [==============================] - 6s 92us/step - loss: 0.0533 - acc: 0.9827 - val_loss: 0.0569 - val_acc: 0.9835\n",
            "Epoch 23/30\n",
            "60000/60000 [==============================] - 6s 96us/step - loss: 0.0511 - acc: 0.9837 - val_loss: 0.0567 - val_acc: 0.9836\n",
            "Epoch 24/30\n",
            "60000/60000 [==============================] - 6s 95us/step - loss: 0.0519 - acc: 0.9836 - val_loss: 0.0573 - val_acc: 0.9827\n",
            "Epoch 25/30\n",
            "60000/60000 [==============================] - 6s 94us/step - loss: 0.0493 - acc: 0.9844 - val_loss: 0.0515 - val_acc: 0.9842\n",
            "Epoch 26/30\n",
            "60000/60000 [==============================] - 6s 92us/step - loss: 0.0492 - acc: 0.9842 - val_loss: 0.0536 - val_acc: 0.9838\n",
            "Epoch 27/30\n",
            "60000/60000 [==============================] - 6s 95us/step - loss: 0.0459 - acc: 0.9851 - val_loss: 0.0519 - val_acc: 0.9845\n",
            "Epoch 28/30\n",
            "60000/60000 [==============================] - 6s 95us/step - loss: 0.0449 - acc: 0.9852 - val_loss: 0.0552 - val_acc: 0.9847\n",
            "Epoch 29/30\n",
            "60000/60000 [==============================] - 6s 98us/step - loss: 0.0430 - acc: 0.9861 - val_loss: 0.0567 - val_acc: 0.9840\n",
            "Epoch 30/30\n",
            "60000/60000 [==============================] - 6s 94us/step - loss: 0.0393 - acc: 0.9866 - val_loss: 0.0567 - val_acc: 0.9840\n"
          ],
          "name": "stdout"
        }
      ]
    },
    {
      "cell_type": "code",
      "metadata": {
        "colab_type": "code",
        "outputId": "1f2c9336-c0fa-4c18-da38-bc0702cb57b0",
        "id": "TtJV9DmaQgQ9",
        "colab": {
          "base_uri": "https://localhost:8080/",
          "height": 318
        }
      },
      "source": [
        "%matplotlib notebook\n",
        "%matplotlib inline\n",
        "import matplotlib.pyplot as plt\n",
        "import warnings\n",
        "warnings.filterwarnings('ignore')\n",
        "\n",
        "score2 = model2.evaluate(X_test, Y_test, verbose=0) \n",
        "print('Test score:', score2[0]) \n",
        "print('Test accuracy:', score2[1])\n",
        "\n",
        "fig2,ax2 = plt.subplots(1,1)\n",
        "ax2.set_xlabel('epoch') ; ax2.set_ylabel('Categorical Crossentropy Loss')\n",
        "\n",
        "# list of epoch numbers\n",
        "x2 = list(range(1,nb_epoch+1))\n",
        "\n",
        "# print(history.history.keys())\n",
        "# dict_keys(['val_loss', 'val_acc', 'loss', 'acc'])\n",
        "# history = model_drop.fit(X_train, Y_train, batch_size=batch_size, epochs=nb_epoch, verbose=1, validation_data=(X_test, Y_test))\n",
        "\n",
        "# we will get val_loss and val_acc only when you pass the paramter validation_data\n",
        "# val_loss : validation loss\n",
        "# val_acc : validation accuracy\n",
        "\n",
        "# loss : training loss\n",
        "# acc : train accuracy\n",
        "# for each key in histrory.histrory we will have a list of length equal to number of epochs\n",
        "\n",
        "\n",
        "vy2 = history2.history['val_loss']\n",
        "ty2 = history2.history['loss']\n",
        "plt_dynamic(x2, vy2, ty2, ax2)"
      ],
      "execution_count": 78,
      "outputs": [
        {
          "output_type": "stream",
          "text": [
            "Test score: 0.056721248715037656\n",
            "Test accuracy: 0.984\n"
          ],
          "name": "stdout"
        },
        {
          "output_type": "display_data",
          "data": {
            "image/png": "[encoded data removed]",
            "text/plain": [
              "<Figure size 432x288 with 1 Axes>"
            ]
          },
          "metadata": {
            "tags": []
          }
        }
      ]
    },
    {
      "cell_type": "code",
      "metadata": {
        "colab_type": "code",
        "outputId": "9e0a3ff0-e649-4b7e-e037-739d18c949dc",
        "id": "cm42MQo2QgRF",
        "colab": {
          "base_uri": "https://localhost:8080/",
          "height": 285
        }
      },
      "source": [
        "%matplotlib notebook\n",
        "%matplotlib inline\n",
        "import matplotlib.pyplot as plt\n",
        "import warnings\n",
        "warnings.filterwarnings('ignore')\n",
        "\n",
        "w_after2 = model2.get_weights()\n",
        "\n",
        "h1_w = w_after2[0].flatten().reshape(-1,1)\n",
        "h2_w = w_after2[2].flatten().reshape(-1,1)\n",
        "out_w = w_after2[4].flatten().reshape(-1,1)\n",
        "\n",
        "\n",
        "fig = plt.figure()\n",
        "plt.title(\"Weight matrices after model trained\")\n",
        "plt.subplot(1, 3, 1)\n",
        "plt.title(\"Trained model Weights\")\n",
        "ax = sns.violinplot(y=h1_w,color='b')\n",
        "plt.xlabel('Hidden Layer 1')\n",
        "\n",
        "plt.subplot(1, 3, 2)\n",
        "plt.title(\"Trained model Weights\")\n",
        "ax = sns.violinplot(y=h2_w, color='r')\n",
        "plt.xlabel('Hidden Layer 2 ')\n",
        "\n",
        "plt.subplot(1, 3, 3)\n",
        "plt.title(\"Trained model Weights\")\n",
        "ax = sns.violinplot(y=out_w,color='y')\n",
        "plt.xlabel('Output Layer ')\n",
        "plt.show()"
      ],
      "execution_count": 79,
      "outputs": [
        {
          "output_type": "display_data",
          "data": {
            "image/png": "[encoded data removed]",
            "text/plain": [
              "<Figure size 432x288 with 3 Axes>"
            ]
          },
          "metadata": {
            "tags": []
          }
        }
      ]
    },
    {
      "cell_type": "code",
      "metadata": {
        "id": "cOrg07VMQeuZ",
        "colab_type": "code",
        "colab": {}
      },
      "source": [
        ""
      ],
      "execution_count": 0,
      "outputs": []
    },
    {
      "cell_type": "markdown",
      "metadata": {
        "colab_type": "text",
        "id": "3mgxqQ1aSm7E"
      },
      "source": [
        "\n",
        "\n",
        ">**MLP + BN + Dropout + AdamOptimizer + ReLu activation**\n",
        "\n",
        "> **Architecture 3**: 784-256-128-10;   \n",
        "> droput: .5,.5 \n",
        "\n",
        "std = sqrt(2/fan-in) as it is ReLu\n",
        "\n",
        "\n"
      ]
    },
    {
      "cell_type": "code",
      "metadata": {
        "colab_type": "code",
        "outputId": "db06f6e1-fb68-493a-d19b-40c4252042a0",
        "id": "Dpf3uCpUSm7O",
        "colab": {
          "base_uri": "https://localhost:8080/",
          "height": 1090
        }
      },
      "source": [
        "from keras.layers.normalization import BatchNormalization\n",
        "from keras.layers import Dropout\n",
        "import warnings\n",
        "warnings.filterwarnings('ignore')\n",
        "\n",
        "model3 = Sequential()\n",
        "\n",
        "model3.add(Dense(256, activation='relu', input_shape=(input_dim,), kernel_initializer=RandomNormal(mean=0.0, stddev=0.08838, seed=None)))\n",
        "model3.add(BatchNormalization())\n",
        "model3.add(Dropout(0.5))\n",
        "\n",
        "\n",
        "model3.add(Dense(128, activation='relu', kernel_initializer=RandomNormal(mean=0.0, stddev=0.125, seed=None)) )\n",
        "model3.add(BatchNormalization())\n",
        "model3.add(Dropout(0.5))\n",
        "\n",
        "\n",
        "model3.add(Dense(output_dim, activation='softmax'))\n",
        "model3.compile(optimizer='adam', loss='categorical_crossentropy', metrics=['accuracy'])\n",
        "\n",
        "history3 = model3.fit(X_train, Y_train, batch_size=batch_size, epochs=nb_epoch, verbose=1, validation_data=(X_test, Y_test))"
      ],
      "execution_count": 80,
      "outputs": [
        {
          "output_type": "stream",
          "text": [
            "Train on 60000 samples, validate on 10000 samples\n",
            "Epoch 1/30\n",
            "60000/60000 [==============================] - 10s 166us/step - loss: 0.6093 - acc: 0.8126 - val_loss: 0.1969 - val_acc: 0.9397\n",
            "Epoch 2/30\n",
            "60000/60000 [==============================] - 5s 89us/step - loss: 0.2919 - acc: 0.9111 - val_loss: 0.1356 - val_acc: 0.9576\n",
            "Epoch 3/30\n",
            "60000/60000 [==============================] - 5s 90us/step - loss: 0.2280 - acc: 0.9318 - val_loss: 0.1173 - val_acc: 0.9622\n",
            "Epoch 4/30\n",
            "60000/60000 [==============================] - 5s 86us/step - loss: 0.1943 - acc: 0.9419 - val_loss: 0.1041 - val_acc: 0.9664\n",
            "Epoch 5/30\n",
            "60000/60000 [==============================] - 5s 89us/step - loss: 0.1661 - acc: 0.9494 - val_loss: 0.0948 - val_acc: 0.9715\n",
            "Epoch 6/30\n",
            "60000/60000 [==============================] - 5s 89us/step - loss: 0.1532 - acc: 0.9544 - val_loss: 0.0864 - val_acc: 0.9729\n",
            "Epoch 7/30\n",
            "60000/60000 [==============================] - 5s 88us/step - loss: 0.1386 - acc: 0.9584 - val_loss: 0.0800 - val_acc: 0.9747\n",
            "Epoch 8/30\n",
            "60000/60000 [==============================] - 5s 89us/step - loss: 0.1285 - acc: 0.9609 - val_loss: 0.0786 - val_acc: 0.9746\n",
            "Epoch 9/30\n",
            "60000/60000 [==============================] - 5s 87us/step - loss: 0.1190 - acc: 0.9631 - val_loss: 0.0748 - val_acc: 0.9763\n",
            "Epoch 10/30\n",
            "60000/60000 [==============================] - 5s 88us/step - loss: 0.1156 - acc: 0.9636 - val_loss: 0.0717 - val_acc: 0.9780\n",
            "Epoch 11/30\n",
            "60000/60000 [==============================] - 5s 88us/step - loss: 0.1078 - acc: 0.9672 - val_loss: 0.0703 - val_acc: 0.9784\n",
            "Epoch 12/30\n",
            "60000/60000 [==============================] - 5s 88us/step - loss: 0.0999 - acc: 0.9688 - val_loss: 0.0720 - val_acc: 0.9786\n",
            "Epoch 13/30\n",
            "60000/60000 [==============================] - 5s 88us/step - loss: 0.0949 - acc: 0.9705 - val_loss: 0.0707 - val_acc: 0.9771\n",
            "Epoch 14/30\n",
            "60000/60000 [==============================] - 5s 87us/step - loss: 0.0927 - acc: 0.9714 - val_loss: 0.0684 - val_acc: 0.9798\n",
            "Epoch 15/30\n",
            "60000/60000 [==============================] - 5s 88us/step - loss: 0.0906 - acc: 0.9721 - val_loss: 0.0679 - val_acc: 0.9784\n",
            "Epoch 16/30\n",
            "60000/60000 [==============================] - 5s 89us/step - loss: 0.0868 - acc: 0.9730 - val_loss: 0.0660 - val_acc: 0.9801\n",
            "Epoch 17/30\n",
            "60000/60000 [==============================] - 5s 90us/step - loss: 0.0830 - acc: 0.9739 - val_loss: 0.0653 - val_acc: 0.9801\n",
            "Epoch 18/30\n",
            "60000/60000 [==============================] - 5s 87us/step - loss: 0.0791 - acc: 0.9754 - val_loss: 0.0673 - val_acc: 0.9803\n",
            "Epoch 19/30\n",
            "60000/60000 [==============================] - 5s 89us/step - loss: 0.0768 - acc: 0.9752 - val_loss: 0.0659 - val_acc: 0.9804\n",
            "Epoch 20/30\n",
            "60000/60000 [==============================] - 5s 88us/step - loss: 0.0761 - acc: 0.9763 - val_loss: 0.0628 - val_acc: 0.9809\n",
            "Epoch 21/30\n",
            "60000/60000 [==============================] - 5s 89us/step - loss: 0.0716 - acc: 0.9771 - val_loss: 0.0663 - val_acc: 0.9803\n",
            "Epoch 22/30\n",
            "60000/60000 [==============================] - 5s 86us/step - loss: 0.0721 - acc: 0.9772 - val_loss: 0.0617 - val_acc: 0.9808\n",
            "Epoch 23/30\n",
            "60000/60000 [==============================] - 5s 87us/step - loss: 0.0696 - acc: 0.9778 - val_loss: 0.0680 - val_acc: 0.9801\n",
            "Epoch 24/30\n",
            "60000/60000 [==============================] - 5s 87us/step - loss: 0.0663 - acc: 0.9793 - val_loss: 0.0662 - val_acc: 0.9799\n",
            "Epoch 25/30\n",
            "60000/60000 [==============================] - 5s 89us/step - loss: 0.0662 - acc: 0.9791 - val_loss: 0.0646 - val_acc: 0.9815\n",
            "Epoch 26/30\n",
            "60000/60000 [==============================] - 5s 88us/step - loss: 0.0630 - acc: 0.9798 - val_loss: 0.0625 - val_acc: 0.9809\n",
            "Epoch 27/30\n",
            "60000/60000 [==============================] - 5s 88us/step - loss: 0.0594 - acc: 0.9807 - val_loss: 0.0639 - val_acc: 0.9812\n",
            "Epoch 28/30\n",
            "60000/60000 [==============================] - 5s 88us/step - loss: 0.0605 - acc: 0.9800 - val_loss: 0.0609 - val_acc: 0.9828\n",
            "Epoch 29/30\n",
            "60000/60000 [==============================] - 5s 90us/step - loss: 0.0582 - acc: 0.9817 - val_loss: 0.0608 - val_acc: 0.9824\n",
            "Epoch 30/30\n",
            "60000/60000 [==============================] - 5s 87us/step - loss: 0.0564 - acc: 0.9822 - val_loss: 0.0590 - val_acc: 0.9823\n"
          ],
          "name": "stdout"
        }
      ]
    },
    {
      "cell_type": "code",
      "metadata": {
        "colab_type": "code",
        "outputId": "a44043e2-5aab-46b0-be39-9a4011bb5457",
        "id": "v-H605v8Sm7Z",
        "colab": {
          "base_uri": "https://localhost:8080/",
          "height": 318
        }
      },
      "source": [
        "%matplotlib notebook\n",
        "%matplotlib inline\n",
        "import matplotlib.pyplot as plt\n",
        "import warnings\n",
        "warnings.filterwarnings('ignore')\n",
        "\n",
        "score3 = model3.evaluate(X_test, Y_test, verbose=0) \n",
        "print('Test score:', score3[0]) \n",
        "print('Test accuracy:', score3[1])\n",
        "\n",
        "fig3,ax3 = plt.subplots(1,1)\n",
        "ax3.set_xlabel('epoch') ; ax3.set_ylabel('Categorical Crossentropy Loss')\n",
        "\n",
        "# list of epoch numbers\n",
        "x3 = list(range(1,nb_epoch+1))\n",
        "\n",
        "# print(history.history.keys())\n",
        "# dict_keys(['val_loss', 'val_acc', 'loss', 'acc'])\n",
        "# history = model_drop.fit(X_train, Y_train, batch_size=batch_size, epochs=nb_epoch, verbose=1, validation_data=(X_test, Y_test))\n",
        "\n",
        "# we will get val_loss and val_acc only when you pass the paramter validation_data\n",
        "# val_loss : validation loss\n",
        "# val_acc : validation accuracy\n",
        "\n",
        "# loss : training loss\n",
        "# acc : train accuracy\n",
        "# for each key in histrory.histrory we will have a list of length equal to number of epochs\n",
        "\n",
        "\n",
        "vy3 = history3.history['val_loss']\n",
        "ty3 = history3.history['loss']\n",
        "plt_dynamic(x3, vy3, ty3, ax3)"
      ],
      "execution_count": 81,
      "outputs": [
        {
          "output_type": "stream",
          "text": [
            "Test score: 0.05895621230599354\n",
            "Test accuracy: 0.9823\n"
          ],
          "name": "stdout"
        },
        {
          "output_type": "display_data",
          "data": {
            "image/png": "[encoded data removed]",
            "text/plain": [
              "<Figure size 432x288 with 1 Axes>"
            ]
          },
          "metadata": {
            "tags": []
          }
        }
      ]
    },
    {
      "cell_type": "markdown",
      "metadata": {
        "colab_type": "text",
        "id": "igXSV1iqTRUW"
      },
      "source": [
        "\n",
        "\n",
        ">**MLP + BN + Dropout + AdamOptimizer + ReLu activation**\n",
        "\n",
        "> **Architecture 4**: 784-256-96-10;   \n",
        "> droput: .5,.5 \n",
        "\n",
        "std = sqrt(2/fan-in) as it is ReLu\n",
        "\n",
        "\n"
      ]
    },
    {
      "cell_type": "code",
      "metadata": {
        "colab_type": "code",
        "outputId": "8c5740d8-98e6-45b0-9e7c-417878149b3b",
        "id": "EimP_MpzTRUj",
        "colab": {
          "base_uri": "https://localhost:8080/",
          "height": 1090
        }
      },
      "source": [
        "from keras.layers.normalization import BatchNormalization\n",
        "from keras.layers import Dropout\n",
        "import warnings\n",
        "warnings.filterwarnings('ignore')\n",
        "\n",
        "model4 = Sequential()\n",
        "\n",
        "model4.add(Dense(256, activation='relu', input_shape=(input_dim,), kernel_initializer=RandomNormal(mean=0.0, stddev=0.08838, seed=None)))\n",
        "model4.add(BatchNormalization())\n",
        "model4.add(Dropout(0.5))\n",
        "\n",
        "\n",
        "model4.add(Dense(96, activation='relu', kernel_initializer=RandomNormal(mean=0.0, stddev=0.14433, seed=None)) )\n",
        "model4.add(BatchNormalization())\n",
        "model4.add(Dropout(0.5))\n",
        "\n",
        "\n",
        "model4.add(Dense(output_dim, activation='softmax'))\n",
        "model4.compile(optimizer='adam', loss='categorical_crossentropy', metrics=['accuracy'])\n",
        "\n",
        "history4 = model4.fit(X_train, Y_train, batch_size=batch_size, epochs=nb_epoch, verbose=1, validation_data=(X_test, Y_test))"
      ],
      "execution_count": 82,
      "outputs": [
        {
          "output_type": "stream",
          "text": [
            "Train on 60000 samples, validate on 10000 samples\n",
            "Epoch 1/30\n",
            "60000/60000 [==============================] - 10s 168us/step - loss: 0.6637 - acc: 0.7956 - val_loss: 0.2063 - val_acc: 0.9372\n",
            "Epoch 2/30\n",
            "60000/60000 [==============================] - 5s 91us/step - loss: 0.3106 - acc: 0.9086 - val_loss: 0.1522 - val_acc: 0.9539\n",
            "Epoch 3/30\n",
            "60000/60000 [==============================] - 5s 87us/step - loss: 0.2386 - acc: 0.9287 - val_loss: 0.1238 - val_acc: 0.9611\n",
            "Epoch 4/30\n",
            "60000/60000 [==============================] - 5s 88us/step - loss: 0.2054 - acc: 0.9400 - val_loss: 0.1036 - val_acc: 0.9677\n",
            "Epoch 5/30\n",
            "60000/60000 [==============================] - 5s 91us/step - loss: 0.1773 - acc: 0.9465 - val_loss: 0.0939 - val_acc: 0.9713\n",
            "Epoch 6/30\n",
            "60000/60000 [==============================] - 5s 91us/step - loss: 0.1587 - acc: 0.9527 - val_loss: 0.0886 - val_acc: 0.9731\n",
            "Epoch 7/30\n",
            "60000/60000 [==============================] - 5s 90us/step - loss: 0.1454 - acc: 0.9564 - val_loss: 0.0880 - val_acc: 0.9734\n",
            "Epoch 8/30\n",
            "60000/60000 [==============================] - 5s 90us/step - loss: 0.1385 - acc: 0.9582 - val_loss: 0.0822 - val_acc: 0.9742\n",
            "Epoch 9/30\n",
            "60000/60000 [==============================] - 5s 88us/step - loss: 0.1274 - acc: 0.9609 - val_loss: 0.0771 - val_acc: 0.9765\n",
            "Epoch 10/30\n",
            "60000/60000 [==============================] - 5s 89us/step - loss: 0.1181 - acc: 0.9645 - val_loss: 0.0746 - val_acc: 0.9762\n",
            "Epoch 11/30\n",
            "60000/60000 [==============================] - 5s 89us/step - loss: 0.1108 - acc: 0.9659 - val_loss: 0.0732 - val_acc: 0.9792\n",
            "Epoch 12/30\n",
            "60000/60000 [==============================] - 5s 89us/step - loss: 0.1060 - acc: 0.9675 - val_loss: 0.0750 - val_acc: 0.9763\n",
            "Epoch 13/30\n",
            "60000/60000 [==============================] - 5s 90us/step - loss: 0.1036 - acc: 0.9689 - val_loss: 0.0699 - val_acc: 0.9792\n",
            "Epoch 14/30\n",
            "60000/60000 [==============================] - 5s 89us/step - loss: 0.0976 - acc: 0.9702 - val_loss: 0.0691 - val_acc: 0.9793\n",
            "Epoch 15/30\n",
            "60000/60000 [==============================] - 5s 90us/step - loss: 0.0956 - acc: 0.9709 - val_loss: 0.0699 - val_acc: 0.9788\n",
            "Epoch 16/30\n",
            "60000/60000 [==============================] - 5s 89us/step - loss: 0.0915 - acc: 0.9719 - val_loss: 0.0646 - val_acc: 0.9803\n",
            "Epoch 17/30\n",
            "60000/60000 [==============================] - 6s 93us/step - loss: 0.0862 - acc: 0.9743 - val_loss: 0.0608 - val_acc: 0.9810\n",
            "Epoch 18/30\n",
            "60000/60000 [==============================] - 5s 89us/step - loss: 0.0829 - acc: 0.9741 - val_loss: 0.0650 - val_acc: 0.9808\n",
            "Epoch 19/30\n",
            "60000/60000 [==============================] - 5s 89us/step - loss: 0.0803 - acc: 0.9757 - val_loss: 0.0644 - val_acc: 0.9808\n",
            "Epoch 20/30\n",
            "60000/60000 [==============================] - 5s 92us/step - loss: 0.0772 - acc: 0.9760 - val_loss: 0.0651 - val_acc: 0.9807\n",
            "Epoch 21/30\n",
            "60000/60000 [==============================] - 5s 88us/step - loss: 0.0763 - acc: 0.9760 - val_loss: 0.0657 - val_acc: 0.9809\n",
            "Epoch 22/30\n",
            "60000/60000 [==============================] - 5s 91us/step - loss: 0.0753 - acc: 0.9759 - val_loss: 0.0612 - val_acc: 0.9810\n",
            "Epoch 23/30\n",
            "60000/60000 [==============================] - 6s 93us/step - loss: 0.0710 - acc: 0.9781 - val_loss: 0.0639 - val_acc: 0.9800\n",
            "Epoch 24/30\n",
            "60000/60000 [==============================] - 5s 90us/step - loss: 0.0710 - acc: 0.9774 - val_loss: 0.0647 - val_acc: 0.9820\n",
            "Epoch 25/30\n",
            "60000/60000 [==============================] - 5s 87us/step - loss: 0.0730 - acc: 0.9779 - val_loss: 0.0637 - val_acc: 0.9814\n",
            "Epoch 26/30\n",
            "60000/60000 [==============================] - 5s 89us/step - loss: 0.0659 - acc: 0.9793 - val_loss: 0.0639 - val_acc: 0.9819\n",
            "Epoch 27/30\n",
            "60000/60000 [==============================] - 5s 90us/step - loss: 0.0634 - acc: 0.9791 - val_loss: 0.0609 - val_acc: 0.9818\n",
            "Epoch 28/30\n",
            "60000/60000 [==============================] - 5s 88us/step - loss: 0.0674 - acc: 0.9788 - val_loss: 0.0636 - val_acc: 0.9807\n",
            "Epoch 29/30\n",
            "60000/60000 [==============================] - 5s 87us/step - loss: 0.0611 - acc: 0.9808 - val_loss: 0.0599 - val_acc: 0.9828\n",
            "Epoch 30/30\n",
            "60000/60000 [==============================] - 5s 90us/step - loss: 0.0598 - acc: 0.9814 - val_loss: 0.0623 - val_acc: 0.9832\n"
          ],
          "name": "stdout"
        }
      ]
    },
    {
      "cell_type": "code",
      "metadata": {
        "colab_type": "code",
        "outputId": "28c5bd79-de7e-4802-f2e1-fbac3c312848",
        "id": "t1bCPWPZTRU1",
        "colab": {
          "base_uri": "https://localhost:8080/",
          "height": 318
        }
      },
      "source": [
        "%matplotlib notebook\n",
        "%matplotlib inline\n",
        "import matplotlib.pyplot as plt\n",
        "import warnings\n",
        "warnings.filterwarnings('ignore')\n",
        "\n",
        "score4 = model4.evaluate(X_test, Y_test, verbose=0) \n",
        "print('Test score:', score4[0]) \n",
        "print('Test accuracy:', score4[1])\n",
        "\n",
        "fig4,ax4 = plt.subplots(1,1)\n",
        "ax4.set_xlabel('epoch') ; ax4.set_ylabel('Categorical Crossentropy Loss')\n",
        "\n",
        "# list of epoch numbers\n",
        "x4 = list(range(1,nb_epoch+1))\n",
        "\n",
        "# print(history.history.keys())\n",
        "# dict_keys(['val_loss', 'val_acc', 'loss', 'acc'])\n",
        "# history = model_drop.fit(X_train, Y_train, batch_size=batch_size, epochs=nb_epoch, verbose=1, validation_data=(X_test, Y_test))\n",
        "\n",
        "# we will get val_loss and val_acc only when you pass the paramter validation_data\n",
        "# val_loss : validation loss\n",
        "# val_acc : validation accuracy\n",
        "\n",
        "# loss : training loss\n",
        "# acc : train accuracy\n",
        "# for each key in histrory.histrory we will have a list of length equal to number of epochs\n",
        "\n",
        "\n",
        "vy4 = history4.history['val_loss']\n",
        "ty4 = history4.history['loss']\n",
        "plt_dynamic(x4, vy4, ty4, ax4)"
      ],
      "execution_count": 83,
      "outputs": [
        {
          "output_type": "stream",
          "text": [
            "Test score: 0.06231452802268032\n",
            "Test accuracy: 0.9832\n"
          ],
          "name": "stdout"
        },
        {
          "output_type": "display_data",
          "data": {
            "image/png": "[encoded data removed]",
            "text/plain": [
              "<Figure size 432x288 with 1 Axes>"
            ]
          },
          "metadata": {
            "tags": []
          }
        }
      ]
    },
    {
      "cell_type": "markdown",
      "metadata": {
        "colab_type": "text",
        "id": "ObKhT8iiUeyN"
      },
      "source": [
        "\n",
        "\n",
        ">**MLP + BN + Dropout + AdamOptimizer + ReLu activation**\n",
        "\n",
        ">**Part 2 : Here we use 3 Hidden Layers**\n",
        "\n",
        "> **Architecture 5**: 784-512-392-128-10;   \n",
        "> droput: .5,.5 \n",
        "\n",
        "std = sqrt(2/fan-in) as it is ReLu\n",
        "\n",
        "\n"
      ]
    },
    {
      "cell_type": "code",
      "metadata": {
        "colab_type": "code",
        "outputId": "4690e932-7a1b-46f0-efcf-b93c9f48e766",
        "id": "IXbCkffNUeyb",
        "colab": {
          "base_uri": "https://localhost:8080/",
          "height": 1583
        }
      },
      "source": [
        "from keras.layers.normalization import BatchNormalization\n",
        "from keras.layers import Dropout\n",
        "import warnings\n",
        "warnings.filterwarnings('ignore')\n",
        "\n",
        "model5 = Sequential()\n",
        "\n",
        "model5.add(Dense(512, activation='relu', input_shape=(input_dim,), kernel_initializer=RandomNormal(mean=0.0, stddev=0.0625, seed=None)))\n",
        "model5.add(BatchNormalization())\n",
        "model5.add(Dropout(0.5))\n",
        "\n",
        "\n",
        "model5.add(Dense(392, activation='relu', kernel_initializer=RandomNormal(mean=0.0, stddev=0.07142, seed=None)) )\n",
        "model5.add(BatchNormalization())\n",
        "model5.add(Dropout(0.5))\n",
        "\n",
        "model5.add(Dense(128, activation='relu', kernel_initializer=RandomNormal(mean=0.0, stddev=0.125, seed=None)) )\n",
        "model5.add(BatchNormalization())\n",
        "model5.add(Dropout(0.5))\n",
        "\n",
        "\n",
        "model5.add(Dense(output_dim, activation='softmax'))\n",
        "model5.compile(optimizer='adam', loss='categorical_crossentropy', metrics=['accuracy'])\n",
        "\n",
        "model5.summary()\n",
        "\n",
        "\n",
        "history5 = model5.fit(X_train, Y_train, batch_size=batch_size, epochs=nb_epoch, verbose=1, validation_data=(X_test, Y_test))"
      ],
      "execution_count": 84,
      "outputs": [
        {
          "output_type": "stream",
          "text": [
            "Model: \"sequential_18\"\n",
            "_________________________________________________________________\n",
            "Layer (type)                 Output Shape              Param #   \n",
            "=================================================================\n",
            "dense_56 (Dense)             (None, 512)               401920    \n",
            "_________________________________________________________________\n",
            "batch_normalization_39 (Batc (None, 512)               2048      \n",
            "_________________________________________________________________\n",
            "dropout_39 (Dropout)         (None, 512)               0         \n",
            "_________________________________________________________________\n",
            "dense_57 (Dense)             (None, 392)               201096    \n",
            "_________________________________________________________________\n",
            "batch_normalization_40 (Batc (None, 392)               1568      \n",
            "_________________________________________________________________\n",
            "dropout_40 (Dropout)         (None, 392)               0         \n",
            "_________________________________________________________________\n",
            "dense_58 (Dense)             (None, 128)               50304     \n",
            "_________________________________________________________________\n",
            "batch_normalization_41 (Batc (None, 128)               512       \n",
            "_________________________________________________________________\n",
            "dropout_41 (Dropout)         (None, 128)               0         \n",
            "_________________________________________________________________\n",
            "dense_59 (Dense)             (None, 10)                1290      \n",
            "=================================================================\n",
            "Total params: 658,738\n",
            "Trainable params: 656,674\n",
            "Non-trainable params: 2,064\n",
            "_________________________________________________________________\n",
            "Train on 60000 samples, validate on 10000 samples\n",
            "Epoch 1/30\n",
            "60000/60000 [==============================] - 13s 212us/step - loss: 0.5931 - acc: 0.8184 - val_loss: 0.1697 - val_acc: 0.9459\n",
            "Epoch 2/30\n",
            "60000/60000 [==============================] - 7s 123us/step - loss: 0.2522 - acc: 0.9248 - val_loss: 0.1185 - val_acc: 0.9624\n",
            "Epoch 3/30\n",
            "60000/60000 [==============================] - 7s 121us/step - loss: 0.1926 - acc: 0.9415 - val_loss: 0.0980 - val_acc: 0.9692\n",
            "Epoch 4/30\n",
            "60000/60000 [==============================] - 7s 123us/step - loss: 0.1629 - acc: 0.9516 - val_loss: 0.0891 - val_acc: 0.9716\n",
            "Epoch 5/30\n",
            "60000/60000 [==============================] - 7s 123us/step - loss: 0.1417 - acc: 0.9587 - val_loss: 0.0819 - val_acc: 0.9756\n",
            "Epoch 6/30\n",
            "60000/60000 [==============================] - 7s 122us/step - loss: 0.1293 - acc: 0.9608 - val_loss: 0.0784 - val_acc: 0.9774\n",
            "Epoch 7/30\n",
            "60000/60000 [==============================] - 7s 122us/step - loss: 0.1146 - acc: 0.9649 - val_loss: 0.0751 - val_acc: 0.9782\n",
            "Epoch 8/30\n",
            "60000/60000 [==============================] - 7s 122us/step - loss: 0.1092 - acc: 0.9663 - val_loss: 0.0663 - val_acc: 0.9793\n",
            "Epoch 9/30\n",
            "60000/60000 [==============================] - 7s 121us/step - loss: 0.1003 - acc: 0.9691 - val_loss: 0.0687 - val_acc: 0.9798\n",
            "Epoch 10/30\n",
            "60000/60000 [==============================] - 7s 123us/step - loss: 0.0945 - acc: 0.9713 - val_loss: 0.0672 - val_acc: 0.9799\n",
            "Epoch 11/30\n",
            "60000/60000 [==============================] - 7s 120us/step - loss: 0.0888 - acc: 0.9735 - val_loss: 0.0643 - val_acc: 0.9809\n",
            "Epoch 12/30\n",
            "60000/60000 [==============================] - 7s 120us/step - loss: 0.0827 - acc: 0.9744 - val_loss: 0.0666 - val_acc: 0.9813\n",
            "Epoch 13/30\n",
            "60000/60000 [==============================] - 7s 121us/step - loss: 0.0810 - acc: 0.9750 - val_loss: 0.0594 - val_acc: 0.9838\n",
            "Epoch 14/30\n",
            "60000/60000 [==============================] - 7s 121us/step - loss: 0.0770 - acc: 0.9763 - val_loss: 0.0598 - val_acc: 0.9814\n",
            "Epoch 15/30\n",
            "60000/60000 [==============================] - 7s 121us/step - loss: 0.0727 - acc: 0.9774 - val_loss: 0.0594 - val_acc: 0.9826\n",
            "Epoch 16/30\n",
            "60000/60000 [==============================] - 7s 122us/step - loss: 0.0682 - acc: 0.9793 - val_loss: 0.0615 - val_acc: 0.9814\n",
            "Epoch 17/30\n",
            "60000/60000 [==============================] - 7s 122us/step - loss: 0.0703 - acc: 0.9779 - val_loss: 0.0573 - val_acc: 0.9849\n",
            "Epoch 18/30\n",
            "60000/60000 [==============================] - 7s 123us/step - loss: 0.0641 - acc: 0.9803 - val_loss: 0.0569 - val_acc: 0.9841\n",
            "Epoch 19/30\n",
            "60000/60000 [==============================] - 7s 122us/step - loss: 0.0604 - acc: 0.9815 - val_loss: 0.0572 - val_acc: 0.9841\n",
            "Epoch 20/30\n",
            "60000/60000 [==============================] - 7s 123us/step - loss: 0.0624 - acc: 0.9803 - val_loss: 0.0568 - val_acc: 0.9837\n",
            "Epoch 21/30\n",
            "60000/60000 [==============================] - 7s 123us/step - loss: 0.0586 - acc: 0.9821 - val_loss: 0.0558 - val_acc: 0.9832\n",
            "Epoch 22/30\n",
            "60000/60000 [==============================] - 7s 122us/step - loss: 0.0543 - acc: 0.9833 - val_loss: 0.0554 - val_acc: 0.9852\n",
            "Epoch 23/30\n",
            "60000/60000 [==============================] - 7s 122us/step - loss: 0.0510 - acc: 0.9838 - val_loss: 0.0555 - val_acc: 0.9848\n",
            "Epoch 24/30\n",
            "60000/60000 [==============================] - 7s 123us/step - loss: 0.0549 - acc: 0.9831 - val_loss: 0.0564 - val_acc: 0.9844\n",
            "Epoch 25/30\n",
            "60000/60000 [==============================] - 7s 124us/step - loss: 0.0511 - acc: 0.9840 - val_loss: 0.0590 - val_acc: 0.9841\n",
            "Epoch 26/30\n",
            "60000/60000 [==============================] - 7s 122us/step - loss: 0.0496 - acc: 0.9845 - val_loss: 0.0561 - val_acc: 0.9857\n",
            "Epoch 27/30\n",
            "60000/60000 [==============================] - 7s 121us/step - loss: 0.0495 - acc: 0.9845 - val_loss: 0.0506 - val_acc: 0.9849\n",
            "Epoch 28/30\n",
            "60000/60000 [==============================] - 7s 121us/step - loss: 0.0498 - acc: 0.9839 - val_loss: 0.0535 - val_acc: 0.9845\n",
            "Epoch 29/30\n",
            "60000/60000 [==============================] - 7s 121us/step - loss: 0.0449 - acc: 0.9860 - val_loss: 0.0540 - val_acc: 0.9849\n",
            "Epoch 30/30\n",
            "60000/60000 [==============================] - 7s 123us/step - loss: 0.0442 - acc: 0.9857 - val_loss: 0.0579 - val_acc: 0.9846\n"
          ],
          "name": "stdout"
        }
      ]
    },
    {
      "cell_type": "code",
      "metadata": {
        "colab_type": "code",
        "outputId": "b16c2ee3-2989-4a49-b048-05b27ea31035",
        "id": "HWuCtvIhUeyq",
        "colab": {
          "base_uri": "https://localhost:8080/",
          "height": 318
        }
      },
      "source": [
        "%matplotlib notebook\n",
        "%matplotlib inline\n",
        "import matplotlib.pyplot as plt\n",
        "import warnings\n",
        "warnings.filterwarnings('ignore')\n",
        "\n",
        "score5 = model5.evaluate(X_test, Y_test, verbose=0) \n",
        "print('Test score:', score5[0]) \n",
        "print('Test accuracy:', score5[1])\n",
        "\n",
        "fig5,ax5 = plt.subplots(1,1)\n",
        "ax5.set_xlabel('epoch') ; ax5.set_ylabel('Categorical Crossentropy Loss')\n",
        "\n",
        "# list of epoch numbers\n",
        "x5 = list(range(1,nb_epoch+1))\n",
        "\n",
        "# print(history.history.keys())\n",
        "# dict_keys(['val_loss', 'val_acc', 'loss', 'acc'])\n",
        "# history = model_drop.fit(X_train, Y_train, batch_size=batch_size, epochs=nb_epoch, verbose=1, validation_data=(X_test, Y_test))\n",
        "\n",
        "# we will get val_loss and val_acc only when you pass the paramter validation_data\n",
        "# val_loss : validation loss\n",
        "# val_acc : validation accuracy\n",
        "\n",
        "# loss : training loss\n",
        "# acc : train accuracy\n",
        "# for each key in histrory.histrory we will have a list of length equal to number of epochs\n",
        "\n",
        "\n",
        "vy5 = history5.history['val_loss']\n",
        "ty5 = history5.history['loss']\n",
        "plt_dynamic(x5, vy5, ty5, ax5)"
      ],
      "execution_count": 85,
      "outputs": [
        {
          "output_type": "stream",
          "text": [
            "Test score: 0.057912785604948294\n",
            "Test accuracy: 0.9846\n"
          ],
          "name": "stdout"
        },
        {
          "output_type": "display_data",
          "data": {
            "image/png": "[encoded data removed]",
            "text/plain": [
              "<Figure size 432x288 with 1 Axes>"
            ]
          },
          "metadata": {
            "tags": []
          }
        }
      ]
    },
    {
      "cell_type": "code",
      "metadata": {
        "colab_type": "code",
        "outputId": "10cfff56-7d69-4206-b93f-b0ba37936ea9",
        "id": "_T9P9J2lUey0",
        "colab": {
          "base_uri": "https://localhost:8080/",
          "height": 273
        }
      },
      "source": [
        "%matplotlib notebook\n",
        "%matplotlib inline\n",
        "import matplotlib.pyplot as plt\n",
        "import warnings\n",
        "warnings.filterwarnings('ignore')\n",
        "\n",
        "w_after5 = model5.get_weights()\n",
        "\n",
        "h1_w = w_after5[0].flatten().reshape(-1,1)\n",
        "h2_w = w_after5[2].flatten().reshape(-1,1)\n",
        "h3_w = w_after5[4].flatten().reshape(-1,1)\n",
        "out_w = w_after5[6].flatten().reshape(-1,1)\n",
        "\n",
        "\n",
        "fig = plt.figure()\n",
        "plt.title(\"Weight matrices after model trained\")\n",
        "plt.subplot(2, 2, 1)\n",
        "ax = sns.violinplot(y=h1_w,color='b')\n",
        "plt.xlabel('Hidden Layer 1')\n",
        "\n",
        "plt.subplot(2, 2, 2)\n",
        "ax = sns.violinplot(y=h2_w, color='r')\n",
        "plt.xlabel('Hidden Layer 2 ')\n",
        "\n",
        "plt.subplot(2, 2, 3)\n",
        "ax = sns.violinplot(y=h3_w, color='g')\n",
        "plt.xlabel('Hidden Layer 3 ')\n",
        "\n",
        "plt.subplot(2, 2, 4)\n",
        "ax = sns.violinplot(y=out_w,color='y')\n",
        "plt.xlabel('Output Layer ')\n",
        "plt.show()"
      ],
      "execution_count": 86,
      "outputs": [
        {
          "output_type": "display_data",
          "data": {
            "image/png": "[encoded data removed]",
            "text/plain": [
              "<Figure size 432x288 with 4 Axes>"
            ]
          },
          "metadata": {
            "tags": []
          }
        }
      ]
    },
    {
      "cell_type": "markdown",
      "metadata": {
        "colab_type": "text",
        "id": "05mvKst3tYuA"
      },
      "source": [
        "\n",
        "\n",
        ">**MLP + BN + Dropout + AdamOptimizer + ReLu activation**\n",
        "\n",
        ">**Part 2 : Here we use 3 Hidden Layers**\n",
        "\n",
        "> **Architecture 6**: 784-600-300-100-10;   \n",
        "> droput: .5,.5 \n",
        "\n",
        "std = sqrt(2/fan-in) as it is ReLu\n",
        "\n",
        "\n"
      ]
    },
    {
      "cell_type": "code",
      "metadata": {
        "colab_type": "code",
        "outputId": "6aae7b88-13fe-45d2-ec93-19ec38e606b2",
        "id": "xpfuwgGItYuG",
        "colab": {
          "base_uri": "https://localhost:8080/",
          "height": 1583
        }
      },
      "source": [
        "from keras.layers.normalization import BatchNormalization\n",
        "from keras.layers import Dropout\n",
        "import warnings\n",
        "warnings.filterwarnings('ignore')\n",
        "\n",
        "model6 = Sequential()\n",
        "\n",
        "model6.add(Dense(600, activation='relu', input_shape=(input_dim,), kernel_initializer=RandomNormal(mean=0.0, stddev=0.0577, seed=None)))\n",
        "model6.add(BatchNormalization())\n",
        "model6.add(Dropout(0.5))\n",
        "\n",
        "\n",
        "model6.add(Dense(300, activation='relu', kernel_initializer=RandomNormal(mean=0.0, stddev=0.08164, seed=None)) )\n",
        "model6.add(BatchNormalization())\n",
        "model6.add(Dropout(0.5))\n",
        "\n",
        "model6.add(Dense(100, activation='relu', kernel_initializer=RandomNormal(mean=0.0, stddev=0.14142, seed=None)) )\n",
        "model6.add(BatchNormalization())\n",
        "model6.add(Dropout(0.5))\n",
        "\n",
        "\n",
        "model6.add(Dense(output_dim, activation='softmax'))\n",
        "model6.compile(optimizer='adam', loss='categorical_crossentropy', metrics=['accuracy'])\n",
        "\n",
        "model6.summary()\n",
        "\n",
        "\n",
        "history6 = model6.fit(X_train, Y_train, batch_size=batch_size, epochs=nb_epoch, verbose=1, validation_data=(X_test, Y_test))"
      ],
      "execution_count": 87,
      "outputs": [
        {
          "output_type": "stream",
          "text": [
            "Model: \"sequential_19\"\n",
            "_________________________________________________________________\n",
            "Layer (type)                 Output Shape              Param #   \n",
            "=================================================================\n",
            "dense_60 (Dense)             (None, 600)               471000    \n",
            "_________________________________________________________________\n",
            "batch_normalization_42 (Batc (None, 600)               2400      \n",
            "_________________________________________________________________\n",
            "dropout_42 (Dropout)         (None, 600)               0         \n",
            "_________________________________________________________________\n",
            "dense_61 (Dense)             (None, 300)               180300    \n",
            "_________________________________________________________________\n",
            "batch_normalization_43 (Batc (None, 300)               1200      \n",
            "_________________________________________________________________\n",
            "dropout_43 (Dropout)         (None, 300)               0         \n",
            "_________________________________________________________________\n",
            "dense_62 (Dense)             (None, 100)               30100     \n",
            "_________________________________________________________________\n",
            "batch_normalization_44 (Batc (None, 100)               400       \n",
            "_________________________________________________________________\n",
            "dropout_44 (Dropout)         (None, 100)               0         \n",
            "_________________________________________________________________\n",
            "dense_63 (Dense)             (None, 10)                1010      \n",
            "=================================================================\n",
            "Total params: 686,410\n",
            "Trainable params: 684,410\n",
            "Non-trainable params: 2,000\n",
            "_________________________________________________________________\n",
            "Train on 60000 samples, validate on 10000 samples\n",
            "Epoch 1/30\n",
            "60000/60000 [==============================] - 13s 221us/step - loss: 0.6130 - acc: 0.8134 - val_loss: 0.1716 - val_acc: 0.9460\n",
            "Epoch 2/30\n",
            "60000/60000 [==============================] - 8s 125us/step - loss: 0.2548 - acc: 0.9261 - val_loss: 0.1227 - val_acc: 0.9631\n",
            "Epoch 3/30\n",
            "60000/60000 [==============================] - 8s 126us/step - loss: 0.1962 - acc: 0.9427 - val_loss: 0.0974 - val_acc: 0.9703\n",
            "Epoch 4/30\n",
            "60000/60000 [==============================] - 7s 124us/step - loss: 0.1651 - acc: 0.9518 - val_loss: 0.0901 - val_acc: 0.9732\n",
            "Epoch 5/30\n",
            "60000/60000 [==============================] - 8s 131us/step - loss: 0.1409 - acc: 0.9591 - val_loss: 0.0814 - val_acc: 0.9763\n",
            "Epoch 6/30\n",
            "60000/60000 [==============================] - 8s 126us/step - loss: 0.1297 - acc: 0.9616 - val_loss: 0.0776 - val_acc: 0.9768\n",
            "Epoch 7/30\n",
            "60000/60000 [==============================] - 7s 124us/step - loss: 0.1151 - acc: 0.9661 - val_loss: 0.0734 - val_acc: 0.9796\n",
            "Epoch 8/30\n",
            "60000/60000 [==============================] - 8s 126us/step - loss: 0.1085 - acc: 0.9683 - val_loss: 0.0753 - val_acc: 0.9785\n",
            "Epoch 9/30\n",
            "60000/60000 [==============================] - 8s 125us/step - loss: 0.1015 - acc: 0.9695 - val_loss: 0.0674 - val_acc: 0.9803\n",
            "Epoch 10/30\n",
            "60000/60000 [==============================] - 8s 126us/step - loss: 0.0937 - acc: 0.9726 - val_loss: 0.0747 - val_acc: 0.9783\n",
            "Epoch 11/30\n",
            "60000/60000 [==============================] - 8s 127us/step - loss: 0.0904 - acc: 0.9732 - val_loss: 0.0705 - val_acc: 0.9796\n",
            "Epoch 12/30\n",
            "60000/60000 [==============================] - 8s 125us/step - loss: 0.0829 - acc: 0.9751 - val_loss: 0.0634 - val_acc: 0.9818\n",
            "Epoch 13/30\n",
            "60000/60000 [==============================] - 7s 125us/step - loss: 0.0788 - acc: 0.9760 - val_loss: 0.0626 - val_acc: 0.9831\n",
            "Epoch 14/30\n",
            "60000/60000 [==============================] - 8s 125us/step - loss: 0.0786 - acc: 0.9763 - val_loss: 0.0643 - val_acc: 0.9818\n",
            "Epoch 15/30\n",
            "60000/60000 [==============================] - 7s 125us/step - loss: 0.0726 - acc: 0.9785 - val_loss: 0.0608 - val_acc: 0.9821\n",
            "Epoch 16/30\n",
            "60000/60000 [==============================] - 7s 124us/step - loss: 0.0678 - acc: 0.9797 - val_loss: 0.0659 - val_acc: 0.9815\n",
            "Epoch 17/30\n",
            "60000/60000 [==============================] - 8s 125us/step - loss: 0.0680 - acc: 0.9791 - val_loss: 0.0638 - val_acc: 0.9826\n",
            "Epoch 18/30\n",
            "60000/60000 [==============================] - 8s 126us/step - loss: 0.0638 - acc: 0.9804 - val_loss: 0.0587 - val_acc: 0.9841\n",
            "Epoch 19/30\n",
            "60000/60000 [==============================] - 7s 125us/step - loss: 0.0624 - acc: 0.9806 - val_loss: 0.0594 - val_acc: 0.9845\n",
            "Epoch 20/30\n",
            "60000/60000 [==============================] - 8s 125us/step - loss: 0.0603 - acc: 0.9822 - val_loss: 0.0599 - val_acc: 0.9833\n",
            "Epoch 21/30\n",
            "60000/60000 [==============================] - 8s 126us/step - loss: 0.0574 - acc: 0.9824 - val_loss: 0.0596 - val_acc: 0.9837\n",
            "Epoch 22/30\n",
            "60000/60000 [==============================] - 7s 123us/step - loss: 0.0565 - acc: 0.9825 - val_loss: 0.0610 - val_acc: 0.9837\n",
            "Epoch 23/30\n",
            "60000/60000 [==============================] - 7s 125us/step - loss: 0.0537 - acc: 0.9834 - val_loss: 0.0601 - val_acc: 0.9839\n",
            "Epoch 24/30\n",
            "60000/60000 [==============================] - 7s 125us/step - loss: 0.0537 - acc: 0.9836 - val_loss: 0.0556 - val_acc: 0.9854\n",
            "Epoch 25/30\n",
            "60000/60000 [==============================] - 7s 125us/step - loss: 0.0503 - acc: 0.9841 - val_loss: 0.0551 - val_acc: 0.9860\n",
            "Epoch 26/30\n",
            "60000/60000 [==============================] - 7s 124us/step - loss: 0.0482 - acc: 0.9845 - val_loss: 0.0547 - val_acc: 0.9855\n",
            "Epoch 27/30\n",
            "60000/60000 [==============================] - 7s 124us/step - loss: 0.0491 - acc: 0.9850 - val_loss: 0.0580 - val_acc: 0.9852\n",
            "Epoch 28/30\n",
            "60000/60000 [==============================] - 7s 124us/step - loss: 0.0480 - acc: 0.9851 - val_loss: 0.0566 - val_acc: 0.9860\n",
            "Epoch 29/30\n",
            "60000/60000 [==============================] - 8s 127us/step - loss: 0.0461 - acc: 0.9853 - val_loss: 0.0509 - val_acc: 0.9865\n",
            "Epoch 30/30\n",
            "60000/60000 [==============================] - 8s 126us/step - loss: 0.0437 - acc: 0.9869 - val_loss: 0.0545 - val_acc: 0.9857\n"
          ],
          "name": "stdout"
        }
      ]
    },
    {
      "cell_type": "code",
      "metadata": {
        "colab_type": "code",
        "outputId": "834db5a0-1cad-4416-bbc5-0ed5ca6a05b2",
        "id": "mkbvYMvWtYuQ",
        "colab": {
          "base_uri": "https://localhost:8080/",
          "height": 318
        }
      },
      "source": [
        "%matplotlib notebook\n",
        "%matplotlib inline\n",
        "import matplotlib.pyplot as plt\n",
        "import warnings\n",
        "warnings.filterwarnings('ignore')\n",
        "\n",
        "score6 = model6.evaluate(X_test, Y_test, verbose=0) \n",
        "print('Test score:', score6[0]) \n",
        "print('Test accuracy:', score6[1])\n",
        "\n",
        "fig6,ax6 = plt.subplots(1,1)\n",
        "ax6.set_xlabel('epoch') ; ax6.set_ylabel('Categorical Crossentropy Loss')\n",
        "\n",
        "# list of epoch numbers\n",
        "x6 = list(range(1,nb_epoch+1))\n",
        "\n",
        "# print(history.history.keys())\n",
        "# dict_keys(['val_loss', 'val_acc', 'loss', 'acc'])\n",
        "# history = model_drop.fit(X_train, Y_train, batch_size=batch_size, epochs=nb_epoch, verbose=1, validation_data=(X_test, Y_test))\n",
        "\n",
        "# we will get val_loss and val_acc only when you pass the paramter validation_data\n",
        "# val_loss : validation loss\n",
        "# val_acc : validation accuracy\n",
        "\n",
        "# loss : training loss\n",
        "# acc : train accuracy\n",
        "# for each key in histrory.histrory we will have a list of length equal to number of epochs\n",
        "\n",
        "\n",
        "vy6 = history6.history['val_loss']\n",
        "ty6 = history6.history['loss']\n",
        "plt_dynamic(x6, vy6, ty6, ax6)"
      ],
      "execution_count": 88,
      "outputs": [
        {
          "output_type": "stream",
          "text": [
            "Test score: 0.05445547826328548\n",
            "Test accuracy: 0.9857\n"
          ],
          "name": "stdout"
        },
        {
          "output_type": "display_data",
          "data": {
            "image/png": "[encoded data removed]",
            "text/plain": [
              "<Figure size 432x288 with 1 Axes>"
            ]
          },
          "metadata": {
            "tags": []
          }
        }
      ]
    },
    {
      "cell_type": "markdown",
      "metadata": {
        "colab_type": "text",
        "id": "FIuJ6X004CQm"
      },
      "source": [
        "\n",
        "\n",
        ">**MLP + BN + Dropout + AdamOptimizer + ReLu activation**\n",
        "\n",
        ">**Part 2 : Here we use 3 Hidden Layers**\n",
        "\n",
        "> **Architecture 7**: 784-512-456-128-10;   \n",
        "> droput: .5,.5 \n",
        "\n",
        "std = sqrt(2/fan-in) as it is ReLu\n",
        "\n",
        "\n"
      ]
    },
    {
      "cell_type": "code",
      "metadata": {
        "colab_type": "code",
        "outputId": "6e2837ca-5deb-424b-abd8-68c8cfae60ee",
        "id": "zIw9qRSf4CQr",
        "colab": {
          "base_uri": "https://localhost:8080/",
          "height": 1583
        }
      },
      "source": [
        "from keras.layers.normalization import BatchNormalization\n",
        "from keras.layers import Dropout\n",
        "import warnings\n",
        "warnings.filterwarnings('ignore')\n",
        "\n",
        "model7 = Sequential()\n",
        "\n",
        "model7.add(Dense(512, activation='relu', input_shape=(input_dim,), kernel_initializer=RandomNormal(mean=0.0, stddev=0.0625, seed=None)))\n",
        "model7.add(BatchNormalization())\n",
        "model7.add(Dropout(0.5))\n",
        "\n",
        "\n",
        "model7.add(Dense(456, activation='relu', kernel_initializer=RandomNormal(mean=0.0, stddev=0.0662, seed=None)) )\n",
        "model7.add(BatchNormalization())\n",
        "model7.add(Dropout(0.5))\n",
        "\n",
        "model7.add(Dense(128, activation='relu', kernel_initializer=RandomNormal(mean=0.0, stddev=0.125, seed=None)) )\n",
        "model7.add(BatchNormalization())\n",
        "model7.add(Dropout(0.5))\n",
        "\n",
        "\n",
        "model7.add(Dense(output_dim, activation='softmax'))\n",
        "model7.compile(optimizer='adam', loss='categorical_crossentropy', metrics=['accuracy'])\n",
        "\n",
        "model7.summary()\n",
        "\n",
        "\n",
        "history7 = model7.fit(X_train, Y_train, batch_size=batch_size, epochs=nb_epoch, verbose=1, validation_data=(X_test, Y_test))"
      ],
      "execution_count": 89,
      "outputs": [
        {
          "output_type": "stream",
          "text": [
            "Model: \"sequential_20\"\n",
            "_________________________________________________________________\n",
            "Layer (type)                 Output Shape              Param #   \n",
            "=================================================================\n",
            "dense_64 (Dense)             (None, 512)               401920    \n",
            "_________________________________________________________________\n",
            "batch_normalization_45 (Batc (None, 512)               2048      \n",
            "_________________________________________________________________\n",
            "dropout_45 (Dropout)         (None, 512)               0         \n",
            "_________________________________________________________________\n",
            "dense_65 (Dense)             (None, 456)               233928    \n",
            "_________________________________________________________________\n",
            "batch_normalization_46 (Batc (None, 456)               1824      \n",
            "_________________________________________________________________\n",
            "dropout_46 (Dropout)         (None, 456)               0         \n",
            "_________________________________________________________________\n",
            "dense_66 (Dense)             (None, 128)               58496     \n",
            "_________________________________________________________________\n",
            "batch_normalization_47 (Batc (None, 128)               512       \n",
            "_________________________________________________________________\n",
            "dropout_47 (Dropout)         (None, 128)               0         \n",
            "_________________________________________________________________\n",
            "dense_67 (Dense)             (None, 10)                1290      \n",
            "=================================================================\n",
            "Total params: 700,018\n",
            "Trainable params: 697,826\n",
            "Non-trainable params: 2,192\n",
            "_________________________________________________________________\n",
            "Train on 60000 samples, validate on 10000 samples\n",
            "Epoch 1/30\n",
            "60000/60000 [==============================] - 14s 227us/step - loss: 0.5690 - acc: 0.8268 - val_loss: 0.1703 - val_acc: 0.9485\n",
            "Epoch 2/30\n",
            "60000/60000 [==============================] - 7s 123us/step - loss: 0.2451 - acc: 0.9272 - val_loss: 0.1129 - val_acc: 0.9646\n",
            "Epoch 3/30\n",
            "60000/60000 [==============================] - 7s 124us/step - loss: 0.1847 - acc: 0.9451 - val_loss: 0.1063 - val_acc: 0.9675\n",
            "Epoch 4/30\n",
            "60000/60000 [==============================] - 7s 122us/step - loss: 0.1569 - acc: 0.9526 - val_loss: 0.0906 - val_acc: 0.9722\n",
            "Epoch 5/30\n",
            "60000/60000 [==============================] - 7s 124us/step - loss: 0.1392 - acc: 0.9585 - val_loss: 0.0814 - val_acc: 0.9760\n",
            "Epoch 6/30\n",
            "60000/60000 [==============================] - 7s 122us/step - loss: 0.1233 - acc: 0.9626 - val_loss: 0.0725 - val_acc: 0.9785\n",
            "Epoch 7/30\n",
            "60000/60000 [==============================] - 7s 122us/step - loss: 0.1084 - acc: 0.9671 - val_loss: 0.0718 - val_acc: 0.9789\n",
            "Epoch 8/30\n",
            "60000/60000 [==============================] - 7s 123us/step - loss: 0.1011 - acc: 0.9697 - val_loss: 0.0680 - val_acc: 0.9791\n",
            "Epoch 9/30\n",
            "60000/60000 [==============================] - 7s 123us/step - loss: 0.0986 - acc: 0.9700 - val_loss: 0.0709 - val_acc: 0.9788\n",
            "Epoch 10/30\n",
            "60000/60000 [==============================] - 7s 122us/step - loss: 0.0933 - acc: 0.9721 - val_loss: 0.0615 - val_acc: 0.9807\n",
            "Epoch 11/30\n",
            "60000/60000 [==============================] - 7s 122us/step - loss: 0.0850 - acc: 0.9741 - val_loss: 0.0643 - val_acc: 0.9809\n",
            "Epoch 12/30\n",
            "60000/60000 [==============================] - 7s 121us/step - loss: 0.0817 - acc: 0.9749 - val_loss: 0.0626 - val_acc: 0.9814\n",
            "Epoch 13/30\n",
            "60000/60000 [==============================] - 7s 121us/step - loss: 0.0780 - acc: 0.9763 - val_loss: 0.0675 - val_acc: 0.9804\n",
            "Epoch 14/30\n",
            "60000/60000 [==============================] - 7s 123us/step - loss: 0.0756 - acc: 0.9765 - val_loss: 0.0599 - val_acc: 0.9823\n",
            "Epoch 15/30\n",
            "60000/60000 [==============================] - 7s 125us/step - loss: 0.0727 - acc: 0.9778 - val_loss: 0.0619 - val_acc: 0.9817\n",
            "Epoch 16/30\n",
            "60000/60000 [==============================] - 8s 127us/step - loss: 0.0677 - acc: 0.9798 - val_loss: 0.0571 - val_acc: 0.9827\n",
            "Epoch 17/30\n",
            "60000/60000 [==============================] - 7s 123us/step - loss: 0.0653 - acc: 0.9798 - val_loss: 0.0578 - val_acc: 0.9829\n",
            "Epoch 18/30\n",
            "60000/60000 [==============================] - 7s 123us/step - loss: 0.0615 - acc: 0.9806 - val_loss: 0.0581 - val_acc: 0.9828\n",
            "Epoch 19/30\n",
            "60000/60000 [==============================] - 7s 123us/step - loss: 0.0615 - acc: 0.9810 - val_loss: 0.0578 - val_acc: 0.9823\n",
            "Epoch 20/30\n",
            "60000/60000 [==============================] - 7s 122us/step - loss: 0.0593 - acc: 0.9817 - val_loss: 0.0577 - val_acc: 0.9833\n",
            "Epoch 21/30\n",
            "60000/60000 [==============================] - 7s 124us/step - loss: 0.0517 - acc: 0.9838 - val_loss: 0.0620 - val_acc: 0.9827\n",
            "Epoch 22/30\n",
            "60000/60000 [==============================] - 7s 121us/step - loss: 0.0572 - acc: 0.9819 - val_loss: 0.0575 - val_acc: 0.9831\n",
            "Epoch 23/30\n",
            "60000/60000 [==============================] - 7s 122us/step - loss: 0.0511 - acc: 0.9844 - val_loss: 0.0610 - val_acc: 0.9837\n",
            "Epoch 24/30\n",
            "60000/60000 [==============================] - 7s 122us/step - loss: 0.0517 - acc: 0.9835 - val_loss: 0.0564 - val_acc: 0.9844\n",
            "Epoch 25/30\n",
            "60000/60000 [==============================] - 7s 123us/step - loss: 0.0496 - acc: 0.9850 - val_loss: 0.0525 - val_acc: 0.9866\n",
            "Epoch 26/30\n",
            "60000/60000 [==============================] - 7s 122us/step - loss: 0.0474 - acc: 0.9850 - val_loss: 0.0590 - val_acc: 0.9844\n",
            "Epoch 27/30\n",
            "60000/60000 [==============================] - 7s 123us/step - loss: 0.0478 - acc: 0.9849 - val_loss: 0.0576 - val_acc: 0.9856\n",
            "Epoch 28/30\n",
            "60000/60000 [==============================] - 7s 123us/step - loss: 0.0457 - acc: 0.9854 - val_loss: 0.0534 - val_acc: 0.9861\n",
            "Epoch 29/30\n",
            "60000/60000 [==============================] - 7s 122us/step - loss: 0.0411 - acc: 0.9867 - val_loss: 0.0551 - val_acc: 0.9848\n",
            "Epoch 30/30\n",
            "60000/60000 [==============================] - 7s 122us/step - loss: 0.0454 - acc: 0.9854 - val_loss: 0.0579 - val_acc: 0.9839\n"
          ],
          "name": "stdout"
        }
      ]
    },
    {
      "cell_type": "code",
      "metadata": {
        "colab_type": "code",
        "outputId": "9169c3c0-78c3-4080-9ea1-82b9bc4d177a",
        "id": "eDfL55z44CQ2",
        "colab": {
          "base_uri": "https://localhost:8080/",
          "height": 318
        }
      },
      "source": [
        "%matplotlib notebook\n",
        "%matplotlib inline\n",
        "import matplotlib.pyplot as plt\n",
        "import warnings\n",
        "warnings.filterwarnings('ignore')\n",
        "\n",
        "score7 = model7.evaluate(X_test, Y_test, verbose=0) \n",
        "print('Test score:', score7[0]) \n",
        "print('Test accuracy:', score7[1])\n",
        "\n",
        "fig7,ax7 = plt.subplots(1,1)\n",
        "ax7.set_xlabel('epoch') ; ax7.set_ylabel('Categorical Crossentropy Loss')\n",
        "\n",
        "# list of epoch numbers\n",
        "x7 = list(range(1,nb_epoch+1))\n",
        "\n",
        "vy7 = history7.history['val_loss']\n",
        "ty7 = history7.history['loss']\n",
        "plt_dynamic(x7, vy7, ty7, ax7)"
      ],
      "execution_count": 90,
      "outputs": [
        {
          "output_type": "stream",
          "text": [
            "Test score: 0.05791448878053052\n",
            "Test accuracy: 0.9839\n"
          ],
          "name": "stdout"
        },
        {
          "output_type": "display_data",
          "data": {
            "image/png": "[encoded data removed]",
            "text/plain": [
              "<Figure size 432x288 with 1 Axes>"
            ]
          },
          "metadata": {
            "tags": []
          }
        }
      ]
    },
    {
      "cell_type": "markdown",
      "metadata": {
        "colab_type": "text",
        "id": "98wijxrS47dO"
      },
      "source": [
        "\n",
        "\n",
        ">**MLP + BN + Dropout + AdamOptimizer + ReLu activation**\n",
        "\n",
        ">**Part 2 : Here we use 3 Hidden Layers**\n",
        "\n",
        "> **Architecture 8**: 784-456-128-32-10;   \n",
        "> droput: .5,.5 \n",
        "\n",
        "std = sqrt(2/fan-in) as it is ReLu\n",
        "\n",
        "\n"
      ]
    },
    {
      "cell_type": "code",
      "metadata": {
        "colab_type": "code",
        "outputId": "71ad8cdf-ab59-42a1-e4e8-312d43864262",
        "id": "Q93cxmUQ47dV",
        "colab": {
          "base_uri": "https://localhost:8080/",
          "height": 1583
        }
      },
      "source": [
        "from keras.layers.normalization import BatchNormalization\n",
        "from keras.layers import Dropout\n",
        "import warnings\n",
        "warnings.filterwarnings('ignore')\n",
        "\n",
        "model8 = Sequential()\n",
        "\n",
        "model8.add(Dense(456, activation='relu', input_shape=(input_dim,), kernel_initializer=RandomNormal(mean=0.0, stddev=0.0662, seed=None)))\n",
        "model8.add(BatchNormalization())\n",
        "model8.add(Dropout(0.5))\n",
        "\n",
        "\n",
        "model8.add(Dense(128, activation='relu', kernel_initializer=RandomNormal(mean=0.0, stddev=0.125, seed=None)) )\n",
        "model8.add(BatchNormalization())\n",
        "model8.add(Dropout(0.5))\n",
        "\n",
        "model8.add(Dense(32, activation='relu', kernel_initializer=RandomNormal(mean=0.0, stddev=0.25, seed=None)) )\n",
        "model8.add(BatchNormalization())\n",
        "model8.add(Dropout(0.5))\n",
        "\n",
        "\n",
        "model8.add(Dense(output_dim, activation='softmax'))\n",
        "model8.compile(optimizer='adam', loss='categorical_crossentropy', metrics=['accuracy'])\n",
        "\n",
        "model8.summary()\n",
        "\n",
        "\n",
        "history8 = model8.fit(X_train, Y_train, batch_size=batch_size, epochs=nb_epoch, verbose=1, validation_data=(X_test, Y_test))"
      ],
      "execution_count": 91,
      "outputs": [
        {
          "output_type": "stream",
          "text": [
            "Model: \"sequential_21\"\n",
            "_________________________________________________________________\n",
            "Layer (type)                 Output Shape              Param #   \n",
            "=================================================================\n",
            "dense_68 (Dense)             (None, 456)               357960    \n",
            "_________________________________________________________________\n",
            "batch_normalization_48 (Batc (None, 456)               1824      \n",
            "_________________________________________________________________\n",
            "dropout_48 (Dropout)         (None, 456)               0         \n",
            "_________________________________________________________________\n",
            "dense_69 (Dense)             (None, 128)               58496     \n",
            "_________________________________________________________________\n",
            "batch_normalization_49 (Batc (None, 128)               512       \n",
            "_________________________________________________________________\n",
            "dropout_49 (Dropout)         (None, 128)               0         \n",
            "_________________________________________________________________\n",
            "dense_70 (Dense)             (None, 32)                4128      \n",
            "_________________________________________________________________\n",
            "batch_normalization_50 (Batc (None, 32)                128       \n",
            "_________________________________________________________________\n",
            "dropout_50 (Dropout)         (None, 32)                0         \n",
            "_________________________________________________________________\n",
            "dense_71 (Dense)             (None, 10)                330       \n",
            "=================================================================\n",
            "Total params: 423,378\n",
            "Trainable params: 422,146\n",
            "Non-trainable params: 1,232\n",
            "_________________________________________________________________\n",
            "Train on 60000 samples, validate on 10000 samples\n",
            "Epoch 1/30\n",
            "60000/60000 [==============================] - 14s 232us/step - loss: 0.9679 - acc: 0.7005 - val_loss: 0.2353 - val_acc: 0.9299\n",
            "Epoch 2/30\n",
            "60000/60000 [==============================] - 7s 120us/step - loss: 0.4291 - acc: 0.8802 - val_loss: 0.1630 - val_acc: 0.9512\n",
            "Epoch 3/30\n",
            "60000/60000 [==============================] - 7s 121us/step - loss: 0.3162 - acc: 0.9150 - val_loss: 0.1407 - val_acc: 0.9596\n",
            "Epoch 4/30\n",
            "60000/60000 [==============================] - 7s 120us/step - loss: 0.2564 - acc: 0.9317 - val_loss: 0.1157 - val_acc: 0.9652\n",
            "Epoch 5/30\n",
            "60000/60000 [==============================] - 7s 118us/step - loss: 0.2209 - acc: 0.9418 - val_loss: 0.1025 - val_acc: 0.9703\n",
            "Epoch 6/30\n",
            "60000/60000 [==============================] - 7s 119us/step - loss: 0.1987 - acc: 0.9488 - val_loss: 0.0964 - val_acc: 0.9704\n",
            "Epoch 7/30\n",
            "60000/60000 [==============================] - 7s 117us/step - loss: 0.1805 - acc: 0.9521 - val_loss: 0.0932 - val_acc: 0.9733\n",
            "Epoch 8/30\n",
            "60000/60000 [==============================] - 7s 121us/step - loss: 0.1696 - acc: 0.9563 - val_loss: 0.0933 - val_acc: 0.9735\n",
            "Epoch 9/30\n",
            "60000/60000 [==============================] - 7s 118us/step - loss: 0.1608 - acc: 0.9581 - val_loss: 0.0833 - val_acc: 0.9756\n",
            "Epoch 10/30\n",
            "60000/60000 [==============================] - 7s 119us/step - loss: 0.1469 - acc: 0.9622 - val_loss: 0.0779 - val_acc: 0.9785\n",
            "Epoch 11/30\n",
            "60000/60000 [==============================] - 7s 121us/step - loss: 0.1432 - acc: 0.9624 - val_loss: 0.0783 - val_acc: 0.9775\n",
            "Epoch 12/30\n",
            "60000/60000 [==============================] - 7s 118us/step - loss: 0.1295 - acc: 0.9666 - val_loss: 0.0744 - val_acc: 0.9791\n",
            "Epoch 13/30\n",
            "60000/60000 [==============================] - 7s 123us/step - loss: 0.1219 - acc: 0.9675 - val_loss: 0.0758 - val_acc: 0.9802\n",
            "Epoch 14/30\n",
            "60000/60000 [==============================] - 7s 120us/step - loss: 0.1233 - acc: 0.9680 - val_loss: 0.0729 - val_acc: 0.9805\n",
            "Epoch 15/30\n",
            "60000/60000 [==============================] - 7s 119us/step - loss: 0.1133 - acc: 0.9700 - val_loss: 0.0739 - val_acc: 0.9799\n",
            "Epoch 16/30\n",
            "60000/60000 [==============================] - 7s 118us/step - loss: 0.1098 - acc: 0.9710 - val_loss: 0.0802 - val_acc: 0.9796\n",
            "Epoch 17/30\n",
            "60000/60000 [==============================] - 7s 120us/step - loss: 0.1049 - acc: 0.9722 - val_loss: 0.0744 - val_acc: 0.9801\n",
            "Epoch 18/30\n",
            "60000/60000 [==============================] - 7s 119us/step - loss: 0.1025 - acc: 0.9727 - val_loss: 0.0692 - val_acc: 0.9818\n",
            "Epoch 19/30\n",
            "60000/60000 [==============================] - 7s 121us/step - loss: 0.0978 - acc: 0.9742 - val_loss: 0.0708 - val_acc: 0.9824\n",
            "Epoch 20/30\n",
            "60000/60000 [==============================] - 7s 120us/step - loss: 0.0947 - acc: 0.9749 - val_loss: 0.0726 - val_acc: 0.9813\n",
            "Epoch 21/30\n",
            "60000/60000 [==============================] - 7s 120us/step - loss: 0.0945 - acc: 0.9753 - val_loss: 0.0663 - val_acc: 0.9826\n",
            "Epoch 22/30\n",
            "60000/60000 [==============================] - 7s 120us/step - loss: 0.0883 - acc: 0.9770 - val_loss: 0.0668 - val_acc: 0.9816\n",
            "Epoch 23/30\n",
            "60000/60000 [==============================] - 7s 117us/step - loss: 0.0850 - acc: 0.9781 - val_loss: 0.0706 - val_acc: 0.9827\n",
            "Epoch 24/30\n",
            "60000/60000 [==============================] - 7s 119us/step - loss: 0.0873 - acc: 0.9773 - val_loss: 0.0708 - val_acc: 0.9834\n",
            "Epoch 25/30\n",
            "60000/60000 [==============================] - 7s 120us/step - loss: 0.0792 - acc: 0.9782 - val_loss: 0.0687 - val_acc: 0.9822\n",
            "Epoch 26/30\n",
            "60000/60000 [==============================] - 7s 119us/step - loss: 0.0801 - acc: 0.9786 - val_loss: 0.0671 - val_acc: 0.9838\n",
            "Epoch 27/30\n",
            "60000/60000 [==============================] - 7s 124us/step - loss: 0.0806 - acc: 0.9790 - val_loss: 0.0716 - val_acc: 0.9829\n",
            "Epoch 28/30\n",
            "60000/60000 [==============================] - 7s 122us/step - loss: 0.0779 - acc: 0.9783 - val_loss: 0.0687 - val_acc: 0.9831\n",
            "Epoch 29/30\n",
            "60000/60000 [==============================] - 7s 120us/step - loss: 0.0750 - acc: 0.9800 - val_loss: 0.0639 - val_acc: 0.9833\n",
            "Epoch 30/30\n",
            "60000/60000 [==============================] - 7s 121us/step - loss: 0.0759 - acc: 0.9799 - val_loss: 0.0645 - val_acc: 0.9845\n"
          ],
          "name": "stdout"
        }
      ]
    },
    {
      "cell_type": "code",
      "metadata": {
        "colab_type": "code",
        "outputId": "491e09da-a154-4928-9c0d-8b2f60da8f6f",
        "id": "4tgUHUyF47di",
        "colab": {
          "base_uri": "https://localhost:8080/",
          "height": 318
        }
      },
      "source": [
        "%matplotlib notebook\n",
        "%matplotlib inline\n",
        "import matplotlib.pyplot as plt\n",
        "import warnings\n",
        "warnings.filterwarnings('ignore')\n",
        "\n",
        "score8 = model8.evaluate(X_test, Y_test, verbose=0) \n",
        "print('Test score:', score8[0]) \n",
        "print('Test accuracy:', score8[1])\n",
        "\n",
        "fig8,ax8 = plt.subplots(1,1)\n",
        "ax8.set_xlabel('epoch') ; ax8.set_ylabel('Categorical Crossentropy Loss')\n",
        "\n",
        "# list of epoch numbers\n",
        "x8 = list(range(1,nb_epoch+1))\n",
        "\n",
        "vy8 = history8.history['val_loss']\n",
        "ty8 = history8.history['loss']\n",
        "plt_dynamic(x8, vy8, ty8, ax8)"
      ],
      "execution_count": 92,
      "outputs": [
        {
          "output_type": "stream",
          "text": [
            "Test score: 0.06451866653093893\n",
            "Test accuracy: 0.9845\n"
          ],
          "name": "stdout"
        },
        {
          "output_type": "display_data",
          "data": {
            "image/png": "[encoded data removed]",
            "text/plain": [
              "<Figure size 432x288 with 1 Axes>"
            ]
          },
          "metadata": {
            "tags": []
          }
        }
      ]
    },
    {
      "cell_type": "markdown",
      "metadata": {
        "colab_type": "text",
        "id": "-5VdutVy50GX"
      },
      "source": [
        "\n",
        "\n",
        ">**MLP + BN + Dropout + AdamOptimizer + ReLu activation**\n",
        "\n",
        ">**Part 3 : Here we use 5 Hidden Layers**\n",
        "\n",
        "> **Architecture 9**: 784-600-500-400-200-128-10;   \n",
        "> droput: .5,.5 \n",
        "\n",
        "std = sqrt(2/fan-in) as it is ReLu\n",
        "\n",
        "\n"
      ]
    },
    {
      "cell_type": "code",
      "metadata": {
        "colab_type": "code",
        "outputId": "fde33d63-8c79-4611-f53a-6c08cd6cc8e8",
        "id": "2RBE88ue50GZ",
        "colab": {
          "base_uri": "https://localhost:8080/",
          "height": 1794
        }
      },
      "source": [
        "from keras.layers.normalization import BatchNormalization\n",
        "from keras.layers import Dropout\n",
        "import warnings\n",
        "warnings.filterwarnings('ignore')\n",
        "\n",
        "model9 = Sequential()\n",
        "\n",
        "model9.add(Dense(600, activation='relu', input_shape=(input_dim,), kernel_initializer=RandomNormal(mean=0.0, stddev=0.0577, seed=None)))\n",
        "model9.add(BatchNormalization())\n",
        "model9.add(Dropout(0.5))\n",
        "\n",
        "\n",
        "model9.add(Dense(500, activation='relu', kernel_initializer=RandomNormal(mean=0.0, stddev=0.06324, seed=None)) )\n",
        "model9.add(BatchNormalization())\n",
        "model9.add(Dropout(0.5))\n",
        "\n",
        "model9.add(Dense(400, activation='relu', kernel_initializer=RandomNormal(mean=0.0, stddev=0.0707, seed=None)) )\n",
        "model9.add(BatchNormalization())\n",
        "model9.add(Dropout(0.5))\n",
        "\n",
        "model9.add(Dense(300, activation='relu', kernel_initializer=RandomNormal(mean=0.0, stddev=0.08164, seed=None)) )\n",
        "model9.add(BatchNormalization())\n",
        "model9.add(Dropout(0.5))\n",
        "\n",
        "model9.add(Dense(200, activation='relu', kernel_initializer=RandomNormal(mean=0.0, stddev=0.1, seed=None)) )\n",
        "model9.add(BatchNormalization())\n",
        "model9.add(Dropout(0.5))\n",
        "\n",
        "model9.add(Dense(output_dim, activation='softmax'))\n",
        "model9.compile(optimizer='adam', loss='categorical_crossentropy', metrics=['accuracy'])\n",
        "\n",
        "model9.summary()\n",
        "\n",
        "\n",
        "history9 = model9.fit(X_train, Y_train, batch_size=batch_size, epochs=nb_epoch, verbose=1, validation_data=(X_test, Y_test))"
      ],
      "execution_count": 93,
      "outputs": [
        {
          "output_type": "stream",
          "text": [
            "Model: \"sequential_22\"\n",
            "_________________________________________________________________\n",
            "Layer (type)                 Output Shape              Param #   \n",
            "=================================================================\n",
            "dense_72 (Dense)             (None, 600)               471000    \n",
            "_________________________________________________________________\n",
            "batch_normalization_51 (Batc (None, 600)               2400      \n",
            "_________________________________________________________________\n",
            "dropout_51 (Dropout)         (None, 600)               0         \n",
            "_________________________________________________________________\n",
            "dense_73 (Dense)             (None, 500)               300500    \n",
            "_________________________________________________________________\n",
            "batch_normalization_52 (Batc (None, 500)               2000      \n",
            "_________________________________________________________________\n",
            "dropout_52 (Dropout)         (None, 500)               0         \n",
            "_________________________________________________________________\n",
            "dense_74 (Dense)             (None, 400)               200400    \n",
            "_________________________________________________________________\n",
            "batch_normalization_53 (Batc (None, 400)               1600      \n",
            "_________________________________________________________________\n",
            "dropout_53 (Dropout)         (None, 400)               0         \n",
            "_________________________________________________________________\n",
            "dense_75 (Dense)             (None, 300)               120300    \n",
            "_________________________________________________________________\n",
            "batch_normalization_54 (Batc (None, 300)               1200      \n",
            "_________________________________________________________________\n",
            "dropout_54 (Dropout)         (None, 300)               0         \n",
            "_________________________________________________________________\n",
            "dense_76 (Dense)             (None, 200)               60200     \n",
            "_________________________________________________________________\n",
            "batch_normalization_55 (Batc (None, 200)               800       \n",
            "_________________________________________________________________\n",
            "dropout_55 (Dropout)         (None, 200)               0         \n",
            "_________________________________________________________________\n",
            "dense_77 (Dense)             (None, 10)                2010      \n",
            "=================================================================\n",
            "Total params: 1,162,410\n",
            "Trainable params: 1,158,410\n",
            "Non-trainable params: 4,000\n",
            "_________________________________________________________________\n",
            "Train on 60000 samples, validate on 10000 samples\n",
            "Epoch 1/30\n",
            "60000/60000 [==============================] - 19s 312us/step - loss: 0.9268 - acc: 0.7183 - val_loss: 0.2285 - val_acc: 0.9325\n",
            "Epoch 2/30\n",
            "60000/60000 [==============================] - 11s 183us/step - loss: 0.3195 - acc: 0.9062 - val_loss: 0.1498 - val_acc: 0.9564\n",
            "Epoch 3/30\n",
            "60000/60000 [==============================] - 11s 182us/step - loss: 0.2385 - acc: 0.9308 - val_loss: 0.1267 - val_acc: 0.9647\n",
            "Epoch 4/30\n",
            "60000/60000 [==============================] - 11s 183us/step - loss: 0.1976 - acc: 0.9431 - val_loss: 0.1064 - val_acc: 0.9690\n",
            "Epoch 5/30\n",
            "60000/60000 [==============================] - 11s 184us/step - loss: 0.1706 - acc: 0.9507 - val_loss: 0.0977 - val_acc: 0.9719\n",
            "Epoch 6/30\n",
            "60000/60000 [==============================] - 11s 183us/step - loss: 0.1541 - acc: 0.9564 - val_loss: 0.0885 - val_acc: 0.9755\n",
            "Epoch 7/30\n",
            "60000/60000 [==============================] - 11s 184us/step - loss: 0.1441 - acc: 0.9588 - val_loss: 0.0908 - val_acc: 0.9742\n",
            "Epoch 8/30\n",
            "60000/60000 [==============================] - 11s 184us/step - loss: 0.1272 - acc: 0.9635 - val_loss: 0.0885 - val_acc: 0.9749\n",
            "Epoch 9/30\n",
            "60000/60000 [==============================] - 11s 182us/step - loss: 0.1234 - acc: 0.9648 - val_loss: 0.0757 - val_acc: 0.9787\n",
            "Epoch 10/30\n",
            "60000/60000 [==============================] - 11s 183us/step - loss: 0.1179 - acc: 0.9661 - val_loss: 0.0756 - val_acc: 0.9795\n",
            "Epoch 11/30\n",
            "60000/60000 [==============================] - 11s 183us/step - loss: 0.1090 - acc: 0.9687 - val_loss: 0.0728 - val_acc: 0.9804\n",
            "Epoch 12/30\n",
            "60000/60000 [==============================] - 11s 182us/step - loss: 0.1054 - acc: 0.9702 - val_loss: 0.0711 - val_acc: 0.9803\n",
            "Epoch 13/30\n",
            "60000/60000 [==============================] - 11s 182us/step - loss: 0.0987 - acc: 0.9723 - val_loss: 0.0669 - val_acc: 0.9821\n",
            "Epoch 14/30\n",
            "60000/60000 [==============================] - 11s 183us/step - loss: 0.0941 - acc: 0.9729 - val_loss: 0.0659 - val_acc: 0.9812\n",
            "Epoch 15/30\n",
            "60000/60000 [==============================] - 11s 184us/step - loss: 0.0886 - acc: 0.9747 - val_loss: 0.0781 - val_acc: 0.9796\n",
            "Epoch 16/30\n",
            "60000/60000 [==============================] - 11s 185us/step - loss: 0.0853 - acc: 0.9752 - val_loss: 0.0613 - val_acc: 0.9836\n",
            "Epoch 17/30\n",
            "60000/60000 [==============================] - 11s 183us/step - loss: 0.0838 - acc: 0.9755 - val_loss: 0.0678 - val_acc: 0.9815\n",
            "Epoch 18/30\n",
            "60000/60000 [==============================] - 11s 182us/step - loss: 0.0780 - acc: 0.9779 - val_loss: 0.0611 - val_acc: 0.9842\n",
            "Epoch 19/30\n",
            "60000/60000 [==============================] - 11s 180us/step - loss: 0.0775 - acc: 0.9775 - val_loss: 0.0609 - val_acc: 0.9842\n",
            "Epoch 20/30\n",
            "60000/60000 [==============================] - 11s 184us/step - loss: 0.0749 - acc: 0.9780 - val_loss: 0.0664 - val_acc: 0.9812\n",
            "Epoch 21/30\n",
            "60000/60000 [==============================] - 11s 185us/step - loss: 0.0706 - acc: 0.9798 - val_loss: 0.0624 - val_acc: 0.9825\n",
            "Epoch 22/30\n",
            "60000/60000 [==============================] - 11s 182us/step - loss: 0.0685 - acc: 0.9796 - val_loss: 0.0627 - val_acc: 0.9835\n",
            "Epoch 23/30\n",
            "60000/60000 [==============================] - 11s 184us/step - loss: 0.0655 - acc: 0.9813 - val_loss: 0.0554 - val_acc: 0.9840\n",
            "Epoch 24/30\n",
            "60000/60000 [==============================] - 11s 183us/step - loss: 0.0651 - acc: 0.9812 - val_loss: 0.0571 - val_acc: 0.9840\n",
            "Epoch 25/30\n",
            "60000/60000 [==============================] - 11s 186us/step - loss: 0.0622 - acc: 0.9818 - val_loss: 0.0598 - val_acc: 0.9840\n",
            "Epoch 26/30\n",
            "60000/60000 [==============================] - 11s 188us/step - loss: 0.0589 - acc: 0.9830 - val_loss: 0.0560 - val_acc: 0.9849\n",
            "Epoch 27/30\n",
            "60000/60000 [==============================] - 11s 184us/step - loss: 0.0581 - acc: 0.9833 - val_loss: 0.0608 - val_acc: 0.9845\n",
            "Epoch 28/30\n",
            "60000/60000 [==============================] - 11s 182us/step - loss: 0.0583 - acc: 0.9831 - val_loss: 0.0565 - val_acc: 0.9853\n",
            "Epoch 29/30\n",
            "60000/60000 [==============================] - 11s 182us/step - loss: 0.0565 - acc: 0.9838 - val_loss: 0.0534 - val_acc: 0.9858\n",
            "Epoch 30/30\n",
            "60000/60000 [==============================] - 11s 184us/step - loss: 0.0537 - acc: 0.9843 - val_loss: 0.0567 - val_acc: 0.9854\n"
          ],
          "name": "stdout"
        }
      ]
    },
    {
      "cell_type": "code",
      "metadata": {
        "colab_type": "code",
        "outputId": "8b135956-5996-4a52-b880-ffbb7c350b7a",
        "id": "DB0rB7nZ50Gc",
        "colab": {
          "base_uri": "https://localhost:8080/",
          "height": 318
        }
      },
      "source": [
        "%matplotlib notebook\n",
        "%matplotlib inline\n",
        "import matplotlib.pyplot as plt\n",
        "import warnings\n",
        "warnings.filterwarnings('ignore')\n",
        "\n",
        "score9 = model9.evaluate(X_test, Y_test, verbose=0) \n",
        "print('Test score:', score9[0]) \n",
        "print('Test accuracy:', score9[1])\n",
        "\n",
        "fig9,ax9 = plt.subplots(1,1)\n",
        "ax9.set_xlabel('epoch') ; ax9.set_ylabel('Categorical Crossentropy Loss')\n",
        "\n",
        "# list of epoch numbers\n",
        "x9 = list(range(1,nb_epoch+1))\n",
        "\n",
        "vy9 = history9.history['val_loss']\n",
        "ty9 = history9.history['loss']\n",
        "plt_dynamic(x9, vy9, ty9, ax9)"
      ],
      "execution_count": 94,
      "outputs": [
        {
          "output_type": "stream",
          "text": [
            "Test score: 0.05667422412817832\n",
            "Test accuracy: 0.9854\n"
          ],
          "name": "stdout"
        },
        {
          "output_type": "display_data",
          "data": {
            "image/png": "[encoded data removed]",
            "text/plain": [
              "<Figure size 432x288 with 1 Axes>"
            ]
          },
          "metadata": {
            "tags": []
          }
        }
      ]
    },
    {
      "cell_type": "code",
      "metadata": {
        "id": "CFl-ruG2EpDQ",
        "colab_type": "code",
        "colab": {
          "base_uri": "https://localhost:8080/",
          "height": 316
        },
        "outputId": "a127c688-1af7-465f-fc86-51a51068c7eb"
      },
      "source": [
        "%matplotlib notebook\n",
        "%matplotlib inline\n",
        "import matplotlib.pyplot as plt\n",
        "import warnings\n",
        "warnings.filterwarnings('ignore')\n",
        "\n",
        "w_after9 = model9.get_weights()\n",
        "\n",
        "h1_w = w_after9[0].flatten().reshape(-1,1)\n",
        "h2_w = w_after9[2].flatten().reshape(-1,1)\n",
        "h3_w = w_after9[4].flatten().reshape(-1,1)\n",
        "h4_w = w_after9[6].flatten().reshape(-1,1)\n",
        "h5_w = w_after9[8].flatten().reshape(-1,1)\n",
        "out_w = w_after9[10].flatten().reshape(-1,1)\n",
        "\n",
        "\n",
        "fig = plt.figure()\n",
        "plt.title(\"Weight matrices after model trained\")\n",
        "plt.subplot(3, 2, 1)\n",
        "ax = sns.violinplot(y=h1_w,color='b')\n",
        "plt.xlabel('Hidden Layer 1')\n",
        "\n",
        "plt.subplot(3, 2, 2)\n",
        "ax = sns.violinplot(y=h2_w, color='r')\n",
        "plt.xlabel('Hidden Layer 2 ')\n",
        "\n",
        "plt.subplot(3, 2, 3)\n",
        "ax = sns.violinplot(y=h3_w, color='g')\n",
        "plt.xlabel('Hidden Layer 3 ')\n",
        "\n",
        "plt.subplot(3, 2, 4)\n",
        "ax = sns.violinplot(y=h4_w,color='b')\n",
        "plt.xlabel('Hidden Layer 4 ')\n",
        "plt.show()\n",
        "\n",
        "plt.subplot(3, 2, 5)\n",
        "ax = sns.violinplot(y=h5_w, color='r')\n",
        "plt.xlabel('Hidden Layer 5 ')\n",
        "\n",
        "plt.subplot(3, 2, 6)\n",
        "ax = sns.violinplot(y=out_w, color='g')\n",
        "plt.xlabel('Output Layer')"
      ],
      "execution_count": 95,
      "outputs": [
        {
          "output_type": "display_data",
          "data": {
            "image/png": "[encoded data removed]",
            "text/plain": [
              "<Figure size 432x288 with 4 Axes>"
            ]
          },
          "metadata": {
            "tags": []
          }
        },
        {
          "output_type": "execute_result",
          "data": {
            "text/plain": [
              "Text(0.5, 0, 'Output Layer')"
            ]
          },
          "metadata": {
            "tags": []
          },
          "execution_count": 95
        },
        {
          "output_type": "display_data",
          "data": {
            "image/png": "[encoded data removed]",
            "text/plain": [
              "<Figure size 432x288 with 2 Axes>"
            ]
          },
          "metadata": {
            "tags": []
          }
        }
      ]
    },
    {
      "cell_type": "markdown",
      "metadata": {
        "colab_type": "text",
        "id": "U6axEU6-7z8w"
      },
      "source": [
        "\n",
        "\n",
        ">**MLP + BN + Dropout + AdamOptimizer + ReLu activation**\n",
        "\n",
        ">**Part 3 : Here we use 5 Hidden Layers**\n",
        "\n",
        "> **Architecture 10**: 784-512-456-392-256-128-10;   \n",
        "> droput: .5,.5 \n",
        "\n",
        "std = sqrt(2/fan-in) as it is ReLu\n",
        "\n",
        "\n"
      ]
    },
    {
      "cell_type": "code",
      "metadata": {
        "colab_type": "code",
        "outputId": "d12b8a35-5889-49b5-97b3-2c5c23b656d5",
        "id": "ECTUNJ1B7tJ6",
        "colab": {
          "base_uri": "https://localhost:8080/",
          "height": 1794
        }
      },
      "source": [
        "from keras.layers.normalization import BatchNormalization\n",
        "from keras.layers import Dropout\n",
        "import warnings\n",
        "warnings.filterwarnings('ignore')\n",
        "\n",
        "model10 = Sequential()\n",
        "\n",
        "model10.add(Dense(512, activation='relu', input_shape=(input_dim,), kernel_initializer=RandomNormal(mean=0.0, stddev=0.0625, seed=None)))\n",
        "model10.add(BatchNormalization())\n",
        "model10.add(Dropout(0.5))\n",
        "\n",
        "\n",
        "model10.add(Dense(456, activation='relu', kernel_initializer=RandomNormal(mean=0.0, stddev=0.06622, seed=None)) )\n",
        "model10.add(BatchNormalization())\n",
        "model10.add(Dropout(0.5))\n",
        "\n",
        "model10.add(Dense(392, activation='relu', kernel_initializer=RandomNormal(mean=0.0, stddev=0.07142, seed=None)) )\n",
        "model10.add(BatchNormalization())\n",
        "model10.add(Dropout(0.5))\n",
        "\n",
        "model10.add(Dense(256, activation='relu', kernel_initializer=RandomNormal(mean=0.0, stddev=0.08838, seed=None)) )\n",
        "model10.add(BatchNormalization())\n",
        "model10.add(Dropout(0.5))\n",
        "\n",
        "model10.add(Dense(128, activation='relu', kernel_initializer=RandomNormal(mean=0.0, stddev=0.125, seed=None)) )\n",
        "model10.add(BatchNormalization())\n",
        "model10.add(Dropout(0.5))\n",
        "\n",
        "model10.add(Dense(output_dim, activation='softmax'))\n",
        "model10.compile(optimizer='adam', loss='categorical_crossentropy', metrics=['accuracy'])\n",
        "\n",
        "model10.summary()\n",
        "\n",
        "\n",
        "history10 = model10.fit(X_train, Y_train, batch_size=batch_size, epochs=nb_epoch, verbose=1, validation_data=(X_test, Y_test))"
      ],
      "execution_count": 96,
      "outputs": [
        {
          "output_type": "stream",
          "text": [
            "Model: \"sequential_23\"\n",
            "_________________________________________________________________\n",
            "Layer (type)                 Output Shape              Param #   \n",
            "=================================================================\n",
            "dense_78 (Dense)             (None, 512)               401920    \n",
            "_________________________________________________________________\n",
            "batch_normalization_56 (Batc (None, 512)               2048      \n",
            "_________________________________________________________________\n",
            "dropout_56 (Dropout)         (None, 512)               0         \n",
            "_________________________________________________________________\n",
            "dense_79 (Dense)             (None, 456)               233928    \n",
            "_________________________________________________________________\n",
            "batch_normalization_57 (Batc (None, 456)               1824      \n",
            "_________________________________________________________________\n",
            "dropout_57 (Dropout)         (None, 456)               0         \n",
            "_________________________________________________________________\n",
            "dense_80 (Dense)             (None, 392)               179144    \n",
            "_________________________________________________________________\n",
            "batch_normalization_58 (Batc (None, 392)               1568      \n",
            "_________________________________________________________________\n",
            "dropout_58 (Dropout)         (None, 392)               0         \n",
            "_________________________________________________________________\n",
            "dense_81 (Dense)             (None, 256)               100608    \n",
            "_________________________________________________________________\n",
            "batch_normalization_59 (Batc (None, 256)               1024      \n",
            "_________________________________________________________________\n",
            "dropout_59 (Dropout)         (None, 256)               0         \n",
            "_________________________________________________________________\n",
            "dense_82 (Dense)             (None, 128)               32896     \n",
            "_________________________________________________________________\n",
            "batch_normalization_60 (Batc (None, 128)               512       \n",
            "_________________________________________________________________\n",
            "dropout_60 (Dropout)         (None, 128)               0         \n",
            "_________________________________________________________________\n",
            "dense_83 (Dense)             (None, 10)                1290      \n",
            "=================================================================\n",
            "Total params: 956,762\n",
            "Trainable params: 953,274\n",
            "Non-trainable params: 3,488\n",
            "_________________________________________________________________\n",
            "Train on 60000 samples, validate on 10000 samples\n",
            "Epoch 1/30\n",
            "60000/60000 [==============================] - 19s 314us/step - loss: 0.9767 - acc: 0.6942 - val_loss: 0.2241 - val_acc: 0.9364\n",
            "Epoch 2/30\n",
            "60000/60000 [==============================] - 10s 173us/step - loss: 0.3401 - acc: 0.9007 - val_loss: 0.1558 - val_acc: 0.9557\n",
            "Epoch 3/30\n",
            "60000/60000 [==============================] - 10s 173us/step - loss: 0.2488 - acc: 0.9290 - val_loss: 0.1248 - val_acc: 0.9651\n",
            "Epoch 4/30\n",
            "60000/60000 [==============================] - 10s 175us/step - loss: 0.2093 - acc: 0.9408 - val_loss: 0.1090 - val_acc: 0.9698\n",
            "Epoch 5/30\n",
            "60000/60000 [==============================] - 10s 174us/step - loss: 0.1804 - acc: 0.9489 - val_loss: 0.1002 - val_acc: 0.9714\n",
            "Epoch 6/30\n",
            "60000/60000 [==============================] - 10s 174us/step - loss: 0.1651 - acc: 0.9534 - val_loss: 0.0966 - val_acc: 0.9736\n",
            "Epoch 7/30\n",
            "60000/60000 [==============================] - 11s 177us/step - loss: 0.1526 - acc: 0.9569 - val_loss: 0.0889 - val_acc: 0.9757\n",
            "Epoch 8/30\n",
            "60000/60000 [==============================] - 10s 173us/step - loss: 0.1375 - acc: 0.9618 - val_loss: 0.0843 - val_acc: 0.9770\n",
            "Epoch 9/30\n",
            "60000/60000 [==============================] - 10s 174us/step - loss: 0.1343 - acc: 0.9637 - val_loss: 0.0852 - val_acc: 0.9769\n",
            "Epoch 10/30\n",
            "60000/60000 [==============================] - 10s 173us/step - loss: 0.1224 - acc: 0.9656 - val_loss: 0.0810 - val_acc: 0.9789\n",
            "Epoch 11/30\n",
            "60000/60000 [==============================] - 10s 171us/step - loss: 0.1142 - acc: 0.9680 - val_loss: 0.0750 - val_acc: 0.9799\n",
            "Epoch 12/30\n",
            "60000/60000 [==============================] - 10s 171us/step - loss: 0.1098 - acc: 0.9688 - val_loss: 0.0702 - val_acc: 0.9806\n",
            "Epoch 13/30\n",
            "60000/60000 [==============================] - 11s 178us/step - loss: 0.1027 - acc: 0.9713 - val_loss: 0.0733 - val_acc: 0.9807\n",
            "Epoch 14/30\n",
            "60000/60000 [==============================] - 11s 176us/step - loss: 0.1032 - acc: 0.9712 - val_loss: 0.0713 - val_acc: 0.9808\n",
            "Epoch 15/30\n",
            "60000/60000 [==============================] - 11s 176us/step - loss: 0.0977 - acc: 0.9724 - val_loss: 0.0722 - val_acc: 0.9805\n",
            "Epoch 16/30\n",
            "60000/60000 [==============================] - 11s 176us/step - loss: 0.0920 - acc: 0.9742 - val_loss: 0.0698 - val_acc: 0.9807\n",
            "Epoch 17/30\n",
            "60000/60000 [==============================] - 11s 176us/step - loss: 0.0917 - acc: 0.9738 - val_loss: 0.0698 - val_acc: 0.9819\n",
            "Epoch 18/30\n",
            "60000/60000 [==============================] - 11s 176us/step - loss: 0.0869 - acc: 0.9759 - val_loss: 0.0622 - val_acc: 0.9830\n",
            "Epoch 19/30\n",
            "60000/60000 [==============================] - 10s 172us/step - loss: 0.0859 - acc: 0.9757 - val_loss: 0.0658 - val_acc: 0.9823\n",
            "Epoch 20/30\n",
            "60000/60000 [==============================] - 11s 176us/step - loss: 0.0813 - acc: 0.9773 - val_loss: 0.0654 - val_acc: 0.9808\n",
            "Epoch 21/30\n",
            "60000/60000 [==============================] - 11s 175us/step - loss: 0.0759 - acc: 0.9788 - val_loss: 0.0635 - val_acc: 0.9838\n",
            "Epoch 22/30\n",
            "60000/60000 [==============================] - 11s 178us/step - loss: 0.0754 - acc: 0.9789 - val_loss: 0.0624 - val_acc: 0.9844\n",
            "Epoch 23/30\n",
            "60000/60000 [==============================] - 11s 181us/step - loss: 0.0711 - acc: 0.9802 - val_loss: 0.0646 - val_acc: 0.9836\n",
            "Epoch 24/30\n",
            "60000/60000 [==============================] - 11s 179us/step - loss: 0.0722 - acc: 0.9792 - val_loss: 0.0690 - val_acc: 0.9821\n",
            "Epoch 25/30\n",
            "60000/60000 [==============================] - 11s 176us/step - loss: 0.0696 - acc: 0.9800 - val_loss: 0.0604 - val_acc: 0.9841\n",
            "Epoch 26/30\n",
            "60000/60000 [==============================] - 11s 177us/step - loss: 0.0698 - acc: 0.9802 - val_loss: 0.0599 - val_acc: 0.9846\n",
            "Epoch 27/30\n",
            "60000/60000 [==============================] - 11s 177us/step - loss: 0.0648 - acc: 0.9819 - val_loss: 0.0609 - val_acc: 0.9845\n",
            "Epoch 28/30\n",
            "60000/60000 [==============================] - 11s 178us/step - loss: 0.0626 - acc: 0.9822 - val_loss: 0.0590 - val_acc: 0.9845\n",
            "Epoch 29/30\n",
            "60000/60000 [==============================] - 10s 174us/step - loss: 0.0596 - acc: 0.9832 - val_loss: 0.0631 - val_acc: 0.9837\n",
            "Epoch 30/30\n",
            "60000/60000 [==============================] - 11s 175us/step - loss: 0.0571 - acc: 0.9838 - val_loss: 0.0601 - val_acc: 0.9857\n"
          ],
          "name": "stdout"
        }
      ]
    },
    {
      "cell_type": "code",
      "metadata": {
        "colab_type": "code",
        "outputId": "cfe51b74-cd96-4691-e897-7591ad9e9f0f",
        "id": "7Q1Xqg0D7tKF",
        "colab": {
          "base_uri": "https://localhost:8080/",
          "height": 318
        }
      },
      "source": [
        "%matplotlib notebook\n",
        "%matplotlib inline\n",
        "import matplotlib.pyplot as plt\n",
        "import warnings\n",
        "warnings.filterwarnings('ignore')\n",
        "\n",
        "score10 = model10.evaluate(X_test, Y_test, verbose=0) \n",
        "print('Test score:', score10[0]) \n",
        "print('Test accuracy:', score10[1])\n",
        "\n",
        "fig10,ax10 = plt.subplots(1,1)\n",
        "ax10.set_xlabel('epoch') ; ax10.set_ylabel('Categorical Crossentropy Loss')\n",
        "\n",
        "# list of epoch numbers\n",
        "x10 = list(range(1,nb_epoch+1))\n",
        "\n",
        "vy10 = history10.history['val_loss']\n",
        "ty10 = history10.history['loss']\n",
        "plt_dynamic(x10, vy10, ty10, ax10)"
      ],
      "execution_count": 97,
      "outputs": [
        {
          "output_type": "stream",
          "text": [
            "Test score: 0.06008605453777127\n",
            "Test accuracy: 0.9857\n"
          ],
          "name": "stdout"
        },
        {
          "output_type": "display_data",
          "data": {
            "image/png": "[encoded data removed]",
            "text/plain": [
              "<Figure size 432x288 with 1 Axes>"
            ]
          },
          "metadata": {
            "tags": []
          }
        }
      ]
    },
    {
      "cell_type": "markdown",
      "metadata": {
        "id": "zdJpovChcxL6",
        "colab_type": "text"
      },
      "source": [
        "\n",
        "\n",
        "\n",
        "S.No | Architecture          | Score         | Test Accuracy|\n",
        "-----| ----------------------|---------------| ------------ |\n",
        "1.   |    784-366-100-10     |0.0578912589   |0.9844        | \n",
        "2.   | 784-456-128-10        |0.0567212487   |0.984         |2 Hidden Layers\n",
        "3.   | 784-256-128-10        |0.058956212    |0.9823        |\n",
        "4.   |784-256-96-10          |0.062314528    |0.9832        |\n",
        "-----|-----------------------|---------------|--------------|\n",
        "5.   |    784-366-100-10     |0.057912785    |0.9846        | \n",
        "6.   | 784-600-300-100-10    |0.054455478    |0.9857        |3 Hidden Layers\n",
        "7.   | 784-512-456-128-10    |0.057914488    |0.9839        |\n",
        "8.   |784-456-128-32-10      |0.06451866     |0.9845        |\n",
        "-----|-----------------------|---------------|--------------|\n",
        "9.   |-600-500-400-200-128-  |0.05667422     |0.9854        |\n",
        "10.  |-512-456-392-256-128-  |0.06008605     |0.9857        |5 Hidden Layers\n",
        "\n",
        "\n"
      ]
    },
    {
      "cell_type": "markdown",
      "metadata": {
        "id": "yNVkJel-p6Ak",
        "colab_type": "text"
      },
      "source": [
        "\n",
        "Model 1 ,2 ,3, 4 --> 2 Hidden Layers\n",
        "------------------------------------\n",
        "Model 5 ,6 ,7, 8 --> 3 Hidden Layers\n",
        "------------------------------------\n",
        "Model 9, 10      --> 5 Hidden Layers\n",
        "--------------------------------------\n",
        "'''"
      ]
    },
    {
      "cell_type": "markdown",
      "metadata": {
        "id": "kSxe1Wb6oaO3",
        "colab_type": "text"
      },
      "source": [
        "So in general we do notice as numbers of layer increase Test Accuracy do increase however MNIST dataset is so simple and increase is so nomimal we should not be commenting on the basis of this.\n",
        "Also we see the dataset where first layer has lesser number of neurons compared to other architecture tend to perform worser. Example whenever our first hidden layer is low like 256 or 366 (check model 3,4 and 5) accuracy is lower. \n",
        "Again as i mentioned this dataset is so simple and gain in accuracy is so nominal we should not be \"concluding\" right away but in general these two points we do notice."
      ]
    }
  ]
}