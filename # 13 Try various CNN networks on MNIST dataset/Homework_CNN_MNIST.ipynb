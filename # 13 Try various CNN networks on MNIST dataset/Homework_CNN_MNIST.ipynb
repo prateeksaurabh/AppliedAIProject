{
  "nbformat": 4,
  "nbformat_minor": 0,
  "metadata": {
    "colab": {
      "name": "Homework_CNN_MNIST.ipynb",
      "provenance": [],
      "collapsed_sections": []
    },
    "kernelspec": {
      "name": "python3",
      "display_name": "Python 3"
    },
    "accelerator": "GPU"
  },
  "cells": [
    {
      "cell_type": "code",
      "metadata": {
        "id": "H9EU0e8yzFOm",
        "colab_type": "code",
        "colab": {}
      },
      "source": [
        "# Credits: https://github.com/keras-team/keras/blob/master/examples/mnist_cnn.py\n",
        "\n",
        "\n",
        "from __future__ import print_function\n",
        "import keras\n",
        "from keras.datasets import mnist\n",
        "from keras.models import Sequential\n",
        "from keras.layers import Dense, Dropout, Flatten\n",
        "from keras.layers import Conv2D, MaxPooling2D\n",
        "from keras import backend as K\n",
        "\n",
        "batch_size = 128\n",
        "num_classes = 10\n",
        "epochs = 15\n",
        "\n",
        "# input image dimensions\n",
        "img_rows, img_cols = 28, 28\n",
        "\n",
        "# the data, split between train and test sets\n",
        "(x_train, y_train), (x_test, y_test) = mnist.load_data()"
      ],
      "execution_count": 0,
      "outputs": []
    },
    {
      "cell_type": "code",
      "metadata": {
        "id": "3vE-PmoRzWCZ",
        "colab_type": "code",
        "colab": {
          "base_uri": "https://localhost:8080/",
          "height": 34
        },
        "outputId": "d3f468ca-3453-4662-b608-2c5575263885"
      },
      "source": [
        "print (x_train.shape)"
      ],
      "execution_count": 49,
      "outputs": [
        {
          "output_type": "stream",
          "text": [
            "(60000, 28, 28)\n"
          ],
          "name": "stdout"
        }
      ]
    },
    {
      "cell_type": "code",
      "metadata": {
        "id": "WZHVoIfDx8kS",
        "colab_type": "code",
        "colab": {}
      },
      "source": [
        "if K.image_data_format() == 'channels_first':\n",
        "    x_train = x_train.reshape(x_train.shape[0], 1, img_rows, img_cols)\n",
        "    x_test = x_test.reshape(x_test.shape[0], 1, img_rows, img_cols)\n",
        "    input_shape = (1, img_rows, img_cols)\n",
        "else:\n",
        "    x_train = x_train.reshape(x_train.shape[0], img_rows, img_cols, 1)\n",
        "    x_test = x_test.reshape(x_test.shape[0], img_rows, img_cols, 1)\n",
        "    input_shape = (img_rows, img_cols, 1)\n",
        "\n"
      ],
      "execution_count": 0,
      "outputs": []
    },
    {
      "cell_type": "code",
      "metadata": {
        "id": "dmLJmprqyocO",
        "colab_type": "code",
        "colab": {
          "base_uri": "https://localhost:8080/",
          "height": 34
        },
        "outputId": "875caf61-0d2b-48ae-ef0a-fc66a8420b65"
      },
      "source": [
        "print (K.image_data_format())"
      ],
      "execution_count": 51,
      "outputs": [
        {
          "output_type": "stream",
          "text": [
            "channels_last\n"
          ],
          "name": "stdout"
        }
      ]
    },
    {
      "cell_type": "code",
      "metadata": {
        "id": "TqpD3e5_yNP8",
        "colab_type": "code",
        "colab": {
          "base_uri": "https://localhost:8080/",
          "height": 70
        },
        "outputId": "b8295bee-6b9f-4926-b302-d6f7e0f12d65"
      },
      "source": [
        "x_train = x_train.astype('float32')\n",
        "x_test = x_test.astype('float32')\n",
        "x_train /= 255\n",
        "x_test /= 255\n",
        "print('x_train shape:', x_train.shape)\n",
        "print(x_train.shape[0], 'train samples')\n",
        "print(x_test.shape[0], 'test samples')\n",
        "\n"
      ],
      "execution_count": 52,
      "outputs": [
        {
          "output_type": "stream",
          "text": [
            "x_train shape: (60000, 28, 28, 1)\n",
            "60000 train samples\n",
            "10000 test samples\n"
          ],
          "name": "stdout"
        }
      ]
    },
    {
      "cell_type": "code",
      "metadata": {
        "id": "E50EcGDByQ-Q",
        "colab_type": "code",
        "colab": {}
      },
      "source": [
        "# convert class vectors to binary class matrices\n",
        "y_train = keras.utils.to_categorical(y_train, num_classes)\n",
        "y_test = keras.utils.to_categorical(y_test, num_classes)"
      ],
      "execution_count": 0,
      "outputs": []
    },
    {
      "cell_type": "markdown",
      "metadata": {
        "id": "UIqq2VKU2xzG",
        "colab_type": "text"
      },
      "source": [
        "Architecture 0 : This is the exact code from assignment"
      ]
    },
    {
      "cell_type": "code",
      "metadata": {
        "id": "CRClz2PJyUHT",
        "colab_type": "code",
        "colab": {
          "base_uri": "https://localhost:8080/",
          "height": 598
        },
        "outputId": "c8510897-d4c4-421d-da90-af99c765e04a"
      },
      "source": [
        "model = Sequential()\n",
        "model.add(Conv2D(32, kernel_size=(3, 3),\n",
        "                 activation='relu',\n",
        "                 input_shape=input_shape))\n",
        "model.add(Conv2D(64, (3, 3), activation='relu'))\n",
        "model.add(MaxPooling2D(pool_size=(2, 2)))\n",
        "model.add(Dropout(0.25))\n",
        "model.add(Flatten())\n",
        "model.add(Dense(128, activation='relu'))\n",
        "model.add(Dropout(0.5))\n",
        "model.add(Dense(num_classes, activation='softmax'))\n",
        "model.compile(loss=keras.losses.categorical_crossentropy,\n",
        "              optimizer=keras.optimizers.Adadelta(),\n",
        "              metrics=['accuracy'])\n",
        "model.fit(x_train, y_train,\n",
        "          batch_size=batch_size,\n",
        "          epochs=epochs,\n",
        "          verbose=1,\n",
        "          validation_data=(x_test, y_test))\n",
        "score = model.evaluate(x_test, y_test, verbose=0)\n",
        "print('Test loss:', score[0])\n",
        "print('Test accuracy:', score[1])"
      ],
      "execution_count": 54,
      "outputs": [
        {
          "output_type": "stream",
          "text": [
            "Train on 60000 samples, validate on 10000 samples\n",
            "Epoch 1/15\n",
            "60000/60000 [==============================] - 12s 195us/step - loss: 0.2662 - acc: 0.9197 - val_loss: 0.0615 - val_acc: 0.9815\n",
            "Epoch 2/15\n",
            "60000/60000 [==============================] - 9s 153us/step - loss: 0.0918 - acc: 0.9729 - val_loss: 0.0400 - val_acc: 0.9862\n",
            "Epoch 3/15\n",
            "60000/60000 [==============================] - 9s 151us/step - loss: 0.0662 - acc: 0.9798 - val_loss: 0.0349 - val_acc: 0.9887\n",
            "Epoch 4/15\n",
            "60000/60000 [==============================] - 9s 151us/step - loss: 0.0580 - acc: 0.9824 - val_loss: 0.0403 - val_acc: 0.9868\n",
            "Epoch 5/15\n",
            "60000/60000 [==============================] - 9s 152us/step - loss: 0.0475 - acc: 0.9860 - val_loss: 0.0301 - val_acc: 0.9899\n",
            "Epoch 6/15\n",
            "60000/60000 [==============================] - 9s 153us/step - loss: 0.0421 - acc: 0.9872 - val_loss: 0.0327 - val_acc: 0.9885\n",
            "Epoch 7/15\n",
            "60000/60000 [==============================] - 9s 152us/step - loss: 0.0364 - acc: 0.9888 - val_loss: 0.0288 - val_acc: 0.9909\n",
            "Epoch 8/15\n",
            "60000/60000 [==============================] - 9s 152us/step - loss: 0.0326 - acc: 0.9902 - val_loss: 0.0297 - val_acc: 0.9900\n",
            "Epoch 9/15\n",
            "60000/60000 [==============================] - 9s 151us/step - loss: 0.0306 - acc: 0.9903 - val_loss: 0.0263 - val_acc: 0.9916\n",
            "Epoch 10/15\n",
            "60000/60000 [==============================] - 9s 154us/step - loss: 0.0296 - acc: 0.9909 - val_loss: 0.0277 - val_acc: 0.9911\n",
            "Epoch 11/15\n",
            "60000/60000 [==============================] - 9s 150us/step - loss: 0.0267 - acc: 0.9920 - val_loss: 0.0248 - val_acc: 0.9928\n",
            "Epoch 12/15\n",
            "60000/60000 [==============================] - 9s 151us/step - loss: 0.0241 - acc: 0.9926 - val_loss: 0.0261 - val_acc: 0.9912\n",
            "Epoch 13/15\n",
            "60000/60000 [==============================] - 9s 152us/step - loss: 0.0243 - acc: 0.9924 - val_loss: 0.0271 - val_acc: 0.9920\n",
            "Epoch 14/15\n",
            "60000/60000 [==============================] - 9s 153us/step - loss: 0.0237 - acc: 0.9930 - val_loss: 0.0256 - val_acc: 0.9917\n",
            "Epoch 15/15\n",
            "60000/60000 [==============================] - 9s 151us/step - loss: 0.0224 - acc: 0.9927 - val_loss: 0.0236 - val_acc: 0.9927\n",
            "Test loss: 0.023590631753996786\n",
            "Test accuracy: 0.9927\n"
          ],
          "name": "stdout"
        }
      ]
    },
    {
      "cell_type": "markdown",
      "metadata": {
        "id": "5fvTOuOR3IVD",
        "colab_type": "text"
      },
      "source": [
        "Model :1\n",
        "****************\n",
        "Architecture 1: (In the architecture in this assignemnt after flattening lets directly put into softmax the reason being i would personally like to observe what affects convulation brings in as in previous assignment we already tried 2,3,5 hidden layers and we saw without convolution we can have greater than 97% accuracy. However may be 1 architecture i would like to try with multiple MLPs after flattening too. Lets get started).\n",
        "\n",
        "Lets Try: (3x3 kernel)\n",
        "************************************************************************************\n",
        "\n",
        "Lets try:\n",
        "\n",
        "2 Conv Layers --> MaxPool --> Dropout -->2 Conv Layers --> Dropout --> Flatenning --> softmax"
      ]
    },
    {
      "cell_type": "code",
      "metadata": {
        "id": "7LX6KRiNya1Z",
        "colab_type": "code",
        "colab": {
          "base_uri": "https://localhost:8080/",
          "height": 598
        },
        "outputId": "932375c1-bfb5-4f36-e51e-669fce21a1fe"
      },
      "source": [
        "import warnings\n",
        "warnings.filterwarnings('ignore')\n",
        "\n",
        "model1 = Sequential()\n",
        "model1.add(Conv2D(32, kernel_size=(3, 3),\n",
        "                 activation='relu',\n",
        "                 input_shape=input_shape))\n",
        "model1.add(Conv2D(64, (3, 3), activation='relu'))\n",
        "model1.add(MaxPooling2D(pool_size=(2, 2)))\n",
        "model1.add(Dropout(0.25))\n",
        "model1.add(Conv2D(76, kernel_size=(3, 3),\n",
        "                 activation='relu',\n",
        "                 input_shape=input_shape))\n",
        "model1.add(Conv2D(116, (3, 3), activation='relu'))\n",
        "model1.add(Dropout(0.25))\n",
        "model1.add(Flatten())\n",
        "model1.add(Dense(128, activation='relu'))\n",
        "model1.add(Dropout(0.5))\n",
        "model1.add(Dense(num_classes, activation='softmax'))\n",
        "model1.compile(loss=keras.losses.categorical_crossentropy,\n",
        "              optimizer=keras.optimizers.Adadelta(),\n",
        "              metrics=['accuracy'])\n",
        "history1 = model1.fit(x_train, y_train,\n",
        "          batch_size=batch_size,\n",
        "          epochs=epochs,\n",
        "          verbose=1,\n",
        "          validation_data=(x_test, y_test))\n",
        "score1 = model1.evaluate(x_test, y_test, verbose=0)\n",
        "print('Test loss:', score1[0])\n",
        "print('Test accuracy:', score1[1])"
      ],
      "execution_count": 55,
      "outputs": [
        {
          "output_type": "stream",
          "text": [
            "Train on 60000 samples, validate on 10000 samples\n",
            "Epoch 1/15\n",
            "60000/60000 [==============================] - 17s 282us/step - loss: 0.2504 - acc: 0.9214 - val_loss: 0.0407 - val_acc: 0.9870\n",
            "Epoch 2/15\n",
            "60000/60000 [==============================] - 14s 236us/step - loss: 0.0691 - acc: 0.9798 - val_loss: 0.0297 - val_acc: 0.9896\n",
            "Epoch 3/15\n",
            "60000/60000 [==============================] - 14s 240us/step - loss: 0.0492 - acc: 0.9861 - val_loss: 0.0261 - val_acc: 0.9914\n",
            "Epoch 4/15\n",
            "60000/60000 [==============================] - 14s 236us/step - loss: 0.0385 - acc: 0.9886 - val_loss: 0.0253 - val_acc: 0.9916\n",
            "Epoch 5/15\n",
            "60000/60000 [==============================] - 14s 236us/step - loss: 0.0330 - acc: 0.9903 - val_loss: 0.0219 - val_acc: 0.9932\n",
            "Epoch 6/15\n",
            "60000/60000 [==============================] - 14s 236us/step - loss: 0.0287 - acc: 0.9915 - val_loss: 0.0193 - val_acc: 0.9934\n",
            "Epoch 7/15\n",
            "60000/60000 [==============================] - 14s 237us/step - loss: 0.0247 - acc: 0.9924 - val_loss: 0.0218 - val_acc: 0.9935\n",
            "Epoch 8/15\n",
            "60000/60000 [==============================] - 14s 237us/step - loss: 0.0222 - acc: 0.9938 - val_loss: 0.0181 - val_acc: 0.9934\n",
            "Epoch 9/15\n",
            "60000/60000 [==============================] - 14s 236us/step - loss: 0.0207 - acc: 0.9937 - val_loss: 0.0165 - val_acc: 0.9951\n",
            "Epoch 10/15\n",
            "60000/60000 [==============================] - 14s 236us/step - loss: 0.0186 - acc: 0.9941 - val_loss: 0.0181 - val_acc: 0.9943\n",
            "Epoch 11/15\n",
            "60000/60000 [==============================] - 14s 237us/step - loss: 0.0162 - acc: 0.9952 - val_loss: 0.0191 - val_acc: 0.9947\n",
            "Epoch 12/15\n",
            "60000/60000 [==============================] - 14s 236us/step - loss: 0.0143 - acc: 0.9957 - val_loss: 0.0206 - val_acc: 0.9943\n",
            "Epoch 13/15\n",
            "60000/60000 [==============================] - 14s 236us/step - loss: 0.0133 - acc: 0.9960 - val_loss: 0.0226 - val_acc: 0.9934\n",
            "Epoch 14/15\n",
            "60000/60000 [==============================] - 14s 235us/step - loss: 0.0124 - acc: 0.9963 - val_loss: 0.0179 - val_acc: 0.9955\n",
            "Epoch 15/15\n",
            "60000/60000 [==============================] - 14s 235us/step - loss: 0.0121 - acc: 0.9962 - val_loss: 0.0186 - val_acc: 0.9946\n",
            "Test loss: 0.018639867549146902\n",
            "Test accuracy: 0.9946\n"
          ],
          "name": "stdout"
        }
      ]
    },
    {
      "cell_type": "code",
      "metadata": {
        "id": "xnseJ_iarVjR",
        "colab_type": "code",
        "colab": {}
      },
      "source": [
        "%matplotlib notebook\n",
        "%matplotlib inline\n",
        "import matplotlib.pyplot as plt\n",
        "import numpy as np\n",
        "import time\n",
        "# https://gist.github.com/greydanus/f6eee59eaf1d90fcb3b534a25362cea4\n",
        "# https://stackoverflow.com/a/14434334\n",
        "# this function is used to update the plots for each epoch and error\n",
        "def plt_dynamic(x, vy, ty, ax, colors=['b']):\n",
        "    ax.plot(x, vy, 'b', label=\"Validation Loss\")\n",
        "    ax.plot(x, ty, 'r', label=\"Train Loss\")\n",
        "    plt.legend()\n",
        "    plt.grid()\n",
        "    fig.canvas.draw()"
      ],
      "execution_count": 0,
      "outputs": []
    },
    {
      "cell_type": "code",
      "metadata": {
        "id": "GBtJ5IlXow3M",
        "colab_type": "code",
        "colab": {
          "base_uri": "https://localhost:8080/",
          "height": 318
        },
        "outputId": "b650c2d0-a10a-4adf-ad69-2ca9f33edf17"
      },
      "source": [
        "%matplotlib notebook\n",
        "%matplotlib inline\n",
        "import matplotlib.pyplot as plt\n",
        "\n",
        "score1 = model1.evaluate(x_test, y_test, verbose=0) \n",
        "print('Test score:', score1[0]) \n",
        "print('Test accuracy:', score1[1])\n",
        "\n",
        "fig,ax = plt.subplots(1,1)\n",
        "ax.set_xlabel('epoch') ; ax.set_ylabel('Categorical Crossentropy Loss')\n",
        "\n",
        "# list of epoch numbers\n",
        "x = list(range(1,epochs+1))\n",
        "\n",
        "# print(history.history.keys())\n",
        "# dict_keys(['val_loss', 'val_acc', 'loss', 'acc'])\n",
        "# history = model_drop.fit(X_train, Y_train, batch_size=batch_size, epochs=nb_epoch, verbose=1, validation_data=(X_test, Y_test))\n",
        "\n",
        "# we will get val_loss and val_acc only when you pass the paramter validation_data\n",
        "# val_loss : validation loss\n",
        "# val_acc : validation accuracy\n",
        "\n",
        "# loss : training loss\n",
        "# acc : train accuracy\n",
        "# for each key in histrory.histrory we will have a list of length equal to number of epochs\n",
        "\n",
        "\n",
        "vy1 = history1.history['val_loss']\n",
        "ty1 = history1.history['loss']\n",
        "plt_dynamic(x, vy1, ty1, ax)"
      ],
      "execution_count": 57,
      "outputs": [
        {
          "output_type": "stream",
          "text": [
            "Test score: 0.018639867549146902\n",
            "Test accuracy: 0.9946\n"
          ],
          "name": "stdout"
        },
        {
          "output_type": "display_data",
          "data": {
            "image/png": "[encoded data removed]",
            "text/plain": [
              "<Figure size 432x288 with 1 Axes>"
            ]
          },
          "metadata": {
            "tags": []
          }
        }
      ]
    },
    {
      "cell_type": "markdown",
      "metadata": {
        "colab_type": "text",
        "id": "K0F10uxD-IpH"
      },
      "source": [
        "Model 2:\n",
        "************************\n",
        "Architecture 1B: (5x5 Kernel)\n",
        "\n",
        "************************************************************************************\n",
        "\n",
        "Lets try 2 Conv Layers --> MaxPool --> Dropout -->2 Conv Layers --> Max Pool --> Dropout --> Flatenning --> softmax"
      ]
    },
    {
      "cell_type": "code",
      "metadata": {
        "colab_type": "code",
        "id": "4mYkP6Cd-IpN",
        "colab": {
          "base_uri": "https://localhost:8080/",
          "height": 598
        },
        "outputId": "aea43d47-4558-4f45-9dea-b340e2c87cfd"
      },
      "source": [
        "import warnings\n",
        "warnings.filterwarnings('ignore')\n",
        "\n",
        "model2 = Sequential()\n",
        "model2.add(Conv2D(32, kernel_size=(5, 5),\n",
        "                 activation='relu',\n",
        "                 input_shape=input_shape))\n",
        "model2.add(Conv2D(64, (3, 3), activation='relu'))\n",
        "model2.add(MaxPooling2D(pool_size=(2, 2)))\n",
        "model2.add(Dropout(0.25))\n",
        "model2.add(Conv2D(76, kernel_size=(5, 5),\n",
        "                 activation='relu',\n",
        "                 input_shape=input_shape))\n",
        "model2.add(Conv2D(116, (3, 3), activation='relu'))\n",
        "model2.add(Dropout(0.25))\n",
        "model2.add(Flatten())\n",
        "model2.add(Dense(128, activation='relu'))\n",
        "model2.add(Dropout(0.5))\n",
        "model2.add(Dense(num_classes, activation='softmax'))\n",
        "model2.compile(loss=keras.losses.categorical_crossentropy,\n",
        "              optimizer=keras.optimizers.Adadelta(),\n",
        "              metrics=['accuracy'])\n",
        "history2=model2.fit(x_train, y_train,\n",
        "          batch_size=batch_size,\n",
        "          epochs=epochs,\n",
        "          verbose=1,\n",
        "          validation_data=(x_test, y_test))\n",
        "score2 = model2.evaluate(x_test, y_test, verbose=0)\n",
        "print('Test loss:', score2[0])\n",
        "print('Test accuracy:', score2[1])"
      ],
      "execution_count": 58,
      "outputs": [
        {
          "output_type": "stream",
          "text": [
            "Train on 60000 samples, validate on 10000 samples\n",
            "Epoch 1/15\n",
            "60000/60000 [==============================] - 15s 257us/step - loss: 0.2740 - acc: 0.9140 - val_loss: 0.0538 - val_acc: 0.9828\n",
            "Epoch 2/15\n",
            "60000/60000 [==============================] - 12s 208us/step - loss: 0.0659 - acc: 0.9813 - val_loss: 0.0317 - val_acc: 0.9898\n",
            "Epoch 3/15\n",
            "60000/60000 [==============================] - 12s 208us/step - loss: 0.0466 - acc: 0.9865 - val_loss: 0.0242 - val_acc: 0.9926\n",
            "Epoch 4/15\n",
            "60000/60000 [==============================] - 12s 207us/step - loss: 0.0365 - acc: 0.9897 - val_loss: 0.0216 - val_acc: 0.9932\n",
            "Epoch 5/15\n",
            "60000/60000 [==============================] - 12s 208us/step - loss: 0.0309 - acc: 0.9909 - val_loss: 0.0185 - val_acc: 0.9941\n",
            "Epoch 6/15\n",
            "60000/60000 [==============================] - 13s 208us/step - loss: 0.0261 - acc: 0.9924 - val_loss: 0.0196 - val_acc: 0.9943\n",
            "Epoch 7/15\n",
            "60000/60000 [==============================] - 12s 208us/step - loss: 0.0219 - acc: 0.9938 - val_loss: 0.0187 - val_acc: 0.9941\n",
            "Epoch 8/15\n",
            "60000/60000 [==============================] - 13s 209us/step - loss: 0.0199 - acc: 0.9944 - val_loss: 0.0183 - val_acc: 0.9942\n",
            "Epoch 9/15\n",
            "60000/60000 [==============================] - 13s 210us/step - loss: 0.0182 - acc: 0.9945 - val_loss: 0.0198 - val_acc: 0.9942\n",
            "Epoch 10/15\n",
            "60000/60000 [==============================] - 13s 208us/step - loss: 0.0155 - acc: 0.9953 - val_loss: 0.0177 - val_acc: 0.9948\n",
            "Epoch 11/15\n",
            "60000/60000 [==============================] - 13s 210us/step - loss: 0.0143 - acc: 0.9957 - val_loss: 0.0177 - val_acc: 0.9941\n",
            "Epoch 12/15\n",
            "60000/60000 [==============================] - 13s 209us/step - loss: 0.0125 - acc: 0.9960 - val_loss: 0.0177 - val_acc: 0.9950\n",
            "Epoch 13/15\n",
            "60000/60000 [==============================] - 12s 208us/step - loss: 0.0132 - acc: 0.9963 - val_loss: 0.0189 - val_acc: 0.9941\n",
            "Epoch 14/15\n",
            "60000/60000 [==============================] - 13s 209us/step - loss: 0.0105 - acc: 0.9969 - val_loss: 0.0193 - val_acc: 0.9948\n",
            "Epoch 15/15\n",
            "60000/60000 [==============================] - 12s 207us/step - loss: 0.0097 - acc: 0.9970 - val_loss: 0.0167 - val_acc: 0.9956\n",
            "Test loss: 0.016713278533476067\n",
            "Test accuracy: 0.9956\n"
          ],
          "name": "stdout"
        }
      ]
    },
    {
      "cell_type": "code",
      "metadata": {
        "id": "k5W53leirrPG",
        "colab_type": "code",
        "colab": {
          "base_uri": "https://localhost:8080/",
          "height": 318
        },
        "outputId": "01d4948f-8a0d-4b18-d009-6af6b01840d3"
      },
      "source": [
        "%matplotlib notebook\n",
        "%matplotlib inline\n",
        "import matplotlib.pyplot as plt\n",
        "\n",
        "score2 = model2.evaluate(x_test, y_test, verbose=0) \n",
        "print('Test score:', score2[0]) \n",
        "print('Test accuracy:', score2[1])\n",
        "\n",
        "fig,ax = plt.subplots(1,1)\n",
        "ax.set_xlabel('epoch') ; ax.set_ylabel('Categorical Crossentropy Loss')\n",
        "\n",
        "# list of epoch numbers\n",
        "x = list(range(1,epochs+1))\n",
        "\n",
        "# print(history.history.keys())\n",
        "# dict_keys(['val_loss', 'val_acc', 'loss', 'acc'])\n",
        "# history = model_drop.fit(X_train, Y_train, batch_size=batch_size, epochs=nb_epoch, verbose=1, validation_data=(X_test, Y_test))\n",
        "\n",
        "# we will get val_loss and val_acc only when you pass the paramter validation_data\n",
        "# val_loss : validation loss\n",
        "# val_acc : validation accuracy\n",
        "\n",
        "# loss : training loss\n",
        "# acc : train accuracy\n",
        "# for each key in histrory.histrory we will have a list of length equal to number of epochs\n",
        "\n",
        "\n",
        "vy2 = history2.history['val_loss']\n",
        "ty2 = history2.history['loss']\n",
        "plt_dynamic(x, vy2, ty2, ax)"
      ],
      "execution_count": 59,
      "outputs": [
        {
          "output_type": "stream",
          "text": [
            "Test score: 0.016713278533476067\n",
            "Test accuracy: 0.9956\n"
          ],
          "name": "stdout"
        },
        {
          "output_type": "display_data",
          "data": {
            "image/png": "[encoded data removed]",
            "text/plain": [
              "<Figure size 432x288 with 1 Axes>"
            ]
          },
          "metadata": {
            "tags": []
          }
        }
      ]
    },
    {
      "cell_type": "markdown",
      "metadata": {
        "colab_type": "text",
        "id": "rlFKTIiV-qLX"
      },
      "source": [
        "Model 3:\n",
        "*********************\n",
        "Architecture 1c: (Lets try 3x3 and 5x5 kenel both).\n",
        "\n",
        "************************************************************************************\n",
        "\n",
        "Lets try 2 Conv Layers --> MaxPool --> Dropout -->2 Conv Layers --> Max Pool --> Dropout --> Flatenning --> softmax"
      ]
    },
    {
      "cell_type": "code",
      "metadata": {
        "colab_type": "code",
        "id": "X8k62mQw-qLi",
        "colab": {
          "base_uri": "https://localhost:8080/",
          "height": 598
        },
        "outputId": "9faa7629-749e-4fd2-b9f2-409f7c50b8f1"
      },
      "source": [
        "import warnings\n",
        "warnings.filterwarnings('ignore')\n",
        "\n",
        "model3 = Sequential()\n",
        "model3.add(Conv2D(32, kernel_size=(3, 3),\n",
        "                 activation='relu',\n",
        "                 input_shape=input_shape))\n",
        "model3.add(Conv2D(64, (3, 3), activation='relu'))\n",
        "model3.add(MaxPooling2D(pool_size=(2, 2)))\n",
        "model3.add(Dropout(0.25))\n",
        "model3.add(Conv2D(76, kernel_size=(5, 5),\n",
        "                 activation='relu',\n",
        "                 input_shape=input_shape))\n",
        "model3.add(Conv2D(116, (3, 3), activation='relu'))\n",
        "model3.add(Dropout(0.25))\n",
        "model3.add(Flatten())\n",
        "model3.add(Dense(128, activation='relu'))\n",
        "model3.add(Dropout(0.5))\n",
        "model3.add(Dense(num_classes, activation='softmax'))\n",
        "model3.compile(loss=keras.losses.categorical_crossentropy,\n",
        "              optimizer=keras.optimizers.Adadelta(),\n",
        "              metrics=['accuracy'])\n",
        "history3=model3.fit(x_train, y_train,\n",
        "          batch_size=batch_size,\n",
        "          epochs=epochs,\n",
        "          verbose=1,\n",
        "          validation_data=(x_test, y_test))\n",
        "score3 = model3.evaluate(x_test, y_test, verbose=0)\n",
        "print('Test loss:', score3[0])\n",
        "print('Test accuracy:', score3[1])"
      ],
      "execution_count": 60,
      "outputs": [
        {
          "output_type": "stream",
          "text": [
            "Train on 60000 samples, validate on 10000 samples\n",
            "Epoch 1/15\n",
            "60000/60000 [==============================] - 17s 278us/step - loss: 0.2713 - acc: 0.9162 - val_loss: 0.0412 - val_acc: 0.9874\n",
            "Epoch 2/15\n",
            "60000/60000 [==============================] - 13s 221us/step - loss: 0.0655 - acc: 0.9812 - val_loss: 0.0300 - val_acc: 0.9905\n",
            "Epoch 3/15\n",
            "60000/60000 [==============================] - 13s 221us/step - loss: 0.0450 - acc: 0.9871 - val_loss: 0.0287 - val_acc: 0.9913\n",
            "Epoch 4/15\n",
            "60000/60000 [==============================] - 13s 221us/step - loss: 0.0361 - acc: 0.9893 - val_loss: 0.0188 - val_acc: 0.9945\n",
            "Epoch 5/15\n",
            "60000/60000 [==============================] - 13s 222us/step - loss: 0.0290 - acc: 0.9917 - val_loss: 0.0260 - val_acc: 0.9920\n",
            "Epoch 6/15\n",
            "60000/60000 [==============================] - 13s 221us/step - loss: 0.0233 - acc: 0.9929 - val_loss: 0.0195 - val_acc: 0.9943\n",
            "Epoch 7/15\n",
            "60000/60000 [==============================] - 13s 219us/step - loss: 0.0218 - acc: 0.9935 - val_loss: 0.0191 - val_acc: 0.9945\n",
            "Epoch 8/15\n",
            "60000/60000 [==============================] - 13s 220us/step - loss: 0.0189 - acc: 0.9942 - val_loss: 0.0165 - val_acc: 0.9955\n",
            "Epoch 9/15\n",
            "60000/60000 [==============================] - 13s 219us/step - loss: 0.0164 - acc: 0.9952 - val_loss: 0.0162 - val_acc: 0.9955\n",
            "Epoch 10/15\n",
            "60000/60000 [==============================] - 13s 219us/step - loss: 0.0139 - acc: 0.9958 - val_loss: 0.0197 - val_acc: 0.9949\n",
            "Epoch 11/15\n",
            "60000/60000 [==============================] - 13s 220us/step - loss: 0.0131 - acc: 0.9965 - val_loss: 0.0197 - val_acc: 0.9945\n",
            "Epoch 12/15\n",
            "60000/60000 [==============================] - 13s 219us/step - loss: 0.0129 - acc: 0.9964 - val_loss: 0.0204 - val_acc: 0.9946\n",
            "Epoch 13/15\n",
            "60000/60000 [==============================] - 13s 221us/step - loss: 0.0113 - acc: 0.9965 - val_loss: 0.0189 - val_acc: 0.9952\n",
            "Epoch 14/15\n",
            "60000/60000 [==============================] - 13s 220us/step - loss: 0.0100 - acc: 0.9970 - val_loss: 0.0200 - val_acc: 0.9950\n",
            "Epoch 15/15\n",
            "60000/60000 [==============================] - 13s 221us/step - loss: 0.0089 - acc: 0.9973 - val_loss: 0.0215 - val_acc: 0.9957\n",
            "Test loss: 0.02145034878313072\n",
            "Test accuracy: 0.9957\n"
          ],
          "name": "stdout"
        }
      ]
    },
    {
      "cell_type": "code",
      "metadata": {
        "id": "QAOfeLIgsOLz",
        "colab_type": "code",
        "colab": {
          "base_uri": "https://localhost:8080/",
          "height": 318
        },
        "outputId": "80e249f8-9dae-478e-8174-86fac0969751"
      },
      "source": [
        "%matplotlib notebook\n",
        "%matplotlib inline\n",
        "import matplotlib.pyplot as plt\n",
        "\n",
        "score3 = model3.evaluate(x_test, y_test, verbose=0) \n",
        "print('Test score:', score3[0]) \n",
        "print('Test accuracy:', score3[1])\n",
        "\n",
        "fig,ax = plt.subplots(1,1)\n",
        "ax.set_xlabel('epoch') ; ax.set_ylabel('Categorical Crossentropy Loss')\n",
        "\n",
        "# list of epoch numbers\n",
        "x = list(range(1,epochs+1))\n",
        "\n",
        "vy3 = history3.history['val_loss']\n",
        "ty3 = history3.history['loss']\n",
        "plt_dynamic(x, vy3, ty3, ax)"
      ],
      "execution_count": 61,
      "outputs": [
        {
          "output_type": "stream",
          "text": [
            "Test score: 0.02145034878313072\n",
            "Test accuracy: 0.9957\n"
          ],
          "name": "stdout"
        },
        {
          "output_type": "display_data",
          "data": {
            "image/png": "[encoded data removed]",
            "text/plain": [
              "<Figure size 432x288 with 1 Axes>"
            ]
          },
          "metadata": {
            "tags": []
          }
        }
      ]
    },
    {
      "cell_type": "markdown",
      "metadata": {
        "id": "DceyvJTB6GzG",
        "colab_type": "text"
      },
      "source": [
        "Model 4:\n",
        "********************************\n",
        "Architecture 2: (lets try 3x3,5x5 and 1X1 kernel)\n",
        "*********************************************************\n",
        "Lets try 2 Conv Layers --> MaxPool --> Dropout -->2 Conv Layers --> Max Pool --> Dropout --> BN --> 2 Conv Layer --> Flatenning --> softmax"
      ]
    },
    {
      "cell_type": "code",
      "metadata": {
        "id": "lPV7bxw2yXVS",
        "colab_type": "code",
        "colab": {
          "base_uri": "https://localhost:8080/",
          "height": 598
        },
        "outputId": "ced1de59-0b70-42d2-dffd-8bf730acf256"
      },
      "source": [
        "from keras.layers.normalization import BatchNormalization\n",
        "\n",
        "import warnings\n",
        "warnings.filterwarnings('ignore')\n",
        "\n",
        "model4 = Sequential()\n",
        "model4.add(Conv2D(32, kernel_size=(3, 3),activation='relu',input_shape=input_shape))\n",
        "model4.add(Conv2D(64, (3, 3), activation='relu'))\n",
        "model4.add(MaxPooling2D(pool_size=(2, 2)))\n",
        "model4.add(Dropout(0.25))\n",
        "model4.add(Conv2D(76, kernel_size=(5, 5),activation='relu'))\n",
        "model4.add(Conv2D(116, (3, 3), activation='relu'))\n",
        "model4.add(MaxPooling2D(pool_size=(2, 1)))\n",
        "model4.add(Dropout(0.25))\n",
        "model4.add(BatchNormalization())\n",
        "model4.add(Conv2D(150, kernel_size=(1, 1),activation='relu'))\n",
        "model4.add(Conv2D(192, kernel_size=(1, 1),activation='relu'))\n",
        "model4.add(Flatten())\n",
        "model4.add(Dense(128, activation='relu'))\n",
        "model4.add(Dropout(0.5))\n",
        "model4.add(Dense(num_classes, activation='softmax'))\n",
        "model4.compile(loss=keras.losses.categorical_crossentropy,\n",
        "              optimizer=keras.optimizers.Adadelta(),\n",
        "              metrics=['accuracy'])\n",
        "history4=model4.fit(x_train, y_train,\n",
        "          batch_size=batch_size,\n",
        "          epochs=epochs,\n",
        "          verbose=1,\n",
        "          validation_data=(x_test, y_test))\n",
        "score4 = model4.evaluate(x_test, y_test, verbose=0)\n",
        "print('Test loss:', score4[0])\n",
        "print('Test accuracy:', score4[1])"
      ],
      "execution_count": 62,
      "outputs": [
        {
          "output_type": "stream",
          "text": [
            "Train on 60000 samples, validate on 10000 samples\n",
            "Epoch 1/15\n",
            "60000/60000 [==============================] - 21s 342us/step - loss: 0.2079 - acc: 0.9346 - val_loss: 0.0786 - val_acc: 0.9771\n",
            "Epoch 2/15\n",
            "60000/60000 [==============================] - 16s 269us/step - loss: 0.0605 - acc: 0.9826 - val_loss: 0.0306 - val_acc: 0.9898\n",
            "Epoch 3/15\n",
            "60000/60000 [==============================] - 16s 272us/step - loss: 0.0446 - acc: 0.9866 - val_loss: 0.0271 - val_acc: 0.9919\n",
            "Epoch 4/15\n",
            "60000/60000 [==============================] - 16s 269us/step - loss: 0.0364 - acc: 0.9895 - val_loss: 0.0409 - val_acc: 0.9868\n",
            "Epoch 5/15\n",
            "60000/60000 [==============================] - 16s 269us/step - loss: 0.0304 - acc: 0.9914 - val_loss: 0.0306 - val_acc: 0.9927\n",
            "Epoch 6/15\n",
            "60000/60000 [==============================] - 16s 271us/step - loss: 0.0269 - acc: 0.9923 - val_loss: 0.0263 - val_acc: 0.9916\n",
            "Epoch 7/15\n",
            "60000/60000 [==============================] - 16s 270us/step - loss: 0.0255 - acc: 0.9928 - val_loss: 0.0229 - val_acc: 0.9938\n",
            "Epoch 8/15\n",
            "60000/60000 [==============================] - 16s 270us/step - loss: 0.0216 - acc: 0.9935 - val_loss: 0.0251 - val_acc: 0.9935\n",
            "Epoch 9/15\n",
            "60000/60000 [==============================] - 16s 270us/step - loss: 0.0195 - acc: 0.9946 - val_loss: 0.0215 - val_acc: 0.9940\n",
            "Epoch 10/15\n",
            "60000/60000 [==============================] - 16s 271us/step - loss: 0.0179 - acc: 0.9948 - val_loss: 0.0343 - val_acc: 0.9908\n",
            "Epoch 11/15\n",
            "60000/60000 [==============================] - 16s 269us/step - loss: 0.0152 - acc: 0.9954 - val_loss: 0.0221 - val_acc: 0.9946\n",
            "Epoch 12/15\n",
            "60000/60000 [==============================] - 16s 269us/step - loss: 0.0146 - acc: 0.9959 - val_loss: 0.0240 - val_acc: 0.9940\n",
            "Epoch 13/15\n",
            "60000/60000 [==============================] - 16s 269us/step - loss: 0.0132 - acc: 0.9960 - val_loss: 0.0342 - val_acc: 0.9923\n",
            "Epoch 14/15\n",
            "60000/60000 [==============================] - 16s 270us/step - loss: 0.0130 - acc: 0.9960 - val_loss: 0.0287 - val_acc: 0.9935\n",
            "Epoch 15/15\n",
            "60000/60000 [==============================] - 16s 270us/step - loss: 0.0113 - acc: 0.9967 - val_loss: 0.0260 - val_acc: 0.9945\n",
            "Test loss: 0.026034193900959873\n",
            "Test accuracy: 0.9945\n"
          ],
          "name": "stdout"
        }
      ]
    },
    {
      "cell_type": "code",
      "metadata": {
        "id": "1r1xZhkxskLW",
        "colab_type": "code",
        "colab": {
          "base_uri": "https://localhost:8080/",
          "height": 318
        },
        "outputId": "0e4cf852-76eb-4ca9-d9c6-30b13d43a863"
      },
      "source": [
        "%matplotlib notebook\n",
        "%matplotlib inline\n",
        "import matplotlib.pyplot as plt\n",
        "\n",
        "score4 = model4.evaluate(x_test, y_test, verbose=0) \n",
        "print('Test score:', score4[0]) \n",
        "print('Test accuracy:', score4[1])\n",
        "\n",
        "fig,ax = plt.subplots(1,1)\n",
        "ax.set_xlabel('epoch') ; ax.set_ylabel('Categorical Crossentropy Loss')\n",
        "\n",
        "# list of epoch numbers\n",
        "x = list(range(1,epochs+1))\n",
        "\n",
        "vy4 = history4.history['val_loss']\n",
        "ty4 = history4.history['loss']\n",
        "plt_dynamic(x, vy4, ty4, ax)"
      ],
      "execution_count": 63,
      "outputs": [
        {
          "output_type": "stream",
          "text": [
            "Test score: 0.026034193900959873\n",
            "Test accuracy: 0.9945\n"
          ],
          "name": "stdout"
        },
        {
          "output_type": "display_data",
          "data": {
            "image/png": "[encoded data removed]",
            "text/plain": [
              "<Figure size 432x288 with 1 Axes>"
            ]
          },
          "metadata": {
            "tags": []
          }
        }
      ]
    },
    {
      "cell_type": "markdown",
      "metadata": {
        "id": "qm-3qTqi6vis",
        "colab_type": "text"
      },
      "source": [
        "Model 5:\n",
        "*********************\n",
        "Architecture 3A: (Lets Try 3x3 Kernel)\n",
        "*********************************************************\n",
        "Lets try 2 Conv Layers --> MaxPool --> Dropout -->BN-->1 Conv Layers --> Max Pool --> Dropout --> BN --> 1 Conv Layer --> Max pool  -->1 Conv Layers --> Max Pool --> Dropout -->Flatenning -->softmax"
      ]
    },
    {
      "cell_type": "code",
      "metadata": {
        "id": "KilthMiX8fWl",
        "colab_type": "code",
        "colab": {
          "base_uri": "https://localhost:8080/",
          "height": 598
        },
        "outputId": "ef8dfeb6-3a8a-4acb-8bf3-da87094ca7ae"
      },
      "source": [
        "import warnings\n",
        "warnings.filterwarnings('ignore')\n",
        "\n",
        "model5 = Sequential()\n",
        "model5.add(Conv2D(32, kernel_size=(3, 3),activation='relu',input_shape=input_shape))\n",
        "model5.add(Conv2D(64, (3, 3), activation='relu'))\n",
        "model5.add(MaxPooling2D(pool_size=(2, 2)))\n",
        "model5.add(Dropout(0.25))\n",
        "model5.add(BatchNormalization())\n",
        "model5.add(Conv2D(76, kernel_size=(1, 1),activation='relu'))\n",
        "model5.add(MaxPooling2D(pool_size=(2, 1)))\n",
        "model5.add(Dropout(0.25))\n",
        "model5.add(BatchNormalization())\n",
        "model5.add(Conv2D(150, kernel_size=(1, 1),activation='relu'))\n",
        "model5.add(MaxPooling2D(pool_size=(2, 1)))\n",
        "model5.add(Conv2D(172, kernel_size=(1, 1),activation='relu'))\n",
        "model5.add(MaxPooling2D(pool_size=(2, 1)))\n",
        "model5.add(Dropout(0.25))\n",
        "model5.add(Flatten())\n",
        "model5.add(Dense(128, activation='relu'))\n",
        "model5.add(Dropout(0.5))\n",
        "model5.add(Dense(num_classes, activation='softmax'))\n",
        "model5.compile(loss=keras.losses.categorical_crossentropy,\n",
        "              optimizer=keras.optimizers.Adadelta(),\n",
        "              metrics=['accuracy'])\n",
        "history5=model5.fit(x_train, y_train,\n",
        "          batch_size=batch_size,\n",
        "          epochs=epochs,\n",
        "          verbose=1,\n",
        "          validation_data=(x_test, y_test))\n",
        "score5 = model5.evaluate(x_test, y_test, verbose=0)\n",
        "print('Test loss:', score5[0])\n",
        "print('Test accuracy:', score5[1])"
      ],
      "execution_count": 64,
      "outputs": [
        {
          "output_type": "stream",
          "text": [
            "Train on 60000 samples, validate on 10000 samples\n",
            "Epoch 1/15\n",
            "60000/60000 [==============================] - 20s 339us/step - loss: 0.6228 - acc: 0.7948 - val_loss: 0.1208 - val_acc: 0.9621\n",
            "Epoch 2/15\n",
            "60000/60000 [==============================] - 16s 262us/step - loss: 0.2126 - acc: 0.9362 - val_loss: 0.1023 - val_acc: 0.9704\n",
            "Epoch 3/15\n",
            "60000/60000 [==============================] - 16s 263us/step - loss: 0.1647 - acc: 0.9512 - val_loss: 0.1019 - val_acc: 0.9681\n",
            "Epoch 4/15\n",
            "60000/60000 [==============================] - 16s 263us/step - loss: 0.1424 - acc: 0.9590 - val_loss: 0.0712 - val_acc: 0.9793\n",
            "Epoch 5/15\n",
            "60000/60000 [==============================] - 16s 263us/step - loss: 0.1276 - acc: 0.9622 - val_loss: 0.0687 - val_acc: 0.9795\n",
            "Epoch 6/15\n",
            "60000/60000 [==============================] - 16s 261us/step - loss: 0.1166 - acc: 0.9659 - val_loss: 0.0617 - val_acc: 0.9825\n",
            "Epoch 7/15\n",
            "60000/60000 [==============================] - 16s 264us/step - loss: 0.1107 - acc: 0.9684 - val_loss: 0.0729 - val_acc: 0.9778\n",
            "Epoch 8/15\n",
            "60000/60000 [==============================] - 16s 260us/step - loss: 0.1049 - acc: 0.9704 - val_loss: 0.0728 - val_acc: 0.9807\n",
            "Epoch 9/15\n",
            "60000/60000 [==============================] - 16s 262us/step - loss: 0.0999 - acc: 0.9707 - val_loss: 0.0661 - val_acc: 0.9821\n",
            "Epoch 10/15\n",
            "60000/60000 [==============================] - 16s 260us/step - loss: 0.0966 - acc: 0.9721 - val_loss: 0.0612 - val_acc: 0.9836\n",
            "Epoch 11/15\n",
            "60000/60000 [==============================] - 16s 260us/step - loss: 0.0898 - acc: 0.9745 - val_loss: 0.0528 - val_acc: 0.9849\n",
            "Epoch 12/15\n",
            "60000/60000 [==============================] - 16s 263us/step - loss: 0.0861 - acc: 0.9753 - val_loss: 0.0525 - val_acc: 0.9854\n",
            "Epoch 13/15\n",
            "60000/60000 [==============================] - 16s 260us/step - loss: 0.0848 - acc: 0.9754 - val_loss: 0.0465 - val_acc: 0.9867\n",
            "Epoch 14/15\n",
            "60000/60000 [==============================] - 16s 262us/step - loss: 0.0837 - acc: 0.9757 - val_loss: 0.0641 - val_acc: 0.9830\n",
            "Epoch 15/15\n",
            "60000/60000 [==============================] - 16s 263us/step - loss: 0.0789 - acc: 0.9773 - val_loss: 0.0608 - val_acc: 0.9837\n",
            "Test loss: 0.06078117031700331\n",
            "Test accuracy: 0.9837\n"
          ],
          "name": "stdout"
        }
      ]
    },
    {
      "cell_type": "code",
      "metadata": {
        "id": "M8ETNPpls0K5",
        "colab_type": "code",
        "colab": {
          "base_uri": "https://localhost:8080/",
          "height": 318
        },
        "outputId": "ce593520-f0d6-4a72-96b1-7a8a7f81cfd8"
      },
      "source": [
        "%matplotlib notebook\n",
        "%matplotlib inline\n",
        "import matplotlib.pyplot as plt\n",
        "\n",
        "score5 = model5.evaluate(x_test, y_test, verbose=0) \n",
        "print('Test score:', score5[0]) \n",
        "print('Test accuracy:', score5[1])\n",
        "\n",
        "fig,ax = plt.subplots(1,1)\n",
        "ax.set_xlabel('epoch') ; ax.set_ylabel('Categorical Crossentropy Loss')\n",
        "\n",
        "# list of epoch numbers\n",
        "x = list(range(1,epochs+1))\n",
        "\n",
        "vy5 = history5.history['val_loss']\n",
        "ty5 = history5.history['loss']\n",
        "plt_dynamic(x, vy5, ty5, ax)"
      ],
      "execution_count": 65,
      "outputs": [
        {
          "output_type": "stream",
          "text": [
            "Test score: 0.06078117031700331\n",
            "Test accuracy: 0.9837\n"
          ],
          "name": "stdout"
        },
        {
          "output_type": "display_data",
          "data": {
            "image/png": "[encoded data removed]",
            "text/plain": [
              "<Figure size 432x288 with 1 Axes>"
            ]
          },
          "metadata": {
            "tags": []
          }
        }
      ]
    },
    {
      "cell_type": "markdown",
      "metadata": {
        "id": "wMo44ytL8046",
        "colab_type": "text"
      },
      "source": [
        "Model 6:\n",
        "*******************\n",
        "Architecture 4:(Lets along with best of previous example also add multiple MLPs at end lets see is MLP able to any further enhance performance, though CNN is much better alogorithm as discussed in the class but how about CNN+MLP???)\n",
        "\n",
        "Lets try :\n",
        "\n",
        "Lets try 2 Conv Layers --> MaxPool --> Dropout -->2 Conv Layers --> Max Pool --> Dropout --> Flatenning -->FC1-->FC2-->FC3-->Softmax"
      ]
    },
    {
      "cell_type": "code",
      "metadata": {
        "id": "VeWt8p0LZ--0",
        "colab_type": "code",
        "colab": {
          "base_uri": "https://localhost:8080/",
          "height": 598
        },
        "outputId": "c02f2ccf-4343-415b-c2b8-d958ba42a729"
      },
      "source": [
        "import warnings\n",
        "warnings.filterwarnings('ignore')\n",
        "\n",
        "model6 = Sequential()\n",
        "model6.add(Conv2D(32, kernel_size=(3, 3),\n",
        "                 activation='relu',\n",
        "                 input_shape=input_shape))\n",
        "model6.add(Conv2D(64, (3, 3), activation='relu'))\n",
        "model6.add(MaxPooling2D(pool_size=(2, 2)))\n",
        "model6.add(Dropout(0.25))\n",
        "model6.add(Conv2D(76, kernel_size=(5, 5),\n",
        "                 activation='relu',\n",
        "                 input_shape=input_shape))\n",
        "model6.add(Conv2D(116, (3, 3), activation='relu'))\n",
        "model6.add(Dropout(0.25))\n",
        "model6.add(Flatten())\n",
        "model6.add(Dense(512, activation='relu'))\n",
        "model6.add(Dropout(0.5))\n",
        "model6.add(Dense(456, activation='relu'))\n",
        "model6.add(BatchNormalization())\n",
        "model6.add(Dropout(0.5))\n",
        "\n",
        "\n",
        "model6.add(Dense(392, activation='relu'))\n",
        "model6.add(BatchNormalization())\n",
        "model6.add(Dropout(0.5))\n",
        "\n",
        "model6.add(Dense(256, activation='relu') )\n",
        "model6.add(BatchNormalization())\n",
        "model6.add(Dropout(0.5))\n",
        "\n",
        "model6.add(Dense(128, activation='relu') )\n",
        "model6.add(BatchNormalization())\n",
        "model6.add(Dropout(0.5))\n",
        "\n",
        "model6.add(Dense(num_classes, activation='softmax'))\n",
        "model6.compile(optimizer='adam', loss='categorical_crossentropy', metrics=['accuracy'])\n",
        "history6 =model6.fit(x_train, y_train,\n",
        "          batch_size=batch_size,\n",
        "          epochs=epochs,\n",
        "          verbose=1,\n",
        "          validation_data=(x_test, y_test))\n",
        "score6 = model6.evaluate(x_test, y_test, verbose=0)\n",
        "print('Test loss:', score6[0])\n",
        "print('Test accuracy:', score6[1])"
      ],
      "execution_count": 67,
      "outputs": [
        {
          "output_type": "stream",
          "text": [
            "Train on 60000 samples, validate on 10000 samples\n",
            "Epoch 1/15\n",
            "60000/60000 [==============================] - 24s 402us/step - loss: 1.3546 - acc: 0.5712 - val_loss: 0.1445 - val_acc: 0.9565\n",
            "Epoch 2/15\n",
            "60000/60000 [==============================] - 19s 310us/step - loss: 0.1416 - acc: 0.9650 - val_loss: 0.0600 - val_acc: 0.9834\n",
            "Epoch 3/15\n",
            "60000/60000 [==============================] - 19s 309us/step - loss: 0.0881 - acc: 0.9778 - val_loss: 0.0551 - val_acc: 0.9883\n",
            "Epoch 4/15\n",
            "60000/60000 [==============================] - 19s 312us/step - loss: 0.0686 - acc: 0.9827 - val_loss: 0.0620 - val_acc: 0.9848\n",
            "Epoch 5/15\n",
            "60000/60000 [==============================] - 19s 315us/step - loss: 0.0575 - acc: 0.9855 - val_loss: 0.0452 - val_acc: 0.9894\n",
            "Epoch 6/15\n",
            "60000/60000 [==============================] - 19s 311us/step - loss: 0.0487 - acc: 0.9875 - val_loss: 0.0302 - val_acc: 0.9930\n",
            "Epoch 7/15\n",
            "60000/60000 [==============================] - 19s 312us/step - loss: 0.0464 - acc: 0.9890 - val_loss: 0.0309 - val_acc: 0.9934\n",
            "Epoch 8/15\n",
            "60000/60000 [==============================] - 19s 314us/step - loss: 0.0433 - acc: 0.9896 - val_loss: 0.0270 - val_acc: 0.9934\n",
            "Epoch 9/15\n",
            "60000/60000 [==============================] - 19s 312us/step - loss: 0.0365 - acc: 0.9914 - val_loss: 0.0333 - val_acc: 0.9931\n",
            "Epoch 10/15\n",
            "60000/60000 [==============================] - 18s 308us/step - loss: 0.0361 - acc: 0.9914 - val_loss: 0.0387 - val_acc: 0.9917\n",
            "Epoch 11/15\n",
            "60000/60000 [==============================] - 19s 310us/step - loss: 0.0339 - acc: 0.9921 - val_loss: 0.0297 - val_acc: 0.9932\n",
            "Epoch 12/15\n",
            "60000/60000 [==============================] - 19s 310us/step - loss: 0.0334 - acc: 0.9919 - val_loss: 0.0260 - val_acc: 0.9940\n",
            "Epoch 13/15\n",
            "60000/60000 [==============================] - 19s 312us/step - loss: 0.0306 - acc: 0.9929 - val_loss: 0.0281 - val_acc: 0.9938\n",
            "Epoch 14/15\n",
            "60000/60000 [==============================] - 19s 309us/step - loss: 0.0273 - acc: 0.9935 - val_loss: 0.0351 - val_acc: 0.9923\n",
            "Epoch 15/15\n",
            "60000/60000 [==============================] - 19s 309us/step - loss: 0.0255 - acc: 0.9940 - val_loss: 0.0319 - val_acc: 0.9930\n",
            "Test loss: 0.031870553250098604\n",
            "Test accuracy: 0.993\n"
          ],
          "name": "stdout"
        }
      ]
    },
    {
      "cell_type": "code",
      "metadata": {
        "id": "NQwp35vztNr2",
        "colab_type": "code",
        "colab": {
          "base_uri": "https://localhost:8080/",
          "height": 318
        },
        "outputId": "acbaf57b-e5c1-404c-e76b-dfbc659c181f"
      },
      "source": [
        "%matplotlib notebook\n",
        "%matplotlib inline\n",
        "import matplotlib.pyplot as plt\n",
        "\n",
        "score6 = model6.evaluate(x_test, y_test, verbose=0) \n",
        "print('Test score:', score6[0]) \n",
        "print('Test accuracy:', score6[1])\n",
        "\n",
        "fig,ax = plt.subplots(1,1)\n",
        "ax.set_xlabel('epoch') ; ax.set_ylabel('Categorical Crossentropy Loss')\n",
        "\n",
        "# list of epoch numbers\n",
        "x = list(range(1,epochs+1))\n",
        "\n",
        "vy6 = history6.history['val_loss']\n",
        "ty6 = history6.history['loss']\n",
        "plt_dynamic(x, vy6, ty6, ax)"
      ],
      "execution_count": 68,
      "outputs": [
        {
          "output_type": "stream",
          "text": [
            "Test score: 0.031870553250098604\n",
            "Test accuracy: 0.993\n"
          ],
          "name": "stdout"
        },
        {
          "output_type": "display_data",
          "data": {
            "image/png": "[encoded data removed]",
            "text/plain": [
              "<Figure size 432x288 with 1 Axes>"
            ]
          },
          "metadata": {
            "tags": []
          }
        }
      ]
    },
    {
      "cell_type": "markdown",
      "metadata": {
        "id": "OesEk61jejmx",
        "colab_type": "text"
      },
      "source": [
        "\n",
        "\n",
        "\n",
        "S.No | Architecture          | Test Loss     | Test Accuracy|\n",
        "-----| ----------------------|---------------| ------------ |\n",
        "1.   |  Model 1              |0.02279824664  |0.9931        | \n",
        "2.   |  Model 2              |0.02237644133  |0.9947        | \n",
        "3.   |  Model 3              |0.0181942476   |0.9952        | \n",
        "4.   |  Model 4              |0.022776587270 |0.9948        | \n",
        "5.   |  Model 5              |0.05685220     |0.9838        | \n",
        "6.   |  Model 6              |0.038624691    |0.9926        | \n",
        "\n",
        "\n"
      ]
    },
    {
      "cell_type": "markdown",
      "metadata": {
        "id": "7F7KOPEIhGLm",
        "colab_type": "text"
      },
      "source": [
        "Interesting Observations:\n",
        "\n",
        "1) The very first epoch of each model's performance decreases as number of layers increases. Can we conclude something from this? I dont think so just may be as layers increases probably for MNIST kind of data set it is kind of overkill and way too many parameters to learn.\n",
        "\n",
        "2)But eventually as we train more epoch the model which are deeper tends to perform better. This is as expected. Model 3 performs better than model 1 and model 2\n",
        "\n",
        "3)As we keep on increasing too many layers performance dencreases. May be we can conclude some sort of overfitting happening\n",
        "\n",
        "4)The last model was stupid model because we initially trained using CNN than we used MLP with multiple layers (ofcourse after flattening) but whatever \"good\" information was learned by CNN model was kind of lost due to next \"MLP layers\""
      ]
    }
  ]
}