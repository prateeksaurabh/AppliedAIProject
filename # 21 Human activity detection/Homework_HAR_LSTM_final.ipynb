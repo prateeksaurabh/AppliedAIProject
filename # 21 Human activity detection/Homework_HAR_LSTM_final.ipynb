{
  "nbformat": 4,
  "nbformat_minor": 0,
  "metadata": {
    "kernelspec": {
      "display_name": "Python 3",
      "language": "python",
      "name": "python3"
    },
    "language_info": {
      "codemirror_mode": {
        "name": "ipython",
        "version": 3
      },
      "file_extension": ".py",
      "mimetype": "text/x-python",
      "name": "python",
      "nbconvert_exporter": "python",
      "pygments_lexer": "ipython3",
      "version": "3.6.1"
    },
    "colab": {
      "name": "Homework_HAR_LSTM.ipynb",
      "provenance": [],
      "collapsed_sections": []
    }
  },
  "cells": [
    {
      "cell_type": "code",
      "metadata": {
        "id": "-1ORIvTrp8GZ",
        "colab_type": "code",
        "colab": {}
      },
      "source": [
        "# Importing Libraries"
      ],
      "execution_count": 0,
      "outputs": []
    },
    {
      "cell_type": "code",
      "metadata": {
        "id": "q-y2duC-p8Gm",
        "colab_type": "code",
        "outputId": "3b8e20ff-1f0f-4e0e-f9d3-856033bf2b96",
        "colab": {
          "base_uri": "https://localhost:8080/",
          "height": 1000
        }
      },
      "source": [
        "import pandas as pd\n",
        "import numpy as np\n",
        "!pip install talos\n",
        "import warnings\n",
        "warnings.filterwarnings('ignore')"
      ],
      "execution_count": 3,
      "outputs": [
        {
          "output_type": "stream",
          "text": [
            "Collecting talos\n",
            "  Downloading https://files.pythonhosted.org/packages/1d/df/c352679af3259829dafa7d55f2d3e9fca201c848351cb3c841a062df001c/talos-0.6.3.tar.gz\n",
            "Collecting wrangle\n",
            "  Downloading https://files.pythonhosted.org/packages/85/35/bc729e377417613f2d062a890faea5d649ef1a554df21499e9c3a4a5501a/wrangle-0.6.7.tar.gz\n",
            "Requirement already satisfied: numpy in /usr/local/lib/python3.6/dist-packages (from talos) (1.17.3)\n",
            "Requirement already satisfied: pandas in /usr/local/lib/python3.6/dist-packages (from talos) (0.25.2)\n",
            "Requirement already satisfied: keras in /usr/local/lib/python3.6/dist-packages (from talos) (2.2.5)\n",
            "Collecting astetik\n",
            "  Downloading https://files.pythonhosted.org/packages/3c/ba/f8622951da73d9b47b45bb847112c388651f9c6e413e712954f260301d9f/astetik-1.9.9.tar.gz\n",
            "Requirement already satisfied: sklearn in /usr/local/lib/python3.6/dist-packages (from talos) (0.0)\n",
            "Requirement already satisfied: tqdm in /usr/local/lib/python3.6/dist-packages (from talos) (4.28.1)\n",
            "Collecting chances\n",
            "  Downloading https://files.pythonhosted.org/packages/fa/d8/d61112d7476dc3074b855f1edd8556cde9b49b7106853f0b060109dd4c82/chances-0.1.9.tar.gz\n",
            "Collecting kerasplotlib\n",
            "  Downloading https://files.pythonhosted.org/packages/e8/2e/b8628bfef6a817da9be863f650cf67187676b10d27d94b23f248da35d2b4/kerasplotlib-0.1.4.tar.gz\n",
            "Requirement already satisfied: requests in /usr/local/lib/python3.6/dist-packages (from talos) (2.21.0)\n",
            "Collecting scipy==1.2\n",
            "\u001b[?25l  Downloading https://files.pythonhosted.org/packages/67/e6/6d4edaceee6a110ecf6f318482f5229792f143e468b34a631f5a0899f56d/scipy-1.2.0-cp36-cp36m-manylinux1_x86_64.whl (26.6MB)\n",
            "\u001b[K     |████████████████████████████████| 26.6MB 92kB/s \n",
            "\u001b[?25hRequirement already satisfied: statsmodels in /usr/local/lib/python3.6/dist-packages (from wrangle->talos) (0.10.1)\n",
            "Requirement already satisfied: python-dateutil>=2.6.1 in /usr/local/lib/python3.6/dist-packages (from pandas->talos) (2.6.1)\n",
            "Requirement already satisfied: pytz>=2017.2 in /usr/local/lib/python3.6/dist-packages (from pandas->talos) (2018.9)\n",
            "Requirement already satisfied: h5py in /usr/local/lib/python3.6/dist-packages (from keras->talos) (2.8.0)\n",
            "Requirement already satisfied: pyyaml in /usr/local/lib/python3.6/dist-packages (from keras->talos) (3.13)\n",
            "Requirement already satisfied: six>=1.9.0 in /usr/local/lib/python3.6/dist-packages (from keras->talos) (1.12.0)\n",
            "Requirement already satisfied: keras-applications>=1.0.8 in /usr/local/lib/python3.6/dist-packages (from keras->talos) (1.0.8)\n",
            "Requirement already satisfied: keras-preprocessing>=1.1.0 in /usr/local/lib/python3.6/dist-packages (from keras->talos) (1.1.0)\n",
            "Collecting geonamescache\n",
            "\u001b[?25l  Downloading https://files.pythonhosted.org/packages/32/c1/efb823270c8526b2f4f3eb8c804c5a0a55277267ad2312f5eb47bd9cc370/geonamescache-1.1.0-py3-none-any.whl (830kB)\n",
            "\u001b[K     |████████████████████████████████| 839kB 30.6MB/s \n",
            "\u001b[?25hRequirement already satisfied: scikit-learn in /usr/local/lib/python3.6/dist-packages (from sklearn->talos) (0.21.3)\n",
            "Requirement already satisfied: urllib3<1.25,>=1.21.1 in /usr/local/lib/python3.6/dist-packages (from requests->talos) (1.24.3)\n",
            "Requirement already satisfied: chardet<3.1.0,>=3.0.2 in /usr/local/lib/python3.6/dist-packages (from requests->talos) (3.0.4)\n",
            "Requirement already satisfied: idna<2.9,>=2.5 in /usr/local/lib/python3.6/dist-packages (from requests->talos) (2.8)\n",
            "Requirement already satisfied: certifi>=2017.4.17 in /usr/local/lib/python3.6/dist-packages (from requests->talos) (2019.9.11)\n",
            "Requirement already satisfied: patsy>=0.4.0 in /usr/local/lib/python3.6/dist-packages (from statsmodels->wrangle->talos) (0.5.1)\n",
            "Requirement already satisfied: joblib>=0.11 in /usr/local/lib/python3.6/dist-packages (from scikit-learn->sklearn->talos) (0.14.0)\n",
            "Building wheels for collected packages: talos, wrangle, astetik, chances, kerasplotlib\n",
            "  Building wheel for talos (setup.py) ... \u001b[?25l\u001b[?25hdone\n",
            "  Created wheel for talos: filename=talos-0.6.3-cp36-none-any.whl size=49626 sha256=429598a01732cca12f51e13d76cde2446b0aed7025531b388dcc8f77c5392f1c\n",
            "  Stored in directory: /root/.cache/pip/wheels/bb/d7/6b/86fd8b1fc7cfbd2c54796412f86efb5fb6a3a5c734014f6a66\n",
            "  Building wheel for wrangle (setup.py) ... \u001b[?25l\u001b[?25hdone\n",
            "  Created wheel for wrangle: filename=wrangle-0.6.7-cp36-none-any.whl size=49894 sha256=2a46c68bd3232a9aa752593b5608b37e784e44b06c13780278fc7887df35ede0\n",
            "  Stored in directory: /root/.cache/pip/wheels/bf/1b/50/d0403ce6ef269e364894da7b50db68db14c4ac62c577561e2d\n",
            "  Building wheel for astetik (setup.py) ... \u001b[?25l\u001b[?25hdone\n",
            "  Created wheel for astetik: filename=astetik-1.9.9-cp36-none-any.whl size=56960 sha256=7fcad50c2d64c39f095fb33343db2733521792fb3e85b87ac4c283f14f199641\n",
            "  Stored in directory: /root/.cache/pip/wheels/ae/70/21/c475cd079ec401dd6e1b9b1d42b4c38554ce12679bfb214aad\n",
            "  Building wheel for chances (setup.py) ... \u001b[?25l\u001b[?25hdone\n",
            "  Created wheel for chances: filename=chances-0.1.9-cp36-none-any.whl size=41609 sha256=fc316e17f5b7ddb03ef40a307c009241711cd8b6c8a47d306f978c5788fc8d08\n",
            "  Stored in directory: /root/.cache/pip/wheels/75/33/46/c871b94249bd57d17797d049b3dff8e3a09c315afb67eb14c6\n",
            "  Building wheel for kerasplotlib (setup.py) ... \u001b[?25l\u001b[?25hdone\n",
            "  Created wheel for kerasplotlib: filename=kerasplotlib-0.1.4-cp36-none-any.whl size=3579 sha256=59d3ee0aa71c8391c2c52594a26197ef9ab430626bffaada226b7127c8c0365f\n",
            "  Stored in directory: /root/.cache/pip/wheels/36/6b/4c/e1fc6d7d8811940fbea1147b1519c7baa6933e4baeff904433\n",
            "Successfully built talos wrangle astetik chances kerasplotlib\n",
            "\u001b[31mERROR: albumentations 0.1.12 has requirement imgaug<0.2.7,>=0.2.5, but you'll have imgaug 0.2.9 which is incompatible.\u001b[0m\n",
            "Installing collected packages: scipy, wrangle, geonamescache, astetik, chances, kerasplotlib, talos\n",
            "  Found existing installation: scipy 1.3.1\n",
            "    Uninstalling scipy-1.3.1:\n",
            "      Successfully uninstalled scipy-1.3.1\n",
            "Successfully installed astetik-1.9.9 chances-0.1.9 geonamescache-1.1.0 kerasplotlib-0.1.4 scipy-1.2.0 talos-0.6.3 wrangle-0.6.7\n"
          ],
          "name": "stdout"
        }
      ]
    },
    {
      "cell_type": "code",
      "metadata": {
        "id": "ibqtb9bGp8Gu",
        "colab_type": "code",
        "colab": {}
      },
      "source": [
        "# Activities are the class labels\n",
        "# It is a 6 class classification\n",
        "ACTIVITIES = {\n",
        "    0: 'WALKING',\n",
        "    1: 'WALKING_UPSTAIRS',\n",
        "    2: 'WALKING_DOWNSTAIRS',\n",
        "    3: 'SITTING',\n",
        "    4: 'STANDING',\n",
        "    5: 'LAYING',\n",
        "}\n",
        "\n",
        "# Utility function to print the confusion matrix\n",
        "def confusion_matrix(Y_true, Y_pred):\n",
        "    Y_true = pd.Series([ACTIVITIES[y] for y in np.argmax(Y_true, axis=1)])\n",
        "    Y_pred = pd.Series([ACTIVITIES[y] for y in np.argmax(Y_pred, axis=1)])\n",
        "\n",
        "    return pd.crosstab(Y_true, Y_pred, rownames=['True'], colnames=['Pred'])"
      ],
      "execution_count": 0,
      "outputs": []
    },
    {
      "cell_type": "markdown",
      "metadata": {
        "id": "8th2X4O-p8Gx",
        "colab_type": "text"
      },
      "source": [
        "### Data"
      ]
    },
    {
      "cell_type": "code",
      "metadata": {
        "id": "HOT5agbep8Gy",
        "colab_type": "code",
        "outputId": "8669e734-26bb-405a-a249-01883863fca1",
        "colab": {
          "base_uri": "https://localhost:8080/",
          "height": 122
        }
      },
      "source": [
        "# Data directory\n",
        "from google.colab import drive\n",
        "drive.mount(\"/content/drive\")"
      ],
      "execution_count": 5,
      "outputs": [
        {
          "output_type": "stream",
          "text": [
            "Go to this URL in a browser: https://accounts.google.com/o/oauth2/auth?client_id=947318989803-6bn6qk8qdgf4n4g3pfee6491hc0brc4i.apps.googleusercontent.com&redirect_uri=urn%3Aietf%3Awg%3Aoauth%3A2.0%3Aoob&scope=email%20https%3A%2F%2Fwww.googleapis.com%2Fauth%2Fdocs.test%20https%3A%2F%2Fwww.googleapis.com%2Fauth%2Fdrive%20https%3A%2F%2Fwww.googleapis.com%2Fauth%2Fdrive.photos.readonly%20https%3A%2F%2Fwww.googleapis.com%2Fauth%2Fpeopleapi.readonly&response_type=code\n",
            "\n",
            "Enter your authorization code:\n",
            "··········\n",
            "Mounted at /content/drive\n"
          ],
          "name": "stdout"
        }
      ]
    },
    {
      "cell_type": "code",
      "metadata": {
        "id": "lf7b9TjFp8G0",
        "colab_type": "code",
        "colab": {}
      },
      "source": [
        "# Raw data signals\n",
        "# Signals are from Accelerometer and Gyroscope\n",
        "# The signals are in x,y,z directions\n",
        "# Sensor signals are filtered to have only body acceleration\n",
        "# excluding the acceleration due to gravity\n",
        "# Triaxial acceleration from the accelerometer is total acceleration\n",
        "SIGNALS = [\n",
        "    \"body_acc_x\",\n",
        "    \"body_acc_y\",\n",
        "    \"body_acc_z\",\n",
        "    \"body_gyro_x\",\n",
        "    \"body_gyro_y\",\n",
        "    \"body_gyro_z\",\n",
        "    \"total_acc_x\",\n",
        "    \"total_acc_y\",\n",
        "    \"total_acc_z\"\n",
        "]"
      ],
      "execution_count": 0,
      "outputs": []
    },
    {
      "cell_type": "code",
      "metadata": {
        "id": "pNCAGAebp8G3",
        "colab_type": "code",
        "colab": {}
      },
      "source": [
        "# Utility function to read the data from csv file\n",
        "def _read_csv(filename):\n",
        "    return pd.read_csv(filename, delim_whitespace=True, header=None)\n",
        "\n",
        "# Utility function to load the load\n",
        "def load_signals(subset):\n",
        "    signals_data = []\n",
        "\n",
        "    for signal in SIGNALS:\n",
        "        filename = f'/content/drive/My Drive/{signal}_{subset}.txt'\n",
        "        signals_data.append(\n",
        "            _read_csv(filename).as_matrix()\n",
        "        ) \n",
        "\n",
        "    # Transpose is used to change the dimensionality of the output,\n",
        "    # aggregating the signals by combination of sample/timestep.\n",
        "    # Resultant shape is (7352 train/2947 test samples, 128 timesteps, 9 signals)\n",
        "    return np.transpose(signals_data, (1, 2, 0))"
      ],
      "execution_count": 0,
      "outputs": []
    },
    {
      "cell_type": "code",
      "metadata": {
        "id": "C5vn29J8p8G5",
        "colab_type": "code",
        "colab": {}
      },
      "source": [
        "\n",
        "def load_y(subset):\n",
        "    \"\"\"\n",
        "    The objective that we are trying to predict is a integer, from 1 to 6,\n",
        "    that represents a human activity. We return a binary representation of \n",
        "    every sample objective as a 6 bits vector using One Hot Encoding\n",
        "    (https://pandas.pydata.org/pandas-docs/stable/generated/pandas.get_dummies.html)\n",
        "    \"\"\"\n",
        "    filename = f'/content/drive/My Drive/y_{subset}.txt'\n",
        "    y = _read_csv(filename)[0]\n",
        "\n",
        "    return pd.get_dummies(y).as_matrix()"
      ],
      "execution_count": 0,
      "outputs": []
    },
    {
      "cell_type": "code",
      "metadata": {
        "id": "a29mcZSyp8G8",
        "colab_type": "code",
        "colab": {}
      },
      "source": [
        "def load_data():\n",
        "    \"\"\"\n",
        "    Obtain the dataset from multiple files.\n",
        "    Returns: X_train, X_test, y_train, y_test\n",
        "    \"\"\"\n",
        "    X_train, X_test = load_signals('train'), load_signals('test')\n",
        "    y_train, y_test = load_y('train'), load_y('test')\n",
        "\n",
        "    return X_train, X_test, y_train, y_test"
      ],
      "execution_count": 0,
      "outputs": []
    },
    {
      "cell_type": "code",
      "metadata": {
        "id": "SKzqiML3p8G-",
        "colab_type": "code",
        "colab": {
          "base_uri": "https://localhost:8080/",
          "height": 63
        },
        "outputId": "e0d43423-abbf-4491-9dd4-027c244e6797"
      },
      "source": [
        "# Importing tensorflow\n",
        "np.random.seed(42)\n",
        "import tensorflow as tf\n",
        "tf.set_random_seed(42)"
      ],
      "execution_count": 10,
      "outputs": [
        {
          "output_type": "display_data",
          "data": {
            "text/html": [
              "<p style=\"color: red;\">\n",
              "The default version of TensorFlow in Colab will soon switch to TensorFlow 2.x.<br>\n",
              "We recommend you <a href=\"https://www.tensorflow.org/guide/migrate\" target=\"_blank\">upgrade</a> now \n",
              "or ensure your notebook will continue to use TensorFlow 1.x via the <code>%tensorflow_version 1.x</code> magic:\n",
              "<a href=\"https://colab.research.google.com/notebooks/tensorflow_version.ipynb\" target=\"_blank\">more info</a>.</p>\n"
            ],
            "text/plain": [
              "<IPython.core.display.HTML object>"
            ]
          },
          "metadata": {
            "tags": []
          }
        }
      ]
    },
    {
      "cell_type": "code",
      "metadata": {
        "id": "-bBgvS8Qp8HA",
        "colab_type": "code",
        "colab": {}
      },
      "source": [
        "# Configuring a session\n",
        "session_conf = tf.ConfigProto(\n",
        "    intra_op_parallelism_threads=1,\n",
        "    inter_op_parallelism_threads=1\n",
        ")"
      ],
      "execution_count": 0,
      "outputs": []
    },
    {
      "cell_type": "code",
      "metadata": {
        "id": "ckKoU9irp8HC",
        "colab_type": "code",
        "colab": {
          "base_uri": "https://localhost:8080/",
          "height": 34
        },
        "outputId": "fb439af7-627b-44b8-ddf7-247e1b44315b"
      },
      "source": [
        "# Import Keras\n",
        "from keras import backend as K\n",
        "sess = tf.Session(graph=tf.get_default_graph(), config=session_conf)\n",
        "K.set_session(sess)"
      ],
      "execution_count": 12,
      "outputs": [
        {
          "output_type": "stream",
          "text": [
            "Using TensorFlow backend.\n"
          ],
          "name": "stderr"
        }
      ]
    },
    {
      "cell_type": "code",
      "metadata": {
        "id": "ar6azfxRp8HE",
        "colab_type": "code",
        "colab": {}
      },
      "source": [
        "# Importing libraries\n",
        "from keras.models import Sequential\n",
        "from keras.layers import LSTM\n",
        "from keras.layers.core import Dense, Dropout"
      ],
      "execution_count": 0,
      "outputs": []
    },
    {
      "cell_type": "code",
      "metadata": {
        "id": "tLBH1mQYp8HI",
        "colab_type": "code",
        "colab": {}
      },
      "source": [
        "# Utility function to count the number of classes\n",
        "def _count_classes(y):\n",
        "    return len(set([tuple(category) for category in y]))"
      ],
      "execution_count": 0,
      "outputs": []
    },
    {
      "cell_type": "code",
      "metadata": {
        "id": "8L8Sya4Pp8HK",
        "colab_type": "code",
        "colab": {}
      },
      "source": [
        "# Loading the train and test data\n",
        "X_train, X_test, Y_train, Y_test = load_data()"
      ],
      "execution_count": 0,
      "outputs": []
    },
    {
      "cell_type": "code",
      "metadata": {
        "id": "9KK_Bwgnp8HM",
        "colab_type": "code",
        "outputId": "17b69dcd-5f4e-4425-883d-a7704d46fb91",
        "colab": {
          "base_uri": "https://localhost:8080/",
          "height": 68
        }
      },
      "source": [
        "timesteps = len(X_train[0])\n",
        "input_dim = len(X_train[0][0])\n",
        "n_classes = _count_classes(Y_train)\n",
        "\n",
        "print(timesteps)\n",
        "print(input_dim)\n",
        "print(len(X_train))"
      ],
      "execution_count": 16,
      "outputs": [
        {
          "output_type": "stream",
          "text": [
            "128\n",
            "9\n",
            "7352\n"
          ],
          "name": "stdout"
        }
      ]
    },
    {
      "cell_type": "markdown",
      "metadata": {
        "id": "_48JtFPUp8HQ",
        "colab_type": "text"
      },
      "source": [
        "- Defining the Architecture of LSTM"
      ]
    },
    {
      "cell_type": "code",
      "metadata": {
        "id": "p56JXDmDAjf6",
        "colab_type": "code",
        "colab": {}
      },
      "source": [
        "# Initializing parameters\n",
        "#epochs = 30\n",
        "#n_hidden = 10\n",
        "\n",
        "#param_grid = dict(epochs=[30,40],n_hidden=[10,15,20,25,30,35,40,45,50,55,60])\n",
        "#grid = GridSearchCV(estimator=model, param_grid=param_grid, n_jobs=-1, cv=3)\n",
        "#grid_result = grid.fit(X, Y)"
      ],
      "execution_count": 0,
      "outputs": []
    },
    {
      "cell_type": "code",
      "metadata": {
        "id": "oZod6zTOcK20",
        "colab_type": "code",
        "colab": {}
      },
      "source": [
        "def HAR_LSTM(X_train, Y_train, X_test, Y_test, params):\n",
        "\n",
        "    model = Sequential()\n",
        "    model.add(LSTM(params['n_hidden'], input_shape=(timesteps, input_dim)))    \n",
        "    model.add(Dropout(params['dropout']))\n",
        "    model.add(Dense(n_classes, activation='sigmoid'))\n",
        "    model.summary()\n",
        "    model.compile(loss='categorical_crossentropy', optimizer='adam', metrics=['accuracy'])\n",
        "    history = model.fit(X_train, Y_train,validation_data = (X_test, Y_test),batch_size=40,epochs=30,verbose=0)\n",
        "    return history, model"
      ],
      "execution_count": 0,
      "outputs": []
    },
    {
      "cell_type": "markdown",
      "metadata": {
        "id": "qtlmxwYejzxI",
        "colab_type": "text"
      },
      "source": [
        "Now lets test various combinations of n_hidden ad dropout. We will check for  n_hidden from range 0 to 65 (not all , but at interval of 5) and dropout from range .2 to .8, with internal of .1, (i.e dropout from 20% to 80%)\n",
        "\n",
        "Now since this will take lot of time and sometimes google colab kicks me out after long period of inactivity within a cell. I am breaking it into chunks"
      ]
    },
    {
      "cell_type": "code",
      "metadata": {
        "id": "31zxzWfwfwaJ",
        "colab_type": "code",
        "colab": {}
      },
      "source": [
        "p1 = {'n_hidden':[15,25,35,45,55,65],\n",
        "     'dropout': [0.2,0.3]}\n",
        "\n",
        "p2 = {'n_hidden':[10,15,25,35,45,55,65],\n",
        "     'dropout': [0.4,0.5]}\n",
        "\n",
        "p3 = {'n_hidden':[10,15,25,35,45,55,65],\n",
        "     'dropout': [0.6,0.7]}\n",
        "\n",
        "p4 = {'n_hidden':[10,15,25,35,45,55,65],\n",
        "     'dropout': [0.8]}"
      ],
      "execution_count": 0,
      "outputs": []
    },
    {
      "cell_type": "code",
      "metadata": {
        "id": "iMGm2VJFdTZU",
        "colab_type": "code",
        "outputId": "cf6f9f99-1527-4951-a341-969bf39c33d4",
        "colab": {
          "base_uri": "https://localhost:8080/",
          "height": 3349
        }
      },
      "source": [
        "import talos as ta\n",
        "import warnings\n",
        "\n",
        "with warnings.catch_warnings():\n",
        "    warnings.filterwarnings(\"ignore\",category=DeprecationWarning)\n",
        "\n",
        "t1 = ta.Scan(x=X_train,y=Y_train,model=HAR_LSTM,params=p1,experiment_name='1',disable_progress_bar=False,print_params=True)"
      ],
      "execution_count": 0,
      "outputs": [
        {
          "output_type": "stream",
          "text": [
            "\n",
            "  0%|          | 0/12 [00:00<?, ?it/s]\u001b[A"
          ],
          "name": "stderr"
        },
        {
          "output_type": "stream",
          "text": [
            "{'dropout': 0.2, 'n_hidden': 15}\n",
            "Model: \"sequential_2\"\n",
            "_________________________________________________________________\n",
            "Layer (type)                 Output Shape              Param #   \n",
            "=================================================================\n",
            "lstm_2 (LSTM)                (None, 15)                1500      \n",
            "_________________________________________________________________\n",
            "dropout_2 (Dropout)          (None, 15)                0         \n",
            "_________________________________________________________________\n",
            "dense_2 (Dense)              (None, 6)                 96        \n",
            "=================================================================\n",
            "Total params: 1,596\n",
            "Trainable params: 1,596\n",
            "Non-trainable params: 0\n",
            "_________________________________________________________________\n",
            "WARNING:tensorflow:From /usr/local/lib/python3.6/dist-packages/keras/backend/tensorflow_backend.py:107: The name tf.reset_default_graph is deprecated. Please use tf.compat.v1.reset_default_graph instead.\n",
            "\n"
          ],
          "name": "stdout"
        },
        {
          "output_type": "stream",
          "text": [
            "\n",
            "  8%|▊         | 1/12 [04:07<45:20, 247.29s/it]\u001b[A"
          ],
          "name": "stderr"
        },
        {
          "output_type": "stream",
          "text": [
            "{'dropout': 0.2, 'n_hidden': 25}\n",
            "Model: \"sequential_1\"\n",
            "_________________________________________________________________\n",
            "Layer (type)                 Output Shape              Param #   \n",
            "=================================================================\n",
            "lstm_1 (LSTM)                (None, 25)                3500      \n",
            "_________________________________________________________________\n",
            "dropout_1 (Dropout)          (None, 25)                0         \n",
            "_________________________________________________________________\n",
            "dense_1 (Dense)              (None, 6)                 156       \n",
            "=================================================================\n",
            "Total params: 3,656\n",
            "Trainable params: 3,656\n",
            "Non-trainable params: 0\n",
            "_________________________________________________________________\n"
          ],
          "name": "stdout"
        },
        {
          "output_type": "stream",
          "text": [
            "\n",
            " 17%|█▋        | 2/12 [08:39<42:26, 254.67s/it]\u001b[A"
          ],
          "name": "stderr"
        },
        {
          "output_type": "stream",
          "text": [
            "{'dropout': 0.2, 'n_hidden': 35}\n",
            "Model: \"sequential_1\"\n",
            "_________________________________________________________________\n",
            "Layer (type)                 Output Shape              Param #   \n",
            "=================================================================\n",
            "lstm_1 (LSTM)                (None, 35)                6300      \n",
            "_________________________________________________________________\n",
            "dropout_1 (Dropout)          (None, 35)                0         \n",
            "_________________________________________________________________\n",
            "dense_1 (Dense)              (None, 6)                 216       \n",
            "=================================================================\n",
            "Total params: 6,516\n",
            "Trainable params: 6,516\n",
            "Non-trainable params: 0\n",
            "_________________________________________________________________\n"
          ],
          "name": "stdout"
        },
        {
          "output_type": "stream",
          "text": [
            "\n",
            " 25%|██▌       | 3/12 [13:37<40:09, 267.75s/it]\u001b[A"
          ],
          "name": "stderr"
        },
        {
          "output_type": "stream",
          "text": [
            "{'dropout': 0.2, 'n_hidden': 45}\n",
            "Model: \"sequential_1\"\n",
            "_________________________________________________________________\n",
            "Layer (type)                 Output Shape              Param #   \n",
            "=================================================================\n",
            "lstm_1 (LSTM)                (None, 45)                9900      \n",
            "_________________________________________________________________\n",
            "dropout_1 (Dropout)          (None, 45)                0         \n",
            "_________________________________________________________________\n",
            "dense_1 (Dense)              (None, 6)                 276       \n",
            "=================================================================\n",
            "Total params: 10,176\n",
            "Trainable params: 10,176\n",
            "Non-trainable params: 0\n",
            "_________________________________________________________________\n"
          ],
          "name": "stdout"
        },
        {
          "output_type": "stream",
          "text": [
            "\n",
            " 33%|███▎      | 4/12 [18:59<37:52, 284.06s/it]\u001b[A"
          ],
          "name": "stderr"
        },
        {
          "output_type": "stream",
          "text": [
            "{'dropout': 0.2, 'n_hidden': 55}\n",
            "Model: \"sequential_1\"\n",
            "_________________________________________________________________\n",
            "Layer (type)                 Output Shape              Param #   \n",
            "=================================================================\n",
            "lstm_1 (LSTM)                (None, 55)                14300     \n",
            "_________________________________________________________________\n",
            "dropout_1 (Dropout)          (None, 55)                0         \n",
            "_________________________________________________________________\n",
            "dense_1 (Dense)              (None, 6)                 336       \n",
            "=================================================================\n",
            "Total params: 14,636\n",
            "Trainable params: 14,636\n",
            "Non-trainable params: 0\n",
            "_________________________________________________________________\n"
          ],
          "name": "stdout"
        },
        {
          "output_type": "stream",
          "text": [
            "\n",
            " 42%|████▏     | 5/12 [24:54<35:37, 305.39s/it]\u001b[A"
          ],
          "name": "stderr"
        },
        {
          "output_type": "stream",
          "text": [
            "{'dropout': 0.2, 'n_hidden': 65}\n",
            "Model: \"sequential_1\"\n",
            "_________________________________________________________________\n",
            "Layer (type)                 Output Shape              Param #   \n",
            "=================================================================\n",
            "lstm_1 (LSTM)                (None, 65)                19500     \n",
            "_________________________________________________________________\n",
            "dropout_1 (Dropout)          (None, 65)                0         \n",
            "_________________________________________________________________\n",
            "dense_1 (Dense)              (None, 6)                 396       \n",
            "=================================================================\n",
            "Total params: 19,896\n",
            "Trainable params: 19,896\n",
            "Non-trainable params: 0\n",
            "_________________________________________________________________\n"
          ],
          "name": "stdout"
        },
        {
          "output_type": "stream",
          "text": [
            "\n",
            " 50%|█████     | 6/12 [30:58<32:17, 322.88s/it]\u001b[A"
          ],
          "name": "stderr"
        },
        {
          "output_type": "stream",
          "text": [
            "{'dropout': 0.3, 'n_hidden': 15}\n",
            "Model: \"sequential_1\"\n",
            "_________________________________________________________________\n",
            "Layer (type)                 Output Shape              Param #   \n",
            "=================================================================\n",
            "lstm_1 (LSTM)                (None, 15)                1500      \n",
            "_________________________________________________________________\n",
            "dropout_1 (Dropout)          (None, 15)                0         \n",
            "_________________________________________________________________\n",
            "dense_1 (Dense)              (None, 6)                 96        \n",
            "=================================================================\n",
            "Total params: 1,596\n",
            "Trainable params: 1,596\n",
            "Non-trainable params: 0\n",
            "_________________________________________________________________\n"
          ],
          "name": "stdout"
        },
        {
          "output_type": "stream",
          "text": [
            "\n",
            " 58%|█████▊    | 7/12 [34:32<24:11, 290.27s/it]\u001b[A"
          ],
          "name": "stderr"
        },
        {
          "output_type": "stream",
          "text": [
            "{'dropout': 0.3, 'n_hidden': 25}\n",
            "Model: \"sequential_1\"\n",
            "_________________________________________________________________\n",
            "Layer (type)                 Output Shape              Param #   \n",
            "=================================================================\n",
            "lstm_1 (LSTM)                (None, 25)                3500      \n",
            "_________________________________________________________________\n",
            "dropout_1 (Dropout)          (None, 25)                0         \n",
            "_________________________________________________________________\n",
            "dense_1 (Dense)              (None, 6)                 156       \n",
            "=================================================================\n",
            "Total params: 3,656\n",
            "Trainable params: 3,656\n",
            "Non-trainable params: 0\n",
            "_________________________________________________________________\n"
          ],
          "name": "stdout"
        },
        {
          "output_type": "stream",
          "text": [
            "\n",
            " 67%|██████▋   | 8/12 [38:29<18:16, 274.18s/it]\u001b[A"
          ],
          "name": "stderr"
        },
        {
          "output_type": "stream",
          "text": [
            "{'dropout': 0.3, 'n_hidden': 35}\n",
            "Model: \"sequential_1\"\n",
            "_________________________________________________________________\n",
            "Layer (type)                 Output Shape              Param #   \n",
            "=================================================================\n",
            "lstm_1 (LSTM)                (None, 35)                6300      \n",
            "_________________________________________________________________\n",
            "dropout_1 (Dropout)          (None, 35)                0         \n",
            "_________________________________________________________________\n",
            "dense_1 (Dense)              (None, 6)                 216       \n",
            "=================================================================\n",
            "Total params: 6,516\n",
            "Trainable params: 6,516\n",
            "Non-trainable params: 0\n",
            "_________________________________________________________________\n"
          ],
          "name": "stdout"
        },
        {
          "output_type": "stream",
          "text": [
            "\n",
            " 75%|███████▌  | 9/12 [42:55<13:35, 271.85s/it]\u001b[A"
          ],
          "name": "stderr"
        },
        {
          "output_type": "stream",
          "text": [
            "{'dropout': 0.3, 'n_hidden': 45}\n",
            "Model: \"sequential_1\"\n",
            "_________________________________________________________________\n",
            "Layer (type)                 Output Shape              Param #   \n",
            "=================================================================\n",
            "lstm_1 (LSTM)                (None, 45)                9900      \n",
            "_________________________________________________________________\n",
            "dropout_1 (Dropout)          (None, 45)                0         \n",
            "_________________________________________________________________\n",
            "dense_1 (Dense)              (None, 6)                 276       \n",
            "=================================================================\n",
            "Total params: 10,176\n",
            "Trainable params: 10,176\n",
            "Non-trainable params: 0\n",
            "_________________________________________________________________\n"
          ],
          "name": "stdout"
        },
        {
          "output_type": "stream",
          "text": [
            "\n",
            " 83%|████████▎ | 10/12 [47:44<09:13, 276.87s/it]\u001b[A"
          ],
          "name": "stderr"
        },
        {
          "output_type": "stream",
          "text": [
            "{'dropout': 0.3, 'n_hidden': 55}\n",
            "Model: \"sequential_1\"\n",
            "_________________________________________________________________\n",
            "Layer (type)                 Output Shape              Param #   \n",
            "=================================================================\n",
            "lstm_1 (LSTM)                (None, 55)                14300     \n",
            "_________________________________________________________________\n",
            "dropout_1 (Dropout)          (None, 55)                0         \n",
            "_________________________________________________________________\n",
            "dense_1 (Dense)              (None, 6)                 336       \n",
            "=================================================================\n",
            "Total params: 14,636\n",
            "Trainable params: 14,636\n",
            "Non-trainable params: 0\n",
            "_________________________________________________________________\n"
          ],
          "name": "stdout"
        },
        {
          "output_type": "stream",
          "text": [
            "\n",
            " 92%|█████████▏| 11/12 [53:04<04:49, 289.92s/it]\u001b[A"
          ],
          "name": "stderr"
        },
        {
          "output_type": "stream",
          "text": [
            "{'dropout': 0.3, 'n_hidden': 65}\n",
            "Model: \"sequential_1\"\n",
            "_________________________________________________________________\n",
            "Layer (type)                 Output Shape              Param #   \n",
            "=================================================================\n",
            "lstm_1 (LSTM)                (None, 65)                19500     \n",
            "_________________________________________________________________\n",
            "dropout_1 (Dropout)          (None, 65)                0         \n",
            "_________________________________________________________________\n",
            "dense_1 (Dense)              (None, 6)                 396       \n",
            "=================================================================\n",
            "Total params: 19,896\n",
            "Trainable params: 19,896\n",
            "Non-trainable params: 0\n",
            "_________________________________________________________________\n"
          ],
          "name": "stdout"
        },
        {
          "output_type": "stream",
          "text": [
            "\n",
            "100%|██████████| 12/12 [59:02<00:00, 310.32s/it]\u001b[A\n",
            "\u001b[A"
          ],
          "name": "stderr"
        }
      ]
    },
    {
      "cell_type": "code",
      "metadata": {
        "id": "f99zGxALA8k8",
        "colab_type": "code",
        "outputId": "3830962d-66bf-4699-e916-9a304d819927",
        "colab": {
          "base_uri": "https://localhost:8080/",
          "height": 238
        }
      },
      "source": [
        "print (t1.data)"
      ],
      "execution_count": 0,
      "outputs": [
        {
          "output_type": "stream",
          "text": [
            "    round_epochs  val_loss   val_acc      loss       acc  dropout  n_hidden\n",
            "0             30  0.535842  0.778332  0.539308  0.780023      0.2        15\n",
            "1             30  0.443391  0.796464  0.482837  0.785464      0.2        25\n",
            "2             30  0.456516  0.821850  0.414255  0.853673      0.2        35\n",
            "3             30  0.320570  0.860834  0.327982  0.870190      0.2        45\n",
            "4             30  0.327954  0.868540  0.348676  0.878352      0.2        55\n",
            "5             30  0.153704  0.934723  0.187573  0.932569      0.2        65\n",
            "6             30  0.748829  0.621940  0.793479  0.557909      0.3        15\n",
            "7             30  0.628224  0.694016  0.727207  0.665954      0.3        25\n",
            "8             30  0.568490  0.785131  0.625008  0.763894      0.3        35\n",
            "9             30  0.219541  0.922484  0.257486  0.913331      0.3        45\n",
            "10            30  0.736938  0.590209  0.787109  0.576953      0.3        55\n",
            "11            30  0.261446  0.912511  0.277876  0.907112      0.3        65\n"
          ],
          "name": "stdout"
        }
      ]
    },
    {
      "cell_type": "code",
      "metadata": {
        "id": "wCre1sQljksT",
        "colab_type": "code",
        "outputId": "28dadd68-faea-4387-a2d4-e42aecf028bf",
        "colab": {
          "base_uri": "https://localhost:8080/",
          "height": 425
        }
      },
      "source": [
        "analyze_object = ta.Analyze(t1)\n",
        "print (analyze_object.data)\n",
        "print (\"############\")\n",
        "print (analyze_object.best_params('val_acc', ['acc', 'loss', 'val_loss']))\n"
      ],
      "execution_count": 0,
      "outputs": [
        {
          "output_type": "stream",
          "text": [
            "    round_epochs  val_loss   val_acc      loss       acc  dropout  n_hidden\n",
            "0             30  0.535842  0.778332  0.539308  0.780023      0.2        15\n",
            "1             30  0.443391  0.796464  0.482837  0.785464      0.2        25\n",
            "2             30  0.456516  0.821850  0.414255  0.853673      0.2        35\n",
            "3             30  0.320570  0.860834  0.327982  0.870190      0.2        45\n",
            "4             30  0.327954  0.868540  0.348676  0.878352      0.2        55\n",
            "5             30  0.153704  0.934723  0.187573  0.932569      0.2        65\n",
            "6             30  0.748829  0.621940  0.793479  0.557909      0.3        15\n",
            "7             30  0.628224  0.694016  0.727207  0.665954      0.3        25\n",
            "8             30  0.568490  0.785131  0.625008  0.763894      0.3        35\n",
            "9             30  0.219541  0.922484  0.257486  0.913331      0.3        45\n",
            "10            30  0.736938  0.590209  0.787109  0.576953      0.3        55\n",
            "11            30  0.261446  0.912511  0.277876  0.907112      0.3        65\n",
            "############\n",
            "[[65.   0.2 30.   0. ]\n",
            " [45.   0.3 30.   1. ]\n",
            " [65.   0.3 30.   2. ]\n",
            " [55.   0.2 30.   3. ]\n",
            " [45.   0.2 30.   4. ]\n",
            " [35.   0.2 30.   5. ]\n",
            " [25.   0.2 30.   6. ]\n",
            " [35.   0.3 30.   7. ]\n",
            " [15.   0.2 30.   8. ]\n",
            " [25.   0.3 30.   9. ]]\n"
          ],
          "name": "stdout"
        }
      ]
    },
    {
      "cell_type": "code",
      "metadata": {
        "id": "fc2mafylQdSB",
        "colab_type": "code",
        "outputId": "7c95c1c7-455b-4c8d-c5f5-a607c660f205",
        "colab": {
          "base_uri": "https://localhost:8080/",
          "height": 497
        }
      },
      "source": [
        "analyze_object.plot_regs('val_acc', 'val_loss')\n"
      ],
      "execution_count": 0,
      "outputs": [
        {
          "output_type": "stream",
          "text": [
            "findfont: Font family ['Verdana'] not found. Falling back to DejaVu Sans.\n"
          ],
          "name": "stderr"
        },
        {
          "output_type": "display_data",
          "data": {
            "image/png": "[encoded data removed]",
            "text/plain": [
              "<Figure size 720x475.2 with 1 Axes>"
            ]
          },
          "metadata": {
            "tags": []
          }
        }
      ]
    },
    {
      "cell_type": "code",
      "metadata": {
        "id": "oLXvKMhYiwbU",
        "colab_type": "code",
        "outputId": "6e9feb70-40b4-4b84-b8ba-6af0dc19fbfd",
        "colab": {
          "base_uri": "https://localhost:8080/",
          "height": 187
        }
      },
      "source": [
        "analyze_object.best_params('val_acc', ['acc', 'loss', 'val_loss'])\n"
      ],
      "execution_count": 0,
      "outputs": [
        {
          "output_type": "execute_result",
          "data": {
            "text/plain": [
              "array([[65. ,  0.2, 30. ,  0. ],\n",
              "       [45. ,  0.3, 30. ,  1. ],\n",
              "       [65. ,  0.3, 30. ,  2. ],\n",
              "       [55. ,  0.2, 30. ,  3. ],\n",
              "       [45. ,  0.2, 30. ,  4. ],\n",
              "       [35. ,  0.2, 30. ,  5. ],\n",
              "       [25. ,  0.2, 30. ,  6. ],\n",
              "       [35. ,  0.3, 30. ,  7. ],\n",
              "       [15. ,  0.2, 30. ,  8. ],\n",
              "       [25. ,  0.3, 30. ,  9. ]])"
            ]
          },
          "metadata": {
            "tags": []
          },
          "execution_count": 24
        }
      ]
    },
    {
      "cell_type": "code",
      "metadata": {
        "colab_type": "code",
        "id": "breiLT3Qp6OC",
        "outputId": "75453039-fc87-485f-b23a-5be176210d5c",
        "colab": {
          "base_uri": "https://localhost:8080/",
          "height": 3859
        }
      },
      "source": [
        "import talos as ta\n",
        "import warnings\n",
        "warnings.filterwarnings('ignore')\n",
        "\n",
        "t2 = ta.Scan(x=X_train,y=Y_train,model=HAR_LSTM,params=p2,experiment_name='2',disable_progress_bar=False,print_params=True)"
      ],
      "execution_count": 0,
      "outputs": [
        {
          "output_type": "stream",
          "text": [
            "\n",
            "  0%|          | 0/14 [00:00<?, ?it/s]\u001b[A"
          ],
          "name": "stderr"
        },
        {
          "output_type": "stream",
          "text": [
            "{'dropout': 0.4, 'n_hidden': 10}\n",
            "Model: \"sequential_1\"\n",
            "_________________________________________________________________\n",
            "Layer (type)                 Output Shape              Param #   \n",
            "=================================================================\n",
            "lstm_1 (LSTM)                (None, 10)                800       \n",
            "_________________________________________________________________\n",
            "dropout_1 (Dropout)          (None, 10)                0         \n",
            "_________________________________________________________________\n",
            "dense_1 (Dense)              (None, 6)                 66        \n",
            "=================================================================\n",
            "Total params: 866\n",
            "Trainable params: 866\n",
            "Non-trainable params: 0\n",
            "_________________________________________________________________\n"
          ],
          "name": "stdout"
        },
        {
          "output_type": "stream",
          "text": [
            "\n",
            "  7%|▋         | 1/14 [03:32<46:01, 212.44s/it]\u001b[A"
          ],
          "name": "stderr"
        },
        {
          "output_type": "stream",
          "text": [
            "{'dropout': 0.4, 'n_hidden': 15}\n",
            "Model: \"sequential_1\"\n",
            "_________________________________________________________________\n",
            "Layer (type)                 Output Shape              Param #   \n",
            "=================================================================\n",
            "lstm_1 (LSTM)                (None, 15)                1500      \n",
            "_________________________________________________________________\n",
            "dropout_1 (Dropout)          (None, 15)                0         \n",
            "_________________________________________________________________\n",
            "dense_1 (Dense)              (None, 6)                 96        \n",
            "=================================================================\n",
            "Total params: 1,596\n",
            "Trainable params: 1,596\n",
            "Non-trainable params: 0\n",
            "_________________________________________________________________\n"
          ],
          "name": "stdout"
        },
        {
          "output_type": "stream",
          "text": [
            "\n",
            " 14%|█▍        | 2/14 [07:13<43:01, 215.13s/it]\u001b[A"
          ],
          "name": "stderr"
        },
        {
          "output_type": "stream",
          "text": [
            "{'dropout': 0.4, 'n_hidden': 25}\n",
            "Model: \"sequential_1\"\n",
            "_________________________________________________________________\n",
            "Layer (type)                 Output Shape              Param #   \n",
            "=================================================================\n",
            "lstm_1 (LSTM)                (None, 25)                3500      \n",
            "_________________________________________________________________\n",
            "dropout_1 (Dropout)          (None, 25)                0         \n",
            "_________________________________________________________________\n",
            "dense_1 (Dense)              (None, 6)                 156       \n",
            "=================================================================\n",
            "Total params: 3,656\n",
            "Trainable params: 3,656\n",
            "Non-trainable params: 0\n",
            "_________________________________________________________________\n"
          ],
          "name": "stdout"
        },
        {
          "output_type": "stream",
          "text": [
            "\n",
            " 21%|██▏       | 3/14 [11:18<41:03, 223.94s/it]\u001b[A"
          ],
          "name": "stderr"
        },
        {
          "output_type": "stream",
          "text": [
            "{'dropout': 0.4, 'n_hidden': 35}\n",
            "Model: \"sequential_1\"\n",
            "_________________________________________________________________\n",
            "Layer (type)                 Output Shape              Param #   \n",
            "=================================================================\n",
            "lstm_1 (LSTM)                (None, 35)                6300      \n",
            "_________________________________________________________________\n",
            "dropout_1 (Dropout)          (None, 35)                0         \n",
            "_________________________________________________________________\n",
            "dense_1 (Dense)              (None, 6)                 216       \n",
            "=================================================================\n",
            "Total params: 6,516\n",
            "Trainable params: 6,516\n",
            "Non-trainable params: 0\n",
            "_________________________________________________________________\n"
          ],
          "name": "stdout"
        },
        {
          "output_type": "stream",
          "text": [
            "\n",
            " 29%|██▊       | 4/14 [15:48<39:39, 237.93s/it]\u001b[A"
          ],
          "name": "stderr"
        },
        {
          "output_type": "stream",
          "text": [
            "{'dropout': 0.4, 'n_hidden': 45}\n",
            "Model: \"sequential_1\"\n",
            "_________________________________________________________________\n",
            "Layer (type)                 Output Shape              Param #   \n",
            "=================================================================\n",
            "lstm_1 (LSTM)                (None, 45)                9900      \n",
            "_________________________________________________________________\n",
            "dropout_1 (Dropout)          (None, 45)                0         \n",
            "_________________________________________________________________\n",
            "dense_1 (Dense)              (None, 6)                 276       \n",
            "=================================================================\n",
            "Total params: 10,176\n",
            "Trainable params: 10,176\n",
            "Non-trainable params: 0\n",
            "_________________________________________________________________\n"
          ],
          "name": "stdout"
        },
        {
          "output_type": "stream",
          "text": [
            "\n",
            " 36%|███▌      | 5/14 [20:42<38:10, 254.55s/it]\u001b[A"
          ],
          "name": "stderr"
        },
        {
          "output_type": "stream",
          "text": [
            "{'dropout': 0.4, 'n_hidden': 55}\n",
            "Model: \"sequential_1\"\n",
            "_________________________________________________________________\n",
            "Layer (type)                 Output Shape              Param #   \n",
            "=================================================================\n",
            "lstm_1 (LSTM)                (None, 55)                14300     \n",
            "_________________________________________________________________\n",
            "dropout_1 (Dropout)          (None, 55)                0         \n",
            "_________________________________________________________________\n",
            "dense_1 (Dense)              (None, 6)                 336       \n",
            "=================================================================\n",
            "Total params: 14,636\n",
            "Trainable params: 14,636\n",
            "Non-trainable params: 0\n",
            "_________________________________________________________________\n"
          ],
          "name": "stdout"
        },
        {
          "output_type": "stream",
          "text": [
            "\n",
            " 43%|████▎     | 6/14 [26:06<36:43, 275.41s/it]\u001b[A"
          ],
          "name": "stderr"
        },
        {
          "output_type": "stream",
          "text": [
            "{'dropout': 0.4, 'n_hidden': 65}\n",
            "Model: \"sequential_1\"\n",
            "_________________________________________________________________\n",
            "Layer (type)                 Output Shape              Param #   \n",
            "=================================================================\n",
            "lstm_1 (LSTM)                (None, 65)                19500     \n",
            "_________________________________________________________________\n",
            "dropout_1 (Dropout)          (None, 65)                0         \n",
            "_________________________________________________________________\n",
            "dense_1 (Dense)              (None, 6)                 396       \n",
            "=================================================================\n",
            "Total params: 19,896\n",
            "Trainable params: 19,896\n",
            "Non-trainable params: 0\n",
            "_________________________________________________________________\n"
          ],
          "name": "stdout"
        },
        {
          "output_type": "stream",
          "text": [
            "\n",
            " 50%|█████     | 7/14 [32:07<35:07, 301.05s/it]\u001b[A"
          ],
          "name": "stderr"
        },
        {
          "output_type": "stream",
          "text": [
            "{'dropout': 0.5, 'n_hidden': 10}\n",
            "Model: \"sequential_1\"\n",
            "_________________________________________________________________\n",
            "Layer (type)                 Output Shape              Param #   \n",
            "=================================================================\n",
            "lstm_1 (LSTM)                (None, 10)                800       \n",
            "_________________________________________________________________\n",
            "dropout_1 (Dropout)          (None, 10)                0         \n",
            "_________________________________________________________________\n",
            "dense_1 (Dense)              (None, 6)                 66        \n",
            "=================================================================\n",
            "Total params: 866\n",
            "Trainable params: 866\n",
            "Non-trainable params: 0\n",
            "_________________________________________________________________\n"
          ],
          "name": "stdout"
        },
        {
          "output_type": "stream",
          "text": [
            "\n",
            " 57%|█████▋    | 8/14 [35:39<27:27, 274.54s/it]\u001b[A"
          ],
          "name": "stderr"
        },
        {
          "output_type": "stream",
          "text": [
            "{'dropout': 0.5, 'n_hidden': 15}\n",
            "Model: \"sequential_1\"\n",
            "_________________________________________________________________\n",
            "Layer (type)                 Output Shape              Param #   \n",
            "=================================================================\n",
            "lstm_1 (LSTM)                (None, 15)                1500      \n",
            "_________________________________________________________________\n",
            "dropout_1 (Dropout)          (None, 15)                0         \n",
            "_________________________________________________________________\n",
            "dense_1 (Dense)              (None, 6)                 96        \n",
            "=================================================================\n",
            "Total params: 1,596\n",
            "Trainable params: 1,596\n",
            "Non-trainable params: 0\n",
            "_________________________________________________________________\n"
          ],
          "name": "stdout"
        },
        {
          "output_type": "stream",
          "text": [
            "\n",
            " 64%|██████▍   | 9/14 [39:22<21:34, 258.91s/it]\u001b[A"
          ],
          "name": "stderr"
        },
        {
          "output_type": "stream",
          "text": [
            "{'dropout': 0.5, 'n_hidden': 25}\n",
            "Model: \"sequential_1\"\n",
            "_________________________________________________________________\n",
            "Layer (type)                 Output Shape              Param #   \n",
            "=================================================================\n",
            "lstm_1 (LSTM)                (None, 25)                3500      \n",
            "_________________________________________________________________\n",
            "dropout_1 (Dropout)          (None, 25)                0         \n",
            "_________________________________________________________________\n",
            "dense_1 (Dense)              (None, 6)                 156       \n",
            "=================================================================\n",
            "Total params: 3,656\n",
            "Trainable params: 3,656\n",
            "Non-trainable params: 0\n",
            "_________________________________________________________________\n"
          ],
          "name": "stdout"
        },
        {
          "output_type": "stream",
          "text": [
            "\n",
            " 71%|███████▏  | 10/14 [43:26<16:58, 254.63s/it]\u001b[A"
          ],
          "name": "stderr"
        },
        {
          "output_type": "stream",
          "text": [
            "{'dropout': 0.5, 'n_hidden': 35}\n",
            "Model: \"sequential_1\"\n",
            "_________________________________________________________________\n",
            "Layer (type)                 Output Shape              Param #   \n",
            "=================================================================\n",
            "lstm_1 (LSTM)                (None, 35)                6300      \n",
            "_________________________________________________________________\n",
            "dropout_1 (Dropout)          (None, 35)                0         \n",
            "_________________________________________________________________\n",
            "dense_1 (Dense)              (None, 6)                 216       \n",
            "=================================================================\n",
            "Total params: 6,516\n",
            "Trainable params: 6,516\n",
            "Non-trainable params: 0\n",
            "_________________________________________________________________\n"
          ],
          "name": "stdout"
        },
        {
          "output_type": "stream",
          "text": [
            "\n",
            " 79%|███████▊  | 11/14 [47:58<12:59, 259.70s/it]\u001b[A"
          ],
          "name": "stderr"
        },
        {
          "output_type": "stream",
          "text": [
            "{'dropout': 0.5, 'n_hidden': 45}\n",
            "Model: \"sequential_1\"\n",
            "_________________________________________________________________\n",
            "Layer (type)                 Output Shape              Param #   \n",
            "=================================================================\n",
            "lstm_1 (LSTM)                (None, 45)                9900      \n",
            "_________________________________________________________________\n",
            "dropout_1 (Dropout)          (None, 45)                0         \n",
            "_________________________________________________________________\n",
            "dense_1 (Dense)              (None, 6)                 276       \n",
            "=================================================================\n",
            "Total params: 10,176\n",
            "Trainable params: 10,176\n",
            "Non-trainable params: 0\n",
            "_________________________________________________________________\n"
          ],
          "name": "stdout"
        },
        {
          "output_type": "stream",
          "text": [
            "\n",
            " 86%|████████▌ | 12/14 [52:53<09:00, 270.42s/it]\u001b[A"
          ],
          "name": "stderr"
        },
        {
          "output_type": "stream",
          "text": [
            "{'dropout': 0.5, 'n_hidden': 55}\n",
            "Model: \"sequential_1\"\n",
            "_________________________________________________________________\n",
            "Layer (type)                 Output Shape              Param #   \n",
            "=================================================================\n",
            "lstm_1 (LSTM)                (None, 55)                14300     \n",
            "_________________________________________________________________\n",
            "dropout_1 (Dropout)          (None, 55)                0         \n",
            "_________________________________________________________________\n",
            "dense_1 (Dense)              (None, 6)                 336       \n",
            "=================================================================\n",
            "Total params: 14,636\n",
            "Trainable params: 14,636\n",
            "Non-trainable params: 0\n",
            "_________________________________________________________________\n"
          ],
          "name": "stdout"
        },
        {
          "output_type": "stream",
          "text": [
            "\n",
            " 93%|█████████▎| 13/14 [58:19<04:47, 287.10s/it]\u001b[A"
          ],
          "name": "stderr"
        },
        {
          "output_type": "stream",
          "text": [
            "{'dropout': 0.5, 'n_hidden': 65}\n",
            "Model: \"sequential_1\"\n",
            "_________________________________________________________________\n",
            "Layer (type)                 Output Shape              Param #   \n",
            "=================================================================\n",
            "lstm_1 (LSTM)                (None, 65)                19500     \n",
            "_________________________________________________________________\n",
            "dropout_1 (Dropout)          (None, 65)                0         \n",
            "_________________________________________________________________\n",
            "dense_1 (Dense)              (None, 6)                 396       \n",
            "=================================================================\n",
            "Total params: 19,896\n",
            "Trainable params: 19,896\n",
            "Non-trainable params: 0\n",
            "_________________________________________________________________\n"
          ],
          "name": "stdout"
        },
        {
          "output_type": "stream",
          "text": [
            "\n",
            "100%|██████████| 14/14 [1:04:21<00:00, 309.34s/it]\u001b[A\n",
            "\u001b[A"
          ],
          "name": "stderr"
        }
      ]
    },
    {
      "cell_type": "code",
      "metadata": {
        "colab_type": "code",
        "id": "wNlQaQEkp6OR",
        "colab": {}
      },
      "source": [
        "print (t2.data)"
      ],
      "execution_count": 0,
      "outputs": []
    },
    {
      "cell_type": "code",
      "metadata": {
        "colab_type": "code",
        "id": "mpCWeLK1p6OZ",
        "outputId": "91597655-d10f-439a-a5b7-41a0ed67422a",
        "colab": {
          "base_uri": "https://localhost:8080/",
          "height": 459
        }
      },
      "source": [
        "analyze_object2 = ta.Analyze(t2)\n",
        "print (analyze_object2.data)\n",
        "print (\"############\")\n",
        "print (analyze_object2.best_params('val_acc', ['acc', 'loss', 'val_loss']))\n"
      ],
      "execution_count": 0,
      "outputs": [
        {
          "output_type": "stream",
          "text": [
            "    round_epochs  val_loss   val_acc      loss       acc  dropout  n_hidden\n",
            "0             30  0.705121  0.683590  0.809682  0.641663      0.4        10\n",
            "1             30  0.682834  0.692656  0.726294  0.669452      0.4        15\n",
            "2             30  0.898698  0.699909  1.034566  0.579868      0.4        25\n",
            "3             30  0.390169  0.867180  0.509215  0.834629      0.4        35\n",
            "4             30  0.276417  0.906165  0.348644  0.871356      0.4        45\n",
            "5             30  1.192201  0.476881  1.213438  0.486592      0.4        55\n",
            "6             30  0.545816  0.781052  0.673832  0.722309      0.4        65\n",
            "7             30  1.100086  0.472348  1.117126  0.498834      0.5        10\n",
            "8             30  0.710729  0.640526  0.796891  0.628449      0.5        15\n",
            "9             30  0.736238  0.630553  0.702828  0.664983      0.5        25\n",
            "10            30  0.761507  0.648232  0.819030  0.610377      0.5        35\n",
            "11            30  0.334457  0.890752  0.344861  0.897007      0.5        45\n",
            "12            30  0.662877  0.653218  0.738219  0.627089      0.5        55\n",
            "13            30  1.464748  0.330462  1.400331  0.434124      0.5        65\n",
            "############\n",
            "[[45.   0.4 30.   0. ]\n",
            " [45.   0.5 30.   1. ]\n",
            " [35.   0.4 30.   2. ]\n",
            " [65.   0.4 30.   3. ]\n",
            " [25.   0.4 30.   4. ]\n",
            " [15.   0.4 30.   5. ]\n",
            " [10.   0.4 30.   6. ]\n",
            " [55.   0.5 30.   7. ]\n",
            " [35.   0.5 30.   8. ]\n",
            " [15.   0.5 30.   9. ]]\n"
          ],
          "name": "stdout"
        }
      ]
    },
    {
      "cell_type": "code",
      "metadata": {
        "colab_type": "code",
        "id": "tE8Qmp-mp6Oe",
        "outputId": "7bb25cd4-8810-45c6-fbe4-9b60ea08e256",
        "colab": {
          "base_uri": "https://localhost:8080/",
          "height": 480
        }
      },
      "source": [
        "analyze_object2.plot_regs('val_acc', 'val_loss')\n"
      ],
      "execution_count": 0,
      "outputs": [
        {
          "output_type": "display_data",
          "data": {
            "image/png": "[encoded data removed]",
            "text/plain": [
              "<Figure size 720x475.2 with 1 Axes>"
            ]
          },
          "metadata": {
            "tags": []
          }
        }
      ]
    },
    {
      "cell_type": "code",
      "metadata": {
        "colab_type": "code",
        "id": "mVPHWFhep6Oh",
        "outputId": "8a78cf83-1425-437d-973e-acaa07cf88d8",
        "colab": {
          "base_uri": "https://localhost:8080/",
          "height": 187
        }
      },
      "source": [
        "analyze_object2.best_params('val_acc', ['acc', 'loss', 'val_loss'])\n"
      ],
      "execution_count": 0,
      "outputs": [
        {
          "output_type": "execute_result",
          "data": {
            "text/plain": [
              "array([[45. ,  0.4, 30. ,  0. ],\n",
              "       [45. ,  0.5, 30. ,  1. ],\n",
              "       [35. ,  0.4, 30. ,  2. ],\n",
              "       [65. ,  0.4, 30. ,  3. ],\n",
              "       [25. ,  0.4, 30. ,  4. ],\n",
              "       [15. ,  0.4, 30. ,  5. ],\n",
              "       [10. ,  0.4, 30. ,  6. ],\n",
              "       [55. ,  0.5, 30. ,  7. ],\n",
              "       [35. ,  0.5, 30. ,  8. ],\n",
              "       [15. ,  0.5, 30. ,  9. ]])"
            ]
          },
          "metadata": {
            "tags": []
          },
          "execution_count": 28
        }
      ]
    },
    {
      "cell_type": "code",
      "metadata": {
        "colab_type": "code",
        "id": "IqnSGAySqI3e",
        "outputId": "3e934af1-6e7b-4acd-d325-dd95aa99bc81",
        "colab": {
          "base_uri": "https://localhost:8080/",
          "height": 3315
        }
      },
      "source": [
        "import talos as ta\n",
        "import warnings\n",
        "warnings.filterwarnings('ignore')\n",
        "\n",
        "t3 = ta.Scan(x=X_train,y=Y_train,model=HAR_LSTM,params=p1,experiment_name='3',disable_progress_bar=False,print_params=True)"
      ],
      "execution_count": 0,
      "outputs": [
        {
          "output_type": "stream",
          "text": [
            "\n",
            "  0%|          | 0/12 [00:00<?, ?it/s]\u001b[A"
          ],
          "name": "stderr"
        },
        {
          "output_type": "stream",
          "text": [
            "{'dropout': 0.2, 'n_hidden': 15}\n",
            "Model: \"sequential_1\"\n",
            "_________________________________________________________________\n",
            "Layer (type)                 Output Shape              Param #   \n",
            "=================================================================\n",
            "lstm_1 (LSTM)                (None, 15)                1500      \n",
            "_________________________________________________________________\n",
            "dropout_1 (Dropout)          (None, 15)                0         \n",
            "_________________________________________________________________\n",
            "dense_1 (Dense)              (None, 6)                 96        \n",
            "=================================================================\n",
            "Total params: 1,596\n",
            "Trainable params: 1,596\n",
            "Non-trainable params: 0\n",
            "_________________________________________________________________\n"
          ],
          "name": "stdout"
        },
        {
          "output_type": "stream",
          "text": [
            "\n",
            "  8%|▊         | 1/12 [03:42<40:52, 222.99s/it]\u001b[A"
          ],
          "name": "stderr"
        },
        {
          "output_type": "stream",
          "text": [
            "{'dropout': 0.2, 'n_hidden': 25}\n",
            "Model: \"sequential_1\"\n",
            "_________________________________________________________________\n",
            "Layer (type)                 Output Shape              Param #   \n",
            "=================================================================\n",
            "lstm_1 (LSTM)                (None, 25)                3500      \n",
            "_________________________________________________________________\n",
            "dropout_1 (Dropout)          (None, 25)                0         \n",
            "_________________________________________________________________\n",
            "dense_1 (Dense)              (None, 6)                 156       \n",
            "=================================================================\n",
            "Total params: 3,656\n",
            "Trainable params: 3,656\n",
            "Non-trainable params: 0\n",
            "_________________________________________________________________\n"
          ],
          "name": "stdout"
        },
        {
          "output_type": "stream",
          "text": [
            "\n",
            " 17%|█▋        | 2/12 [07:49<38:21, 230.15s/it]\u001b[A"
          ],
          "name": "stderr"
        },
        {
          "output_type": "stream",
          "text": [
            "{'dropout': 0.2, 'n_hidden': 35}\n",
            "Model: \"sequential_1\"\n",
            "_________________________________________________________________\n",
            "Layer (type)                 Output Shape              Param #   \n",
            "=================================================================\n",
            "lstm_1 (LSTM)                (None, 35)                6300      \n",
            "_________________________________________________________________\n",
            "dropout_1 (Dropout)          (None, 35)                0         \n",
            "_________________________________________________________________\n",
            "dense_1 (Dense)              (None, 6)                 216       \n",
            "=================================================================\n",
            "Total params: 6,516\n",
            "Trainable params: 6,516\n",
            "Non-trainable params: 0\n",
            "_________________________________________________________________\n"
          ],
          "name": "stdout"
        },
        {
          "output_type": "stream",
          "text": [
            "\n",
            " 25%|██▌       | 3/12 [12:23<36:27, 243.08s/it]\u001b[A"
          ],
          "name": "stderr"
        },
        {
          "output_type": "stream",
          "text": [
            "{'dropout': 0.2, 'n_hidden': 45}\n",
            "Model: \"sequential_1\"\n",
            "_________________________________________________________________\n",
            "Layer (type)                 Output Shape              Param #   \n",
            "=================================================================\n",
            "lstm_1 (LSTM)                (None, 45)                9900      \n",
            "_________________________________________________________________\n",
            "dropout_1 (Dropout)          (None, 45)                0         \n",
            "_________________________________________________________________\n",
            "dense_1 (Dense)              (None, 6)                 276       \n",
            "=================================================================\n",
            "Total params: 10,176\n",
            "Trainable params: 10,176\n",
            "Non-trainable params: 0\n",
            "_________________________________________________________________\n"
          ],
          "name": "stdout"
        },
        {
          "output_type": "stream",
          "text": [
            "\n",
            " 33%|███▎      | 4/12 [17:17<34:27, 258.41s/it]\u001b[A"
          ],
          "name": "stderr"
        },
        {
          "output_type": "stream",
          "text": [
            "{'dropout': 0.2, 'n_hidden': 55}\n",
            "Model: \"sequential_1\"\n",
            "_________________________________________________________________\n",
            "Layer (type)                 Output Shape              Param #   \n",
            "=================================================================\n",
            "lstm_1 (LSTM)                (None, 55)                14300     \n",
            "_________________________________________________________________\n",
            "dropout_1 (Dropout)          (None, 55)                0         \n",
            "_________________________________________________________________\n",
            "dense_1 (Dense)              (None, 6)                 336       \n",
            "=================================================================\n",
            "Total params: 14,636\n",
            "Trainable params: 14,636\n",
            "Non-trainable params: 0\n",
            "_________________________________________________________________\n"
          ],
          "name": "stdout"
        },
        {
          "output_type": "stream",
          "text": [
            "\n",
            " 42%|████▏     | 5/12 [22:43<32:31, 278.79s/it]\u001b[A"
          ],
          "name": "stderr"
        },
        {
          "output_type": "stream",
          "text": [
            "{'dropout': 0.2, 'n_hidden': 65}\n",
            "Model: \"sequential_1\"\n",
            "_________________________________________________________________\n",
            "Layer (type)                 Output Shape              Param #   \n",
            "=================================================================\n",
            "lstm_1 (LSTM)                (None, 65)                19500     \n",
            "_________________________________________________________________\n",
            "dropout_1 (Dropout)          (None, 65)                0         \n",
            "_________________________________________________________________\n",
            "dense_1 (Dense)              (None, 6)                 396       \n",
            "=================================================================\n",
            "Total params: 19,896\n",
            "Trainable params: 19,896\n",
            "Non-trainable params: 0\n",
            "_________________________________________________________________\n"
          ],
          "name": "stdout"
        },
        {
          "output_type": "stream",
          "text": [
            "\n",
            " 50%|█████     | 6/12 [28:44<30:20, 303.46s/it]\u001b[A"
          ],
          "name": "stderr"
        },
        {
          "output_type": "stream",
          "text": [
            "{'dropout': 0.3, 'n_hidden': 15}\n",
            "Model: \"sequential_1\"\n",
            "_________________________________________________________________\n",
            "Layer (type)                 Output Shape              Param #   \n",
            "=================================================================\n",
            "lstm_1 (LSTM)                (None, 15)                1500      \n",
            "_________________________________________________________________\n",
            "dropout_1 (Dropout)          (None, 15)                0         \n",
            "_________________________________________________________________\n",
            "dense_1 (Dense)              (None, 6)                 96        \n",
            "=================================================================\n",
            "Total params: 1,596\n",
            "Trainable params: 1,596\n",
            "Non-trainable params: 0\n",
            "_________________________________________________________________\n"
          ],
          "name": "stdout"
        },
        {
          "output_type": "stream",
          "text": [
            "\n",
            " 58%|█████▊    | 7/12 [32:26<23:15, 279.10s/it]\u001b[A"
          ],
          "name": "stderr"
        },
        {
          "output_type": "stream",
          "text": [
            "{'dropout': 0.3, 'n_hidden': 25}\n",
            "Model: \"sequential_1\"\n",
            "_________________________________________________________________\n",
            "Layer (type)                 Output Shape              Param #   \n",
            "=================================================================\n",
            "lstm_1 (LSTM)                (None, 25)                3500      \n",
            "_________________________________________________________________\n",
            "dropout_1 (Dropout)          (None, 25)                0         \n",
            "_________________________________________________________________\n",
            "dense_1 (Dense)              (None, 6)                 156       \n",
            "=================================================================\n",
            "Total params: 3,656\n",
            "Trainable params: 3,656\n",
            "Non-trainable params: 0\n",
            "_________________________________________________________________\n"
          ],
          "name": "stdout"
        },
        {
          "output_type": "stream",
          "text": [
            "\n",
            " 67%|██████▋   | 8/12 [36:31<17:55, 268.77s/it]\u001b[A"
          ],
          "name": "stderr"
        },
        {
          "output_type": "stream",
          "text": [
            "{'dropout': 0.3, 'n_hidden': 35}\n",
            "Model: \"sequential_1\"\n",
            "_________________________________________________________________\n",
            "Layer (type)                 Output Shape              Param #   \n",
            "=================================================================\n",
            "lstm_1 (LSTM)                (None, 35)                6300      \n",
            "_________________________________________________________________\n",
            "dropout_1 (Dropout)          (None, 35)                0         \n",
            "_________________________________________________________________\n",
            "dense_1 (Dense)              (None, 6)                 216       \n",
            "=================================================================\n",
            "Total params: 6,516\n",
            "Trainable params: 6,516\n",
            "Non-trainable params: 0\n",
            "_________________________________________________________________\n"
          ],
          "name": "stdout"
        },
        {
          "output_type": "stream",
          "text": [
            "\n",
            " 75%|███████▌  | 9/12 [41:04<13:29, 270.00s/it]\u001b[A"
          ],
          "name": "stderr"
        },
        {
          "output_type": "stream",
          "text": [
            "{'dropout': 0.3, 'n_hidden': 45}\n",
            "Model: \"sequential_1\"\n",
            "_________________________________________________________________\n",
            "Layer (type)                 Output Shape              Param #   \n",
            "=================================================================\n",
            "lstm_1 (LSTM)                (None, 45)                9900      \n",
            "_________________________________________________________________\n",
            "dropout_1 (Dropout)          (None, 45)                0         \n",
            "_________________________________________________________________\n",
            "dense_1 (Dense)              (None, 6)                 276       \n",
            "=================================================================\n",
            "Total params: 10,176\n",
            "Trainable params: 10,176\n",
            "Non-trainable params: 0\n",
            "_________________________________________________________________\n"
          ],
          "name": "stdout"
        },
        {
          "output_type": "stream",
          "text": [
            "\n",
            " 83%|████████▎ | 10/12 [45:52<09:10, 275.36s/it]\u001b[A"
          ],
          "name": "stderr"
        },
        {
          "output_type": "stream",
          "text": [
            "{'dropout': 0.3, 'n_hidden': 55}\n",
            "Model: \"sequential_1\"\n",
            "_________________________________________________________________\n",
            "Layer (type)                 Output Shape              Param #   \n",
            "=================================================================\n",
            "lstm_1 (LSTM)                (None, 55)                14300     \n",
            "_________________________________________________________________\n",
            "dropout_1 (Dropout)          (None, 55)                0         \n",
            "_________________________________________________________________\n",
            "dense_1 (Dense)              (None, 6)                 336       \n",
            "=================================================================\n",
            "Total params: 14,636\n",
            "Trainable params: 14,636\n",
            "Non-trainable params: 0\n",
            "_________________________________________________________________\n"
          ],
          "name": "stdout"
        },
        {
          "output_type": "stream",
          "text": [
            "\n",
            " 92%|█████████▏| 11/12 [51:01<04:45, 285.37s/it]\u001b[A"
          ],
          "name": "stderr"
        },
        {
          "output_type": "stream",
          "text": [
            "{'dropout': 0.3, 'n_hidden': 65}\n",
            "Model: \"sequential_1\"\n",
            "_________________________________________________________________\n",
            "Layer (type)                 Output Shape              Param #   \n",
            "=================================================================\n",
            "lstm_1 (LSTM)                (None, 65)                19500     \n",
            "_________________________________________________________________\n",
            "dropout_1 (Dropout)          (None, 65)                0         \n",
            "_________________________________________________________________\n",
            "dense_1 (Dense)              (None, 6)                 396       \n",
            "=================================================================\n",
            "Total params: 19,896\n",
            "Trainable params: 19,896\n",
            "Non-trainable params: 0\n",
            "_________________________________________________________________\n"
          ],
          "name": "stdout"
        },
        {
          "output_type": "stream",
          "text": [
            "\n",
            "100%|██████████| 12/12 [56:43<00:00, 302.59s/it]\u001b[A\n",
            "\u001b[A"
          ],
          "name": "stderr"
        }
      ]
    },
    {
      "cell_type": "code",
      "metadata": {
        "colab_type": "code",
        "id": "416n-vSrqI3q",
        "outputId": "60ae636d-7c15-4d30-cd0e-4d6b45d55649",
        "colab": {
          "base_uri": "https://localhost:8080/",
          "height": 238
        }
      },
      "source": [
        "print (t3.data)"
      ],
      "execution_count": 0,
      "outputs": [
        {
          "output_type": "stream",
          "text": [
            "    round_epochs  val_loss   val_acc      loss       acc  dropout  n_hidden\n",
            "0             30  0.682995  0.658658  0.722424  0.671784      0.2        15\n",
            "1             30  1.054739  0.623300  1.085866  0.546444      0.2        25\n",
            "2             30  0.529008  0.767452  0.535910  0.763311      0.2        35\n",
            "3             30  0.366875  0.878060  0.409616  0.865138      0.2        45\n",
            "4             30  0.235800  0.914325  0.272757  0.909444      0.2        55\n",
            "5             30  0.276946  0.907072  0.276064  0.897007      0.2        65\n",
            "6             30  0.787219  0.641886  0.996860  0.600661      0.3        15\n",
            "7             30  0.828878  0.592928  0.877912  0.603964      0.3        25\n",
            "8             30  0.271579  0.907525  0.237677  0.921492      0.3        35\n",
            "9             30  0.616223  0.753400  0.724502  0.692771      0.3        45\n",
            "10            30  0.397681  0.874887  0.445539  0.840070      0.3        55\n",
            "11            30  0.499969  0.825929  0.602736  0.772445      0.3        65\n"
          ],
          "name": "stdout"
        }
      ]
    },
    {
      "cell_type": "code",
      "metadata": {
        "colab_type": "code",
        "id": "s4oIx1G_qI3y",
        "outputId": "6e000890-1905-42f9-d663-5e37df227716",
        "colab": {
          "base_uri": "https://localhost:8080/",
          "height": 425
        }
      },
      "source": [
        "analyze_object3 = ta.Analyze(t3)\n",
        "print (analyze_object3.data)\n",
        "print (\"############\")\n",
        "print (analyze_object3.best_params('val_acc', ['acc', 'loss', 'val_loss']))\n"
      ],
      "execution_count": 0,
      "outputs": [
        {
          "output_type": "stream",
          "text": [
            "    round_epochs  val_loss   val_acc      loss       acc  dropout  n_hidden\n",
            "0             30  0.682995  0.658658  0.722424  0.671784      0.2        15\n",
            "1             30  1.054739  0.623300  1.085866  0.546444      0.2        25\n",
            "2             30  0.529008  0.767452  0.535910  0.763311      0.2        35\n",
            "3             30  0.366875  0.878060  0.409616  0.865138      0.2        45\n",
            "4             30  0.235800  0.914325  0.272757  0.909444      0.2        55\n",
            "5             30  0.276946  0.907072  0.276064  0.897007      0.2        65\n",
            "6             30  0.787219  0.641886  0.996860  0.600661      0.3        15\n",
            "7             30  0.828878  0.592928  0.877912  0.603964      0.3        25\n",
            "8             30  0.271579  0.907525  0.237677  0.921492      0.3        35\n",
            "9             30  0.616223  0.753400  0.724502  0.692771      0.3        45\n",
            "10            30  0.397681  0.874887  0.445539  0.840070      0.3        55\n",
            "11            30  0.499969  0.825929  0.602736  0.772445      0.3        65\n",
            "############\n",
            "[[55.   0.2 30.   0. ]\n",
            " [35.   0.3 30.   1. ]\n",
            " [65.   0.2 30.   2. ]\n",
            " [45.   0.2 30.   3. ]\n",
            " [55.   0.3 30.   4. ]\n",
            " [65.   0.3 30.   5. ]\n",
            " [35.   0.2 30.   6. ]\n",
            " [45.   0.3 30.   7. ]\n",
            " [15.   0.2 30.   8. ]\n",
            " [15.   0.3 30.   9. ]]\n"
          ],
          "name": "stdout"
        }
      ]
    },
    {
      "cell_type": "code",
      "metadata": {
        "colab_type": "code",
        "id": "BMjUvNPkqI35",
        "outputId": "323d4ec6-9929-4961-bb5f-09f34fcadd32",
        "colab": {
          "base_uri": "https://localhost:8080/",
          "height": 480
        }
      },
      "source": [
        "analyze_object3.plot_regs('val_acc', 'val_loss')\n"
      ],
      "execution_count": 0,
      "outputs": [
        {
          "output_type": "display_data",
          "data": {
            "image/png": "[encoded data removed]",
            "text/plain": [
              "<Figure size 720x475.2 with 1 Axes>"
            ]
          },
          "metadata": {
            "tags": []
          }
        }
      ]
    },
    {
      "cell_type": "code",
      "metadata": {
        "colab_type": "code",
        "id": "vZCLLiIeqI3-",
        "outputId": "6324e88d-2b8b-40ba-fc4a-fa6f1fc5a076",
        "colab": {
          "base_uri": "https://localhost:8080/",
          "height": 187
        }
      },
      "source": [
        "analyze_object3.best_params('val_acc', ['acc', 'loss', 'val_loss'])\n"
      ],
      "execution_count": 0,
      "outputs": [
        {
          "output_type": "execute_result",
          "data": {
            "text/plain": [
              "array([[55. ,  0.2, 30. ,  0. ],\n",
              "       [35. ,  0.3, 30. ,  1. ],\n",
              "       [65. ,  0.2, 30. ,  2. ],\n",
              "       [45. ,  0.2, 30. ,  3. ],\n",
              "       [55. ,  0.3, 30. ,  4. ],\n",
              "       [65. ,  0.3, 30. ,  5. ],\n",
              "       [35. ,  0.2, 30. ,  6. ],\n",
              "       [45. ,  0.3, 30. ,  7. ],\n",
              "       [15. ,  0.2, 30. ,  8. ],\n",
              "       [15. ,  0.3, 30. ,  9. ]])"
            ]
          },
          "metadata": {
            "tags": []
          },
          "execution_count": 33
        }
      ]
    },
    {
      "cell_type": "code",
      "metadata": {
        "colab_type": "code",
        "outputId": "d6bd7128-4e26-4190-9d6d-c25770b4c2af",
        "id": "vTAozUAPfGbK",
        "colab": {
          "base_uri": "https://localhost:8080/",
          "height": 2434
        }
      },
      "source": [
        "import talos as ta\n",
        "import warnings\n",
        "\n",
        "with warnings.catch_warnings():\n",
        "    warnings.filterwarnings(\"ignore\",category=DeprecationWarning)\n",
        "\n",
        "t4 = ta.Scan(x=X_train,y=Y_train,model=HAR_LSTM,params=p4,experiment_name='4',disable_progress_bar=False,print_params=True)"
      ],
      "execution_count": 0,
      "outputs": [
        {
          "output_type": "stream",
          "text": [
            "\r  0%|          | 0/7 [00:00<?, ?it/s]"
          ],
          "name": "stderr"
        },
        {
          "output_type": "stream",
          "text": [
            "{'dropout': 0.8, 'n_hidden': 10}\n",
            "WARNING:tensorflow:From /usr/local/lib/python3.6/dist-packages/keras/backend/tensorflow_backend.py:541: The name tf.placeholder is deprecated. Please use tf.compat.v1.placeholder instead.\n",
            "\n",
            "WARNING:tensorflow:From /usr/local/lib/python3.6/dist-packages/keras/backend/tensorflow_backend.py:4432: The name tf.random_uniform is deprecated. Please use tf.random.uniform instead.\n",
            "\n",
            "WARNING:tensorflow:From /usr/local/lib/python3.6/dist-packages/keras/backend/tensorflow_backend.py:148: The name tf.placeholder_with_default is deprecated. Please use tf.compat.v1.placeholder_with_default instead.\n",
            "\n",
            "WARNING:tensorflow:From /usr/local/lib/python3.6/dist-packages/keras/backend/tensorflow_backend.py:3733: calling dropout (from tensorflow.python.ops.nn_ops) with keep_prob is deprecated and will be removed in a future version.\n",
            "Instructions for updating:\n",
            "Please use `rate` instead of `keep_prob`. Rate should be set to `rate = 1 - keep_prob`.\n",
            "WARNING:tensorflow:Large dropout rate: 0.8 (>0.5). In TensorFlow 2.x, dropout() uses dropout rate instead of keep_prob. Please ensure that this is intended.\n",
            "Model: \"sequential_1\"\n",
            "_________________________________________________________________\n",
            "Layer (type)                 Output Shape              Param #   \n",
            "=================================================================\n",
            "lstm_1 (LSTM)                (None, 10)                800       \n",
            "_________________________________________________________________\n",
            "dropout_1 (Dropout)          (None, 10)                0         \n",
            "_________________________________________________________________\n",
            "dense_1 (Dense)              (None, 6)                 66        \n",
            "=================================================================\n",
            "Total params: 866\n",
            "Trainable params: 866\n",
            "Non-trainable params: 0\n",
            "_________________________________________________________________\n",
            "WARNING:tensorflow:From /usr/local/lib/python3.6/dist-packages/keras/optimizers.py:793: The name tf.train.Optimizer is deprecated. Please use tf.compat.v1.train.Optimizer instead.\n",
            "\n",
            "WARNING:tensorflow:From /usr/local/lib/python3.6/dist-packages/keras/backend/tensorflow_backend.py:3576: The name tf.log is deprecated. Please use tf.math.log instead.\n",
            "\n",
            "WARNING:tensorflow:From /usr/local/lib/python3.6/dist-packages/tensorflow_core/python/ops/math_grad.py:1424: where (from tensorflow.python.ops.array_ops) is deprecated and will be removed in a future version.\n",
            "Instructions for updating:\n",
            "Use tf.where in 2.0, which has the same broadcast rule as np.where\n",
            "WARNING:tensorflow:From /usr/local/lib/python3.6/dist-packages/keras/backend/tensorflow_backend.py:1033: The name tf.assign_add is deprecated. Please use tf.compat.v1.assign_add instead.\n",
            "\n",
            "WARNING:tensorflow:From /usr/local/lib/python3.6/dist-packages/keras/backend/tensorflow_backend.py:1020: The name tf.assign is deprecated. Please use tf.compat.v1.assign instead.\n",
            "\n",
            "WARNING:tensorflow:From /usr/local/lib/python3.6/dist-packages/keras/backend/tensorflow_backend.py:190: The name tf.get_default_session is deprecated. Please use tf.compat.v1.get_default_session instead.\n",
            "\n",
            "WARNING:tensorflow:From /usr/local/lib/python3.6/dist-packages/keras/backend/tensorflow_backend.py:207: The name tf.global_variables is deprecated. Please use tf.compat.v1.global_variables instead.\n",
            "\n",
            "WARNING:tensorflow:From /usr/local/lib/python3.6/dist-packages/keras/backend/tensorflow_backend.py:216: The name tf.is_variable_initialized is deprecated. Please use tf.compat.v1.is_variable_initialized instead.\n",
            "\n",
            "WARNING:tensorflow:From /usr/local/lib/python3.6/dist-packages/keras/backend/tensorflow_backend.py:223: The name tf.variables_initializer is deprecated. Please use tf.compat.v1.variables_initializer instead.\n",
            "\n",
            "WARNING:tensorflow:From /usr/local/lib/python3.6/dist-packages/keras/backend/tensorflow_backend.py:107: The name tf.reset_default_graph is deprecated. Please use tf.compat.v1.reset_default_graph instead.\n",
            "\n"
          ],
          "name": "stdout"
        },
        {
          "output_type": "stream",
          "text": [
            "\r 14%|█▍        | 1/7 [03:41<22:06, 221.17s/it]"
          ],
          "name": "stderr"
        },
        {
          "output_type": "stream",
          "text": [
            "{'dropout': 0.8, 'n_hidden': 15}\n",
            "WARNING:tensorflow:Large dropout rate: 0.8 (>0.5). In TensorFlow 2.x, dropout() uses dropout rate instead of keep_prob. Please ensure that this is intended.\n",
            "Model: \"sequential_1\"\n",
            "_________________________________________________________________\n",
            "Layer (type)                 Output Shape              Param #   \n",
            "=================================================================\n",
            "lstm_1 (LSTM)                (None, 15)                1500      \n",
            "_________________________________________________________________\n",
            "dropout_1 (Dropout)          (None, 15)                0         \n",
            "_________________________________________________________________\n",
            "dense_1 (Dense)              (None, 6)                 96        \n",
            "=================================================================\n",
            "Total params: 1,596\n",
            "Trainable params: 1,596\n",
            "Non-trainable params: 0\n",
            "_________________________________________________________________\n"
          ],
          "name": "stdout"
        },
        {
          "output_type": "stream",
          "text": [
            "\r 29%|██▊       | 2/7 [07:35<18:44, 224.97s/it]"
          ],
          "name": "stderr"
        },
        {
          "output_type": "stream",
          "text": [
            "{'dropout': 0.8, 'n_hidden': 25}\n",
            "WARNING:tensorflow:Large dropout rate: 0.8 (>0.5). In TensorFlow 2.x, dropout() uses dropout rate instead of keep_prob. Please ensure that this is intended.\n",
            "Model: \"sequential_1\"\n",
            "_________________________________________________________________\n",
            "Layer (type)                 Output Shape              Param #   \n",
            "=================================================================\n",
            "lstm_1 (LSTM)                (None, 25)                3500      \n",
            "_________________________________________________________________\n",
            "dropout_1 (Dropout)          (None, 25)                0         \n",
            "_________________________________________________________________\n",
            "dense_1 (Dense)              (None, 6)                 156       \n",
            "=================================================================\n",
            "Total params: 3,656\n",
            "Trainable params: 3,656\n",
            "Non-trainable params: 0\n",
            "_________________________________________________________________\n"
          ],
          "name": "stdout"
        },
        {
          "output_type": "stream",
          "text": [
            "\r 43%|████▎     | 3/7 [11:52<15:39, 234.80s/it]"
          ],
          "name": "stderr"
        },
        {
          "output_type": "stream",
          "text": [
            "{'dropout': 0.8, 'n_hidden': 35}\n",
            "WARNING:tensorflow:Large dropout rate: 0.8 (>0.5). In TensorFlow 2.x, dropout() uses dropout rate instead of keep_prob. Please ensure that this is intended.\n",
            "Model: \"sequential_1\"\n",
            "_________________________________________________________________\n",
            "Layer (type)                 Output Shape              Param #   \n",
            "=================================================================\n",
            "lstm_1 (LSTM)                (None, 35)                6300      \n",
            "_________________________________________________________________\n",
            "dropout_1 (Dropout)          (None, 35)                0         \n",
            "_________________________________________________________________\n",
            "dense_1 (Dense)              (None, 6)                 216       \n",
            "=================================================================\n",
            "Total params: 6,516\n",
            "Trainable params: 6,516\n",
            "Non-trainable params: 0\n",
            "_________________________________________________________________\n"
          ],
          "name": "stdout"
        },
        {
          "output_type": "stream",
          "text": [
            "\r 57%|█████▋    | 4/7 [16:48<12:39, 253.05s/it]"
          ],
          "name": "stderr"
        },
        {
          "output_type": "stream",
          "text": [
            "{'dropout': 0.8, 'n_hidden': 45}\n",
            "WARNING:tensorflow:Large dropout rate: 0.8 (>0.5). In TensorFlow 2.x, dropout() uses dropout rate instead of keep_prob. Please ensure that this is intended.\n",
            "Model: \"sequential_1\"\n",
            "_________________________________________________________________\n",
            "Layer (type)                 Output Shape              Param #   \n",
            "=================================================================\n",
            "lstm_1 (LSTM)                (None, 45)                9900      \n",
            "_________________________________________________________________\n",
            "dropout_1 (Dropout)          (None, 45)                0         \n",
            "_________________________________________________________________\n",
            "dense_1 (Dense)              (None, 6)                 276       \n",
            "=================================================================\n",
            "Total params: 10,176\n",
            "Trainable params: 10,176\n",
            "Non-trainable params: 0\n",
            "_________________________________________________________________\n"
          ],
          "name": "stdout"
        },
        {
          "output_type": "stream",
          "text": [
            "\r 71%|███████▏  | 5/7 [22:14<09:09, 274.99s/it]"
          ],
          "name": "stderr"
        },
        {
          "output_type": "stream",
          "text": [
            "{'dropout': 0.8, 'n_hidden': 55}\n",
            "Model: \"sequential_1\"\n",
            "_________________________________________________________________\n",
            "Layer (type)                 Output Shape              Param #   \n",
            "=================================================================\n",
            "lstm_1 (LSTM)                (None, 55)                14300     \n",
            "_________________________________________________________________\n",
            "dropout_1 (Dropout)          (None, 55)                0         \n",
            "_________________________________________________________________\n",
            "dense_1 (Dense)              (None, 6)                 336       \n",
            "=================================================================\n",
            "Total params: 14,636\n",
            "Trainable params: 14,636\n",
            "Non-trainable params: 0\n",
            "_________________________________________________________________\n"
          ],
          "name": "stdout"
        },
        {
          "output_type": "stream",
          "text": [
            "\r 86%|████████▌ | 6/7 [28:06<04:58, 298.00s/it]"
          ],
          "name": "stderr"
        },
        {
          "output_type": "stream",
          "text": [
            "{'dropout': 0.8, 'n_hidden': 65}\n",
            "Model: \"sequential_1\"\n",
            "_________________________________________________________________\n",
            "Layer (type)                 Output Shape              Param #   \n",
            "=================================================================\n",
            "lstm_1 (LSTM)                (None, 65)                19500     \n",
            "_________________________________________________________________\n",
            "dropout_1 (Dropout)          (None, 65)                0         \n",
            "_________________________________________________________________\n",
            "dense_1 (Dense)              (None, 6)                 396       \n",
            "=================================================================\n",
            "Total params: 19,896\n",
            "Trainable params: 19,896\n",
            "Non-trainable params: 0\n",
            "_________________________________________________________________\n"
          ],
          "name": "stdout"
        },
        {
          "output_type": "stream",
          "text": [
            "\r100%|██████████| 7/7 [34:33<00:00, 324.88s/it]\n"
          ],
          "name": "stderr"
        }
      ]
    },
    {
      "cell_type": "code",
      "metadata": {
        "colab_type": "code",
        "outputId": "d25abbcf-4bcf-42f0-a245-fc017f68c316",
        "id": "UJL7fmm1fGbZ",
        "colab": {
          "base_uri": "https://localhost:8080/",
          "height": 153
        }
      },
      "source": [
        "print (t4.data)"
      ],
      "execution_count": 0,
      "outputs": [
        {
          "output_type": "stream",
          "text": [
            "   round_epochs  val_loss   val_acc      loss       acc  dropout  n_hidden\n",
            "0            30  0.847336  0.603808  1.161567  0.450641      0.8        10\n",
            "1            30  0.801301  0.633726  1.091286  0.452002      0.8        15\n",
            "2            30  0.707703  0.662738  0.857464  0.593471      0.8        25\n",
            "3            30  1.300074  0.365820  1.351471  0.350369      0.8        35\n",
            "4            30  0.638376  0.661831  0.724587  0.639526      0.8        45\n",
            "5            30  0.909026  0.611514  1.036294  0.565293      0.8        55\n",
            "6            30  1.450603  0.503173  0.837978  0.586864      0.8        65\n"
          ],
          "name": "stdout"
        }
      ]
    },
    {
      "cell_type": "code",
      "metadata": {
        "colab_type": "code",
        "outputId": "f8e81185-3219-41d5-c64b-171996c2767b",
        "id": "Tih06QrNfGbh",
        "colab": {
          "base_uri": "https://localhost:8080/",
          "height": 289
        }
      },
      "source": [
        "analyze_object4 = ta.Analyze(t4)\n",
        "print (analyze_object4.data)\n",
        "print (\"############\")\n",
        "print (analyze_object4.best_params('val_acc', ['acc', 'loss', 'val_loss']))\n"
      ],
      "execution_count": 0,
      "outputs": [
        {
          "output_type": "stream",
          "text": [
            "   round_epochs  val_loss   val_acc      loss       acc  dropout  n_hidden\n",
            "0            30  0.847336  0.603808  1.161567  0.450641      0.8        10\n",
            "1            30  0.801301  0.633726  1.091286  0.452002      0.8        15\n",
            "2            30  0.707703  0.662738  0.857464  0.593471      0.8        25\n",
            "3            30  1.300074  0.365820  1.351471  0.350369      0.8        35\n",
            "4            30  0.638376  0.661831  0.724587  0.639526      0.8        45\n",
            "5            30  0.909026  0.611514  1.036294  0.565293      0.8        55\n",
            "6            30  1.450603  0.503173  0.837978  0.586864      0.8        65\n",
            "############\n",
            "[[25.   0.8 30.   0. ]\n",
            " [45.   0.8 30.   1. ]\n",
            " [15.   0.8 30.   2. ]\n",
            " [55.   0.8 30.   3. ]\n",
            " [10.   0.8 30.   4. ]\n",
            " [65.   0.8 30.   5. ]\n",
            " [35.   0.8 30.   6. ]]\n"
          ],
          "name": "stdout"
        }
      ]
    },
    {
      "cell_type": "code",
      "metadata": {
        "colab_type": "code",
        "outputId": "7b72c396-4e83-4119-f08a-bb75e48af975",
        "id": "tqL2lJv3fGbp",
        "colab": {
          "base_uri": "https://localhost:8080/",
          "height": 497
        }
      },
      "source": [
        "analyze_object4.plot_regs('val_acc', 'val_loss')\n"
      ],
      "execution_count": 0,
      "outputs": [
        {
          "output_type": "stream",
          "text": [
            "findfont: Font family ['Verdana'] not found. Falling back to DejaVu Sans.\n"
          ],
          "name": "stderr"
        },
        {
          "output_type": "display_data",
          "data": {
            "image/png": "[encoded data removed]",
            "text/plain": [
              "<Figure size 720x475.2 with 1 Axes>"
            ]
          },
          "metadata": {
            "tags": []
          }
        }
      ]
    },
    {
      "cell_type": "code",
      "metadata": {
        "colab_type": "code",
        "outputId": "f0c9df7d-5911-491c-adf6-729a3ac18b6d",
        "id": "EnZ9523jfGbx",
        "colab": {
          "base_uri": "https://localhost:8080/",
          "height": 136
        }
      },
      "source": [
        "analyze_object4.best_params('val_acc', ['acc', 'loss', 'val_loss'])\n"
      ],
      "execution_count": 0,
      "outputs": [
        {
          "output_type": "execute_result",
          "data": {
            "text/plain": [
              "array([[25. ,  0.8, 30. ,  0. ],\n",
              "       [45. ,  0.8, 30. ,  1. ],\n",
              "       [15. ,  0.8, 30. ,  2. ],\n",
              "       [55. ,  0.8, 30. ,  3. ],\n",
              "       [10. ,  0.8, 30. ,  4. ],\n",
              "       [65. ,  0.8, 30. ,  5. ],\n",
              "       [35. ,  0.8, 30. ,  6. ]])"
            ]
          },
          "metadata": {
            "tags": []
          },
          "execution_count": 23
        }
      ]
    },
    {
      "cell_type": "markdown",
      "metadata": {
        "id": "8jJh-V9iFI5K",
        "colab_type": "text"
      },
      "source": [
        "So i have manually copied all  the combinations which produces best result. Below is the table:\n",
        "```\n",
        "round_epochs  val_loss    val_acc    loss      acc         dropout  n_hidden\n",
        "30             0.153704   0.934723  0.187573  0.932569      0.2        65\n",
        "30             0.219541   0.922484  0.257486  0.913331      0.3        45\n",
        "30             0.261446   0.912511  0.277876  0.907112      0.3        65\n",
        "30             0.271579   0.907525  0.237677  0.921492      0.3        35\n",
        "30             0.276417   0.906165  0.348644  0.871356      0.4        45\n",
        "30             0.334457   0.890752  0.344861  0.897007      0.5        45\n",
        "\n"
      ]
    },
    {
      "cell_type": "markdown",
      "metadata": {
        "id": "rl2LRyZSFwGo",
        "colab_type": "text"
      },
      "source": [
        "So we see the best performance is when dropout is less probably reason could be we dont have much points so dropout has to be less. Also when number of neurons is on \"bit higher\" side then also we have better performance.\n",
        "\n",
        "So now lets try to further fine tune as per our learnings"
      ]
    },
    {
      "cell_type": "code",
      "metadata": {
        "colab_type": "code",
        "id": "4v3xC0HzIQf0",
        "colab": {}
      },
      "source": [
        "p5 = {'n_hidden':[35,40,45,50,55,60,65,70,75],\n",
        "     'dropout': [0.1]}\n",
        "\n",
        "p6 = {'n_hidden':[35,40,45,50,55,60,65,70,75],\n",
        "     'dropout': [0.15]}\n"
      ],
      "execution_count": 0,
      "outputs": []
    },
    {
      "cell_type": "code",
      "metadata": {
        "colab_type": "code",
        "outputId": "03a7389b-2c58-400d-cf39-5aa3407d7d00",
        "id": "u173pniUIQgA",
        "colab": {
          "base_uri": "https://localhost:8080/",
          "height": 1000
        }
      },
      "source": [
        "import talos as ta\n",
        "import warnings\n",
        "\n",
        "with warnings.catch_warnings():\n",
        "    warnings.filterwarnings(\"ignore\",category=DeprecationWarning)\n",
        "\n",
        "t5 = ta.Scan(x=X_train,y=Y_train,model=HAR_LSTM,params=p5,experiment_name='5',disable_progress_bar=False,print_params=True)"
      ],
      "execution_count": 0,
      "outputs": [
        {
          "output_type": "stream",
          "text": [
            "\r  0%|          | 0/9 [00:00<?, ?it/s]"
          ],
          "name": "stderr"
        },
        {
          "output_type": "stream",
          "text": [
            "{'dropout': 0.1, 'n_hidden': 35}\n",
            "Model: \"sequential_1\"\n",
            "_________________________________________________________________\n",
            "Layer (type)                 Output Shape              Param #   \n",
            "=================================================================\n",
            "lstm_1 (LSTM)                (None, 35)                6300      \n",
            "_________________________________________________________________\n",
            "dropout_1 (Dropout)          (None, 35)                0         \n",
            "_________________________________________________________________\n",
            "dense_1 (Dense)              (None, 6)                 216       \n",
            "=================================================================\n",
            "Total params: 6,516\n",
            "Trainable params: 6,516\n",
            "Non-trainable params: 0\n",
            "_________________________________________________________________\n"
          ],
          "name": "stdout"
        },
        {
          "output_type": "stream",
          "text": [
            "\r 11%|█         | 1/9 [04:52<38:58, 292.26s/it]"
          ],
          "name": "stderr"
        },
        {
          "output_type": "stream",
          "text": [
            "{'dropout': 0.1, 'n_hidden': 40}\n",
            "Model: \"sequential_1\"\n",
            "_________________________________________________________________\n",
            "Layer (type)                 Output Shape              Param #   \n",
            "=================================================================\n",
            "lstm_1 (LSTM)                (None, 40)                8000      \n",
            "_________________________________________________________________\n",
            "dropout_1 (Dropout)          (None, 40)                0         \n",
            "_________________________________________________________________\n",
            "dense_1 (Dense)              (None, 6)                 246       \n",
            "=================================================================\n",
            "Total params: 8,246\n",
            "Trainable params: 8,246\n",
            "Non-trainable params: 0\n",
            "_________________________________________________________________\n"
          ],
          "name": "stdout"
        },
        {
          "output_type": "stream",
          "text": [
            "\r 22%|██▏       | 2/9 [09:50<34:17, 293.91s/it]"
          ],
          "name": "stderr"
        },
        {
          "output_type": "stream",
          "text": [
            "{'dropout': 0.1, 'n_hidden': 45}\n",
            "Model: \"sequential_1\"\n",
            "_________________________________________________________________\n",
            "Layer (type)                 Output Shape              Param #   \n",
            "=================================================================\n",
            "lstm_1 (LSTM)                (None, 45)                9900      \n",
            "_________________________________________________________________\n",
            "dropout_1 (Dropout)          (None, 45)                0         \n",
            "_________________________________________________________________\n",
            "dense_1 (Dense)              (None, 6)                 276       \n",
            "=================================================================\n",
            "Total params: 10,176\n",
            "Trainable params: 10,176\n",
            "Non-trainable params: 0\n",
            "_________________________________________________________________\n"
          ],
          "name": "stdout"
        },
        {
          "output_type": "stream",
          "text": [
            "\r 33%|███▎      | 3/9 [15:15<30:19, 303.27s/it]"
          ],
          "name": "stderr"
        },
        {
          "output_type": "stream",
          "text": [
            "{'dropout': 0.1, 'n_hidden': 50}\n",
            "Model: \"sequential_1\"\n",
            "_________________________________________________________________\n",
            "Layer (type)                 Output Shape              Param #   \n",
            "=================================================================\n",
            "lstm_1 (LSTM)                (None, 50)                12000     \n",
            "_________________________________________________________________\n",
            "dropout_1 (Dropout)          (None, 50)                0         \n",
            "_________________________________________________________________\n",
            "dense_1 (Dense)              (None, 6)                 306       \n",
            "=================================================================\n",
            "Total params: 12,306\n",
            "Trainable params: 12,306\n",
            "Non-trainable params: 0\n",
            "_________________________________________________________________\n"
          ],
          "name": "stdout"
        },
        {
          "output_type": "stream",
          "text": [
            "\r 44%|████▍     | 4/9 [20:55<26:12, 314.54s/it]"
          ],
          "name": "stderr"
        },
        {
          "output_type": "stream",
          "text": [
            "{'dropout': 0.1, 'n_hidden': 55}\n",
            "Model: \"sequential_1\"\n",
            "_________________________________________________________________\n",
            "Layer (type)                 Output Shape              Param #   \n",
            "=================================================================\n",
            "lstm_1 (LSTM)                (None, 55)                14300     \n",
            "_________________________________________________________________\n",
            "dropout_1 (Dropout)          (None, 55)                0         \n",
            "_________________________________________________________________\n",
            "dense_1 (Dense)              (None, 6)                 336       \n",
            "=================================================================\n",
            "Total params: 14,636\n",
            "Trainable params: 14,636\n",
            "Non-trainable params: 0\n",
            "_________________________________________________________________\n"
          ],
          "name": "stdout"
        },
        {
          "output_type": "stream",
          "text": [
            "\r 56%|█████▌    | 5/9 [26:49<21:44, 326.14s/it]"
          ],
          "name": "stderr"
        },
        {
          "output_type": "stream",
          "text": [
            "{'dropout': 0.1, 'n_hidden': 60}\n",
            "Model: \"sequential_1\"\n",
            "_________________________________________________________________\n",
            "Layer (type)                 Output Shape              Param #   \n",
            "=================================================================\n",
            "lstm_1 (LSTM)                (None, 60)                16800     \n",
            "_________________________________________________________________\n",
            "dropout_1 (Dropout)          (None, 60)                0         \n",
            "_________________________________________________________________\n",
            "dense_1 (Dense)              (None, 6)                 366       \n",
            "=================================================================\n",
            "Total params: 17,166\n",
            "Trainable params: 17,166\n",
            "Non-trainable params: 0\n",
            "_________________________________________________________________\n"
          ],
          "name": "stdout"
        },
        {
          "output_type": "stream",
          "text": [
            "\r 67%|██████▋   | 6/9 [32:59<16:58, 339.54s/it]"
          ],
          "name": "stderr"
        },
        {
          "output_type": "stream",
          "text": [
            "{'dropout': 0.1, 'n_hidden': 65}\n",
            "Model: \"sequential_1\"\n",
            "_________________________________________________________________\n",
            "Layer (type)                 Output Shape              Param #   \n",
            "=================================================================\n",
            "lstm_1 (LSTM)                (None, 65)                19500     \n",
            "_________________________________________________________________\n",
            "dropout_1 (Dropout)          (None, 65)                0         \n",
            "_________________________________________________________________\n",
            "dense_1 (Dense)              (None, 6)                 396       \n",
            "=================================================================\n",
            "Total params: 19,896\n",
            "Trainable params: 19,896\n",
            "Non-trainable params: 0\n",
            "_________________________________________________________________\n"
          ],
          "name": "stdout"
        },
        {
          "output_type": "stream",
          "text": [
            "\r 78%|███████▊  | 7/9 [40:00<12:07, 363.69s/it]"
          ],
          "name": "stderr"
        },
        {
          "output_type": "stream",
          "text": [
            "{'dropout': 0.1, 'n_hidden': 70}\n",
            "Model: \"sequential_1\"\n",
            "_________________________________________________________________\n",
            "Layer (type)                 Output Shape              Param #   \n",
            "=================================================================\n",
            "lstm_1 (LSTM)                (None, 70)                22400     \n",
            "_________________________________________________________________\n",
            "dropout_1 (Dropout)          (None, 70)                0         \n",
            "_________________________________________________________________\n",
            "dense_1 (Dense)              (None, 6)                 426       \n",
            "=================================================================\n",
            "Total params: 22,826\n",
            "Trainable params: 22,826\n",
            "Non-trainable params: 0\n",
            "_________________________________________________________________\n"
          ],
          "name": "stdout"
        },
        {
          "output_type": "stream",
          "text": [
            "\r 89%|████████▉ | 8/9 [47:10<06:23, 383.59s/it]"
          ],
          "name": "stderr"
        },
        {
          "output_type": "stream",
          "text": [
            "{'dropout': 0.1, 'n_hidden': 75}\n",
            "Model: \"sequential_1\"\n",
            "_________________________________________________________________\n",
            "Layer (type)                 Output Shape              Param #   \n",
            "=================================================================\n",
            "lstm_1 (LSTM)                (None, 75)                25500     \n",
            "_________________________________________________________________\n",
            "dropout_1 (Dropout)          (None, 75)                0         \n",
            "_________________________________________________________________\n",
            "dense_1 (Dense)              (None, 6)                 456       \n",
            "=================================================================\n",
            "Total params: 25,956\n",
            "Trainable params: 25,956\n",
            "Non-trainable params: 0\n",
            "_________________________________________________________________\n"
          ],
          "name": "stdout"
        },
        {
          "output_type": "stream",
          "text": [
            "\r100%|██████████| 9/9 [54:45<00:00, 405.29s/it]\n"
          ],
          "name": "stderr"
        }
      ]
    },
    {
      "cell_type": "code",
      "metadata": {
        "colab_type": "code",
        "outputId": "1f417586-4df6-4d06-e5b5-d47532f025be",
        "id": "shmG6smiIQgJ",
        "colab": {
          "base_uri": "https://localhost:8080/",
          "height": 187
        }
      },
      "source": [
        "print (t5.data)"
      ],
      "execution_count": 0,
      "outputs": [
        {
          "output_type": "stream",
          "text": [
            "   round_epochs  val_loss   val_acc      loss       acc  dropout  n_hidden\n",
            "0            30  0.330125  0.889846  0.343399  0.889623      0.1        35\n",
            "1            30  0.717082  0.823663  1.053372  0.634473      0.1        40\n",
            "2            30  0.194613  0.938350  0.199511  0.934512      0.1        45\n",
            "3            30  0.555475  0.776972  0.603254  0.764672      0.1        50\n",
            "4            30  0.452976  0.851768  0.537753  0.791683      0.1        55\n",
            "5            30  0.496540  0.845875  0.646201  0.784493      0.1        60\n",
            "6            30  0.197542  0.932457  0.212292  0.932569      0.1        65\n",
            "7            30  0.174414  0.928830  0.170497  0.939565      0.1        70\n",
            "8            30  0.150804  0.933817  0.146176  0.943257      0.1        75\n"
          ],
          "name": "stdout"
        }
      ]
    },
    {
      "cell_type": "code",
      "metadata": {
        "colab_type": "code",
        "outputId": "8fc5dfd0-55fa-444c-904e-b1c6db713520",
        "id": "2PIfG-ccIQgM",
        "colab": {
          "base_uri": "https://localhost:8080/",
          "height": 187
        }
      },
      "source": [
        "analyze_object5 = ta.Analyze(t5)\n",
        "print (\"############\")\n",
        "print (analyze_object5.best_params('val_acc', ['acc', 'loss', 'val_loss']))\n"
      ],
      "execution_count": 0,
      "outputs": [
        {
          "output_type": "stream",
          "text": [
            "############\n",
            "[[45.   0.1 30.   0. ]\n",
            " [75.   0.1 30.   1. ]\n",
            " [65.   0.1 30.   2. ]\n",
            " [70.   0.1 30.   3. ]\n",
            " [35.   0.1 30.   4. ]\n",
            " [55.   0.1 30.   5. ]\n",
            " [60.   0.1 30.   6. ]\n",
            " [40.   0.1 30.   7. ]\n",
            " [50.   0.1 30.   8. ]]\n"
          ],
          "name": "stdout"
        }
      ]
    },
    {
      "cell_type": "code",
      "metadata": {
        "colab_type": "code",
        "outputId": "fb005abb-e5bb-4b50-fea5-5419e2dc3196",
        "id": "q02XXeZBKEcD",
        "colab": {
          "base_uri": "https://localhost:8080/",
          "height": 1000
        }
      },
      "source": [
        "import talos as ta\n",
        "import warnings\n",
        "\n",
        "with warnings.catch_warnings():\n",
        "    warnings.filterwarnings(\"ignore\",category=DeprecationWarning)\n",
        "\n",
        "t6 = ta.Scan(x=X_train,y=Y_train,model=HAR_LSTM,params=p6,experiment_name='6',disable_progress_bar=False,print_params=True)"
      ],
      "execution_count": 0,
      "outputs": [
        {
          "output_type": "stream",
          "text": [
            "\r  0%|          | 0/9 [00:00<?, ?it/s]"
          ],
          "name": "stderr"
        },
        {
          "output_type": "stream",
          "text": [
            "{'dropout': 0.15, 'n_hidden': 35}\n",
            "Model: \"sequential_1\"\n",
            "_________________________________________________________________\n",
            "Layer (type)                 Output Shape              Param #   \n",
            "=================================================================\n",
            "lstm_1 (LSTM)                (None, 35)                6300      \n",
            "_________________________________________________________________\n",
            "dropout_1 (Dropout)          (None, 35)                0         \n",
            "_________________________________________________________________\n",
            "dense_1 (Dense)              (None, 6)                 216       \n",
            "=================================================================\n",
            "Total params: 6,516\n",
            "Trainable params: 6,516\n",
            "Non-trainable params: 0\n",
            "_________________________________________________________________\n"
          ],
          "name": "stdout"
        },
        {
          "output_type": "stream",
          "text": [
            "\r 11%|█         | 1/9 [05:01<40:15, 301.95s/it]"
          ],
          "name": "stderr"
        },
        {
          "output_type": "stream",
          "text": [
            "{'dropout': 0.15, 'n_hidden': 40}\n",
            "Model: \"sequential_1\"\n",
            "_________________________________________________________________\n",
            "Layer (type)                 Output Shape              Param #   \n",
            "=================================================================\n",
            "lstm_1 (LSTM)                (None, 40)                8000      \n",
            "_________________________________________________________________\n",
            "dropout_1 (Dropout)          (None, 40)                0         \n",
            "_________________________________________________________________\n",
            "dense_1 (Dense)              (None, 6)                 246       \n",
            "=================================================================\n",
            "Total params: 8,246\n",
            "Trainable params: 8,246\n",
            "Non-trainable params: 0\n",
            "_________________________________________________________________\n"
          ],
          "name": "stdout"
        },
        {
          "output_type": "stream",
          "text": [
            "\r 22%|██▏       | 2/9 [10:05<35:16, 302.29s/it]"
          ],
          "name": "stderr"
        },
        {
          "output_type": "stream",
          "text": [
            "{'dropout': 0.15, 'n_hidden': 45}\n",
            "Model: \"sequential_1\"\n",
            "_________________________________________________________________\n",
            "Layer (type)                 Output Shape              Param #   \n",
            "=================================================================\n",
            "lstm_1 (LSTM)                (None, 45)                9900      \n",
            "_________________________________________________________________\n",
            "dropout_1 (Dropout)          (None, 45)                0         \n",
            "_________________________________________________________________\n",
            "dense_1 (Dense)              (None, 6)                 276       \n",
            "=================================================================\n",
            "Total params: 10,176\n",
            "Trainable params: 10,176\n",
            "Non-trainable params: 0\n",
            "_________________________________________________________________\n"
          ],
          "name": "stdout"
        },
        {
          "output_type": "stream",
          "text": [
            "\r 33%|███▎      | 3/9 [15:34<31:02, 310.49s/it]"
          ],
          "name": "stderr"
        },
        {
          "output_type": "stream",
          "text": [
            "{'dropout': 0.15, 'n_hidden': 50}\n",
            "Model: \"sequential_1\"\n",
            "_________________________________________________________________\n",
            "Layer (type)                 Output Shape              Param #   \n",
            "=================================================================\n",
            "lstm_1 (LSTM)                (None, 50)                12000     \n",
            "_________________________________________________________________\n",
            "dropout_1 (Dropout)          (None, 50)                0         \n",
            "_________________________________________________________________\n",
            "dense_1 (Dense)              (None, 6)                 306       \n",
            "=================================================================\n",
            "Total params: 12,306\n",
            "Trainable params: 12,306\n",
            "Non-trainable params: 0\n",
            "_________________________________________________________________\n"
          ],
          "name": "stdout"
        },
        {
          "output_type": "stream",
          "text": [
            "\r 44%|████▍     | 4/9 [21:22<26:49, 321.84s/it]"
          ],
          "name": "stderr"
        },
        {
          "output_type": "stream",
          "text": [
            "{'dropout': 0.15, 'n_hidden': 55}\n",
            "Model: \"sequential_1\"\n",
            "_________________________________________________________________\n",
            "Layer (type)                 Output Shape              Param #   \n",
            "=================================================================\n",
            "lstm_1 (LSTM)                (None, 55)                14300     \n",
            "_________________________________________________________________\n",
            "dropout_1 (Dropout)          (None, 55)                0         \n",
            "_________________________________________________________________\n",
            "dense_1 (Dense)              (None, 6)                 336       \n",
            "=================================================================\n",
            "Total params: 14,636\n",
            "Trainable params: 14,636\n",
            "Non-trainable params: 0\n",
            "_________________________________________________________________\n"
          ],
          "name": "stdout"
        },
        {
          "output_type": "stream",
          "text": [
            "\r 56%|█████▌    | 5/9 [27:32<22:24, 336.14s/it]"
          ],
          "name": "stderr"
        },
        {
          "output_type": "stream",
          "text": [
            "{'dropout': 0.15, 'n_hidden': 60}\n",
            "Model: \"sequential_1\"\n",
            "_________________________________________________________________\n",
            "Layer (type)                 Output Shape              Param #   \n",
            "=================================================================\n",
            "lstm_1 (LSTM)                (None, 60)                16800     \n",
            "_________________________________________________________________\n",
            "dropout_1 (Dropout)          (None, 60)                0         \n",
            "_________________________________________________________________\n",
            "dense_1 (Dense)              (None, 6)                 366       \n",
            "=================================================================\n",
            "Total params: 17,166\n",
            "Trainable params: 17,166\n",
            "Non-trainable params: 0\n",
            "_________________________________________________________________\n"
          ],
          "name": "stdout"
        },
        {
          "output_type": "stream",
          "text": [
            "\r 67%|██████▋   | 6/9 [33:47<17:23, 347.70s/it]"
          ],
          "name": "stderr"
        },
        {
          "output_type": "stream",
          "text": [
            "{'dropout': 0.15, 'n_hidden': 65}\n",
            "Model: \"sequential_1\"\n",
            "_________________________________________________________________\n",
            "Layer (type)                 Output Shape              Param #   \n",
            "=================================================================\n",
            "lstm_1 (LSTM)                (None, 65)                19500     \n",
            "_________________________________________________________________\n",
            "dropout_1 (Dropout)          (None, 65)                0         \n",
            "_________________________________________________________________\n",
            "dense_1 (Dense)              (None, 6)                 396       \n",
            "=================================================================\n",
            "Total params: 19,896\n",
            "Trainable params: 19,896\n",
            "Non-trainable params: 0\n",
            "_________________________________________________________________\n"
          ],
          "name": "stdout"
        },
        {
          "output_type": "stream",
          "text": [
            "\r 78%|███████▊  | 7/9 [40:18<12:01, 360.86s/it]"
          ],
          "name": "stderr"
        },
        {
          "output_type": "stream",
          "text": [
            "{'dropout': 0.15, 'n_hidden': 70}\n",
            "Model: \"sequential_1\"\n",
            "_________________________________________________________________\n",
            "Layer (type)                 Output Shape              Param #   \n",
            "=================================================================\n",
            "lstm_1 (LSTM)                (None, 70)                22400     \n",
            "_________________________________________________________________\n",
            "dropout_1 (Dropout)          (None, 70)                0         \n",
            "_________________________________________________________________\n",
            "dense_1 (Dense)              (None, 6)                 426       \n",
            "=================================================================\n",
            "Total params: 22,826\n",
            "Trainable params: 22,826\n",
            "Non-trainable params: 0\n",
            "_________________________________________________________________\n"
          ],
          "name": "stdout"
        },
        {
          "output_type": "stream",
          "text": [
            "\r 89%|████████▉ | 8/9 [47:13<06:17, 377.02s/it]"
          ],
          "name": "stderr"
        },
        {
          "output_type": "stream",
          "text": [
            "{'dropout': 0.15, 'n_hidden': 75}\n",
            "Model: \"sequential_1\"\n",
            "_________________________________________________________________\n",
            "Layer (type)                 Output Shape              Param #   \n",
            "=================================================================\n",
            "lstm_1 (LSTM)                (None, 75)                25500     \n",
            "_________________________________________________________________\n",
            "dropout_1 (Dropout)          (None, 75)                0         \n",
            "_________________________________________________________________\n",
            "dense_1 (Dense)              (None, 6)                 456       \n",
            "=================================================================\n",
            "Total params: 25,956\n",
            "Trainable params: 25,956\n",
            "Non-trainable params: 0\n",
            "_________________________________________________________________\n"
          ],
          "name": "stdout"
        },
        {
          "output_type": "stream",
          "text": [
            "\r100%|██████████| 9/9 [54:31<00:00, 395.26s/it]\n"
          ],
          "name": "stderr"
        }
      ]
    },
    {
      "cell_type": "code",
      "metadata": {
        "colab_type": "code",
        "outputId": "4029d175-a490-4cda-a68d-bd6fb64b4ddf",
        "id": "eey6k1mVKEcR",
        "colab": {
          "base_uri": "https://localhost:8080/",
          "height": 187
        }
      },
      "source": [
        "print (t6.data)"
      ],
      "execution_count": 0,
      "outputs": [
        {
          "output_type": "stream",
          "text": [
            "   round_epochs  val_loss   val_acc      loss       acc  dropout  n_hidden\n",
            "0            30  0.512010  0.743427  0.523001  0.758842     0.15        35\n",
            "1            30  0.655865  0.666364  0.525803  0.764866     0.15        40\n",
            "2            30  0.242144  0.929737  0.417031  0.881073     0.15        45\n",
            "3            30  0.371006  0.850861  0.461848  0.818500     0.15        50\n",
            "4            30  0.173087  0.938803  0.191239  0.938787     0.15        55\n",
            "5            30  0.189247  0.935630  0.174809  0.934512     0.15        60\n",
            "6            30  0.935341  0.589755  1.214595  0.543529     0.15        65\n",
            "7            30  0.269311  0.907525  0.320584  0.888263     0.15        70\n",
            "8            30  0.168008  0.926111  0.168829  0.926739     0.15        75\n"
          ],
          "name": "stdout"
        }
      ]
    },
    {
      "cell_type": "code",
      "metadata": {
        "colab_type": "code",
        "outputId": "40f99fc4-681c-4e4c-ffd1-131acc825f8f",
        "id": "kjRnqz7RKEca",
        "colab": {
          "base_uri": "https://localhost:8080/",
          "height": 187
        }
      },
      "source": [
        "analyze_object6 = ta.Analyze(t6)\n",
        "print (\"############\")\n",
        "print (analyze_object6.best_params('val_acc', ['acc', 'loss', 'val_loss']))\n"
      ],
      "execution_count": 0,
      "outputs": [
        {
          "output_type": "stream",
          "text": [
            "############\n",
            "[[55.    0.15 30.    0.  ]\n",
            " [60.    0.15 30.    1.  ]\n",
            " [45.    0.15 30.    2.  ]\n",
            " [75.    0.15 30.    3.  ]\n",
            " [70.    0.15 30.    4.  ]\n",
            " [50.    0.15 30.    5.  ]\n",
            " [35.    0.15 30.    6.  ]\n",
            " [40.    0.15 30.    7.  ]\n",
            " [65.    0.15 30.    8.  ]]\n"
          ],
          "name": "stdout"
        }
      ]
    },
    {
      "cell_type": "code",
      "metadata": {
        "id": "W3RrprKdlGhA",
        "colab_type": "code",
        "colab": {}
      },
      "source": [
        "p7 = {'n_hidden':[50,55,60,65,70,75,80],\n",
        "     'dropout': [0.2]}\n",
        "\n",
        "p8 = {'n_hidden':[50,55,60,65,70,75,80],\n",
        "     'dropout': [0.25]}\n",
        "\n",
        "p9 = {'n_hidden':[50,55,60,65,70,75,80],\n",
        "     'dropout': [0.3]}\n",
        "\n",
        "p10 = {'n_hidden':[50,55,60,65,70,75,80],\n",
        "     'dropout': [0.35]}"
      ],
      "execution_count": 0,
      "outputs": []
    },
    {
      "cell_type": "code",
      "metadata": {
        "colab_type": "code",
        "outputId": "1f90870c-bc61-43b9-943c-943d0b0a4a59",
        "id": "Z7Fmyc6pKaFg",
        "colab": {
          "base_uri": "https://localhost:8080/",
          "height": 1000
        }
      },
      "source": [
        "import talos as ta\n",
        "import warnings\n",
        "\n",
        "with warnings.catch_warnings():\n",
        "    warnings.filterwarnings(\"ignore\",category=DeprecationWarning)\n",
        "\n",
        "t7 = ta.Scan(x=X_train,y=Y_train,model=HAR_LSTM,params=p7,experiment_name='7',disable_progress_bar=False,print_params=True)"
      ],
      "execution_count": 0,
      "outputs": [
        {
          "output_type": "stream",
          "text": [
            "\n",
            "\n",
            "  0%|          | 0/7 [00:00<?, ?it/s]\u001b[A\u001b[A"
          ],
          "name": "stderr"
        },
        {
          "output_type": "stream",
          "text": [
            "{'dropout': 0.2, 'n_hidden': 50}\n",
            "Model: \"sequential_3\"\n",
            "_________________________________________________________________\n",
            "Layer (type)                 Output Shape              Param #   \n",
            "=================================================================\n",
            "lstm_3 (LSTM)                (None, 50)                12000     \n",
            "_________________________________________________________________\n",
            "dropout_3 (Dropout)          (None, 50)                0         \n",
            "_________________________________________________________________\n",
            "dense_3 (Dense)              (None, 6)                 306       \n",
            "=================================================================\n",
            "Total params: 12,306\n",
            "Trainable params: 12,306\n",
            "Non-trainable params: 0\n",
            "_________________________________________________________________\n"
          ],
          "name": "stdout"
        },
        {
          "output_type": "stream",
          "text": [
            "\n",
            "\n",
            " 14%|█▍        | 1/7 [05:34<33:29, 334.84s/it]\u001b[A\u001b[A"
          ],
          "name": "stderr"
        },
        {
          "output_type": "stream",
          "text": [
            "{'dropout': 0.2, 'n_hidden': 55}\n",
            "Model: \"sequential_1\"\n",
            "_________________________________________________________________\n",
            "Layer (type)                 Output Shape              Param #   \n",
            "=================================================================\n",
            "lstm_1 (LSTM)                (None, 55)                14300     \n",
            "_________________________________________________________________\n",
            "dropout_1 (Dropout)          (None, 55)                0         \n",
            "_________________________________________________________________\n",
            "dense_1 (Dense)              (None, 6)                 336       \n",
            "=================================================================\n",
            "Total params: 14,636\n",
            "Trainable params: 14,636\n",
            "Non-trainable params: 0\n",
            "_________________________________________________________________\n"
          ],
          "name": "stdout"
        },
        {
          "output_type": "stream",
          "text": [
            "\n",
            "\n",
            " 29%|██▊       | 2/7 [11:31<28:26, 341.29s/it]\u001b[A\u001b[A"
          ],
          "name": "stderr"
        },
        {
          "output_type": "stream",
          "text": [
            "{'dropout': 0.2, 'n_hidden': 60}\n",
            "Model: \"sequential_1\"\n",
            "_________________________________________________________________\n",
            "Layer (type)                 Output Shape              Param #   \n",
            "=================================================================\n",
            "lstm_1 (LSTM)                (None, 60)                16800     \n",
            "_________________________________________________________________\n",
            "dropout_1 (Dropout)          (None, 60)                0         \n",
            "_________________________________________________________________\n",
            "dense_1 (Dense)              (None, 6)                 366       \n",
            "=================================================================\n",
            "Total params: 17,166\n",
            "Trainable params: 17,166\n",
            "Non-trainable params: 0\n",
            "_________________________________________________________________\n"
          ],
          "name": "stdout"
        },
        {
          "output_type": "stream",
          "text": [
            "\n",
            "\n",
            " 43%|████▎     | 3/7 [17:54<23:35, 353.90s/it]\u001b[A\u001b[A"
          ],
          "name": "stderr"
        },
        {
          "output_type": "stream",
          "text": [
            "{'dropout': 0.2, 'n_hidden': 65}\n",
            "Model: \"sequential_1\"\n",
            "_________________________________________________________________\n",
            "Layer (type)                 Output Shape              Param #   \n",
            "=================================================================\n",
            "lstm_1 (LSTM)                (None, 65)                19500     \n",
            "_________________________________________________________________\n",
            "dropout_1 (Dropout)          (None, 65)                0         \n",
            "_________________________________________________________________\n",
            "dense_1 (Dense)              (None, 6)                 396       \n",
            "=================================================================\n",
            "Total params: 19,896\n",
            "Trainable params: 19,896\n",
            "Non-trainable params: 0\n",
            "_________________________________________________________________\n"
          ],
          "name": "stdout"
        },
        {
          "output_type": "stream",
          "text": [
            "\n",
            "\n",
            " 57%|█████▋    | 4/7 [24:51<18:38, 372.95s/it]\u001b[A\u001b[A"
          ],
          "name": "stderr"
        },
        {
          "output_type": "stream",
          "text": [
            "{'dropout': 0.2, 'n_hidden': 70}\n",
            "Model: \"sequential_1\"\n",
            "_________________________________________________________________\n",
            "Layer (type)                 Output Shape              Param #   \n",
            "=================================================================\n",
            "lstm_1 (LSTM)                (None, 70)                22400     \n",
            "_________________________________________________________________\n",
            "dropout_1 (Dropout)          (None, 70)                0         \n",
            "_________________________________________________________________\n",
            "dense_1 (Dense)              (None, 6)                 426       \n",
            "=================================================================\n",
            "Total params: 22,826\n",
            "Trainable params: 22,826\n",
            "Non-trainable params: 0\n",
            "_________________________________________________________________\n"
          ],
          "name": "stdout"
        },
        {
          "output_type": "stream",
          "text": [
            "\n",
            "\n",
            " 71%|███████▏  | 5/7 [31:40<12:47, 383.79s/it]\u001b[A\u001b[A"
          ],
          "name": "stderr"
        },
        {
          "output_type": "stream",
          "text": [
            "{'dropout': 0.2, 'n_hidden': 75}\n",
            "Model: \"sequential_1\"\n",
            "_________________________________________________________________\n",
            "Layer (type)                 Output Shape              Param #   \n",
            "=================================================================\n",
            "lstm_1 (LSTM)                (None, 75)                25500     \n",
            "_________________________________________________________________\n",
            "dropout_1 (Dropout)          (None, 75)                0         \n",
            "_________________________________________________________________\n",
            "dense_1 (Dense)              (None, 6)                 456       \n",
            "=================================================================\n",
            "Total params: 25,956\n",
            "Trainable params: 25,956\n",
            "Non-trainable params: 0\n",
            "_________________________________________________________________\n"
          ],
          "name": "stdout"
        },
        {
          "output_type": "stream",
          "text": [
            "\n",
            "\n",
            " 86%|████████▌ | 6/7 [38:56<06:39, 399.18s/it]\u001b[A\u001b[A"
          ],
          "name": "stderr"
        },
        {
          "output_type": "stream",
          "text": [
            "{'dropout': 0.2, 'n_hidden': 80}\n",
            "Model: \"sequential_1\"\n",
            "_________________________________________________________________\n",
            "Layer (type)                 Output Shape              Param #   \n",
            "=================================================================\n",
            "lstm_1 (LSTM)                (None, 80)                28800     \n",
            "_________________________________________________________________\n",
            "dropout_1 (Dropout)          (None, 80)                0         \n",
            "_________________________________________________________________\n",
            "dense_1 (Dense)              (None, 6)                 486       \n",
            "=================================================================\n",
            "Total params: 29,286\n",
            "Trainable params: 29,286\n",
            "Non-trainable params: 0\n",
            "_________________________________________________________________\n"
          ],
          "name": "stdout"
        },
        {
          "output_type": "stream",
          "text": [
            "\n",
            "\n",
            "100%|██████████| 7/7 [46:05<00:00, 408.28s/it]\u001b[A\u001b[A\n",
            "\n",
            "\u001b[A\u001b[A"
          ],
          "name": "stderr"
        }
      ]
    },
    {
      "cell_type": "code",
      "metadata": {
        "colab_type": "code",
        "outputId": "bd586a11-ee1f-4612-c868-8bc2943010bd",
        "id": "v6p5XQKhKaFp",
        "colab": {
          "base_uri": "https://localhost:8080/",
          "height": 153
        }
      },
      "source": [
        "print (t7.data)"
      ],
      "execution_count": 0,
      "outputs": [
        {
          "output_type": "stream",
          "text": [
            "   round_epochs  val_loss   val_acc      loss       acc  dropout  n_hidden\n",
            "0            30  0.460079  0.818676  0.461717  0.814419      0.2        50\n",
            "1            30  0.429562  0.818676  0.324850  0.883599      0.2        55\n",
            "2            30  0.169819  0.925657  0.188048  0.934124      0.2        60\n",
            "3            30  0.547212  0.724388  0.541891  0.719394      0.2        65\n",
            "4            30  0.217526  0.916138  0.225114  0.928294      0.2        70\n",
            "5            30  0.221293  0.915231  0.179503  0.936650      0.2        75\n",
            "6            30  0.276090  0.902992  0.402867  0.879907      0.2        80\n"
          ],
          "name": "stdout"
        }
      ]
    },
    {
      "cell_type": "code",
      "metadata": {
        "colab_type": "code",
        "outputId": "8ac099ff-3c18-4cc4-bd6c-62869340f89c",
        "id": "KGZR9k5pKaFy",
        "colab": {
          "base_uri": "https://localhost:8080/",
          "height": 153
        }
      },
      "source": [
        "analyze_object7 = ta.Analyze(t7)\n",
        "print (\"############\")\n",
        "print (analyze_object7.best_params('val_acc', ['acc', 'loss', 'val_loss']))\n"
      ],
      "execution_count": 0,
      "outputs": [
        {
          "output_type": "stream",
          "text": [
            "############\n",
            "[[60.   0.2 30.   0. ]\n",
            " [70.   0.2 30.   1. ]\n",
            " [75.   0.2 30.   2. ]\n",
            " [80.   0.2 30.   3. ]\n",
            " [50.   0.2 30.   4. ]\n",
            " [55.   0.2 30.   5. ]\n",
            " [65.   0.2 30.   6. ]]\n"
          ],
          "name": "stdout"
        }
      ]
    },
    {
      "cell_type": "code",
      "metadata": {
        "colab_type": "code",
        "outputId": "c9c6a88a-04fc-433e-d785-2f9fff285d0e",
        "id": "9dEgqESEKod5",
        "colab": {
          "base_uri": "https://localhost:8080/",
          "height": 1000
        }
      },
      "source": [
        "import talos as ta\n",
        "import warnings\n",
        "\n",
        "with warnings.catch_warnings():\n",
        "    warnings.filterwarnings(\"ignore\",category=DeprecationWarning)\n",
        "\n",
        "t8 = ta.Scan(x=X_train,y=Y_train,model=HAR_LSTM,params=p8,experiment_name='8',disable_progress_bar=False,print_params=True)"
      ],
      "execution_count": 0,
      "outputs": [
        {
          "output_type": "stream",
          "text": [
            "\n",
            "\n",
            "  0%|          | 0/7 [00:00<?, ?it/s]\u001b[A\u001b[A"
          ],
          "name": "stderr"
        },
        {
          "output_type": "stream",
          "text": [
            "{'dropout': 0.25, 'n_hidden': 50}\n",
            "Model: \"sequential_1\"\n",
            "_________________________________________________________________\n",
            "Layer (type)                 Output Shape              Param #   \n",
            "=================================================================\n",
            "lstm_1 (LSTM)                (None, 50)                12000     \n",
            "_________________________________________________________________\n",
            "dropout_1 (Dropout)          (None, 50)                0         \n",
            "_________________________________________________________________\n",
            "dense_1 (Dense)              (None, 6)                 306       \n",
            "=================================================================\n",
            "Total params: 12,306\n",
            "Trainable params: 12,306\n",
            "Non-trainable params: 0\n",
            "_________________________________________________________________\n"
          ],
          "name": "stdout"
        },
        {
          "output_type": "stream",
          "text": [
            "\n",
            "\n",
            " 14%|█▍        | 1/7 [05:43<34:18, 343.14s/it]\u001b[A\u001b[A"
          ],
          "name": "stderr"
        },
        {
          "output_type": "stream",
          "text": [
            "{'dropout': 0.25, 'n_hidden': 55}\n",
            "Model: \"sequential_1\"\n",
            "_________________________________________________________________\n",
            "Layer (type)                 Output Shape              Param #   \n",
            "=================================================================\n",
            "lstm_1 (LSTM)                (None, 55)                14300     \n",
            "_________________________________________________________________\n",
            "dropout_1 (Dropout)          (None, 55)                0         \n",
            "_________________________________________________________________\n",
            "dense_1 (Dense)              (None, 6)                 336       \n",
            "=================================================================\n",
            "Total params: 14,636\n",
            "Trainable params: 14,636\n",
            "Non-trainable params: 0\n",
            "_________________________________________________________________\n"
          ],
          "name": "stdout"
        },
        {
          "output_type": "stream",
          "text": [
            "\n",
            "\n",
            " 29%|██▊       | 2/7 [11:46<29:06, 349.23s/it]\u001b[A\u001b[A"
          ],
          "name": "stderr"
        },
        {
          "output_type": "stream",
          "text": [
            "{'dropout': 0.25, 'n_hidden': 60}\n",
            "Model: \"sequential_1\"\n",
            "_________________________________________________________________\n",
            "Layer (type)                 Output Shape              Param #   \n",
            "=================================================================\n",
            "lstm_1 (LSTM)                (None, 60)                16800     \n",
            "_________________________________________________________________\n",
            "dropout_1 (Dropout)          (None, 60)                0         \n",
            "_________________________________________________________________\n",
            "dense_1 (Dense)              (None, 6)                 366       \n",
            "=================================================================\n",
            "Total params: 17,166\n",
            "Trainable params: 17,166\n",
            "Non-trainable params: 0\n",
            "_________________________________________________________________\n"
          ],
          "name": "stdout"
        },
        {
          "output_type": "stream",
          "text": [
            "\n",
            "\n",
            " 43%|████▎     | 3/7 [18:01<23:47, 356.97s/it]\u001b[A\u001b[A"
          ],
          "name": "stderr"
        },
        {
          "output_type": "stream",
          "text": [
            "{'dropout': 0.25, 'n_hidden': 65}\n",
            "Model: \"sequential_1\"\n",
            "_________________________________________________________________\n",
            "Layer (type)                 Output Shape              Param #   \n",
            "=================================================================\n",
            "lstm_1 (LSTM)                (None, 65)                19500     \n",
            "_________________________________________________________________\n",
            "dropout_1 (Dropout)          (None, 65)                0         \n",
            "_________________________________________________________________\n",
            "dense_1 (Dense)              (None, 6)                 396       \n",
            "=================================================================\n",
            "Total params: 19,896\n",
            "Trainable params: 19,896\n",
            "Non-trainable params: 0\n",
            "_________________________________________________________________\n"
          ],
          "name": "stdout"
        },
        {
          "output_type": "stream",
          "text": [
            "\n",
            "\n",
            " 57%|█████▋    | 4/7 [24:38<18:27, 369.08s/it]\u001b[A\u001b[A"
          ],
          "name": "stderr"
        },
        {
          "output_type": "stream",
          "text": [
            "{'dropout': 0.25, 'n_hidden': 70}\n",
            "Model: \"sequential_1\"\n",
            "_________________________________________________________________\n",
            "Layer (type)                 Output Shape              Param #   \n",
            "=================================================================\n",
            "lstm_1 (LSTM)                (None, 70)                22400     \n",
            "_________________________________________________________________\n",
            "dropout_1 (Dropout)          (None, 70)                0         \n",
            "_________________________________________________________________\n",
            "dense_1 (Dense)              (None, 6)                 426       \n",
            "=================================================================\n",
            "Total params: 22,826\n",
            "Trainable params: 22,826\n",
            "Non-trainable params: 0\n",
            "_________________________________________________________________\n"
          ],
          "name": "stdout"
        },
        {
          "output_type": "stream",
          "text": [
            "\n",
            "\n",
            " 71%|███████▏  | 5/7 [31:25<12:40, 380.40s/it]\u001b[A\u001b[A"
          ],
          "name": "stderr"
        },
        {
          "output_type": "stream",
          "text": [
            "{'dropout': 0.25, 'n_hidden': 75}\n",
            "Model: \"sequential_1\"\n",
            "_________________________________________________________________\n",
            "Layer (type)                 Output Shape              Param #   \n",
            "=================================================================\n",
            "lstm_1 (LSTM)                (None, 75)                25500     \n",
            "_________________________________________________________________\n",
            "dropout_1 (Dropout)          (None, 75)                0         \n",
            "_________________________________________________________________\n",
            "dense_1 (Dense)              (None, 6)                 456       \n",
            "=================================================================\n",
            "Total params: 25,956\n",
            "Trainable params: 25,956\n",
            "Non-trainable params: 0\n",
            "_________________________________________________________________\n"
          ],
          "name": "stdout"
        },
        {
          "output_type": "stream",
          "text": [
            "\n",
            "\n",
            " 86%|████████▌ | 6/7 [38:55<06:41, 401.16s/it]\u001b[A\u001b[A"
          ],
          "name": "stderr"
        },
        {
          "output_type": "stream",
          "text": [
            "{'dropout': 0.25, 'n_hidden': 80}\n",
            "Model: \"sequential_1\"\n",
            "_________________________________________________________________\n",
            "Layer (type)                 Output Shape              Param #   \n",
            "=================================================================\n",
            "lstm_1 (LSTM)                (None, 80)                28800     \n",
            "_________________________________________________________________\n",
            "dropout_1 (Dropout)          (None, 80)                0         \n",
            "_________________________________________________________________\n",
            "dense_1 (Dense)              (None, 6)                 486       \n",
            "=================================================================\n",
            "Total params: 29,286\n",
            "Trainable params: 29,286\n",
            "Non-trainable params: 0\n",
            "_________________________________________________________________\n"
          ],
          "name": "stdout"
        },
        {
          "output_type": "stream",
          "text": [
            "\n",
            "\n",
            "100%|██████████| 7/7 [46:04<00:00, 409.56s/it]\u001b[A\u001b[A\n",
            "\n",
            "\u001b[A\u001b[A"
          ],
          "name": "stderr"
        }
      ]
    },
    {
      "cell_type": "code",
      "metadata": {
        "colab_type": "code",
        "outputId": "3c3a64bb-6e89-4ffa-9210-103fadbd0429",
        "id": "aZhSIWYyKoeI",
        "colab": {
          "base_uri": "https://localhost:8080/",
          "height": 153
        }
      },
      "source": [
        "print (t8.data)"
      ],
      "execution_count": 0,
      "outputs": [
        {
          "output_type": "stream",
          "text": [
            "   round_epochs  val_loss   val_acc      loss       acc  dropout  n_hidden\n",
            "0            30  0.385329  0.866274  0.420450  0.838321     0.25        50\n",
            "1            30  0.238181  0.913418  0.315607  0.903031     0.25        55\n",
            "2            30  0.232557  0.915684  0.234352  0.914497     0.25        60\n",
            "3            30  0.506204  0.771532  0.549081  0.749320     0.25        65\n",
            "4            30  0.427905  0.775612  0.411445  0.817140     0.25        70\n",
            "5            30  0.171499  0.927924  0.194620  0.929265     0.25        75\n",
            "6            30  0.290419  0.898005  0.331445  0.889234     0.25        80\n"
          ],
          "name": "stdout"
        }
      ]
    },
    {
      "cell_type": "code",
      "metadata": {
        "colab_type": "code",
        "outputId": "b935b3c1-d677-473a-dd5b-d2f91c37d40f",
        "id": "gyulCvTiKoeQ",
        "colab": {
          "base_uri": "https://localhost:8080/",
          "height": 153
        }
      },
      "source": [
        "analyze_object8 = ta.Analyze(t8)\n",
        "print (\"############\")\n",
        "print (analyze_object8.best_params('val_acc', ['acc', 'loss', 'val_loss']))\n"
      ],
      "execution_count": 0,
      "outputs": [
        {
          "output_type": "stream",
          "text": [
            "############\n",
            "[[75.    0.25 30.    0.  ]\n",
            " [60.    0.25 30.    1.  ]\n",
            " [55.    0.25 30.    2.  ]\n",
            " [80.    0.25 30.    3.  ]\n",
            " [50.    0.25 30.    4.  ]\n",
            " [70.    0.25 30.    5.  ]\n",
            " [65.    0.25 30.    6.  ]]\n"
          ],
          "name": "stdout"
        }
      ]
    },
    {
      "cell_type": "code",
      "metadata": {
        "colab_type": "code",
        "outputId": "8c4412e7-4225-4aee-d629-bf1d043265d1",
        "id": "MilmkcOxLTk4",
        "colab": {
          "base_uri": "https://localhost:8080/",
          "height": 1000
        }
      },
      "source": [
        "import talos as ta\n",
        "import warnings\n",
        "\n",
        "with warnings.catch_warnings():\n",
        "    warnings.filterwarnings(\"ignore\",category=DeprecationWarning)\n",
        "\n",
        "t9 = ta.Scan(x=X_train,y=Y_train,model=HAR_LSTM,params=p9,experiment_name='9',disable_progress_bar=False,print_params=True)"
      ],
      "execution_count": 0,
      "outputs": [
        {
          "output_type": "stream",
          "text": [
            "\n",
            "\n",
            "  0%|          | 0/7 [00:00<?, ?it/s]\u001b[A\u001b[A"
          ],
          "name": "stderr"
        },
        {
          "output_type": "stream",
          "text": [
            "{'dropout': 0.3, 'n_hidden': 50}\n",
            "Model: \"sequential_1\"\n",
            "_________________________________________________________________\n",
            "Layer (type)                 Output Shape              Param #   \n",
            "=================================================================\n",
            "lstm_1 (LSTM)                (None, 50)                12000     \n",
            "_________________________________________________________________\n",
            "dropout_1 (Dropout)          (None, 50)                0         \n",
            "_________________________________________________________________\n",
            "dense_1 (Dense)              (None, 6)                 306       \n",
            "=================================================================\n",
            "Total params: 12,306\n",
            "Trainable params: 12,306\n",
            "Non-trainable params: 0\n",
            "_________________________________________________________________\n"
          ],
          "name": "stdout"
        },
        {
          "output_type": "stream",
          "text": [
            "\n",
            "\n",
            " 14%|█▍        | 1/7 [05:42<34:15, 342.55s/it]\u001b[A\u001b[A"
          ],
          "name": "stderr"
        },
        {
          "output_type": "stream",
          "text": [
            "{'dropout': 0.3, 'n_hidden': 55}\n",
            "Model: \"sequential_1\"\n",
            "_________________________________________________________________\n",
            "Layer (type)                 Output Shape              Param #   \n",
            "=================================================================\n",
            "lstm_1 (LSTM)                (None, 55)                14300     \n",
            "_________________________________________________________________\n",
            "dropout_1 (Dropout)          (None, 55)                0         \n",
            "_________________________________________________________________\n",
            "dense_1 (Dense)              (None, 6)                 336       \n",
            "=================================================================\n",
            "Total params: 14,636\n",
            "Trainable params: 14,636\n",
            "Non-trainable params: 0\n",
            "_________________________________________________________________\n"
          ],
          "name": "stdout"
        },
        {
          "output_type": "stream",
          "text": [
            "\n",
            "\n",
            " 29%|██▊       | 2/7 [11:41<28:56, 347.40s/it]\u001b[A\u001b[A"
          ],
          "name": "stderr"
        },
        {
          "output_type": "stream",
          "text": [
            "{'dropout': 0.3, 'n_hidden': 60}\n",
            "Model: \"sequential_1\"\n",
            "_________________________________________________________________\n",
            "Layer (type)                 Output Shape              Param #   \n",
            "=================================================================\n",
            "lstm_1 (LSTM)                (None, 60)                16800     \n",
            "_________________________________________________________________\n",
            "dropout_1 (Dropout)          (None, 60)                0         \n",
            "_________________________________________________________________\n",
            "dense_1 (Dense)              (None, 6)                 366       \n",
            "=================================================================\n",
            "Total params: 17,166\n",
            "Trainable params: 17,166\n",
            "Non-trainable params: 0\n",
            "_________________________________________________________________\n"
          ],
          "name": "stdout"
        },
        {
          "output_type": "stream",
          "text": [
            "\n",
            "\n",
            " 43%|████▎     | 3/7 [17:57<23:44, 356.03s/it]\u001b[A\u001b[A"
          ],
          "name": "stderr"
        },
        {
          "output_type": "stream",
          "text": [
            "{'dropout': 0.3, 'n_hidden': 65}\n",
            "Model: \"sequential_1\"\n",
            "_________________________________________________________________\n",
            "Layer (type)                 Output Shape              Param #   \n",
            "=================================================================\n",
            "lstm_1 (LSTM)                (None, 65)                19500     \n",
            "_________________________________________________________________\n",
            "dropout_1 (Dropout)          (None, 65)                0         \n",
            "_________________________________________________________________\n",
            "dense_1 (Dense)              (None, 6)                 396       \n",
            "=================================================================\n",
            "Total params: 19,896\n",
            "Trainable params: 19,896\n",
            "Non-trainable params: 0\n",
            "_________________________________________________________________\n"
          ],
          "name": "stdout"
        },
        {
          "output_type": "stream",
          "text": [
            "\n",
            "\n",
            " 57%|█████▋    | 4/7 [24:35<18:25, 368.62s/it]\u001b[A\u001b[A"
          ],
          "name": "stderr"
        },
        {
          "output_type": "stream",
          "text": [
            "{'dropout': 0.3, 'n_hidden': 70}\n",
            "Model: \"sequential_1\"\n",
            "_________________________________________________________________\n",
            "Layer (type)                 Output Shape              Param #   \n",
            "=================================================================\n",
            "lstm_1 (LSTM)                (None, 70)                22400     \n",
            "_________________________________________________________________\n",
            "dropout_1 (Dropout)          (None, 70)                0         \n",
            "_________________________________________________________________\n",
            "dense_1 (Dense)              (None, 6)                 426       \n",
            "=================================================================\n",
            "Total params: 22,826\n",
            "Trainable params: 22,826\n",
            "Non-trainable params: 0\n",
            "_________________________________________________________________\n"
          ],
          "name": "stdout"
        },
        {
          "output_type": "stream",
          "text": [
            "\n",
            "\n",
            " 71%|███████▏  | 5/7 [31:23<12:40, 380.32s/it]\u001b[A\u001b[A"
          ],
          "name": "stderr"
        },
        {
          "output_type": "stream",
          "text": [
            "{'dropout': 0.3, 'n_hidden': 75}\n",
            "Model: \"sequential_1\"\n",
            "_________________________________________________________________\n",
            "Layer (type)                 Output Shape              Param #   \n",
            "=================================================================\n",
            "lstm_1 (LSTM)                (None, 75)                25500     \n",
            "_________________________________________________________________\n",
            "dropout_1 (Dropout)          (None, 75)                0         \n",
            "_________________________________________________________________\n",
            "dense_1 (Dense)              (None, 6)                 456       \n",
            "=================================================================\n",
            "Total params: 25,956\n",
            "Trainable params: 25,956\n",
            "Non-trainable params: 0\n",
            "_________________________________________________________________\n"
          ],
          "name": "stdout"
        },
        {
          "output_type": "stream",
          "text": [
            "\n",
            "\n",
            " 86%|████████▌ | 6/7 [38:34<06:35, 395.69s/it]\u001b[A\u001b[A"
          ],
          "name": "stderr"
        },
        {
          "output_type": "stream",
          "text": [
            "{'dropout': 0.3, 'n_hidden': 80}\n",
            "Model: \"sequential_1\"\n",
            "_________________________________________________________________\n",
            "Layer (type)                 Output Shape              Param #   \n",
            "=================================================================\n",
            "lstm_1 (LSTM)                (None, 80)                28800     \n",
            "_________________________________________________________________\n",
            "dropout_1 (Dropout)          (None, 80)                0         \n",
            "_________________________________________________________________\n",
            "dense_1 (Dense)              (None, 6)                 486       \n",
            "=================================================================\n",
            "Total params: 29,286\n",
            "Trainable params: 29,286\n",
            "Non-trainable params: 0\n",
            "_________________________________________________________________\n"
          ],
          "name": "stdout"
        },
        {
          "output_type": "stream",
          "text": [
            "\n",
            "\n",
            "100%|██████████| 7/7 [45:37<00:00, 403.73s/it]\u001b[A\u001b[A\n",
            "\n",
            "\u001b[A\u001b[A"
          ],
          "name": "stderr"
        }
      ]
    },
    {
      "cell_type": "code",
      "metadata": {
        "colab_type": "code",
        "outputId": "050b9051-85de-4503-c554-c2786127883a",
        "id": "zws-KKTGLTlC",
        "colab": {
          "base_uri": "https://localhost:8080/",
          "height": 153
        }
      },
      "source": [
        "print (t9.data)"
      ],
      "execution_count": 0,
      "outputs": [
        {
          "output_type": "stream",
          "text": [
            "   round_epochs  val_loss   val_acc      loss       acc  dropout  n_hidden\n",
            "0            30  0.537964  0.682230  0.562778  0.699767      0.3        50\n",
            "1            30  0.300200  0.887126  0.342550  0.890789      0.3        55\n",
            "2            30  0.614890  0.778785  0.283760  0.905752      0.3        60\n",
            "3            30  0.162949  0.940617  0.188429  0.938787      0.3        65\n",
            "4            30  0.599148  0.720762  0.689545  0.690245      0.3        70\n",
            "5            30  0.805204  0.719855  1.004682  0.664983      0.3        75\n",
            "6            30  0.601065  0.797824  0.317339  0.890983      0.3        80\n"
          ],
          "name": "stdout"
        }
      ]
    },
    {
      "cell_type": "code",
      "metadata": {
        "colab_type": "code",
        "outputId": "0d1d7e98-78e5-45fa-cc16-a5e066b14078",
        "id": "cG9YgKC2LTlJ",
        "colab": {
          "base_uri": "https://localhost:8080/",
          "height": 136
        }
      },
      "source": [
        "analyze_object9 = ta.Analyze(t9)\n",
        "print (analyze_object9.best_params('val_acc', ['acc', 'loss', 'val_loss']))\n"
      ],
      "execution_count": 0,
      "outputs": [
        {
          "output_type": "stream",
          "text": [
            "[[65.   0.3 30.   0. ]\n",
            " [55.   0.3 30.   1. ]\n",
            " [80.   0.3 30.   2. ]\n",
            " [60.   0.3 30.   3. ]\n",
            " [70.   0.3 30.   4. ]\n",
            " [75.   0.3 30.   5. ]\n",
            " [50.   0.3 30.   6. ]]\n"
          ],
          "name": "stdout"
        }
      ]
    },
    {
      "cell_type": "code",
      "metadata": {
        "colab_type": "code",
        "outputId": "c6c03366-07d9-4586-a266-2e476e59fc0a",
        "id": "X_1hFWuxLgsk",
        "colab": {
          "base_uri": "https://localhost:8080/",
          "height": 1000
        }
      },
      "source": [
        "import talos as ta\n",
        "import warnings\n",
        "\n",
        "with warnings.catch_warnings():\n",
        "    warnings.filterwarnings(\"ignore\",category=DeprecationWarning)\n",
        "\n",
        "t10 = ta.Scan(x=X_train,y=Y_train,model=HAR_LSTM,params=p10,experiment_name='10',disable_progress_bar=False,print_params=True)"
      ],
      "execution_count": 0,
      "outputs": [
        {
          "output_type": "stream",
          "text": [
            "\n",
            "\n",
            "  0%|          | 0/7 [00:00<?, ?it/s]\u001b[A\u001b[A"
          ],
          "name": "stderr"
        },
        {
          "output_type": "stream",
          "text": [
            "{'dropout': 0.35, 'n_hidden': 50}\n",
            "Model: \"sequential_1\"\n",
            "_________________________________________________________________\n",
            "Layer (type)                 Output Shape              Param #   \n",
            "=================================================================\n",
            "lstm_1 (LSTM)                (None, 50)                12000     \n",
            "_________________________________________________________________\n",
            "dropout_1 (Dropout)          (None, 50)                0         \n",
            "_________________________________________________________________\n",
            "dense_1 (Dense)              (None, 6)                 306       \n",
            "=================================================================\n",
            "Total params: 12,306\n",
            "Trainable params: 12,306\n",
            "Non-trainable params: 0\n",
            "_________________________________________________________________\n"
          ],
          "name": "stdout"
        },
        {
          "output_type": "stream",
          "text": [
            "\n",
            "\n",
            " 14%|█▍        | 1/7 [05:38<33:49, 338.30s/it]\u001b[A\u001b[A"
          ],
          "name": "stderr"
        },
        {
          "output_type": "stream",
          "text": [
            "{'dropout': 0.35, 'n_hidden': 55}\n",
            "Model: \"sequential_1\"\n",
            "_________________________________________________________________\n",
            "Layer (type)                 Output Shape              Param #   \n",
            "=================================================================\n",
            "lstm_1 (LSTM)                (None, 55)                14300     \n",
            "_________________________________________________________________\n",
            "dropout_1 (Dropout)          (None, 55)                0         \n",
            "_________________________________________________________________\n",
            "dense_1 (Dense)              (None, 6)                 336       \n",
            "=================================================================\n",
            "Total params: 14,636\n",
            "Trainable params: 14,636\n",
            "Non-trainable params: 0\n",
            "_________________________________________________________________\n"
          ],
          "name": "stdout"
        },
        {
          "output_type": "stream",
          "text": [
            "\n",
            "\n",
            " 29%|██▊       | 2/7 [11:32<28:35, 343.08s/it]\u001b[A\u001b[A"
          ],
          "name": "stderr"
        },
        {
          "output_type": "stream",
          "text": [
            "{'dropout': 0.35, 'n_hidden': 60}\n",
            "Model: \"sequential_1\"\n",
            "_________________________________________________________________\n",
            "Layer (type)                 Output Shape              Param #   \n",
            "=================================================================\n",
            "lstm_1 (LSTM)                (None, 60)                16800     \n",
            "_________________________________________________________________\n",
            "dropout_1 (Dropout)          (None, 60)                0         \n",
            "_________________________________________________________________\n",
            "dense_1 (Dense)              (None, 6)                 366       \n",
            "=================================================================\n",
            "Total params: 17,166\n",
            "Trainable params: 17,166\n",
            "Non-trainable params: 0\n",
            "_________________________________________________________________\n"
          ],
          "name": "stdout"
        },
        {
          "output_type": "stream",
          "text": [
            "\n",
            "\n",
            " 43%|████▎     | 3/7 [17:40<23:22, 350.58s/it]\u001b[A\u001b[A"
          ],
          "name": "stderr"
        },
        {
          "output_type": "stream",
          "text": [
            "{'dropout': 0.35, 'n_hidden': 65}\n",
            "Model: \"sequential_1\"\n",
            "_________________________________________________________________\n",
            "Layer (type)                 Output Shape              Param #   \n",
            "=================================================================\n",
            "lstm_1 (LSTM)                (None, 65)                19500     \n",
            "_________________________________________________________________\n",
            "dropout_1 (Dropout)          (None, 65)                0         \n",
            "_________________________________________________________________\n",
            "dense_1 (Dense)              (None, 6)                 396       \n",
            "=================================================================\n",
            "Total params: 19,896\n",
            "Trainable params: 19,896\n",
            "Non-trainable params: 0\n",
            "_________________________________________________________________\n"
          ],
          "name": "stdout"
        },
        {
          "output_type": "stream",
          "text": [
            "\n",
            "\n",
            " 57%|█████▋    | 4/7 [24:10<18:07, 362.40s/it]\u001b[A\u001b[A"
          ],
          "name": "stderr"
        },
        {
          "output_type": "stream",
          "text": [
            "{'dropout': 0.35, 'n_hidden': 70}\n",
            "Model: \"sequential_1\"\n",
            "_________________________________________________________________\n",
            "Layer (type)                 Output Shape              Param #   \n",
            "=================================================================\n",
            "lstm_1 (LSTM)                (None, 70)                22400     \n",
            "_________________________________________________________________\n",
            "dropout_1 (Dropout)          (None, 70)                0         \n",
            "_________________________________________________________________\n",
            "dense_1 (Dense)              (None, 6)                 426       \n",
            "=================================================================\n",
            "Total params: 22,826\n",
            "Trainable params: 22,826\n",
            "Non-trainable params: 0\n",
            "_________________________________________________________________\n"
          ],
          "name": "stdout"
        },
        {
          "output_type": "stream",
          "text": [
            "\n",
            "\n",
            " 71%|███████▏  | 5/7 [31:03<12:35, 377.52s/it]\u001b[A\u001b[A"
          ],
          "name": "stderr"
        },
        {
          "output_type": "stream",
          "text": [
            "{'dropout': 0.35, 'n_hidden': 75}\n",
            "Model: \"sequential_1\"\n",
            "_________________________________________________________________\n",
            "Layer (type)                 Output Shape              Param #   \n",
            "=================================================================\n",
            "lstm_1 (LSTM)                (None, 75)                25500     \n",
            "_________________________________________________________________\n",
            "dropout_1 (Dropout)          (None, 75)                0         \n",
            "_________________________________________________________________\n",
            "dense_1 (Dense)              (None, 6)                 456       \n",
            "=================================================================\n",
            "Total params: 25,956\n",
            "Trainable params: 25,956\n",
            "Non-trainable params: 0\n",
            "_________________________________________________________________\n"
          ],
          "name": "stdout"
        },
        {
          "output_type": "stream",
          "text": [
            "\n",
            "\n",
            " 86%|████████▌ | 6/7 [38:19<06:35, 395.21s/it]\u001b[A\u001b[A"
          ],
          "name": "stderr"
        },
        {
          "output_type": "stream",
          "text": [
            "{'dropout': 0.35, 'n_hidden': 80}\n",
            "Model: \"sequential_1\"\n",
            "_________________________________________________________________\n",
            "Layer (type)                 Output Shape              Param #   \n",
            "=================================================================\n",
            "lstm_1 (LSTM)                (None, 80)                28800     \n",
            "_________________________________________________________________\n",
            "dropout_1 (Dropout)          (None, 80)                0         \n",
            "_________________________________________________________________\n",
            "dense_1 (Dense)              (None, 6)                 486       \n",
            "=================================================================\n",
            "Total params: 29,286\n",
            "Trainable params: 29,286\n",
            "Non-trainable params: 0\n",
            "_________________________________________________________________\n"
          ],
          "name": "stdout"
        },
        {
          "output_type": "stream",
          "text": [
            "\n",
            "\n",
            "100%|██████████| 7/7 [45:24<00:00, 404.16s/it]\u001b[A\u001b[A\n",
            "\n",
            "\u001b[A\u001b[A"
          ],
          "name": "stderr"
        }
      ]
    },
    {
      "cell_type": "code",
      "metadata": {
        "colab_type": "code",
        "outputId": "1a804160-d723-4818-ecfd-c4de078f05b8",
        "id": "0wiR9QfBLgst",
        "colab": {
          "base_uri": "https://localhost:8080/",
          "height": 153
        }
      },
      "source": [
        "print (t10.data)"
      ],
      "execution_count": 0,
      "outputs": [
        {
          "output_type": "stream",
          "text": [
            "   round_epochs  val_loss   val_acc      loss       acc  dropout  n_hidden\n",
            "0            30  0.737335  0.635993  0.789538  0.629615     0.35        50\n",
            "1            30  0.477936  0.809610  0.545819  0.769724     0.35        55\n",
            "2            30  0.193315  0.941976  0.245772  0.921104     0.35        60\n",
            "3            30  0.407638  0.803264  0.484697  0.785076     0.35        65\n",
            "4            30  0.231399  0.917498  0.277376  0.894287     0.35        70\n",
            "5            30  0.604080  0.715775  0.645414  0.694520     0.35        75\n",
            "6            30  0.354007  0.844968  0.430728  0.834629     0.35        80\n"
          ],
          "name": "stdout"
        }
      ]
    },
    {
      "cell_type": "code",
      "metadata": {
        "colab_type": "code",
        "outputId": "d7a4777b-73cd-47d8-e9d2-c1be7bf0a347",
        "id": "a-8Q-ybtLgs3",
        "colab": {
          "base_uri": "https://localhost:8080/",
          "height": 153
        }
      },
      "source": [
        "analyze_object10 = ta.Analyze(t10)\n",
        "print (\"############\")\n",
        "print (analyze_object10.best_params('val_acc', ['acc', 'loss', 'val_loss']))\n"
      ],
      "execution_count": 0,
      "outputs": [
        {
          "output_type": "stream",
          "text": [
            "############\n",
            "[[60.    0.35 30.    0.  ]\n",
            " [70.    0.35 30.    1.  ]\n",
            " [80.    0.35 30.    2.  ]\n",
            " [55.    0.35 30.    3.  ]\n",
            " [65.    0.35 30.    4.  ]\n",
            " [75.    0.35 30.    5.  ]\n",
            " [50.    0.35 30.    6.  ]]\n"
          ],
          "name": "stdout"
        }
      ]
    },
    {
      "cell_type": "code",
      "metadata": {
        "id": "Zqy4oLocSy1X",
        "colab_type": "code",
        "colab": {}
      },
      "source": [
        "p11 = {'n_hidden':[85,95,100,110],\n",
        "     'dropout': [0.1,.05]}\n",
        "\n"
      ],
      "execution_count": 0,
      "outputs": []
    },
    {
      "cell_type": "code",
      "metadata": {
        "colab_type": "code",
        "outputId": "2b3dc3d3-2bdd-4cb9-b936-145a1dc29479",
        "id": "s-TYnd-yTKzU",
        "colab": {
          "base_uri": "https://localhost:8080/",
          "height": 1000
        }
      },
      "source": [
        "import talos as ta\n",
        "import warnings\n",
        "\n",
        "with warnings.catch_warnings():\n",
        "    warnings.filterwarnings(\"ignore\",category=DeprecationWarning)\n",
        "\n",
        "t11 = ta.Scan(x=X_train,y=Y_train,model=HAR_LSTM,params=p11,experiment_name='11',disable_progress_bar=False,print_params=True)"
      ],
      "execution_count": 0,
      "outputs": [
        {
          "output_type": "stream",
          "text": [
            "\n",
            "\n",
            "  0%|          | 0/8 [00:00<?, ?it/s]\u001b[A\u001b[A"
          ],
          "name": "stderr"
        },
        {
          "output_type": "stream",
          "text": [
            "{'dropout': 0.1, 'n_hidden': 85}\n",
            "Model: \"sequential_1\"\n",
            "_________________________________________________________________\n",
            "Layer (type)                 Output Shape              Param #   \n",
            "=================================================================\n",
            "lstm_1 (LSTM)                (None, 85)                32300     \n",
            "_________________________________________________________________\n",
            "dropout_1 (Dropout)          (None, 85)                0         \n",
            "_________________________________________________________________\n",
            "dense_1 (Dense)              (None, 6)                 516       \n",
            "=================================================================\n",
            "Total params: 32,816\n",
            "Trainable params: 32,816\n",
            "Non-trainable params: 0\n",
            "_________________________________________________________________\n"
          ],
          "name": "stdout"
        },
        {
          "output_type": "stream",
          "text": [
            "\n",
            "\n",
            " 12%|█▎        | 1/8 [09:13<1:04:36, 553.82s/it]\u001b[A\u001b[A"
          ],
          "name": "stderr"
        },
        {
          "output_type": "stream",
          "text": [
            "{'dropout': 0.1, 'n_hidden': 95}\n",
            "Model: \"sequential_1\"\n",
            "_________________________________________________________________\n",
            "Layer (type)                 Output Shape              Param #   \n",
            "=================================================================\n",
            "lstm_1 (LSTM)                (None, 95)                39900     \n",
            "_________________________________________________________________\n",
            "dropout_1 (Dropout)          (None, 95)                0         \n",
            "_________________________________________________________________\n",
            "dense_1 (Dense)              (None, 6)                 576       \n",
            "=================================================================\n",
            "Total params: 40,476\n",
            "Trainable params: 40,476\n",
            "Non-trainable params: 0\n",
            "_________________________________________________________________\n"
          ],
          "name": "stdout"
        },
        {
          "output_type": "stream",
          "text": [
            "\n",
            "\n",
            " 25%|██▌       | 2/8 [18:21<55:12, 552.03s/it]  \u001b[A\u001b[A"
          ],
          "name": "stderr"
        },
        {
          "output_type": "stream",
          "text": [
            "{'dropout': 0.1, 'n_hidden': 100}\n",
            "Model: \"sequential_1\"\n",
            "_________________________________________________________________\n",
            "Layer (type)                 Output Shape              Param #   \n",
            "=================================================================\n",
            "lstm_1 (LSTM)                (None, 100)               44000     \n",
            "_________________________________________________________________\n",
            "dropout_1 (Dropout)          (None, 100)               0         \n",
            "_________________________________________________________________\n",
            "dense_1 (Dense)              (None, 6)                 606       \n",
            "=================================================================\n",
            "Total params: 44,606\n",
            "Trainable params: 44,606\n",
            "Non-trainable params: 0\n",
            "_________________________________________________________________\n"
          ],
          "name": "stdout"
        },
        {
          "output_type": "stream",
          "text": [
            "\n",
            "\n",
            " 38%|███▊      | 3/8 [27:39<46:09, 553.84s/it]\u001b[A\u001b[A"
          ],
          "name": "stderr"
        },
        {
          "output_type": "stream",
          "text": [
            "{'dropout': 0.1, 'n_hidden': 110}\n",
            "Model: \"sequential_1\"\n",
            "_________________________________________________________________\n",
            "Layer (type)                 Output Shape              Param #   \n",
            "=================================================================\n",
            "lstm_1 (LSTM)                (None, 110)               52800     \n",
            "_________________________________________________________________\n",
            "dropout_1 (Dropout)          (None, 110)               0         \n",
            "_________________________________________________________________\n",
            "dense_1 (Dense)              (None, 6)                 666       \n",
            "=================================================================\n",
            "Total params: 53,466\n",
            "Trainable params: 53,466\n",
            "Non-trainable params: 0\n",
            "_________________________________________________________________\n"
          ],
          "name": "stdout"
        },
        {
          "output_type": "stream",
          "text": [
            "\n",
            "\n",
            " 50%|█████     | 4/8 [37:54<38:08, 572.03s/it]\u001b[A\u001b[A"
          ],
          "name": "stderr"
        },
        {
          "output_type": "stream",
          "text": [
            "{'dropout': 0.05, 'n_hidden': 85}\n",
            "Model: \"sequential_1\"\n",
            "_________________________________________________________________\n",
            "Layer (type)                 Output Shape              Param #   \n",
            "=================================================================\n",
            "lstm_1 (LSTM)                (None, 85)                32300     \n",
            "_________________________________________________________________\n",
            "dropout_1 (Dropout)          (None, 85)                0         \n",
            "_________________________________________________________________\n",
            "dense_1 (Dense)              (None, 6)                 516       \n",
            "=================================================================\n",
            "Total params: 32,816\n",
            "Trainable params: 32,816\n",
            "Non-trainable params: 0\n",
            "_________________________________________________________________\n"
          ],
          "name": "stdout"
        },
        {
          "output_type": "stream",
          "text": [
            "\n",
            "\n",
            " 62%|██████▎   | 5/8 [46:09<27:26, 548.86s/it]\u001b[A\u001b[A"
          ],
          "name": "stderr"
        },
        {
          "output_type": "stream",
          "text": [
            "{'dropout': 0.05, 'n_hidden': 95}\n",
            "Model: \"sequential_1\"\n",
            "_________________________________________________________________\n",
            "Layer (type)                 Output Shape              Param #   \n",
            "=================================================================\n",
            "lstm_1 (LSTM)                (None, 95)                39900     \n",
            "_________________________________________________________________\n",
            "dropout_1 (Dropout)          (None, 95)                0         \n",
            "_________________________________________________________________\n",
            "dense_1 (Dense)              (None, 6)                 576       \n",
            "=================================================================\n",
            "Total params: 40,476\n",
            "Trainable params: 40,476\n",
            "Non-trainable params: 0\n",
            "_________________________________________________________________\n"
          ],
          "name": "stdout"
        },
        {
          "output_type": "stream",
          "text": [
            "\n",
            "\n",
            " 75%|███████▌  | 6/8 [54:56<18:04, 542.49s/it]\u001b[A\u001b[A"
          ],
          "name": "stderr"
        },
        {
          "output_type": "stream",
          "text": [
            "{'dropout': 0.05, 'n_hidden': 100}\n",
            "Model: \"sequential_1\"\n",
            "_________________________________________________________________\n",
            "Layer (type)                 Output Shape              Param #   \n",
            "=================================================================\n",
            "lstm_1 (LSTM)                (None, 100)               44000     \n",
            "_________________________________________________________________\n",
            "dropout_1 (Dropout)          (None, 100)               0         \n",
            "_________________________________________________________________\n",
            "dense_1 (Dense)              (None, 6)                 606       \n",
            "=================================================================\n",
            "Total params: 44,606\n",
            "Trainable params: 44,606\n",
            "Non-trainable params: 0\n",
            "_________________________________________________________________\n"
          ],
          "name": "stdout"
        },
        {
          "output_type": "stream",
          "text": [
            "\n",
            "\n",
            " 88%|████████▊ | 7/8 [1:04:10<09:05, 545.92s/it]\u001b[A\u001b[A"
          ],
          "name": "stderr"
        },
        {
          "output_type": "stream",
          "text": [
            "{'dropout': 0.05, 'n_hidden': 110}\n",
            "Model: \"sequential_1\"\n",
            "_________________________________________________________________\n",
            "Layer (type)                 Output Shape              Param #   \n",
            "=================================================================\n",
            "lstm_1 (LSTM)                (None, 110)               52800     \n",
            "_________________________________________________________________\n",
            "dropout_1 (Dropout)          (None, 110)               0         \n",
            "_________________________________________________________________\n",
            "dense_1 (Dense)              (None, 6)                 666       \n",
            "=================================================================\n",
            "Total params: 53,466\n",
            "Trainable params: 53,466\n",
            "Non-trainable params: 0\n",
            "_________________________________________________________________\n"
          ],
          "name": "stdout"
        },
        {
          "output_type": "stream",
          "text": [
            "\n",
            "\n",
            "100%|██████████| 8/8 [1:14:20<00:00, 565.13s/it]\u001b[A\u001b[A\n",
            "\n",
            "\u001b[A\u001b[A"
          ],
          "name": "stderr"
        }
      ]
    },
    {
      "cell_type": "code",
      "metadata": {
        "colab_type": "code",
        "outputId": "be06eb63-8812-4780-ddbd-13dda981dbb6",
        "id": "vbJMcfPfTKzm",
        "colab": {
          "base_uri": "https://localhost:8080/",
          "height": 170
        }
      },
      "source": [
        "print (t11.data)"
      ],
      "execution_count": 0,
      "outputs": [
        {
          "output_type": "stream",
          "text": [
            "   round_epochs  val_loss   val_acc      loss       acc  dropout  n_hidden\n",
            "0            30  0.169475  0.940617  0.183592  0.932569     0.10        85\n",
            "1            30  0.189383  0.927471  0.220780  0.919938     0.10        95\n",
            "2            30  0.436723  0.817316  0.426182  0.819471     0.10       100\n",
            "3            30  0.138878  0.934723  0.146630  0.941897     0.10       110\n",
            "4            30  0.147089  0.936990  0.177823  0.935290     0.05        85\n",
            "5            30  0.322639  0.864007  0.235360  0.912165     0.05        95\n",
            "6            30  0.133119  0.946963  0.141348  0.946949     0.05       100\n",
            "7            30  0.156973  0.936537  0.159637  0.938010     0.05       110\n"
          ],
          "name": "stdout"
        }
      ]
    },
    {
      "cell_type": "code",
      "metadata": {
        "colab_type": "code",
        "outputId": "2d58e8c8-a812-405e-d2ee-4b70026e9894",
        "id": "5BxHOam4TKzt",
        "colab": {
          "base_uri": "https://localhost:8080/",
          "height": 170
        }
      },
      "source": [
        "analyze_object11 = ta.Analyze(t11)\n",
        "print (\"############\")\n",
        "print (analyze_object11.best_params('val_acc', ['acc', 'loss', 'val_loss']))\n"
      ],
      "execution_count": 0,
      "outputs": [
        {
          "output_type": "stream",
          "text": [
            "############\n",
            "[[1.0e+02 5.0e-02 3.0e+01 0.0e+00]\n",
            " [8.5e+01 1.0e-01 3.0e+01 1.0e+00]\n",
            " [8.5e+01 5.0e-02 3.0e+01 2.0e+00]\n",
            " [1.1e+02 5.0e-02 3.0e+01 3.0e+00]\n",
            " [1.1e+02 1.0e-01 3.0e+01 4.0e+00]\n",
            " [9.5e+01 1.0e-01 3.0e+01 5.0e+00]\n",
            " [9.5e+01 5.0e-02 3.0e+01 6.0e+00]\n",
            " [1.0e+02 1.0e-01 3.0e+01 7.0e+00]]\n"
          ],
          "name": "stdout"
        }
      ]
    },
    {
      "cell_type": "markdown",
      "metadata": {
        "id": "xi2XhifJmvpE",
        "colab_type": "text"
      },
      "source": [
        "So we see as number of hidden layers is increasing the model is performing better, may be all those layers are learning many other different aspects. Let us keep increasing hidden layers a bit more if it still gives better performance becuase it is likely at one point with too many hidden layer model would tend towards overfitting"
      ]
    },
    {
      "cell_type": "code",
      "metadata": {
        "colab_type": "code",
        "id": "hcrQZzgenYum",
        "colab": {}
      },
      "source": [
        "p12 = {'n_hidden':[115,120,125,130],\n",
        "     'dropout': [0.1,.05,0]}\n",
        "\n"
      ],
      "execution_count": 0,
      "outputs": []
    },
    {
      "cell_type": "code",
      "metadata": {
        "colab_type": "code",
        "outputId": "2e541277-1e43-492a-cef6-95476f6c69fd",
        "id": "TTSPMwcFnYuw",
        "colab": {
          "base_uri": "https://localhost:8080/",
          "height": 1000
        }
      },
      "source": [
        "import talos as ta\n",
        "import warnings\n",
        "\n",
        "with warnings.catch_warnings():\n",
        "    warnings.filterwarnings(\"ignore\",category=DeprecationWarning)\n",
        "\n",
        "t12 = ta.Scan(x=X_train,y=Y_train,model=HAR_LSTM,params=p12,experiment_name='12',disable_progress_bar=False,print_params=True)"
      ],
      "execution_count": 0,
      "outputs": [
        {
          "output_type": "stream",
          "text": [
            "\r  0%|          | 0/12 [00:00<?, ?it/s]"
          ],
          "name": "stderr"
        },
        {
          "output_type": "stream",
          "text": [
            "{'dropout': 0.1, 'n_hidden': 115}\n",
            "WARNING:tensorflow:From /usr/local/lib/python3.6/dist-packages/keras/backend/tensorflow_backend.py:541: The name tf.placeholder is deprecated. Please use tf.compat.v1.placeholder instead.\n",
            "\n",
            "WARNING:tensorflow:From /usr/local/lib/python3.6/dist-packages/keras/backend/tensorflow_backend.py:4432: The name tf.random_uniform is deprecated. Please use tf.random.uniform instead.\n",
            "\n",
            "WARNING:tensorflow:From /usr/local/lib/python3.6/dist-packages/keras/backend/tensorflow_backend.py:148: The name tf.placeholder_with_default is deprecated. Please use tf.compat.v1.placeholder_with_default instead.\n",
            "\n",
            "WARNING:tensorflow:From /usr/local/lib/python3.6/dist-packages/keras/backend/tensorflow_backend.py:3733: calling dropout (from tensorflow.python.ops.nn_ops) with keep_prob is deprecated and will be removed in a future version.\n",
            "Instructions for updating:\n",
            "Please use `rate` instead of `keep_prob`. Rate should be set to `rate = 1 - keep_prob`.\n",
            "Model: \"sequential_1\"\n",
            "_________________________________________________________________\n",
            "Layer (type)                 Output Shape              Param #   \n",
            "=================================================================\n",
            "lstm_1 (LSTM)                (None, 115)               57500     \n",
            "_________________________________________________________________\n",
            "dropout_1 (Dropout)          (None, 115)               0         \n",
            "_________________________________________________________________\n",
            "dense_1 (Dense)              (None, 6)                 696       \n",
            "=================================================================\n",
            "Total params: 58,196\n",
            "Trainable params: 58,196\n",
            "Non-trainable params: 0\n",
            "_________________________________________________________________\n",
            "WARNING:tensorflow:From /usr/local/lib/python3.6/dist-packages/keras/optimizers.py:793: The name tf.train.Optimizer is deprecated. Please use tf.compat.v1.train.Optimizer instead.\n",
            "\n",
            "WARNING:tensorflow:From /usr/local/lib/python3.6/dist-packages/keras/backend/tensorflow_backend.py:3576: The name tf.log is deprecated. Please use tf.math.log instead.\n",
            "\n",
            "WARNING:tensorflow:From /usr/local/lib/python3.6/dist-packages/tensorflow_core/python/ops/math_grad.py:1424: where (from tensorflow.python.ops.array_ops) is deprecated and will be removed in a future version.\n",
            "Instructions for updating:\n",
            "Use tf.where in 2.0, which has the same broadcast rule as np.where\n",
            "WARNING:tensorflow:From /usr/local/lib/python3.6/dist-packages/keras/backend/tensorflow_backend.py:1033: The name tf.assign_add is deprecated. Please use tf.compat.v1.assign_add instead.\n",
            "\n",
            "WARNING:tensorflow:From /usr/local/lib/python3.6/dist-packages/keras/backend/tensorflow_backend.py:1020: The name tf.assign is deprecated. Please use tf.compat.v1.assign instead.\n",
            "\n",
            "WARNING:tensorflow:From /usr/local/lib/python3.6/dist-packages/keras/backend/tensorflow_backend.py:190: The name tf.get_default_session is deprecated. Please use tf.compat.v1.get_default_session instead.\n",
            "\n",
            "WARNING:tensorflow:From /usr/local/lib/python3.6/dist-packages/keras/backend/tensorflow_backend.py:207: The name tf.global_variables is deprecated. Please use tf.compat.v1.global_variables instead.\n",
            "\n",
            "WARNING:tensorflow:From /usr/local/lib/python3.6/dist-packages/keras/backend/tensorflow_backend.py:216: The name tf.is_variable_initialized is deprecated. Please use tf.compat.v1.is_variable_initialized instead.\n",
            "\n",
            "WARNING:tensorflow:From /usr/local/lib/python3.6/dist-packages/keras/backend/tensorflow_backend.py:223: The name tf.variables_initializer is deprecated. Please use tf.compat.v1.variables_initializer instead.\n",
            "\n",
            "WARNING:tensorflow:From /usr/local/lib/python3.6/dist-packages/keras/backend/tensorflow_backend.py:107: The name tf.reset_default_graph is deprecated. Please use tf.compat.v1.reset_default_graph instead.\n",
            "\n"
          ],
          "name": "stdout"
        },
        {
          "output_type": "stream",
          "text": [
            "\r  8%|▊         | 1/12 [09:20<1:42:50, 560.96s/it]"
          ],
          "name": "stderr"
        },
        {
          "output_type": "stream",
          "text": [
            "{'dropout': 0.1, 'n_hidden': 120}\n",
            "Model: \"sequential_1\"\n",
            "_________________________________________________________________\n",
            "Layer (type)                 Output Shape              Param #   \n",
            "=================================================================\n",
            "lstm_1 (LSTM)                (None, 120)               62400     \n",
            "_________________________________________________________________\n",
            "dropout_1 (Dropout)          (None, 120)               0         \n",
            "_________________________________________________________________\n",
            "dense_1 (Dense)              (None, 6)                 726       \n",
            "=================================================================\n",
            "Total params: 63,126\n",
            "Trainable params: 63,126\n",
            "Non-trainable params: 0\n",
            "_________________________________________________________________\n"
          ],
          "name": "stdout"
        },
        {
          "output_type": "stream",
          "text": [
            "\r 17%|█▋        | 2/12 [18:25<1:32:39, 555.92s/it]"
          ],
          "name": "stderr"
        },
        {
          "output_type": "stream",
          "text": [
            "{'dropout': 0.1, 'n_hidden': 125}\n",
            "Model: \"sequential_1\"\n",
            "_________________________________________________________________\n",
            "Layer (type)                 Output Shape              Param #   \n",
            "=================================================================\n",
            "lstm_1 (LSTM)                (None, 125)               67500     \n",
            "_________________________________________________________________\n",
            "dropout_1 (Dropout)          (None, 125)               0         \n",
            "_________________________________________________________________\n",
            "dense_1 (Dense)              (None, 6)                 756       \n",
            "=================================================================\n",
            "Total params: 68,256\n",
            "Trainable params: 68,256\n",
            "Non-trainable params: 0\n",
            "_________________________________________________________________\n"
          ],
          "name": "stdout"
        },
        {
          "output_type": "stream",
          "text": [
            "\r 25%|██▌       | 3/12 [28:42<1:26:08, 574.29s/it]"
          ],
          "name": "stderr"
        },
        {
          "output_type": "stream",
          "text": [
            "{'dropout': 0.1, 'n_hidden': 130}\n",
            "Model: \"sequential_1\"\n",
            "_________________________________________________________________\n",
            "Layer (type)                 Output Shape              Param #   \n",
            "=================================================================\n",
            "lstm_1 (LSTM)                (None, 130)               72800     \n",
            "_________________________________________________________________\n",
            "dropout_1 (Dropout)          (None, 130)               0         \n",
            "_________________________________________________________________\n",
            "dense_1 (Dense)              (None, 6)                 786       \n",
            "=================================================================\n",
            "Total params: 73,586\n",
            "Trainable params: 73,586\n",
            "Non-trainable params: 0\n",
            "_________________________________________________________________\n"
          ],
          "name": "stdout"
        },
        {
          "output_type": "stream",
          "text": [
            "\r 33%|███▎      | 4/12 [39:53<1:20:27, 603.44s/it]"
          ],
          "name": "stderr"
        },
        {
          "output_type": "stream",
          "text": [
            "{'dropout': 0.05, 'n_hidden': 115}\n",
            "Model: \"sequential_1\"\n",
            "_________________________________________________________________\n",
            "Layer (type)                 Output Shape              Param #   \n",
            "=================================================================\n",
            "lstm_1 (LSTM)                (None, 115)               57500     \n",
            "_________________________________________________________________\n",
            "dropout_1 (Dropout)          (None, 115)               0         \n",
            "_________________________________________________________________\n",
            "dense_1 (Dense)              (None, 6)                 696       \n",
            "=================================================================\n",
            "Total params: 58,196\n",
            "Trainable params: 58,196\n",
            "Non-trainable params: 0\n",
            "_________________________________________________________________\n"
          ],
          "name": "stdout"
        },
        {
          "output_type": "stream",
          "text": [
            "\r 42%|████▏     | 5/12 [49:46<1:10:01, 600.17s/it]"
          ],
          "name": "stderr"
        },
        {
          "output_type": "stream",
          "text": [
            "{'dropout': 0.05, 'n_hidden': 120}\n",
            "Model: \"sequential_1\"\n",
            "_________________________________________________________________\n",
            "Layer (type)                 Output Shape              Param #   \n",
            "=================================================================\n",
            "lstm_1 (LSTM)                (None, 120)               62400     \n",
            "_________________________________________________________________\n",
            "dropout_1 (Dropout)          (None, 120)               0         \n",
            "_________________________________________________________________\n",
            "dense_1 (Dense)              (None, 6)                 726       \n",
            "=================================================================\n",
            "Total params: 63,126\n",
            "Trainable params: 63,126\n",
            "Non-trainable params: 0\n",
            "_________________________________________________________________\n"
          ],
          "name": "stdout"
        },
        {
          "output_type": "stream",
          "text": [
            "\r 50%|█████     | 6/12 [58:59<58:35, 585.94s/it]  "
          ],
          "name": "stderr"
        },
        {
          "output_type": "stream",
          "text": [
            "{'dropout': 0.05, 'n_hidden': 125}\n",
            "Model: \"sequential_1\"\n",
            "_________________________________________________________________\n",
            "Layer (type)                 Output Shape              Param #   \n",
            "=================================================================\n",
            "lstm_1 (LSTM)                (None, 125)               67500     \n",
            "_________________________________________________________________\n",
            "dropout_1 (Dropout)          (None, 125)               0         \n",
            "_________________________________________________________________\n",
            "dense_1 (Dense)              (None, 6)                 756       \n",
            "=================================================================\n",
            "Total params: 68,256\n",
            "Trainable params: 68,256\n",
            "Non-trainable params: 0\n",
            "_________________________________________________________________\n"
          ],
          "name": "stdout"
        },
        {
          "output_type": "stream",
          "text": [
            "\r 58%|█████▊    | 7/12 [1:09:21<49:45, 597.03s/it]"
          ],
          "name": "stderr"
        },
        {
          "output_type": "stream",
          "text": [
            "{'dropout': 0.05, 'n_hidden': 130}\n",
            "Model: \"sequential_1\"\n",
            "_________________________________________________________________\n",
            "Layer (type)                 Output Shape              Param #   \n",
            "=================================================================\n",
            "lstm_1 (LSTM)                (None, 130)               72800     \n",
            "_________________________________________________________________\n",
            "dropout_1 (Dropout)          (None, 130)               0         \n",
            "_________________________________________________________________\n",
            "dense_1 (Dense)              (None, 6)                 786       \n",
            "=================================================================\n",
            "Total params: 73,586\n",
            "Trainable params: 73,586\n",
            "Non-trainable params: 0\n",
            "_________________________________________________________________\n"
          ],
          "name": "stdout"
        },
        {
          "output_type": "stream",
          "text": [
            "\r 67%|██████▋   | 8/12 [1:20:30<41:14, 618.62s/it]"
          ],
          "name": "stderr"
        },
        {
          "output_type": "stream",
          "text": [
            "{'dropout': 0, 'n_hidden': 115}\n",
            "Model: \"sequential_1\"\n",
            "_________________________________________________________________\n",
            "Layer (type)                 Output Shape              Param #   \n",
            "=================================================================\n",
            "lstm_1 (LSTM)                (None, 115)               57500     \n",
            "_________________________________________________________________\n",
            "dropout_1 (Dropout)          (None, 115)               0         \n",
            "_________________________________________________________________\n",
            "dense_1 (Dense)              (None, 6)                 696       \n",
            "=================================================================\n",
            "Total params: 58,196\n",
            "Trainable params: 58,196\n",
            "Non-trainable params: 0\n",
            "_________________________________________________________________\n"
          ],
          "name": "stdout"
        },
        {
          "output_type": "stream",
          "text": [
            "\r 75%|███████▌  | 9/12 [1:29:58<30:09, 603.28s/it]"
          ],
          "name": "stderr"
        },
        {
          "output_type": "stream",
          "text": [
            "{'dropout': 0, 'n_hidden': 120}\n",
            "Model: \"sequential_1\"\n",
            "_________________________________________________________________\n",
            "Layer (type)                 Output Shape              Param #   \n",
            "=================================================================\n",
            "lstm_1 (LSTM)                (None, 120)               62400     \n",
            "_________________________________________________________________\n",
            "dropout_1 (Dropout)          (None, 120)               0         \n",
            "_________________________________________________________________\n",
            "dense_1 (Dense)              (None, 6)                 726       \n",
            "=================================================================\n",
            "Total params: 63,126\n",
            "Trainable params: 63,126\n",
            "Non-trainable params: 0\n",
            "_________________________________________________________________\n"
          ],
          "name": "stdout"
        },
        {
          "output_type": "stream",
          "text": [
            "\r 83%|████████▎ | 10/12 [1:39:19<19:41, 590.62s/it]"
          ],
          "name": "stderr"
        },
        {
          "output_type": "stream",
          "text": [
            "{'dropout': 0, 'n_hidden': 125}\n",
            "Model: \"sequential_1\"\n",
            "_________________________________________________________________\n",
            "Layer (type)                 Output Shape              Param #   \n",
            "=================================================================\n",
            "lstm_1 (LSTM)                (None, 125)               67500     \n",
            "_________________________________________________________________\n",
            "dropout_1 (Dropout)          (None, 125)               0         \n",
            "_________________________________________________________________\n",
            "dense_1 (Dense)              (None, 6)                 756       \n",
            "=================================================================\n",
            "Total params: 68,256\n",
            "Trainable params: 68,256\n",
            "Non-trainable params: 0\n",
            "_________________________________________________________________\n"
          ],
          "name": "stdout"
        },
        {
          "output_type": "stream",
          "text": [
            "\r 92%|█████████▏| 11/12 [1:49:48<10:02, 602.26s/it]"
          ],
          "name": "stderr"
        },
        {
          "output_type": "stream",
          "text": [
            "{'dropout': 0, 'n_hidden': 130}\n",
            "Model: \"sequential_1\"\n",
            "_________________________________________________________________\n",
            "Layer (type)                 Output Shape              Param #   \n",
            "=================================================================\n",
            "lstm_1 (LSTM)                (None, 130)               72800     \n",
            "_________________________________________________________________\n",
            "dropout_1 (Dropout)          (None, 130)               0         \n",
            "_________________________________________________________________\n",
            "dense_1 (Dense)              (None, 6)                 786       \n",
            "=================================================================\n",
            "Total params: 73,586\n",
            "Trainable params: 73,586\n",
            "Non-trainable params: 0\n",
            "_________________________________________________________________\n"
          ],
          "name": "stdout"
        },
        {
          "output_type": "stream",
          "text": [
            "\r100%|██████████| 12/12 [2:01:06<00:00, 625.00s/it]\n"
          ],
          "name": "stderr"
        }
      ]
    },
    {
      "cell_type": "code",
      "metadata": {
        "id": "35NExnMsn0CQ",
        "colab_type": "code",
        "outputId": "53fe658d-ba2b-44ef-d235-222a57f216e9",
        "colab": {
          "base_uri": "https://localhost:8080/",
          "height": 238
        }
      },
      "source": [
        "print (t12.data)"
      ],
      "execution_count": 0,
      "outputs": [
        {
          "output_type": "stream",
          "text": [
            "    round_epochs  val_loss   val_acc      loss       acc  dropout  n_hidden\n",
            "0             30  0.193071  0.937897  0.234547  0.923824     0.10       115\n",
            "1             30  0.181182  0.943790  0.147256  0.944423     0.10       120\n",
            "2             30  0.212689  0.925204  0.267440  0.904975     0.10       125\n",
            "3             30  0.202970  0.923844  0.171337  0.933152     0.10       130\n",
            "4             30  0.389932  0.789665  0.388207  0.797318     0.05       115\n",
            "5             30  0.363179  0.859927  0.387026  0.860474     0.05       120\n",
            "6             30  0.303743  0.893472  0.368476  0.875437     0.05       125\n",
            "7             30  0.269691  0.900272  0.217916  0.921104     0.05       130\n",
            "8             30  0.135911  0.949683  0.123179  0.952779     0.00       115\n",
            "9             30  0.160289  0.943336  0.169015  0.937038     0.00       120\n",
            "10            30  0.173481  0.936083  0.154281  0.942285     0.00       125\n",
            "11            30  0.292276  0.898005  0.349568  0.850175     0.00       130\n"
          ],
          "name": "stdout"
        }
      ]
    },
    {
      "cell_type": "markdown",
      "metadata": {
        "id": "s7t1B3yGDw-9",
        "colab_type": "text"
      },
      "source": [
        "So far we have tried several combination of n_hidden and dropout and the best model is with **n_hidden = 115 & dropout= 0**\n",
        "The values is \n",
        "\n",
        "\n",
        "```\n",
        "round_epochs  val_loss   val_acc      loss       acc          dropout  n_hidden\n",
        "30            0.135911   0.949683     0.123179   0.952779     0.00       115\n",
        "\n",
        "```\n",
        "\n",
        "\n",
        "So for single layer model we have achieved our task as it is pretty close to 96% as per the assignment\n",
        "\n",
        "Now lets perform the same task for two layered LSTM"
      ]
    },
    {
      "cell_type": "code",
      "metadata": {
        "id": "ems9cdhVLfdy",
        "colab_type": "code",
        "colab": {}
      },
      "source": [
        "def HAR_LSTM2(X_train, Y_train, X_test, Y_test, params):\n",
        "\n",
        "    model2 = Sequential()\n",
        "    model2.add(LSTM(params['n_hidden'], input_shape=(timesteps, input_dim),return_sequences = True))    \n",
        "    model2.add(Dropout(params['dropout']))\n",
        "    model2.add(LSTM(params['n_hidden']))    \n",
        "    model2.add(Dropout(params['dropout']))\n",
        "    model2.add(Dense(n_classes, activation='sigmoid'))\n",
        "    model2.summary()\n",
        "    model2.compile(loss='categorical_crossentropy', optimizer='adam', metrics=['accuracy'])\n",
        "    history2 = model2.fit(X_train, Y_train,validation_data = (X_test, Y_test),batch_size=40,epochs=30,verbose=0)\n",
        "    return history2, model2"
      ],
      "execution_count": 0,
      "outputs": []
    },
    {
      "cell_type": "code",
      "metadata": {
        "colab_type": "code",
        "id": "h5vRBFsEMGiv",
        "colab": {}
      },
      "source": [
        "p2_1 = {'n_hidden':[20,30,40],\n",
        "     'dropout': [0.25,0.35]}\n",
        "\n",
        "p2_2 = {'n_hidden':[20,30,40],\n",
        "     'dropout': [0.45,0.55]}\n",
        "\n",
        "p2_3 = {'n_hidden':[20,30,40],\n",
        "     'dropout': [0.65,0.75]}\n",
        "\n",
        "p2_4 = {'n_hidden':[50,60,70],\n",
        "     'dropout': [0.25,0.35]}\n",
        "\n",
        "p2_5 = {'n_hidden':[50,60,70],\n",
        "     'dropout': [0.45,0.55]}\n",
        "\n"
      ],
      "execution_count": 0,
      "outputs": []
    },
    {
      "cell_type": "code",
      "metadata": {
        "colab_type": "code",
        "outputId": "f01d3ac3-1211-40c9-f75e-650dc9321d0f",
        "id": "SPELYT8OMGi5",
        "colab": {
          "base_uri": "https://localhost:8080/",
          "height": 1000
        }
      },
      "source": [
        "import talos as ta\n",
        "import warnings\n",
        "\n",
        "with warnings.catch_warnings():\n",
        "    warnings.filterwarnings(\"ignore\",category=DeprecationWarning)\n",
        "\n",
        "t13 = ta.Scan(x=X_train,y=Y_train,model=HAR_LSTM2,params=p2_1,experiment_name='model2_1',disable_progress_bar=False,print_params=True)"
      ],
      "execution_count": 0,
      "outputs": [
        {
          "output_type": "stream",
          "text": [
            "\n",
            "\n",
            "\n",
            "\n",
            "\n",
            "  0%|          | 0/6 [00:00<?, ?it/s]\u001b[A\u001b[A\u001b[A\u001b[A\u001b[A"
          ],
          "name": "stderr"
        },
        {
          "output_type": "stream",
          "text": [
            "{'dropout': 0.25, 'n_hidden': 20}\n",
            "Model: \"sequential_4\"\n",
            "_________________________________________________________________\n",
            "Layer (type)                 Output Shape              Param #   \n",
            "=================================================================\n",
            "lstm_6 (LSTM)                (None, 128, 20)           2400      \n",
            "_________________________________________________________________\n",
            "dropout_4 (Dropout)          (None, 128, 20)           0         \n",
            "_________________________________________________________________\n",
            "lstm_7 (LSTM)                (None, 20)                3280      \n",
            "_________________________________________________________________\n",
            "dropout_5 (Dropout)          (None, 20)                0         \n",
            "_________________________________________________________________\n",
            "dense_2 (Dense)              (None, 6)                 126       \n",
            "=================================================================\n",
            "Total params: 5,806\n",
            "Trainable params: 5,806\n",
            "Non-trainable params: 0\n",
            "_________________________________________________________________\n"
          ],
          "name": "stdout"
        },
        {
          "output_type": "stream",
          "text": [
            "\n",
            "\n",
            "\n",
            "\n",
            "\n",
            " 17%|█▋        | 1/6 [08:35<42:59, 515.92s/it]\u001b[A\u001b[A\u001b[A\u001b[A\u001b[A"
          ],
          "name": "stderr"
        },
        {
          "output_type": "stream",
          "text": [
            "{'dropout': 0.25, 'n_hidden': 30}\n",
            "Model: \"sequential_1\"\n",
            "_________________________________________________________________\n",
            "Layer (type)                 Output Shape              Param #   \n",
            "=================================================================\n",
            "lstm_1 (LSTM)                (None, 128, 30)           4800      \n",
            "_________________________________________________________________\n",
            "dropout_1 (Dropout)          (None, 128, 30)           0         \n",
            "_________________________________________________________________\n",
            "lstm_2 (LSTM)                (None, 30)                7320      \n",
            "_________________________________________________________________\n",
            "dropout_2 (Dropout)          (None, 30)                0         \n",
            "_________________________________________________________________\n",
            "dense_1 (Dense)              (None, 6)                 186       \n",
            "=================================================================\n",
            "Total params: 12,306\n",
            "Trainable params: 12,306\n",
            "Non-trainable params: 0\n",
            "_________________________________________________________________\n"
          ],
          "name": "stdout"
        },
        {
          "output_type": "stream",
          "text": [
            "\n",
            "\n",
            "\n",
            "\n",
            "\n",
            " 33%|███▎      | 2/6 [18:06<35:29, 532.40s/it]\u001b[A\u001b[A\u001b[A\u001b[A\u001b[A"
          ],
          "name": "stderr"
        },
        {
          "output_type": "stream",
          "text": [
            "{'dropout': 0.25, 'n_hidden': 40}\n",
            "Model: \"sequential_1\"\n",
            "_________________________________________________________________\n",
            "Layer (type)                 Output Shape              Param #   \n",
            "=================================================================\n",
            "lstm_1 (LSTM)                (None, 128, 40)           8000      \n",
            "_________________________________________________________________\n",
            "dropout_1 (Dropout)          (None, 128, 40)           0         \n",
            "_________________________________________________________________\n",
            "lstm_2 (LSTM)                (None, 40)                12960     \n",
            "_________________________________________________________________\n",
            "dropout_2 (Dropout)          (None, 40)                0         \n",
            "_________________________________________________________________\n",
            "dense_1 (Dense)              (None, 6)                 246       \n",
            "=================================================================\n",
            "Total params: 21,206\n",
            "Trainable params: 21,206\n",
            "Non-trainable params: 0\n",
            "_________________________________________________________________\n"
          ],
          "name": "stdout"
        },
        {
          "output_type": "stream",
          "text": [
            "\n",
            "\n",
            "\n",
            "\n",
            "\n",
            " 50%|█████     | 3/6 [28:04<27:36, 552.11s/it]\u001b[A\u001b[A\u001b[A\u001b[A\u001b[A"
          ],
          "name": "stderr"
        },
        {
          "output_type": "stream",
          "text": [
            "{'dropout': 0.35, 'n_hidden': 20}\n",
            "Model: \"sequential_1\"\n",
            "_________________________________________________________________\n",
            "Layer (type)                 Output Shape              Param #   \n",
            "=================================================================\n",
            "lstm_1 (LSTM)                (None, 128, 20)           2400      \n",
            "_________________________________________________________________\n",
            "dropout_1 (Dropout)          (None, 128, 20)           0         \n",
            "_________________________________________________________________\n",
            "lstm_2 (LSTM)                (None, 20)                3280      \n",
            "_________________________________________________________________\n",
            "dropout_2 (Dropout)          (None, 20)                0         \n",
            "_________________________________________________________________\n",
            "dense_1 (Dense)              (None, 6)                 126       \n",
            "=================================================================\n",
            "Total params: 5,806\n",
            "Trainable params: 5,806\n",
            "Non-trainable params: 0\n",
            "_________________________________________________________________\n"
          ],
          "name": "stdout"
        },
        {
          "output_type": "stream",
          "text": [
            "\n",
            "\n",
            "\n",
            "\n",
            "\n",
            " 67%|██████▋   | 4/6 [36:33<17:57, 538.95s/it]\u001b[A\u001b[A\u001b[A\u001b[A\u001b[A"
          ],
          "name": "stderr"
        },
        {
          "output_type": "stream",
          "text": [
            "{'dropout': 0.35, 'n_hidden': 30}\n",
            "Model: \"sequential_1\"\n",
            "_________________________________________________________________\n",
            "Layer (type)                 Output Shape              Param #   \n",
            "=================================================================\n",
            "lstm_1 (LSTM)                (None, 128, 30)           4800      \n",
            "_________________________________________________________________\n",
            "dropout_1 (Dropout)          (None, 128, 30)           0         \n",
            "_________________________________________________________________\n",
            "lstm_2 (LSTM)                (None, 30)                7320      \n",
            "_________________________________________________________________\n",
            "dropout_2 (Dropout)          (None, 30)                0         \n",
            "_________________________________________________________________\n",
            "dense_1 (Dense)              (None, 6)                 186       \n",
            "=================================================================\n",
            "Total params: 12,306\n",
            "Trainable params: 12,306\n",
            "Non-trainable params: 0\n",
            "_________________________________________________________________\n"
          ],
          "name": "stdout"
        },
        {
          "output_type": "stream",
          "text": [
            "\n",
            "\n",
            "\n",
            "\n",
            "\n",
            " 83%|████████▎ | 5/6 [46:00<09:07, 547.45s/it]\u001b[A\u001b[A\u001b[A\u001b[A\u001b[A"
          ],
          "name": "stderr"
        },
        {
          "output_type": "stream",
          "text": [
            "{'dropout': 0.35, 'n_hidden': 40}\n",
            "Model: \"sequential_1\"\n",
            "_________________________________________________________________\n",
            "Layer (type)                 Output Shape              Param #   \n",
            "=================================================================\n",
            "lstm_1 (LSTM)                (None, 128, 40)           8000      \n",
            "_________________________________________________________________\n",
            "dropout_1 (Dropout)          (None, 128, 40)           0         \n",
            "_________________________________________________________________\n",
            "lstm_2 (LSTM)                (None, 40)                12960     \n",
            "_________________________________________________________________\n",
            "dropout_2 (Dropout)          (None, 40)                0         \n",
            "_________________________________________________________________\n",
            "dense_1 (Dense)              (None, 6)                 246       \n",
            "=================================================================\n",
            "Total params: 21,206\n",
            "Trainable params: 21,206\n",
            "Non-trainable params: 0\n",
            "_________________________________________________________________\n"
          ],
          "name": "stdout"
        },
        {
          "output_type": "stream",
          "text": [
            "\n",
            "\n",
            "\n",
            "\n",
            "\n",
            "100%|██████████| 6/6 [56:02<00:00, 563.95s/it]\u001b[A\u001b[A\u001b[A\u001b[A\u001b[A\n",
            "\n",
            "\n",
            "\n",
            "\n",
            "\u001b[A\u001b[A\u001b[A\u001b[A\u001b[A"
          ],
          "name": "stderr"
        }
      ]
    },
    {
      "cell_type": "code",
      "metadata": {
        "colab_type": "code",
        "outputId": "7288e1fe-d580-44b3-c88b-75b837a7a7c9",
        "id": "kAhHC5D_MGjS",
        "colab": {
          "base_uri": "https://localhost:8080/",
          "height": 136
        }
      },
      "source": [
        "print (t13.data)"
      ],
      "execution_count": 0,
      "outputs": [
        {
          "output_type": "stream",
          "text": [
            "   round_epochs  val_loss   val_acc      loss       acc  dropout  n_hidden\n",
            "0            30  0.549964  0.656392  0.638225  0.652934     0.25        20\n",
            "1            30  0.151043  0.945150  0.176032  0.939953     0.25        30\n",
            "2            30  0.207792  0.931550  0.255067  0.905752     0.25        40\n",
            "3            30  0.681467  0.655485  0.656454  0.658181     0.35        20\n",
            "4            30  0.279739  0.913871  0.386851  0.848037     0.35        30\n",
            "5            30  0.137708  0.945150  0.158519  0.946366     0.35        40\n"
          ],
          "name": "stdout"
        }
      ]
    },
    {
      "cell_type": "code",
      "metadata": {
        "colab_type": "code",
        "outputId": "0b770865-360d-4674-829d-7e39a24a8757",
        "id": "rx3866MlvAPO",
        "colab": {
          "base_uri": "https://localhost:8080/",
          "height": 1000
        }
      },
      "source": [
        "import talos as ta\n",
        "import warnings\n",
        "\n",
        "with warnings.catch_warnings():\n",
        "    warnings.filterwarnings(\"ignore\",category=DeprecationWarning)\n",
        "\n",
        "t14 = ta.Scan(x=X_train,y=Y_train,model=HAR_LSTM2,params=p2_2,experiment_name='model2_2',disable_progress_bar=False,print_params=True)"
      ],
      "execution_count": 18,
      "outputs": [
        {
          "output_type": "stream",
          "text": [
            "\r  0%|          | 0/6 [00:00<?, ?it/s]"
          ],
          "name": "stderr"
        },
        {
          "output_type": "stream",
          "text": [
            "{'dropout': 0.45, 'n_hidden': 20}\n",
            "WARNING:tensorflow:From /usr/local/lib/python3.6/dist-packages/keras/backend/tensorflow_backend.py:541: The name tf.placeholder is deprecated. Please use tf.compat.v1.placeholder instead.\n",
            "\n",
            "WARNING:tensorflow:From /usr/local/lib/python3.6/dist-packages/keras/backend/tensorflow_backend.py:4432: The name tf.random_uniform is deprecated. Please use tf.random.uniform instead.\n",
            "\n",
            "WARNING:tensorflow:From /usr/local/lib/python3.6/dist-packages/keras/backend/tensorflow_backend.py:148: The name tf.placeholder_with_default is deprecated. Please use tf.compat.v1.placeholder_with_default instead.\n",
            "\n",
            "WARNING:tensorflow:From /usr/local/lib/python3.6/dist-packages/keras/backend/tensorflow_backend.py:3733: calling dropout (from tensorflow.python.ops.nn_ops) with keep_prob is deprecated and will be removed in a future version.\n",
            "Instructions for updating:\n",
            "Please use `rate` instead of `keep_prob`. Rate should be set to `rate = 1 - keep_prob`.\n",
            "Model: \"sequential_1\"\n",
            "_________________________________________________________________\n",
            "Layer (type)                 Output Shape              Param #   \n",
            "=================================================================\n",
            "lstm_1 (LSTM)                (None, 128, 20)           2400      \n",
            "_________________________________________________________________\n",
            "dropout_1 (Dropout)          (None, 128, 20)           0         \n",
            "_________________________________________________________________\n",
            "lstm_2 (LSTM)                (None, 20)                3280      \n",
            "_________________________________________________________________\n",
            "dropout_2 (Dropout)          (None, 20)                0         \n",
            "_________________________________________________________________\n",
            "dense_1 (Dense)              (None, 6)                 126       \n",
            "=================================================================\n",
            "Total params: 5,806\n",
            "Trainable params: 5,806\n",
            "Non-trainable params: 0\n",
            "_________________________________________________________________\n",
            "WARNING:tensorflow:From /usr/local/lib/python3.6/dist-packages/keras/optimizers.py:793: The name tf.train.Optimizer is deprecated. Please use tf.compat.v1.train.Optimizer instead.\n",
            "\n",
            "WARNING:tensorflow:From /usr/local/lib/python3.6/dist-packages/keras/backend/tensorflow_backend.py:3576: The name tf.log is deprecated. Please use tf.math.log instead.\n",
            "\n",
            "WARNING:tensorflow:From /usr/local/lib/python3.6/dist-packages/tensorflow_core/python/ops/math_grad.py:1424: where (from tensorflow.python.ops.array_ops) is deprecated and will be removed in a future version.\n",
            "Instructions for updating:\n",
            "Use tf.where in 2.0, which has the same broadcast rule as np.where\n",
            "WARNING:tensorflow:From /usr/local/lib/python3.6/dist-packages/keras/backend/tensorflow_backend.py:1033: The name tf.assign_add is deprecated. Please use tf.compat.v1.assign_add instead.\n",
            "\n",
            "WARNING:tensorflow:From /usr/local/lib/python3.6/dist-packages/keras/backend/tensorflow_backend.py:1020: The name tf.assign is deprecated. Please use tf.compat.v1.assign instead.\n",
            "\n",
            "WARNING:tensorflow:From /usr/local/lib/python3.6/dist-packages/keras/backend/tensorflow_backend.py:190: The name tf.get_default_session is deprecated. Please use tf.compat.v1.get_default_session instead.\n",
            "\n",
            "WARNING:tensorflow:From /usr/local/lib/python3.6/dist-packages/keras/backend/tensorflow_backend.py:207: The name tf.global_variables is deprecated. Please use tf.compat.v1.global_variables instead.\n",
            "\n",
            "WARNING:tensorflow:From /usr/local/lib/python3.6/dist-packages/keras/backend/tensorflow_backend.py:216: The name tf.is_variable_initialized is deprecated. Please use tf.compat.v1.is_variable_initialized instead.\n",
            "\n",
            "WARNING:tensorflow:From /usr/local/lib/python3.6/dist-packages/keras/backend/tensorflow_backend.py:223: The name tf.variables_initializer is deprecated. Please use tf.compat.v1.variables_initializer instead.\n",
            "\n",
            "WARNING:tensorflow:From /usr/local/lib/python3.6/dist-packages/keras/backend/tensorflow_backend.py:107: The name tf.reset_default_graph is deprecated. Please use tf.compat.v1.reset_default_graph instead.\n",
            "\n"
          ],
          "name": "stdout"
        },
        {
          "output_type": "stream",
          "text": [
            "\r 17%|█▋        | 1/6 [08:26<42:14, 506.98s/it]"
          ],
          "name": "stderr"
        },
        {
          "output_type": "stream",
          "text": [
            "{'dropout': 0.45, 'n_hidden': 30}\n",
            "Model: \"sequential_1\"\n",
            "_________________________________________________________________\n",
            "Layer (type)                 Output Shape              Param #   \n",
            "=================================================================\n",
            "lstm_1 (LSTM)                (None, 128, 30)           4800      \n",
            "_________________________________________________________________\n",
            "dropout_1 (Dropout)          (None, 128, 30)           0         \n",
            "_________________________________________________________________\n",
            "lstm_2 (LSTM)                (None, 30)                7320      \n",
            "_________________________________________________________________\n",
            "dropout_2 (Dropout)          (None, 30)                0         \n",
            "_________________________________________________________________\n",
            "dense_1 (Dense)              (None, 6)                 186       \n",
            "=================================================================\n",
            "Total params: 12,306\n",
            "Trainable params: 12,306\n",
            "Non-trainable params: 0\n",
            "_________________________________________________________________\n"
          ],
          "name": "stdout"
        },
        {
          "output_type": "stream",
          "text": [
            "\r 33%|███▎      | 2/6 [17:53<34:58, 524.72s/it]"
          ],
          "name": "stderr"
        },
        {
          "output_type": "stream",
          "text": [
            "{'dropout': 0.45, 'n_hidden': 40}\n",
            "Model: \"sequential_1\"\n",
            "_________________________________________________________________\n",
            "Layer (type)                 Output Shape              Param #   \n",
            "=================================================================\n",
            "lstm_1 (LSTM)                (None, 128, 40)           8000      \n",
            "_________________________________________________________________\n",
            "dropout_1 (Dropout)          (None, 128, 40)           0         \n",
            "_________________________________________________________________\n",
            "lstm_2 (LSTM)                (None, 40)                12960     \n",
            "_________________________________________________________________\n",
            "dropout_2 (Dropout)          (None, 40)                0         \n",
            "_________________________________________________________________\n",
            "dense_1 (Dense)              (None, 6)                 246       \n",
            "=================================================================\n",
            "Total params: 21,206\n",
            "Trainable params: 21,206\n",
            "Non-trainable params: 0\n",
            "_________________________________________________________________\n"
          ],
          "name": "stdout"
        },
        {
          "output_type": "stream",
          "text": [
            "\r 50%|█████     | 3/6 [27:50<27:19, 546.49s/it]"
          ],
          "name": "stderr"
        },
        {
          "output_type": "stream",
          "text": [
            "{'dropout': 0.55, 'n_hidden': 20}\n",
            "WARNING:tensorflow:Large dropout rate: 0.55 (>0.5). In TensorFlow 2.x, dropout() uses dropout rate instead of keep_prob. Please ensure that this is intended.\n",
            "WARNING:tensorflow:Large dropout rate: 0.55 (>0.5). In TensorFlow 2.x, dropout() uses dropout rate instead of keep_prob. Please ensure that this is intended.\n",
            "Model: \"sequential_1\"\n",
            "_________________________________________________________________\n",
            "Layer (type)                 Output Shape              Param #   \n",
            "=================================================================\n",
            "lstm_1 (LSTM)                (None, 128, 20)           2400      \n",
            "_________________________________________________________________\n",
            "dropout_1 (Dropout)          (None, 128, 20)           0         \n",
            "_________________________________________________________________\n",
            "lstm_2 (LSTM)                (None, 20)                3280      \n",
            "_________________________________________________________________\n",
            "dropout_2 (Dropout)          (None, 20)                0         \n",
            "_________________________________________________________________\n",
            "dense_1 (Dense)              (None, 6)                 126       \n",
            "=================================================================\n",
            "Total params: 5,806\n",
            "Trainable params: 5,806\n",
            "Non-trainable params: 0\n",
            "_________________________________________________________________\n"
          ],
          "name": "stdout"
        },
        {
          "output_type": "stream",
          "text": [
            "\r 67%|██████▋   | 4/6 [36:14<17:47, 533.82s/it]"
          ],
          "name": "stderr"
        },
        {
          "output_type": "stream",
          "text": [
            "{'dropout': 0.55, 'n_hidden': 30}\n",
            "WARNING:tensorflow:Large dropout rate: 0.55 (>0.5). In TensorFlow 2.x, dropout() uses dropout rate instead of keep_prob. Please ensure that this is intended.\n",
            "WARNING:tensorflow:Large dropout rate: 0.55 (>0.5). In TensorFlow 2.x, dropout() uses dropout rate instead of keep_prob. Please ensure that this is intended.\n",
            "Model: \"sequential_1\"\n",
            "_________________________________________________________________\n",
            "Layer (type)                 Output Shape              Param #   \n",
            "=================================================================\n",
            "lstm_1 (LSTM)                (None, 128, 30)           4800      \n",
            "_________________________________________________________________\n",
            "dropout_1 (Dropout)          (None, 128, 30)           0         \n",
            "_________________________________________________________________\n",
            "lstm_2 (LSTM)                (None, 30)                7320      \n",
            "_________________________________________________________________\n",
            "dropout_2 (Dropout)          (None, 30)                0         \n",
            "_________________________________________________________________\n",
            "dense_1 (Dense)              (None, 6)                 186       \n",
            "=================================================================\n",
            "Total params: 12,306\n",
            "Trainable params: 12,306\n",
            "Non-trainable params: 0\n",
            "_________________________________________________________________\n"
          ],
          "name": "stdout"
        },
        {
          "output_type": "stream",
          "text": [
            "\r 83%|████████▎ | 5/6 [45:38<09:02, 542.74s/it]"
          ],
          "name": "stderr"
        },
        {
          "output_type": "stream",
          "text": [
            "{'dropout': 0.55, 'n_hidden': 40}\n",
            "WARNING:tensorflow:Large dropout rate: 0.55 (>0.5). In TensorFlow 2.x, dropout() uses dropout rate instead of keep_prob. Please ensure that this is intended.\n",
            "Model: \"sequential_1\"\n",
            "_________________________________________________________________\n",
            "Layer (type)                 Output Shape              Param #   \n",
            "=================================================================\n",
            "lstm_1 (LSTM)                (None, 128, 40)           8000      \n",
            "_________________________________________________________________\n",
            "dropout_1 (Dropout)          (None, 128, 40)           0         \n",
            "_________________________________________________________________\n",
            "lstm_2 (LSTM)                (None, 40)                12960     \n",
            "_________________________________________________________________\n",
            "dropout_2 (Dropout)          (None, 40)                0         \n",
            "_________________________________________________________________\n",
            "dense_1 (Dense)              (None, 6)                 246       \n",
            "=================================================================\n",
            "Total params: 21,206\n",
            "Trainable params: 21,206\n",
            "Non-trainable params: 0\n",
            "_________________________________________________________________\n"
          ],
          "name": "stdout"
        },
        {
          "output_type": "stream",
          "text": [
            "\r100%|██████████| 6/6 [55:53<00:00, 564.39s/it]\n"
          ],
          "name": "stderr"
        }
      ]
    },
    {
      "cell_type": "code",
      "metadata": {
        "colab_type": "code",
        "outputId": "b8954b1b-c013-425e-ad5f-b7a8bd61c74e",
        "id": "KPWMzeayvAPf",
        "colab": {
          "base_uri": "https://localhost:8080/",
          "height": 136
        }
      },
      "source": [
        "print (t14.data)"
      ],
      "execution_count": 19,
      "outputs": [
        {
          "output_type": "stream",
          "text": [
            "   round_epochs  val_loss   val_acc      loss       acc  dropout  n_hidden\n",
            "0            30  0.535799  0.753400  0.616080  0.729304     0.45        20\n",
            "1            30  0.281774  0.893019  0.253964  0.922658     0.45        30\n",
            "2            30  0.197427  0.932910  0.230404  0.934124     0.45        40\n",
            "3            30  0.327668  0.874887  0.433183  0.808978     0.55        20\n",
            "4            30  0.412715  0.797824  0.524392  0.766809     0.55        30\n",
            "5            30  0.136556  0.953309  0.181004  0.942285     0.55        40\n"
          ],
          "name": "stdout"
        }
      ]
    },
    {
      "cell_type": "code",
      "metadata": {
        "colab_type": "code",
        "outputId": "868f5473-ef6c-4348-c600-5eb0b0652f0b",
        "id": "aAuuPgk09HEx",
        "colab": {
          "base_uri": "https://localhost:8080/",
          "height": 1000
        }
      },
      "source": [
        "import talos as ta\n",
        "import warnings\n",
        "\n",
        "with warnings.catch_warnings():\n",
        "    warnings.filterwarnings(\"ignore\",category=DeprecationWarning)\n",
        "\n",
        "t15 = ta.Scan(x=X_train,y=Y_train,model=HAR_LSTM2,params=p2_3,experiment_name='model2_3',disable_progress_bar=False,print_params=True)"
      ],
      "execution_count": 20,
      "outputs": [
        {
          "output_type": "stream",
          "text": [
            "\r  0%|          | 0/6 [00:00<?, ?it/s]"
          ],
          "name": "stderr"
        },
        {
          "output_type": "stream",
          "text": [
            "{'dropout': 0.65, 'n_hidden': 20}\n",
            "Model: \"sequential_1\"\n",
            "_________________________________________________________________\n",
            "Layer (type)                 Output Shape              Param #   \n",
            "=================================================================\n",
            "lstm_1 (LSTM)                (None, 128, 20)           2400      \n",
            "_________________________________________________________________\n",
            "dropout_1 (Dropout)          (None, 128, 20)           0         \n",
            "_________________________________________________________________\n",
            "lstm_2 (LSTM)                (None, 20)                3280      \n",
            "_________________________________________________________________\n",
            "dropout_2 (Dropout)          (None, 20)                0         \n",
            "_________________________________________________________________\n",
            "dense_1 (Dense)              (None, 6)                 126       \n",
            "=================================================================\n",
            "Total params: 5,806\n",
            "Trainable params: 5,806\n",
            "Non-trainable params: 0\n",
            "_________________________________________________________________\n"
          ],
          "name": "stdout"
        },
        {
          "output_type": "stream",
          "text": [
            "\r 17%|█▋        | 1/6 [08:29<42:25, 509.20s/it]"
          ],
          "name": "stderr"
        },
        {
          "output_type": "stream",
          "text": [
            "{'dropout': 0.65, 'n_hidden': 30}\n",
            "Model: \"sequential_1\"\n",
            "_________________________________________________________________\n",
            "Layer (type)                 Output Shape              Param #   \n",
            "=================================================================\n",
            "lstm_1 (LSTM)                (None, 128, 30)           4800      \n",
            "_________________________________________________________________\n",
            "dropout_1 (Dropout)          (None, 128, 30)           0         \n",
            "_________________________________________________________________\n",
            "lstm_2 (LSTM)                (None, 30)                7320      \n",
            "_________________________________________________________________\n",
            "dropout_2 (Dropout)          (None, 30)                0         \n",
            "_________________________________________________________________\n",
            "dense_1 (Dense)              (None, 6)                 186       \n",
            "=================================================================\n",
            "Total params: 12,306\n",
            "Trainable params: 12,306\n",
            "Non-trainable params: 0\n",
            "_________________________________________________________________\n"
          ],
          "name": "stdout"
        },
        {
          "output_type": "stream",
          "text": [
            "\r 33%|███▎      | 2/6 [17:50<34:59, 524.95s/it]"
          ],
          "name": "stderr"
        },
        {
          "output_type": "stream",
          "text": [
            "{'dropout': 0.65, 'n_hidden': 40}\n",
            "Model: \"sequential_1\"\n",
            "_________________________________________________________________\n",
            "Layer (type)                 Output Shape              Param #   \n",
            "=================================================================\n",
            "lstm_1 (LSTM)                (None, 128, 40)           8000      \n",
            "_________________________________________________________________\n",
            "dropout_1 (Dropout)          (None, 128, 40)           0         \n",
            "_________________________________________________________________\n",
            "lstm_2 (LSTM)                (None, 40)                12960     \n",
            "_________________________________________________________________\n",
            "dropout_2 (Dropout)          (None, 40)                0         \n",
            "_________________________________________________________________\n",
            "dense_1 (Dense)              (None, 6)                 246       \n",
            "=================================================================\n",
            "Total params: 21,206\n",
            "Trainable params: 21,206\n",
            "Non-trainable params: 0\n",
            "_________________________________________________________________\n"
          ],
          "name": "stdout"
        },
        {
          "output_type": "stream",
          "text": [
            "\r 50%|█████     | 3/6 [27:44<27:17, 545.69s/it]"
          ],
          "name": "stderr"
        },
        {
          "output_type": "stream",
          "text": [
            "{'dropout': 0.75, 'n_hidden': 20}\n",
            "Model: \"sequential_1\"\n",
            "_________________________________________________________________\n",
            "Layer (type)                 Output Shape              Param #   \n",
            "=================================================================\n",
            "lstm_1 (LSTM)                (None, 128, 20)           2400      \n",
            "_________________________________________________________________\n",
            "dropout_1 (Dropout)          (None, 128, 20)           0         \n",
            "_________________________________________________________________\n",
            "lstm_2 (LSTM)                (None, 20)                3280      \n",
            "_________________________________________________________________\n",
            "dropout_2 (Dropout)          (None, 20)                0         \n",
            "_________________________________________________________________\n",
            "dense_1 (Dense)              (None, 6)                 126       \n",
            "=================================================================\n",
            "Total params: 5,806\n",
            "Trainable params: 5,806\n",
            "Non-trainable params: 0\n",
            "_________________________________________________________________\n"
          ],
          "name": "stdout"
        },
        {
          "output_type": "stream",
          "text": [
            "\r 67%|██████▋   | 4/6 [36:41<18:05, 542.89s/it]"
          ],
          "name": "stderr"
        },
        {
          "output_type": "stream",
          "text": [
            "{'dropout': 0.75, 'n_hidden': 30}\n",
            "Model: \"sequential_1\"\n",
            "_________________________________________________________________\n",
            "Layer (type)                 Output Shape              Param #   \n",
            "=================================================================\n",
            "lstm_1 (LSTM)                (None, 128, 30)           4800      \n",
            "_________________________________________________________________\n",
            "dropout_1 (Dropout)          (None, 128, 30)           0         \n",
            "_________________________________________________________________\n",
            "lstm_2 (LSTM)                (None, 30)                7320      \n",
            "_________________________________________________________________\n",
            "dropout_2 (Dropout)          (None, 30)                0         \n",
            "_________________________________________________________________\n",
            "dense_1 (Dense)              (None, 6)                 186       \n",
            "=================================================================\n",
            "Total params: 12,306\n",
            "Trainable params: 12,306\n",
            "Non-trainable params: 0\n",
            "_________________________________________________________________\n"
          ],
          "name": "stdout"
        },
        {
          "output_type": "stream",
          "text": [
            "\r 83%|████████▎ | 5/6 [46:43<09:20, 560.76s/it]"
          ],
          "name": "stderr"
        },
        {
          "output_type": "stream",
          "text": [
            "{'dropout': 0.75, 'n_hidden': 40}\n",
            "Model: \"sequential_1\"\n",
            "_________________________________________________________________\n",
            "Layer (type)                 Output Shape              Param #   \n",
            "=================================================================\n",
            "lstm_1 (LSTM)                (None, 128, 40)           8000      \n",
            "_________________________________________________________________\n",
            "dropout_1 (Dropout)          (None, 128, 40)           0         \n",
            "_________________________________________________________________\n",
            "lstm_2 (LSTM)                (None, 40)                12960     \n",
            "_________________________________________________________________\n",
            "dropout_2 (Dropout)          (None, 40)                0         \n",
            "_________________________________________________________________\n",
            "dense_1 (Dense)              (None, 6)                 246       \n",
            "=================================================================\n",
            "Total params: 21,206\n",
            "Trainable params: 21,206\n",
            "Non-trainable params: 0\n",
            "_________________________________________________________________\n"
          ],
          "name": "stdout"
        },
        {
          "output_type": "stream",
          "text": [
            "\r100%|██████████| 6/6 [57:15<00:00, 582.11s/it]\n"
          ],
          "name": "stderr"
        }
      ]
    },
    {
      "cell_type": "code",
      "metadata": {
        "colab_type": "code",
        "outputId": "ea093824-513c-4d1c-e320-6beb975d23fd",
        "id": "0t82FYW79HFC",
        "colab": {
          "base_uri": "https://localhost:8080/",
          "height": 136
        }
      },
      "source": [
        "print (t15.data)"
      ],
      "execution_count": 21,
      "outputs": [
        {
          "output_type": "stream",
          "text": [
            "   round_epochs  val_loss   val_acc      loss       acc  dropout  n_hidden\n",
            "0            30  0.748448  0.552131  0.844831  0.520793     0.65        20\n",
            "1            30  0.767729  0.547144  0.792430  0.541586     0.65        30\n",
            "2            30  0.398223  0.782865  0.505868  0.771279     0.65        40\n",
            "3            30  0.759821  0.623753  0.848751  0.548581     0.75        20\n",
            "4            30  0.627152  0.657298  0.725223  0.631170     0.75        30\n",
            "5            30  0.739763  0.550317  0.761245  0.537505     0.75        40\n"
          ],
          "name": "stdout"
        }
      ]
    },
    {
      "cell_type": "code",
      "metadata": {
        "id": "io9-jPtGN4Tp",
        "colab_type": "code",
        "colab": {}
      },
      "source": [
        " def HAR_LSTM3(X_train, Y_train, X_test, Y_test, params):\n",
        "\n",
        "    model3 = Sequential()\n",
        "    model3.add(LSTM(params['n_hidden1'], input_shape=(timesteps, input_dim),return_sequences = True))    \n",
        "    model3.add(Dropout(params['dropout1']))\n",
        "    model3.add(LSTM(params['n_hidden2']))    \n",
        "    model3.add(Dropout(params['dropout2']))\n",
        "    model3.add(Dense(n_classes, activation='sigmoid'))\n",
        "    model3.summary()\n",
        "    model3.compile(loss='categorical_crossentropy', optimizer='adam', metrics=['accuracy'])\n",
        "    history3 = model3.fit(X_train, Y_train,validation_data = (X_test, Y_test),batch_size=40,epochs=30,verbose=0)\n",
        "    return history3, model3"
      ],
      "execution_count": 0,
      "outputs": []
    },
    {
      "cell_type": "code",
      "metadata": {
        "id": "5Z1iYIQqOAXS",
        "colab_type": "code",
        "colab": {}
      },
      "source": [
        "p_3_1 = {'n_hidden1':[30],'n_hidden2':[20,30,40,50,60,70],'dropout1': [0.25],'dropout2': [0.25,0.35,0.45,0.55,0.65]}\n",
        "p_3_2 = {'n_hidden1':[30],'n_hidden2':[20,30,40,50,60,70],'dropout1': [0.35],'dropout2': [0.25,0.35,0.45,0.55,0.65]}\n",
        "p_3_3 = {'n_hidden1':[30],'n_hidden2':[20,30,40,50,60,70],'dropout1': [0.45],'dropout2': [0.25,0.35,0.45,0.55,0.65]}\n",
        "p_3_4 = {'n_hidden1':[30],'n_hidden2':[20,30,40,50,60,70],'dropout1': [0.55],'dropout2': [0.25,0.35,0.45,0.55,0.65]}\n",
        "p_3_5 = {'n_hidden1':[30],'n_hidden2':[20,30,40,50,60,70],'dropout1': [0.65],'dropout2': [0.25,0.35,0.45,0.55,0.65]}\n",
        "p_3_6 = {'n_hidden1':[40],'n_hidden2':[20,30,40,50,60,70],'dropout1': [0.25],'dropout2': [0.25,0.35,0.45,0.55,0.65]}\n",
        "p_3_7 = {'n_hidden1':[40],'n_hidden2':[20,30,40,50,60,70],'dropout1': [0.35],'dropout2': [0.25,0.35,0.45,0.55,0.65]}\n",
        "p_3_8 = {'n_hidden1':[40],'n_hidden2':[20,30,40,50,60,70],'dropout1': [0.45],'dropout2': [0.25,0.35,0.45,0.55,0.65]}\n",
        "p_3_9 = {'n_hidden1':[40],'n_hidden2':[20,30,40,50,60,70],'dropout1': [0.55],'dropout2': [0.25,0.35,0.45,0.55,0.65]}\n",
        "p_3_10 = {'n_hidden1':[50],'n_hidden2':[20,30,40,50,60,70],'dropout1': [0.65],'dropout2': [0.25,0.35,0.45,0.55,0.65]}\n",
        "p_3_11 = {'n_hidden1':[50],'n_hidden2':[20,30,40,50,60,70],'dropout1': [0.25],'dropout2': [0.25,0.35,0.45,0.55,0.65]}\n",
        "p_3_12 = {'n_hidden1':[50],'n_hidden2':[20,30,40,50,60,70],'dropout1': [0.35],'dropout2': [0.25,0.35,0.45,0.55,0.65]}\n",
        "p_3_13 = {'n_hidden1':[50],'n_hidden2':[20,30,40,50,60,70],'dropout1': [0.45],'dropout2': [0.25,0.35,0.45,0.55,0.65]}\n",
        "p_3_14 = {'n_hidden1':[50],'n_hidden2':[20,30,40,50,60,70],'dropout1': [0.55],'dropout2': [0.25,0.35,0.45,0.55,0.65]}\n",
        "p_3_15 = {'n_hidden1':[50],'n_hidden2':[20,30,40,50,60,70],'dropout1': [0.65],'dropout2': [0.25,0.35,0.45,0.55,0.65]}"
      ],
      "execution_count": 0,
      "outputs": []
    },
    {
      "cell_type": "code",
      "metadata": {
        "id": "pl8DV-swOWb3",
        "colab_type": "code",
        "colab": {
          "base_uri": "https://localhost:8080/",
          "height": 1000
        },
        "outputId": "504dcfbe-bc33-471f-886a-b9935e46ebd2"
      },
      "source": [
        "import talos as ta\n",
        "import warnings\n",
        "\n",
        "with warnings.catch_warnings():\n",
        "    warnings.filterwarnings(\"ignore\",category=DeprecationWarning)\n",
        "\n",
        "t13 = ta.Scan(x=X_train,y=Y_train,model=HAR_LSTM3,params=p_3_1,experiment_name='model3_1',disable_progress_bar=False,print_params=True)"
      ],
      "execution_count": 30,
      "outputs": [
        {
          "output_type": "stream",
          "text": [
            "\n",
            "\n",
            "\n",
            "  0%|          | 0/30 [00:00<?, ?it/s]\u001b[A\u001b[A\u001b[A"
          ],
          "name": "stderr"
        },
        {
          "output_type": "stream",
          "text": [
            "{'dropout1': 0.25, 'dropout2': 0.25, 'n_hidden1': 30, 'n_hidden2': 20}\n",
            "Model: \"sequential_3\"\n",
            "_________________________________________________________________\n",
            "Layer (type)                 Output Shape              Param #   \n",
            "=================================================================\n",
            "lstm_5 (LSTM)                (None, 128, 30)           4800      \n",
            "_________________________________________________________________\n",
            "dropout_5 (Dropout)          (None, 128, 30)           0         \n",
            "_________________________________________________________________\n",
            "lstm_6 (LSTM)                (None, 20)                4080      \n",
            "_________________________________________________________________\n",
            "dropout_6 (Dropout)          (None, 20)                0         \n",
            "_________________________________________________________________\n",
            "dense_3 (Dense)              (None, 6)                 126       \n",
            "=================================================================\n",
            "Total params: 9,006\n",
            "Trainable params: 9,006\n",
            "Non-trainable params: 0\n",
            "_________________________________________________________________\n"
          ],
          "name": "stdout"
        },
        {
          "output_type": "stream",
          "text": [
            "\n",
            "\n",
            "\n",
            "  3%|▎         | 1/30 [10:07<4:53:46, 607.80s/it]\u001b[A\u001b[A\u001b[A"
          ],
          "name": "stderr"
        },
        {
          "output_type": "stream",
          "text": [
            "{'dropout1': 0.25, 'dropout2': 0.25, 'n_hidden1': 30, 'n_hidden2': 30}\n",
            "Model: \"sequential_1\"\n",
            "_________________________________________________________________\n",
            "Layer (type)                 Output Shape              Param #   \n",
            "=================================================================\n",
            "lstm_1 (LSTM)                (None, 128, 30)           4800      \n",
            "_________________________________________________________________\n",
            "dropout_1 (Dropout)          (None, 128, 30)           0         \n",
            "_________________________________________________________________\n",
            "lstm_2 (LSTM)                (None, 30)                7320      \n",
            "_________________________________________________________________\n",
            "dropout_2 (Dropout)          (None, 30)                0         \n",
            "_________________________________________________________________\n",
            "dense_1 (Dense)              (None, 6)                 186       \n",
            "=================================================================\n",
            "Total params: 12,306\n",
            "Trainable params: 12,306\n",
            "Non-trainable params: 0\n",
            "_________________________________________________________________\n"
          ],
          "name": "stdout"
        },
        {
          "output_type": "stream",
          "text": [
            "\n",
            "\n",
            "\n",
            "  7%|▋         | 2/30 [20:31<4:45:54, 612.67s/it]\u001b[A\u001b[A\u001b[A"
          ],
          "name": "stderr"
        },
        {
          "output_type": "stream",
          "text": [
            "{'dropout1': 0.25, 'dropout2': 0.25, 'n_hidden1': 30, 'n_hidden2': 40}\n",
            "Model: \"sequential_1\"\n",
            "_________________________________________________________________\n",
            "Layer (type)                 Output Shape              Param #   \n",
            "=================================================================\n",
            "lstm_1 (LSTM)                (None, 128, 30)           4800      \n",
            "_________________________________________________________________\n",
            "dropout_1 (Dropout)          (None, 128, 30)           0         \n",
            "_________________________________________________________________\n",
            "lstm_2 (LSTM)                (None, 40)                11360     \n",
            "_________________________________________________________________\n",
            "dropout_2 (Dropout)          (None, 40)                0         \n",
            "_________________________________________________________________\n",
            "dense_1 (Dense)              (None, 6)                 246       \n",
            "=================================================================\n",
            "Total params: 16,406\n",
            "Trainable params: 16,406\n",
            "Non-trainable params: 0\n",
            "_________________________________________________________________\n"
          ],
          "name": "stdout"
        },
        {
          "output_type": "stream",
          "text": [
            "\n",
            "\n",
            "\n",
            " 10%|█         | 3/30 [31:25<4:41:10, 624.83s/it]\u001b[A\u001b[A\u001b[A"
          ],
          "name": "stderr"
        },
        {
          "output_type": "stream",
          "text": [
            "{'dropout1': 0.25, 'dropout2': 0.25, 'n_hidden1': 30, 'n_hidden2': 50}\n",
            "Model: \"sequential_1\"\n",
            "_________________________________________________________________\n",
            "Layer (type)                 Output Shape              Param #   \n",
            "=================================================================\n",
            "lstm_1 (LSTM)                (None, 128, 30)           4800      \n",
            "_________________________________________________________________\n",
            "dropout_1 (Dropout)          (None, 128, 30)           0         \n",
            "_________________________________________________________________\n",
            "lstm_2 (LSTM)                (None, 50)                16200     \n",
            "_________________________________________________________________\n",
            "dropout_2 (Dropout)          (None, 50)                0         \n",
            "_________________________________________________________________\n",
            "dense_1 (Dense)              (None, 6)                 306       \n",
            "=================================================================\n",
            "Total params: 21,306\n",
            "Trainable params: 21,306\n",
            "Non-trainable params: 0\n",
            "_________________________________________________________________\n"
          ],
          "name": "stdout"
        },
        {
          "output_type": "stream",
          "text": [
            "\n",
            "\n",
            "\n",
            " 13%|█▎        | 4/30 [42:43<4:37:40, 640.78s/it]\u001b[A\u001b[A\u001b[A"
          ],
          "name": "stderr"
        },
        {
          "output_type": "stream",
          "text": [
            "{'dropout1': 0.25, 'dropout2': 0.25, 'n_hidden1': 30, 'n_hidden2': 60}\n",
            "Model: \"sequential_1\"\n",
            "_________________________________________________________________\n",
            "Layer (type)                 Output Shape              Param #   \n",
            "=================================================================\n",
            "lstm_1 (LSTM)                (None, 128, 30)           4800      \n",
            "_________________________________________________________________\n",
            "dropout_1 (Dropout)          (None, 128, 30)           0         \n",
            "_________________________________________________________________\n",
            "lstm_2 (LSTM)                (None, 60)                21840     \n",
            "_________________________________________________________________\n",
            "dropout_2 (Dropout)          (None, 60)                0         \n",
            "_________________________________________________________________\n",
            "dense_1 (Dense)              (None, 6)                 366       \n",
            "=================================================================\n",
            "Total params: 27,006\n",
            "Trainable params: 27,006\n",
            "Non-trainable params: 0\n",
            "_________________________________________________________________\n"
          ],
          "name": "stdout"
        },
        {
          "output_type": "stream",
          "text": [
            "\n",
            "\n",
            "\n",
            " 17%|█▋        | 5/30 [53:53<4:30:44, 649.80s/it]\u001b[A\u001b[A\u001b[A"
          ],
          "name": "stderr"
        },
        {
          "output_type": "stream",
          "text": [
            "{'dropout1': 0.25, 'dropout2': 0.25, 'n_hidden1': 30, 'n_hidden2': 70}\n",
            "Model: \"sequential_1\"\n",
            "_________________________________________________________________\n",
            "Layer (type)                 Output Shape              Param #   \n",
            "=================================================================\n",
            "lstm_1 (LSTM)                (None, 128, 30)           4800      \n",
            "_________________________________________________________________\n",
            "dropout_1 (Dropout)          (None, 128, 30)           0         \n",
            "_________________________________________________________________\n",
            "lstm_2 (LSTM)                (None, 70)                28280     \n",
            "_________________________________________________________________\n",
            "dropout_2 (Dropout)          (None, 70)                0         \n",
            "_________________________________________________________________\n",
            "dense_1 (Dense)              (None, 6)                 426       \n",
            "=================================================================\n",
            "Total params: 33,506\n",
            "Trainable params: 33,506\n",
            "Non-trainable params: 0\n",
            "_________________________________________________________________\n"
          ],
          "name": "stdout"
        },
        {
          "output_type": "stream",
          "text": [
            "\n",
            "\n",
            "\n",
            " 20%|██        | 6/30 [1:05:50<4:27:56, 669.87s/it]\u001b[A\u001b[A\u001b[A"
          ],
          "name": "stderr"
        },
        {
          "output_type": "stream",
          "text": [
            "{'dropout1': 0.25, 'dropout2': 0.35, 'n_hidden1': 30, 'n_hidden2': 20}\n",
            "Model: \"sequential_1\"\n",
            "_________________________________________________________________\n",
            "Layer (type)                 Output Shape              Param #   \n",
            "=================================================================\n",
            "lstm_1 (LSTM)                (None, 128, 30)           4800      \n",
            "_________________________________________________________________\n",
            "dropout_1 (Dropout)          (None, 128, 30)           0         \n",
            "_________________________________________________________________\n",
            "lstm_2 (LSTM)                (None, 20)                4080      \n",
            "_________________________________________________________________\n",
            "dropout_2 (Dropout)          (None, 20)                0         \n",
            "_________________________________________________________________\n",
            "dense_1 (Dense)              (None, 6)                 126       \n",
            "=================================================================\n",
            "Total params: 9,006\n",
            "Trainable params: 9,006\n",
            "Non-trainable params: 0\n",
            "_________________________________________________________________\n"
          ],
          "name": "stdout"
        },
        {
          "output_type": "stream",
          "text": [
            "\n",
            "\n",
            "\n",
            " 23%|██▎       | 7/30 [1:14:56<4:02:34, 632.81s/it]\u001b[A\u001b[A\u001b[A"
          ],
          "name": "stderr"
        },
        {
          "output_type": "stream",
          "text": [
            "{'dropout1': 0.25, 'dropout2': 0.35, 'n_hidden1': 30, 'n_hidden2': 30}\n",
            "Model: \"sequential_1\"\n",
            "_________________________________________________________________\n",
            "Layer (type)                 Output Shape              Param #   \n",
            "=================================================================\n",
            "lstm_1 (LSTM)                (None, 128, 30)           4800      \n",
            "_________________________________________________________________\n",
            "dropout_1 (Dropout)          (None, 128, 30)           0         \n",
            "_________________________________________________________________\n",
            "lstm_2 (LSTM)                (None, 30)                7320      \n",
            "_________________________________________________________________\n",
            "dropout_2 (Dropout)          (None, 30)                0         \n",
            "_________________________________________________________________\n",
            "dense_1 (Dense)              (None, 6)                 186       \n",
            "=================================================================\n",
            "Total params: 12,306\n",
            "Trainable params: 12,306\n",
            "Non-trainable params: 0\n",
            "_________________________________________________________________\n"
          ],
          "name": "stdout"
        },
        {
          "output_type": "stream",
          "text": [
            "\n",
            "\n",
            "\n",
            " 27%|██▋       | 8/30 [1:24:19<3:44:15, 611.63s/it]\u001b[A\u001b[A\u001b[A"
          ],
          "name": "stderr"
        },
        {
          "output_type": "stream",
          "text": [
            "{'dropout1': 0.25, 'dropout2': 0.35, 'n_hidden1': 30, 'n_hidden2': 40}\n",
            "Model: \"sequential_1\"\n",
            "_________________________________________________________________\n",
            "Layer (type)                 Output Shape              Param #   \n",
            "=================================================================\n",
            "lstm_1 (LSTM)                (None, 128, 30)           4800      \n",
            "_________________________________________________________________\n",
            "dropout_1 (Dropout)          (None, 128, 30)           0         \n",
            "_________________________________________________________________\n",
            "lstm_2 (LSTM)                (None, 40)                11360     \n",
            "_________________________________________________________________\n",
            "dropout_2 (Dropout)          (None, 40)                0         \n",
            "_________________________________________________________________\n",
            "dense_1 (Dense)              (None, 6)                 246       \n",
            "=================================================================\n",
            "Total params: 16,406\n",
            "Trainable params: 16,406\n",
            "Non-trainable params: 0\n",
            "_________________________________________________________________\n"
          ],
          "name": "stdout"
        },
        {
          "output_type": "stream",
          "text": [
            "\n",
            "\n",
            "\n",
            " 30%|███       | 9/30 [1:34:05<3:31:27, 604.19s/it]\u001b[A\u001b[A\u001b[A"
          ],
          "name": "stderr"
        },
        {
          "output_type": "stream",
          "text": [
            "{'dropout1': 0.25, 'dropout2': 0.35, 'n_hidden1': 30, 'n_hidden2': 50}\n",
            "Model: \"sequential_1\"\n",
            "_________________________________________________________________\n",
            "Layer (type)                 Output Shape              Param #   \n",
            "=================================================================\n",
            "lstm_1 (LSTM)                (None, 128, 30)           4800      \n",
            "_________________________________________________________________\n",
            "dropout_1 (Dropout)          (None, 128, 30)           0         \n",
            "_________________________________________________________________\n",
            "lstm_2 (LSTM)                (None, 50)                16200     \n",
            "_________________________________________________________________\n",
            "dropout_2 (Dropout)          (None, 50)                0         \n",
            "_________________________________________________________________\n",
            "dense_1 (Dense)              (None, 6)                 306       \n",
            "=================================================================\n",
            "Total params: 21,306\n",
            "Trainable params: 21,306\n",
            "Non-trainable params: 0\n",
            "_________________________________________________________________\n"
          ],
          "name": "stdout"
        },
        {
          "output_type": "stream",
          "text": [
            "\n",
            "\n",
            "\n",
            " 33%|███▎      | 10/30 [1:45:01<3:26:34, 619.73s/it]\u001b[A\u001b[A\u001b[A"
          ],
          "name": "stderr"
        },
        {
          "output_type": "stream",
          "text": [
            "{'dropout1': 0.25, 'dropout2': 0.35, 'n_hidden1': 30, 'n_hidden2': 60}\n",
            "Model: \"sequential_1\"\n",
            "_________________________________________________________________\n",
            "Layer (type)                 Output Shape              Param #   \n",
            "=================================================================\n",
            "lstm_1 (LSTM)                (None, 128, 30)           4800      \n",
            "_________________________________________________________________\n",
            "dropout_1 (Dropout)          (None, 128, 30)           0         \n",
            "_________________________________________________________________\n",
            "lstm_2 (LSTM)                (None, 60)                21840     \n",
            "_________________________________________________________________\n",
            "dropout_2 (Dropout)          (None, 60)                0         \n",
            "_________________________________________________________________\n",
            "dense_1 (Dense)              (None, 6)                 366       \n",
            "=================================================================\n",
            "Total params: 27,006\n",
            "Trainable params: 27,006\n",
            "Non-trainable params: 0\n",
            "_________________________________________________________________\n"
          ],
          "name": "stdout"
        },
        {
          "output_type": "stream",
          "text": [
            "\n",
            "\n",
            "\n",
            " 37%|███▋      | 11/30 [1:56:41<3:23:48, 643.58s/it]\u001b[A\u001b[A\u001b[A"
          ],
          "name": "stderr"
        },
        {
          "output_type": "stream",
          "text": [
            "{'dropout1': 0.25, 'dropout2': 0.35, 'n_hidden1': 30, 'n_hidden2': 70}\n",
            "Model: \"sequential_1\"\n",
            "_________________________________________________________________\n",
            "Layer (type)                 Output Shape              Param #   \n",
            "=================================================================\n",
            "lstm_1 (LSTM)                (None, 128, 30)           4800      \n",
            "_________________________________________________________________\n",
            "dropout_1 (Dropout)          (None, 128, 30)           0         \n",
            "_________________________________________________________________\n",
            "lstm_2 (LSTM)                (None, 70)                28280     \n",
            "_________________________________________________________________\n",
            "dropout_2 (Dropout)          (None, 70)                0         \n",
            "_________________________________________________________________\n",
            "dense_1 (Dense)              (None, 6)                 426       \n",
            "=================================================================\n",
            "Total params: 33,506\n",
            "Trainable params: 33,506\n",
            "Non-trainable params: 0\n",
            "_________________________________________________________________\n"
          ],
          "name": "stdout"
        },
        {
          "output_type": "stream",
          "text": [
            "\n",
            "\n",
            "\n",
            " 40%|████      | 12/30 [2:08:49<3:20:41, 668.99s/it]\u001b[A\u001b[A\u001b[A"
          ],
          "name": "stderr"
        },
        {
          "output_type": "stream",
          "text": [
            "{'dropout1': 0.25, 'dropout2': 0.45, 'n_hidden1': 30, 'n_hidden2': 20}\n",
            "Model: \"sequential_1\"\n",
            "_________________________________________________________________\n",
            "Layer (type)                 Output Shape              Param #   \n",
            "=================================================================\n",
            "lstm_1 (LSTM)                (None, 128, 30)           4800      \n",
            "_________________________________________________________________\n",
            "dropout_1 (Dropout)          (None, 128, 30)           0         \n",
            "_________________________________________________________________\n",
            "lstm_2 (LSTM)                (None, 20)                4080      \n",
            "_________________________________________________________________\n",
            "dropout_2 (Dropout)          (None, 20)                0         \n",
            "_________________________________________________________________\n",
            "dense_1 (Dense)              (None, 6)                 126       \n",
            "=================================================================\n",
            "Total params: 9,006\n",
            "Trainable params: 9,006\n",
            "Non-trainable params: 0\n",
            "_________________________________________________________________\n"
          ],
          "name": "stdout"
        },
        {
          "output_type": "stream",
          "text": [
            "\n",
            "\n",
            "\n",
            " 43%|████▎     | 13/30 [2:18:15<3:00:47, 638.09s/it]\u001b[A\u001b[A\u001b[A"
          ],
          "name": "stderr"
        },
        {
          "output_type": "stream",
          "text": [
            "{'dropout1': 0.25, 'dropout2': 0.45, 'n_hidden1': 30, 'n_hidden2': 30}\n",
            "Model: \"sequential_1\"\n",
            "_________________________________________________________________\n",
            "Layer (type)                 Output Shape              Param #   \n",
            "=================================================================\n",
            "lstm_1 (LSTM)                (None, 128, 30)           4800      \n",
            "_________________________________________________________________\n",
            "dropout_1 (Dropout)          (None, 128, 30)           0         \n",
            "_________________________________________________________________\n",
            "lstm_2 (LSTM)                (None, 30)                7320      \n",
            "_________________________________________________________________\n",
            "dropout_2 (Dropout)          (None, 30)                0         \n",
            "_________________________________________________________________\n",
            "dense_1 (Dense)              (None, 6)                 186       \n",
            "=================================================================\n",
            "Total params: 12,306\n",
            "Trainable params: 12,306\n",
            "Non-trainable params: 0\n",
            "_________________________________________________________________\n"
          ],
          "name": "stdout"
        },
        {
          "output_type": "stream",
          "text": [
            "\n",
            "\n",
            "\n",
            " 47%|████▋     | 14/30 [2:27:57<2:45:40, 621.26s/it]\u001b[A\u001b[A\u001b[A"
          ],
          "name": "stderr"
        },
        {
          "output_type": "stream",
          "text": [
            "{'dropout1': 0.25, 'dropout2': 0.45, 'n_hidden1': 30, 'n_hidden2': 40}\n",
            "Model: \"sequential_1\"\n",
            "_________________________________________________________________\n",
            "Layer (type)                 Output Shape              Param #   \n",
            "=================================================================\n",
            "lstm_1 (LSTM)                (None, 128, 30)           4800      \n",
            "_________________________________________________________________\n",
            "dropout_1 (Dropout)          (None, 128, 30)           0         \n",
            "_________________________________________________________________\n",
            "lstm_2 (LSTM)                (None, 40)                11360     \n",
            "_________________________________________________________________\n",
            "dropout_2 (Dropout)          (None, 40)                0         \n",
            "_________________________________________________________________\n",
            "dense_1 (Dense)              (None, 6)                 246       \n",
            "=================================================================\n",
            "Total params: 16,406\n",
            "Trainable params: 16,406\n",
            "Non-trainable params: 0\n",
            "_________________________________________________________________\n"
          ],
          "name": "stdout"
        },
        {
          "output_type": "stream",
          "text": [
            "\n",
            "\n",
            "\n",
            " 50%|█████     | 15/30 [2:38:02<2:34:06, 616.41s/it]\u001b[A\u001b[A\u001b[A"
          ],
          "name": "stderr"
        },
        {
          "output_type": "stream",
          "text": [
            "{'dropout1': 0.25, 'dropout2': 0.45, 'n_hidden1': 30, 'n_hidden2': 50}\n",
            "Model: \"sequential_1\"\n",
            "_________________________________________________________________\n",
            "Layer (type)                 Output Shape              Param #   \n",
            "=================================================================\n",
            "lstm_1 (LSTM)                (None, 128, 30)           4800      \n",
            "_________________________________________________________________\n",
            "dropout_1 (Dropout)          (None, 128, 30)           0         \n",
            "_________________________________________________________________\n",
            "lstm_2 (LSTM)                (None, 50)                16200     \n",
            "_________________________________________________________________\n",
            "dropout_2 (Dropout)          (None, 50)                0         \n",
            "_________________________________________________________________\n",
            "dense_1 (Dense)              (None, 6)                 306       \n",
            "=================================================================\n",
            "Total params: 21,306\n",
            "Trainable params: 21,306\n",
            "Non-trainable params: 0\n",
            "_________________________________________________________________\n"
          ],
          "name": "stdout"
        },
        {
          "output_type": "stream",
          "text": [
            "\n",
            "\n",
            "\n",
            " 53%|█████▎    | 16/30 [2:48:53<2:26:15, 626.84s/it]\u001b[A\u001b[A\u001b[A"
          ],
          "name": "stderr"
        },
        {
          "output_type": "stream",
          "text": [
            "{'dropout1': 0.25, 'dropout2': 0.45, 'n_hidden1': 30, 'n_hidden2': 60}\n",
            "Model: \"sequential_1\"\n",
            "_________________________________________________________________\n",
            "Layer (type)                 Output Shape              Param #   \n",
            "=================================================================\n",
            "lstm_1 (LSTM)                (None, 128, 30)           4800      \n",
            "_________________________________________________________________\n",
            "dropout_1 (Dropout)          (None, 128, 30)           0         \n",
            "_________________________________________________________________\n",
            "lstm_2 (LSTM)                (None, 60)                21840     \n",
            "_________________________________________________________________\n",
            "dropout_2 (Dropout)          (None, 60)                0         \n",
            "_________________________________________________________________\n",
            "dense_1 (Dense)              (None, 6)                 366       \n",
            "=================================================================\n",
            "Total params: 27,006\n",
            "Trainable params: 27,006\n",
            "Non-trainable params: 0\n",
            "_________________________________________________________________\n"
          ],
          "name": "stdout"
        },
        {
          "output_type": "stream",
          "text": [
            "\n",
            "\n",
            "\n",
            " 57%|█████▋    | 17/30 [3:00:26<2:20:04, 646.52s/it]\u001b[A\u001b[A\u001b[A"
          ],
          "name": "stderr"
        },
        {
          "output_type": "stream",
          "text": [
            "{'dropout1': 0.25, 'dropout2': 0.45, 'n_hidden1': 30, 'n_hidden2': 70}\n",
            "Model: \"sequential_1\"\n",
            "_________________________________________________________________\n",
            "Layer (type)                 Output Shape              Param #   \n",
            "=================================================================\n",
            "lstm_1 (LSTM)                (None, 128, 30)           4800      \n",
            "_________________________________________________________________\n",
            "dropout_1 (Dropout)          (None, 128, 30)           0         \n",
            "_________________________________________________________________\n",
            "lstm_2 (LSTM)                (None, 70)                28280     \n",
            "_________________________________________________________________\n",
            "dropout_2 (Dropout)          (None, 70)                0         \n",
            "_________________________________________________________________\n",
            "dense_1 (Dense)              (None, 6)                 426       \n",
            "=================================================================\n",
            "Total params: 33,506\n",
            "Trainable params: 33,506\n",
            "Non-trainable params: 0\n",
            "_________________________________________________________________\n"
          ],
          "name": "stdout"
        },
        {
          "output_type": "stream",
          "text": [
            "\n",
            "\n",
            "\n",
            " 60%|██████    | 18/30 [3:12:46<2:14:54, 674.53s/it]\u001b[A\u001b[A\u001b[A"
          ],
          "name": "stderr"
        },
        {
          "output_type": "stream",
          "text": [
            "{'dropout1': 0.25, 'dropout2': 0.55, 'n_hidden1': 30, 'n_hidden2': 20}\n",
            "Model: \"sequential_1\"\n",
            "_________________________________________________________________\n",
            "Layer (type)                 Output Shape              Param #   \n",
            "=================================================================\n",
            "lstm_1 (LSTM)                (None, 128, 30)           4800      \n",
            "_________________________________________________________________\n",
            "dropout_1 (Dropout)          (None, 128, 30)           0         \n",
            "_________________________________________________________________\n",
            "lstm_2 (LSTM)                (None, 20)                4080      \n",
            "_________________________________________________________________\n",
            "dropout_2 (Dropout)          (None, 20)                0         \n",
            "_________________________________________________________________\n",
            "dense_1 (Dense)              (None, 6)                 126       \n",
            "=================================================================\n",
            "Total params: 9,006\n",
            "Trainable params: 9,006\n",
            "Non-trainable params: 0\n",
            "_________________________________________________________________\n"
          ],
          "name": "stdout"
        },
        {
          "output_type": "stream",
          "text": [
            "\n",
            "\n",
            "\n",
            " 63%|██████▎   | 19/30 [3:22:23<1:58:20, 645.51s/it]\u001b[A\u001b[A\u001b[A"
          ],
          "name": "stderr"
        },
        {
          "output_type": "stream",
          "text": [
            "{'dropout1': 0.25, 'dropout2': 0.55, 'n_hidden1': 30, 'n_hidden2': 30}\n",
            "Model: \"sequential_1\"\n",
            "_________________________________________________________________\n",
            "Layer (type)                 Output Shape              Param #   \n",
            "=================================================================\n",
            "lstm_1 (LSTM)                (None, 128, 30)           4800      \n",
            "_________________________________________________________________\n",
            "dropout_1 (Dropout)          (None, 128, 30)           0         \n",
            "_________________________________________________________________\n",
            "lstm_2 (LSTM)                (None, 30)                7320      \n",
            "_________________________________________________________________\n",
            "dropout_2 (Dropout)          (None, 30)                0         \n",
            "_________________________________________________________________\n",
            "dense_1 (Dense)              (None, 6)                 186       \n",
            "=================================================================\n",
            "Total params: 12,306\n",
            "Trainable params: 12,306\n",
            "Non-trainable params: 0\n",
            "_________________________________________________________________\n"
          ],
          "name": "stdout"
        },
        {
          "output_type": "stream",
          "text": [
            "\n",
            "\n",
            "\n",
            " 67%|██████▋   | 20/30 [3:32:35<1:45:53, 635.39s/it]\u001b[A\u001b[A\u001b[A"
          ],
          "name": "stderr"
        },
        {
          "output_type": "stream",
          "text": [
            "{'dropout1': 0.25, 'dropout2': 0.55, 'n_hidden1': 30, 'n_hidden2': 40}\n",
            "Model: \"sequential_1\"\n",
            "_________________________________________________________________\n",
            "Layer (type)                 Output Shape              Param #   \n",
            "=================================================================\n",
            "lstm_1 (LSTM)                (None, 128, 30)           4800      \n",
            "_________________________________________________________________\n",
            "dropout_1 (Dropout)          (None, 128, 30)           0         \n",
            "_________________________________________________________________\n",
            "lstm_2 (LSTM)                (None, 40)                11360     \n",
            "_________________________________________________________________\n",
            "dropout_2 (Dropout)          (None, 40)                0         \n",
            "_________________________________________________________________\n",
            "dense_1 (Dense)              (None, 6)                 246       \n",
            "=================================================================\n",
            "Total params: 16,406\n",
            "Trainable params: 16,406\n",
            "Non-trainable params: 0\n",
            "_________________________________________________________________\n"
          ],
          "name": "stdout"
        },
        {
          "output_type": "stream",
          "text": [
            "\n",
            "\n",
            "\n",
            " 70%|███████   | 21/30 [3:42:52<1:34:27, 629.78s/it]\u001b[A\u001b[A\u001b[A"
          ],
          "name": "stderr"
        },
        {
          "output_type": "stream",
          "text": [
            "{'dropout1': 0.25, 'dropout2': 0.55, 'n_hidden1': 30, 'n_hidden2': 50}\n",
            "Model: \"sequential_1\"\n",
            "_________________________________________________________________\n",
            "Layer (type)                 Output Shape              Param #   \n",
            "=================================================================\n",
            "lstm_1 (LSTM)                (None, 128, 30)           4800      \n",
            "_________________________________________________________________\n",
            "dropout_1 (Dropout)          (None, 128, 30)           0         \n",
            "_________________________________________________________________\n",
            "lstm_2 (LSTM)                (None, 50)                16200     \n",
            "_________________________________________________________________\n",
            "dropout_2 (Dropout)          (None, 50)                0         \n",
            "_________________________________________________________________\n",
            "dense_1 (Dense)              (None, 6)                 306       \n",
            "=================================================================\n",
            "Total params: 21,306\n",
            "Trainable params: 21,306\n",
            "Non-trainable params: 0\n",
            "_________________________________________________________________\n"
          ],
          "name": "stdout"
        },
        {
          "output_type": "stream",
          "text": [
            "\n",
            "\n",
            "\n",
            " 73%|███████▎  | 22/30 [3:53:53<1:25:13, 639.20s/it]\u001b[A\u001b[A\u001b[A"
          ],
          "name": "stderr"
        },
        {
          "output_type": "stream",
          "text": [
            "{'dropout1': 0.25, 'dropout2': 0.55, 'n_hidden1': 30, 'n_hidden2': 60}\n",
            "Model: \"sequential_1\"\n",
            "_________________________________________________________________\n",
            "Layer (type)                 Output Shape              Param #   \n",
            "=================================================================\n",
            "lstm_1 (LSTM)                (None, 128, 30)           4800      \n",
            "_________________________________________________________________\n",
            "dropout_1 (Dropout)          (None, 128, 30)           0         \n",
            "_________________________________________________________________\n",
            "lstm_2 (LSTM)                (None, 60)                21840     \n",
            "_________________________________________________________________\n",
            "dropout_2 (Dropout)          (None, 60)                0         \n",
            "_________________________________________________________________\n",
            "dense_1 (Dense)              (None, 6)                 366       \n",
            "=================================================================\n",
            "Total params: 27,006\n",
            "Trainable params: 27,006\n",
            "Non-trainable params: 0\n",
            "_________________________________________________________________\n"
          ],
          "name": "stdout"
        },
        {
          "output_type": "stream",
          "text": [
            "\n",
            "\n",
            "\n",
            " 77%|███████▋  | 23/30 [4:05:34<1:16:44, 657.77s/it]\u001b[A\u001b[A\u001b[A"
          ],
          "name": "stderr"
        },
        {
          "output_type": "stream",
          "text": [
            "{'dropout1': 0.25, 'dropout2': 0.55, 'n_hidden1': 30, 'n_hidden2': 70}\n",
            "Model: \"sequential_1\"\n",
            "_________________________________________________________________\n",
            "Layer (type)                 Output Shape              Param #   \n",
            "=================================================================\n",
            "lstm_1 (LSTM)                (None, 128, 30)           4800      \n",
            "_________________________________________________________________\n",
            "dropout_1 (Dropout)          (None, 128, 30)           0         \n",
            "_________________________________________________________________\n",
            "lstm_2 (LSTM)                (None, 70)                28280     \n",
            "_________________________________________________________________\n",
            "dropout_2 (Dropout)          (None, 70)                0         \n",
            "_________________________________________________________________\n",
            "dense_1 (Dense)              (None, 6)                 426       \n",
            "=================================================================\n",
            "Total params: 33,506\n",
            "Trainable params: 33,506\n",
            "Non-trainable params: 0\n",
            "_________________________________________________________________\n"
          ],
          "name": "stdout"
        },
        {
          "output_type": "stream",
          "text": [
            "\n",
            "\n",
            "\n",
            " 80%|████████  | 24/30 [4:18:10<1:08:43, 687.18s/it]\u001b[A\u001b[A\u001b[A"
          ],
          "name": "stderr"
        },
        {
          "output_type": "stream",
          "text": [
            "{'dropout1': 0.25, 'dropout2': 0.65, 'n_hidden1': 30, 'n_hidden2': 20}\n",
            "Model: \"sequential_1\"\n",
            "_________________________________________________________________\n",
            "Layer (type)                 Output Shape              Param #   \n",
            "=================================================================\n",
            "lstm_1 (LSTM)                (None, 128, 30)           4800      \n",
            "_________________________________________________________________\n",
            "dropout_1 (Dropout)          (None, 128, 30)           0         \n",
            "_________________________________________________________________\n",
            "lstm_2 (LSTM)                (None, 20)                4080      \n",
            "_________________________________________________________________\n",
            "dropout_2 (Dropout)          (None, 20)                0         \n",
            "_________________________________________________________________\n",
            "dense_1 (Dense)              (None, 6)                 126       \n",
            "=================================================================\n",
            "Total params: 9,006\n",
            "Trainable params: 9,006\n",
            "Non-trainable params: 0\n",
            "_________________________________________________________________\n"
          ],
          "name": "stdout"
        },
        {
          "output_type": "stream",
          "text": [
            "\n",
            "\n",
            "\n",
            " 83%|████████▎ | 25/30 [4:27:46<54:28, 653.78s/it]  \u001b[A\u001b[A\u001b[A"
          ],
          "name": "stderr"
        },
        {
          "output_type": "stream",
          "text": [
            "{'dropout1': 0.25, 'dropout2': 0.65, 'n_hidden1': 30, 'n_hidden2': 30}\n",
            "Model: \"sequential_1\"\n",
            "_________________________________________________________________\n",
            "Layer (type)                 Output Shape              Param #   \n",
            "=================================================================\n",
            "lstm_1 (LSTM)                (None, 128, 30)           4800      \n",
            "_________________________________________________________________\n",
            "dropout_1 (Dropout)          (None, 128, 30)           0         \n",
            "_________________________________________________________________\n",
            "lstm_2 (LSTM)                (None, 30)                7320      \n",
            "_________________________________________________________________\n",
            "dropout_2 (Dropout)          (None, 30)                0         \n",
            "_________________________________________________________________\n",
            "dense_1 (Dense)              (None, 6)                 186       \n",
            "=================================================================\n",
            "Total params: 12,306\n",
            "Trainable params: 12,306\n",
            "Non-trainable params: 0\n",
            "_________________________________________________________________\n"
          ],
          "name": "stdout"
        },
        {
          "output_type": "stream",
          "text": [
            "\n",
            "\n",
            "\n",
            " 87%|████████▋ | 26/30 [4:37:45<42:29, 637.29s/it]\u001b[A\u001b[A\u001b[A"
          ],
          "name": "stderr"
        },
        {
          "output_type": "stream",
          "text": [
            "{'dropout1': 0.25, 'dropout2': 0.65, 'n_hidden1': 30, 'n_hidden2': 40}\n",
            "Model: \"sequential_1\"\n",
            "_________________________________________________________________\n",
            "Layer (type)                 Output Shape              Param #   \n",
            "=================================================================\n",
            "lstm_1 (LSTM)                (None, 128, 30)           4800      \n",
            "_________________________________________________________________\n",
            "dropout_1 (Dropout)          (None, 128, 30)           0         \n",
            "_________________________________________________________________\n",
            "lstm_2 (LSTM)                (None, 40)                11360     \n",
            "_________________________________________________________________\n",
            "dropout_2 (Dropout)          (None, 40)                0         \n",
            "_________________________________________________________________\n",
            "dense_1 (Dense)              (None, 6)                 246       \n",
            "=================================================================\n",
            "Total params: 16,406\n",
            "Trainable params: 16,406\n",
            "Non-trainable params: 0\n",
            "_________________________________________________________________\n"
          ],
          "name": "stdout"
        },
        {
          "output_type": "stream",
          "text": [
            "\n",
            "\n",
            "\n",
            " 90%|█████████ | 27/30 [4:48:00<31:32, 630.70s/it]\u001b[A\u001b[A\u001b[A"
          ],
          "name": "stderr"
        },
        {
          "output_type": "stream",
          "text": [
            "{'dropout1': 0.25, 'dropout2': 0.65, 'n_hidden1': 30, 'n_hidden2': 50}\n",
            "Model: \"sequential_1\"\n",
            "_________________________________________________________________\n",
            "Layer (type)                 Output Shape              Param #   \n",
            "=================================================================\n",
            "lstm_1 (LSTM)                (None, 128, 30)           4800      \n",
            "_________________________________________________________________\n",
            "dropout_1 (Dropout)          (None, 128, 30)           0         \n",
            "_________________________________________________________________\n",
            "lstm_2 (LSTM)                (None, 50)                16200     \n",
            "_________________________________________________________________\n",
            "dropout_2 (Dropout)          (None, 50)                0         \n",
            "_________________________________________________________________\n",
            "dense_1 (Dense)              (None, 6)                 306       \n",
            "=================================================================\n",
            "Total params: 21,306\n",
            "Trainable params: 21,306\n",
            "Non-trainable params: 0\n",
            "_________________________________________________________________\n"
          ],
          "name": "stdout"
        },
        {
          "output_type": "stream",
          "text": [
            "\n",
            "\n",
            "\n",
            " 93%|█████████▎| 28/30 [4:59:31<21:37, 648.76s/it]\u001b[A\u001b[A\u001b[A"
          ],
          "name": "stderr"
        },
        {
          "output_type": "stream",
          "text": [
            "{'dropout1': 0.25, 'dropout2': 0.65, 'n_hidden1': 30, 'n_hidden2': 60}\n",
            "Model: \"sequential_1\"\n",
            "_________________________________________________________________\n",
            "Layer (type)                 Output Shape              Param #   \n",
            "=================================================================\n",
            "lstm_1 (LSTM)                (None, 128, 30)           4800      \n",
            "_________________________________________________________________\n",
            "dropout_1 (Dropout)          (None, 128, 30)           0         \n",
            "_________________________________________________________________\n",
            "lstm_2 (LSTM)                (None, 60)                21840     \n",
            "_________________________________________________________________\n",
            "dropout_2 (Dropout)          (None, 60)                0         \n",
            "_________________________________________________________________\n",
            "dense_1 (Dense)              (None, 6)                 366       \n",
            "=================================================================\n",
            "Total params: 27,006\n",
            "Trainable params: 27,006\n",
            "Non-trainable params: 0\n",
            "_________________________________________________________________\n"
          ],
          "name": "stdout"
        },
        {
          "output_type": "stream",
          "text": [
            "\n",
            "\n",
            "\n",
            " 97%|█████████▋| 29/30 [5:11:40<11:12, 672.82s/it]\u001b[A\u001b[A\u001b[A"
          ],
          "name": "stderr"
        },
        {
          "output_type": "stream",
          "text": [
            "{'dropout1': 0.25, 'dropout2': 0.65, 'n_hidden1': 30, 'n_hidden2': 70}\n",
            "Model: \"sequential_1\"\n",
            "_________________________________________________________________\n",
            "Layer (type)                 Output Shape              Param #   \n",
            "=================================================================\n",
            "lstm_1 (LSTM)                (None, 128, 30)           4800      \n",
            "_________________________________________________________________\n",
            "dropout_1 (Dropout)          (None, 128, 30)           0         \n",
            "_________________________________________________________________\n",
            "lstm_2 (LSTM)                (None, 70)                28280     \n",
            "_________________________________________________________________\n",
            "dropout_2 (Dropout)          (None, 70)                0         \n",
            "_________________________________________________________________\n",
            "dense_1 (Dense)              (None, 6)                 426       \n",
            "=================================================================\n",
            "Total params: 33,506\n",
            "Trainable params: 33,506\n",
            "Non-trainable params: 0\n",
            "_________________________________________________________________\n"
          ],
          "name": "stdout"
        },
        {
          "output_type": "stream",
          "text": [
            "\n",
            "\n",
            "\n",
            "100%|██████████| 30/30 [5:24:27<00:00, 701.21s/it]\u001b[A\u001b[A\u001b[A\n",
            "\n",
            "\n",
            "\u001b[A\u001b[A\u001b[A"
          ],
          "name": "stderr"
        }
      ]
    },
    {
      "cell_type": "code",
      "metadata": {
        "id": "At774BApesbI",
        "colab_type": "code",
        "colab": {
          "base_uri": "https://localhost:8080/",
          "height": 612
        },
        "outputId": "30974539-3bf9-4826-f06e-0b5e7ebf6303"
      },
      "source": [
        "print (t13.data)\n",
        "print (\"###########\")\n",
        "reporting13 = ta.Reporting(t13)\n",
        "print(reporting13.data.columns)"
      ],
      "execution_count": 35,
      "outputs": [
        {
          "output_type": "stream",
          "text": [
            "    round_epochs  val_loss   val_acc  ...  dropout2  n_hidden1  n_hidden2\n",
            "0             30  0.669050  0.722121  ...      0.25         30         20\n",
            "1             30  0.148767  0.943336  ...      0.25         30         30\n",
            "2             30  0.137279  0.946510  ...      0.25         30         40\n",
            "3             30  0.184937  0.935177  ...      0.25         30         50\n",
            "4             30  0.235827  0.915684  ...      0.25         30         60\n",
            "5             30  0.140976  0.947869  ...      0.25         30         70\n",
            "6             30  0.448976  0.797371  ...      0.35         30         20\n",
            "7             30  0.201816  0.920218  ...      0.35         30         30\n",
            "8             30  0.321066  0.895286  ...      0.35         30         40\n",
            "9             30  0.271972  0.915684  ...      0.35         30         50\n",
            "10            30  0.131506  0.943790  ...      0.35         30         60\n",
            "11            30  0.161015  0.940163  ...      0.35         30         70\n",
            "12            30  0.361689  0.792384  ...      0.45         30         20\n",
            "13            30  0.402538  0.803264  ...      0.45         30         30\n",
            "14            30  0.147716  0.947416  ...      0.45         30         40\n",
            "15            30  0.299628  0.894379  ...      0.45         30         50\n",
            "16            30  0.197804  0.919764  ...      0.45         30         60\n",
            "17            30  0.142753  0.933364  ...      0.45         30         70\n",
            "18            30  0.321207  0.917951  ...      0.55         30         20\n",
            "19            30  0.692608  0.655485  ...      0.55         30         30\n",
            "20            30  0.448261  0.783318  ...      0.55         30         40\n",
            "21            30  0.408622  0.790118  ...      0.55         30         50\n",
            "22            30  0.570129  0.691296  ...      0.55         30         60\n",
            "23            30  0.143345  0.945150  ...      0.55         30         70\n",
            "24            30  0.699274  0.709429  ...      0.65         30         20\n",
            "25            30  0.743536  0.639166  ...      0.65         30         30\n",
            "26            30  0.258689  0.932457  ...      0.65         30         40\n",
            "27            30  0.499329  0.736627  ...      0.65         30         50\n",
            "28            30  0.640124  0.664551  ...      0.65         30         60\n",
            "29            30  0.756909  0.647325  ...      0.65         30         70\n",
            "\n",
            "[30 rows x 9 columns]\n",
            "###########\n",
            "<keras.engine.sequential.Sequential object at 0x7fbfc0984e48>\n"
          ],
          "name": "stdout"
        }
      ]
    },
    {
      "cell_type": "code",
      "metadata": {
        "colab_type": "code",
        "outputId": "1d843868-9d0a-4561-c209-7d76e28ea865",
        "id": "cUbOLfCpgh2m",
        "colab": {
          "base_uri": "https://localhost:8080/",
          "height": 1000
        }
      },
      "source": [
        "import talos as ta\n",
        "import warnings\n",
        "\n",
        "with warnings.catch_warnings():\n",
        "    warnings.filterwarnings(\"ignore\",category=DeprecationWarning)\n",
        "\n",
        "t16 = ta.Scan(x=X_train,y=Y_train,model=HAR_LSTM3,params=p_3_2,experiment_name='model3_2',disable_progress_bar=False,print_params=True)"
      ],
      "execution_count": 19,
      "outputs": [
        {
          "output_type": "stream",
          "text": [
            "\r  0%|          | 0/30 [00:00<?, ?it/s]"
          ],
          "name": "stderr"
        },
        {
          "output_type": "stream",
          "text": [
            "{'dropout1': 0.35, 'dropout2': 0.25, 'n_hidden1': 30, 'n_hidden2': 20}\n",
            "WARNING:tensorflow:From /usr/local/lib/python3.6/dist-packages/keras/backend/tensorflow_backend.py:541: The name tf.placeholder is deprecated. Please use tf.compat.v1.placeholder instead.\n",
            "\n",
            "WARNING:tensorflow:From /usr/local/lib/python3.6/dist-packages/keras/backend/tensorflow_backend.py:4432: The name tf.random_uniform is deprecated. Please use tf.random.uniform instead.\n",
            "\n",
            "WARNING:tensorflow:From /usr/local/lib/python3.6/dist-packages/keras/backend/tensorflow_backend.py:148: The name tf.placeholder_with_default is deprecated. Please use tf.compat.v1.placeholder_with_default instead.\n",
            "\n",
            "WARNING:tensorflow:From /usr/local/lib/python3.6/dist-packages/keras/backend/tensorflow_backend.py:3733: calling dropout (from tensorflow.python.ops.nn_ops) with keep_prob is deprecated and will be removed in a future version.\n",
            "Instructions for updating:\n",
            "Please use `rate` instead of `keep_prob`. Rate should be set to `rate = 1 - keep_prob`.\n",
            "Model: \"sequential_1\"\n",
            "_________________________________________________________________\n",
            "Layer (type)                 Output Shape              Param #   \n",
            "=================================================================\n",
            "lstm_1 (LSTM)                (None, 128, 30)           4800      \n",
            "_________________________________________________________________\n",
            "dropout_1 (Dropout)          (None, 128, 30)           0         \n",
            "_________________________________________________________________\n",
            "lstm_2 (LSTM)                (None, 20)                4080      \n",
            "_________________________________________________________________\n",
            "dropout_2 (Dropout)          (None, 20)                0         \n",
            "_________________________________________________________________\n",
            "dense_1 (Dense)              (None, 6)                 126       \n",
            "=================================================================\n",
            "Total params: 9,006\n",
            "Trainable params: 9,006\n",
            "Non-trainable params: 0\n",
            "_________________________________________________________________\n",
            "WARNING:tensorflow:From /usr/local/lib/python3.6/dist-packages/keras/optimizers.py:793: The name tf.train.Optimizer is deprecated. Please use tf.compat.v1.train.Optimizer instead.\n",
            "\n",
            "WARNING:tensorflow:From /usr/local/lib/python3.6/dist-packages/keras/backend/tensorflow_backend.py:3576: The name tf.log is deprecated. Please use tf.math.log instead.\n",
            "\n",
            "WARNING:tensorflow:From /usr/local/lib/python3.6/dist-packages/tensorflow_core/python/ops/math_grad.py:1424: where (from tensorflow.python.ops.array_ops) is deprecated and will be removed in a future version.\n",
            "Instructions for updating:\n",
            "Use tf.where in 2.0, which has the same broadcast rule as np.where\n",
            "WARNING:tensorflow:From /usr/local/lib/python3.6/dist-packages/keras/backend/tensorflow_backend.py:1033: The name tf.assign_add is deprecated. Please use tf.compat.v1.assign_add instead.\n",
            "\n",
            "WARNING:tensorflow:From /usr/local/lib/python3.6/dist-packages/keras/backend/tensorflow_backend.py:1020: The name tf.assign is deprecated. Please use tf.compat.v1.assign instead.\n",
            "\n",
            "WARNING:tensorflow:From /usr/local/lib/python3.6/dist-packages/keras/backend/tensorflow_backend.py:190: The name tf.get_default_session is deprecated. Please use tf.compat.v1.get_default_session instead.\n",
            "\n",
            "WARNING:tensorflow:From /usr/local/lib/python3.6/dist-packages/keras/backend/tensorflow_backend.py:207: The name tf.global_variables is deprecated. Please use tf.compat.v1.global_variables instead.\n",
            "\n",
            "WARNING:tensorflow:From /usr/local/lib/python3.6/dist-packages/keras/backend/tensorflow_backend.py:216: The name tf.is_variable_initialized is deprecated. Please use tf.compat.v1.is_variable_initialized instead.\n",
            "\n",
            "WARNING:tensorflow:From /usr/local/lib/python3.6/dist-packages/keras/backend/tensorflow_backend.py:223: The name tf.variables_initializer is deprecated. Please use tf.compat.v1.variables_initializer instead.\n",
            "\n",
            "WARNING:tensorflow:From /usr/local/lib/python3.6/dist-packages/keras/backend/tensorflow_backend.py:107: The name tf.reset_default_graph is deprecated. Please use tf.compat.v1.reset_default_graph instead.\n",
            "\n"
          ],
          "name": "stdout"
        },
        {
          "output_type": "stream",
          "text": [
            "\r  3%|▎         | 1/30 [09:20<4:31:04, 560.86s/it]"
          ],
          "name": "stderr"
        },
        {
          "output_type": "stream",
          "text": [
            "{'dropout1': 0.35, 'dropout2': 0.25, 'n_hidden1': 30, 'n_hidden2': 30}\n",
            "Model: \"sequential_1\"\n",
            "_________________________________________________________________\n",
            "Layer (type)                 Output Shape              Param #   \n",
            "=================================================================\n",
            "lstm_1 (LSTM)                (None, 128, 30)           4800      \n",
            "_________________________________________________________________\n",
            "dropout_1 (Dropout)          (None, 128, 30)           0         \n",
            "_________________________________________________________________\n",
            "lstm_2 (LSTM)                (None, 30)                7320      \n",
            "_________________________________________________________________\n",
            "dropout_2 (Dropout)          (None, 30)                0         \n",
            "_________________________________________________________________\n",
            "dense_1 (Dense)              (None, 6)                 186       \n",
            "=================================================================\n",
            "Total params: 12,306\n",
            "Trainable params: 12,306\n",
            "Non-trainable params: 0\n",
            "_________________________________________________________________\n"
          ],
          "name": "stdout"
        },
        {
          "output_type": "stream",
          "text": [
            "\r  7%|▋         | 2/30 [19:11<4:25:57, 569.90s/it]"
          ],
          "name": "stderr"
        },
        {
          "output_type": "stream",
          "text": [
            "{'dropout1': 0.35, 'dropout2': 0.25, 'n_hidden1': 30, 'n_hidden2': 40}\n",
            "Model: \"sequential_1\"\n",
            "_________________________________________________________________\n",
            "Layer (type)                 Output Shape              Param #   \n",
            "=================================================================\n",
            "lstm_1 (LSTM)                (None, 128, 30)           4800      \n",
            "_________________________________________________________________\n",
            "dropout_1 (Dropout)          (None, 128, 30)           0         \n",
            "_________________________________________________________________\n",
            "lstm_2 (LSTM)                (None, 40)                11360     \n",
            "_________________________________________________________________\n",
            "dropout_2 (Dropout)          (None, 40)                0         \n",
            "_________________________________________________________________\n",
            "dense_1 (Dense)              (None, 6)                 246       \n",
            "=================================================================\n",
            "Total params: 16,406\n",
            "Trainable params: 16,406\n",
            "Non-trainable params: 0\n",
            "_________________________________________________________________\n"
          ],
          "name": "stdout"
        },
        {
          "output_type": "stream",
          "text": [
            "\r 10%|█         | 3/30 [29:23<4:22:07, 582.49s/it]"
          ],
          "name": "stderr"
        },
        {
          "output_type": "stream",
          "text": [
            "{'dropout1': 0.35, 'dropout2': 0.25, 'n_hidden1': 30, 'n_hidden2': 50}\n",
            "Model: \"sequential_1\"\n",
            "_________________________________________________________________\n",
            "Layer (type)                 Output Shape              Param #   \n",
            "=================================================================\n",
            "lstm_1 (LSTM)                (None, 128, 30)           4800      \n",
            "_________________________________________________________________\n",
            "dropout_1 (Dropout)          (None, 128, 30)           0         \n",
            "_________________________________________________________________\n",
            "lstm_2 (LSTM)                (None, 50)                16200     \n",
            "_________________________________________________________________\n",
            "dropout_2 (Dropout)          (None, 50)                0         \n",
            "_________________________________________________________________\n",
            "dense_1 (Dense)              (None, 6)                 306       \n",
            "=================================================================\n",
            "Total params: 21,306\n",
            "Trainable params: 21,306\n",
            "Non-trainable params: 0\n",
            "_________________________________________________________________\n"
          ],
          "name": "stdout"
        },
        {
          "output_type": "stream",
          "text": [
            "\r 13%|█▎        | 4/30 [40:40<4:24:36, 610.63s/it]"
          ],
          "name": "stderr"
        },
        {
          "output_type": "stream",
          "text": [
            "{'dropout1': 0.35, 'dropout2': 0.25, 'n_hidden1': 30, 'n_hidden2': 60}\n",
            "Model: \"sequential_1\"\n",
            "_________________________________________________________________\n",
            "Layer (type)                 Output Shape              Param #   \n",
            "=================================================================\n",
            "lstm_1 (LSTM)                (None, 128, 30)           4800      \n",
            "_________________________________________________________________\n",
            "dropout_1 (Dropout)          (None, 128, 30)           0         \n",
            "_________________________________________________________________\n",
            "lstm_2 (LSTM)                (None, 60)                21840     \n",
            "_________________________________________________________________\n",
            "dropout_2 (Dropout)          (None, 60)                0         \n",
            "_________________________________________________________________\n",
            "dense_1 (Dense)              (None, 6)                 366       \n",
            "=================================================================\n",
            "Total params: 27,006\n",
            "Trainable params: 27,006\n",
            "Non-trainable params: 0\n",
            "_________________________________________________________________\n"
          ],
          "name": "stdout"
        },
        {
          "output_type": "stream",
          "text": [
            "\r 17%|█▋        | 5/30 [52:26<4:26:26, 639.47s/it]"
          ],
          "name": "stderr"
        },
        {
          "output_type": "stream",
          "text": [
            "{'dropout1': 0.35, 'dropout2': 0.25, 'n_hidden1': 30, 'n_hidden2': 70}\n",
            "Model: \"sequential_1\"\n",
            "_________________________________________________________________\n",
            "Layer (type)                 Output Shape              Param #   \n",
            "=================================================================\n",
            "lstm_1 (LSTM)                (None, 128, 30)           4800      \n",
            "_________________________________________________________________\n",
            "dropout_1 (Dropout)          (None, 128, 30)           0         \n",
            "_________________________________________________________________\n",
            "lstm_2 (LSTM)                (None, 70)                28280     \n",
            "_________________________________________________________________\n",
            "dropout_2 (Dropout)          (None, 70)                0         \n",
            "_________________________________________________________________\n",
            "dense_1 (Dense)              (None, 6)                 426       \n",
            "=================================================================\n",
            "Total params: 33,506\n",
            "Trainable params: 33,506\n",
            "Non-trainable params: 0\n",
            "_________________________________________________________________\n"
          ],
          "name": "stdout"
        },
        {
          "output_type": "stream",
          "text": [
            "\r 20%|██        | 6/30 [1:04:58<4:29:13, 673.05s/it]"
          ],
          "name": "stderr"
        },
        {
          "output_type": "stream",
          "text": [
            "{'dropout1': 0.35, 'dropout2': 0.35, 'n_hidden1': 30, 'n_hidden2': 20}\n",
            "Model: \"sequential_1\"\n",
            "_________________________________________________________________\n",
            "Layer (type)                 Output Shape              Param #   \n",
            "=================================================================\n",
            "lstm_1 (LSTM)                (None, 128, 30)           4800      \n",
            "_________________________________________________________________\n",
            "dropout_1 (Dropout)          (None, 128, 30)           0         \n",
            "_________________________________________________________________\n",
            "lstm_2 (LSTM)                (None, 20)                4080      \n",
            "_________________________________________________________________\n",
            "dropout_2 (Dropout)          (None, 20)                0         \n",
            "_________________________________________________________________\n",
            "dense_1 (Dense)              (None, 6)                 126       \n",
            "=================================================================\n",
            "Total params: 9,006\n",
            "Trainable params: 9,006\n",
            "Non-trainable params: 0\n",
            "_________________________________________________________________\n"
          ],
          "name": "stdout"
        },
        {
          "output_type": "stream",
          "text": [
            "\r 23%|██▎       | 7/30 [1:14:36<4:07:05, 644.61s/it]"
          ],
          "name": "stderr"
        },
        {
          "output_type": "stream",
          "text": [
            "{'dropout1': 0.35, 'dropout2': 0.35, 'n_hidden1': 30, 'n_hidden2': 30}\n",
            "Model: \"sequential_1\"\n",
            "_________________________________________________________________\n",
            "Layer (type)                 Output Shape              Param #   \n",
            "=================================================================\n",
            "lstm_1 (LSTM)                (None, 128, 30)           4800      \n",
            "_________________________________________________________________\n",
            "dropout_1 (Dropout)          (None, 128, 30)           0         \n",
            "_________________________________________________________________\n",
            "lstm_2 (LSTM)                (None, 30)                7320      \n",
            "_________________________________________________________________\n",
            "dropout_2 (Dropout)          (None, 30)                0         \n",
            "_________________________________________________________________\n",
            "dense_1 (Dense)              (None, 6)                 186       \n",
            "=================================================================\n",
            "Total params: 12,306\n",
            "Trainable params: 12,306\n",
            "Non-trainable params: 0\n",
            "_________________________________________________________________\n"
          ],
          "name": "stdout"
        },
        {
          "output_type": "stream",
          "text": [
            "\r 27%|██▋       | 8/30 [1:24:49<3:52:54, 635.19s/it]"
          ],
          "name": "stderr"
        },
        {
          "output_type": "stream",
          "text": [
            "{'dropout1': 0.35, 'dropout2': 0.35, 'n_hidden1': 30, 'n_hidden2': 40}\n",
            "Model: \"sequential_1\"\n",
            "_________________________________________________________________\n",
            "Layer (type)                 Output Shape              Param #   \n",
            "=================================================================\n",
            "lstm_1 (LSTM)                (None, 128, 30)           4800      \n",
            "_________________________________________________________________\n",
            "dropout_1 (Dropout)          (None, 128, 30)           0         \n",
            "_________________________________________________________________\n",
            "lstm_2 (LSTM)                (None, 40)                11360     \n",
            "_________________________________________________________________\n",
            "dropout_2 (Dropout)          (None, 40)                0         \n",
            "_________________________________________________________________\n",
            "dense_1 (Dense)              (None, 6)                 246       \n",
            "=================================================================\n",
            "Total params: 16,406\n",
            "Trainable params: 16,406\n",
            "Non-trainable params: 0\n",
            "_________________________________________________________________\n"
          ],
          "name": "stdout"
        },
        {
          "output_type": "stream",
          "text": [
            "\r 30%|███       | 9/30 [1:35:21<3:41:59, 634.27s/it]"
          ],
          "name": "stderr"
        },
        {
          "output_type": "stream",
          "text": [
            "{'dropout1': 0.35, 'dropout2': 0.35, 'n_hidden1': 30, 'n_hidden2': 50}\n",
            "Model: \"sequential_1\"\n",
            "_________________________________________________________________\n",
            "Layer (type)                 Output Shape              Param #   \n",
            "=================================================================\n",
            "lstm_1 (LSTM)                (None, 128, 30)           4800      \n",
            "_________________________________________________________________\n",
            "dropout_1 (Dropout)          (None, 128, 30)           0         \n",
            "_________________________________________________________________\n",
            "lstm_2 (LSTM)                (None, 50)                16200     \n",
            "_________________________________________________________________\n",
            "dropout_2 (Dropout)          (None, 50)                0         \n",
            "_________________________________________________________________\n",
            "dense_1 (Dense)              (None, 6)                 306       \n",
            "=================================================================\n",
            "Total params: 21,306\n",
            "Trainable params: 21,306\n",
            "Non-trainable params: 0\n",
            "_________________________________________________________________\n"
          ],
          "name": "stdout"
        },
        {
          "output_type": "stream",
          "text": [
            "\r 33%|███▎      | 10/30 [1:46:47<3:36:32, 649.63s/it]"
          ],
          "name": "stderr"
        },
        {
          "output_type": "stream",
          "text": [
            "{'dropout1': 0.35, 'dropout2': 0.35, 'n_hidden1': 30, 'n_hidden2': 60}\n",
            "Model: \"sequential_1\"\n",
            "_________________________________________________________________\n",
            "Layer (type)                 Output Shape              Param #   \n",
            "=================================================================\n",
            "lstm_1 (LSTM)                (None, 128, 30)           4800      \n",
            "_________________________________________________________________\n",
            "dropout_1 (Dropout)          (None, 128, 30)           0         \n",
            "_________________________________________________________________\n",
            "lstm_2 (LSTM)                (None, 60)                21840     \n",
            "_________________________________________________________________\n",
            "dropout_2 (Dropout)          (None, 60)                0         \n",
            "_________________________________________________________________\n",
            "dense_1 (Dense)              (None, 6)                 366       \n",
            "=================================================================\n",
            "Total params: 27,006\n",
            "Trainable params: 27,006\n",
            "Non-trainable params: 0\n",
            "_________________________________________________________________\n"
          ],
          "name": "stdout"
        },
        {
          "output_type": "stream",
          "text": [
            "\r 37%|███▋      | 11/30 [1:58:45<3:32:13, 670.19s/it]"
          ],
          "name": "stderr"
        },
        {
          "output_type": "stream",
          "text": [
            "{'dropout1': 0.35, 'dropout2': 0.35, 'n_hidden1': 30, 'n_hidden2': 70}\n",
            "Model: \"sequential_1\"\n",
            "_________________________________________________________________\n",
            "Layer (type)                 Output Shape              Param #   \n",
            "=================================================================\n",
            "lstm_1 (LSTM)                (None, 128, 30)           4800      \n",
            "_________________________________________________________________\n",
            "dropout_1 (Dropout)          (None, 128, 30)           0         \n",
            "_________________________________________________________________\n",
            "lstm_2 (LSTM)                (None, 70)                28280     \n",
            "_________________________________________________________________\n",
            "dropout_2 (Dropout)          (None, 70)                0         \n",
            "_________________________________________________________________\n",
            "dense_1 (Dense)              (None, 6)                 426       \n",
            "=================================================================\n",
            "Total params: 33,506\n",
            "Trainable params: 33,506\n",
            "Non-trainable params: 0\n",
            "_________________________________________________________________\n"
          ],
          "name": "stdout"
        },
        {
          "output_type": "stream",
          "text": [
            "\r 40%|████      | 12/30 [2:11:24<3:29:03, 696.86s/it]"
          ],
          "name": "stderr"
        },
        {
          "output_type": "stream",
          "text": [
            "{'dropout1': 0.35, 'dropout2': 0.45, 'n_hidden1': 30, 'n_hidden2': 20}\n",
            "Model: \"sequential_1\"\n",
            "_________________________________________________________________\n",
            "Layer (type)                 Output Shape              Param #   \n",
            "=================================================================\n",
            "lstm_1 (LSTM)                (None, 128, 30)           4800      \n",
            "_________________________________________________________________\n",
            "dropout_1 (Dropout)          (None, 128, 30)           0         \n",
            "_________________________________________________________________\n",
            "lstm_2 (LSTM)                (None, 20)                4080      \n",
            "_________________________________________________________________\n",
            "dropout_2 (Dropout)          (None, 20)                0         \n",
            "_________________________________________________________________\n",
            "dense_1 (Dense)              (None, 6)                 126       \n",
            "=================================================================\n",
            "Total params: 9,006\n",
            "Trainable params: 9,006\n",
            "Non-trainable params: 0\n",
            "_________________________________________________________________\n"
          ],
          "name": "stdout"
        },
        {
          "output_type": "stream",
          "text": [
            "\r 43%|████▎     | 13/30 [2:21:16<3:08:30, 665.33s/it]"
          ],
          "name": "stderr"
        },
        {
          "output_type": "stream",
          "text": [
            "{'dropout1': 0.35, 'dropout2': 0.45, 'n_hidden1': 30, 'n_hidden2': 30}\n",
            "Model: \"sequential_1\"\n",
            "_________________________________________________________________\n",
            "Layer (type)                 Output Shape              Param #   \n",
            "=================================================================\n",
            "lstm_1 (LSTM)                (None, 128, 30)           4800      \n",
            "_________________________________________________________________\n",
            "dropout_1 (Dropout)          (None, 128, 30)           0         \n",
            "_________________________________________________________________\n",
            "lstm_2 (LSTM)                (None, 30)                7320      \n",
            "_________________________________________________________________\n",
            "dropout_2 (Dropout)          (None, 30)                0         \n",
            "_________________________________________________________________\n",
            "dense_1 (Dense)              (None, 6)                 186       \n",
            "=================================================================\n",
            "Total params: 12,306\n",
            "Trainable params: 12,306\n",
            "Non-trainable params: 0\n",
            "_________________________________________________________________\n"
          ],
          "name": "stdout"
        },
        {
          "output_type": "stream",
          "text": [
            "\r 47%|████▋     | 14/30 [2:31:49<2:54:51, 655.74s/it]"
          ],
          "name": "stderr"
        },
        {
          "output_type": "stream",
          "text": [
            "{'dropout1': 0.35, 'dropout2': 0.45, 'n_hidden1': 30, 'n_hidden2': 40}\n",
            "Model: \"sequential_1\"\n",
            "_________________________________________________________________\n",
            "Layer (type)                 Output Shape              Param #   \n",
            "=================================================================\n",
            "lstm_1 (LSTM)                (None, 128, 30)           4800      \n",
            "_________________________________________________________________\n",
            "dropout_1 (Dropout)          (None, 128, 30)           0         \n",
            "_________________________________________________________________\n",
            "lstm_2 (LSTM)                (None, 40)                11360     \n",
            "_________________________________________________________________\n",
            "dropout_2 (Dropout)          (None, 40)                0         \n",
            "_________________________________________________________________\n",
            "dense_1 (Dense)              (None, 6)                 246       \n",
            "=================================================================\n",
            "Total params: 16,406\n",
            "Trainable params: 16,406\n",
            "Non-trainable params: 0\n",
            "_________________________________________________________________\n"
          ],
          "name": "stdout"
        },
        {
          "output_type": "stream",
          "text": [
            "\r 50%|█████     | 15/30 [2:42:32<2:42:56, 651.75s/it]"
          ],
          "name": "stderr"
        },
        {
          "output_type": "stream",
          "text": [
            "{'dropout1': 0.35, 'dropout2': 0.45, 'n_hidden1': 30, 'n_hidden2': 50}\n",
            "Model: \"sequential_1\"\n",
            "_________________________________________________________________\n",
            "Layer (type)                 Output Shape              Param #   \n",
            "=================================================================\n",
            "lstm_1 (LSTM)                (None, 128, 30)           4800      \n",
            "_________________________________________________________________\n",
            "dropout_1 (Dropout)          (None, 128, 30)           0         \n",
            "_________________________________________________________________\n",
            "lstm_2 (LSTM)                (None, 50)                16200     \n",
            "_________________________________________________________________\n",
            "dropout_2 (Dropout)          (None, 50)                0         \n",
            "_________________________________________________________________\n",
            "dense_1 (Dense)              (None, 6)                 306       \n",
            "=================================================================\n",
            "Total params: 21,306\n",
            "Trainable params: 21,306\n",
            "Non-trainable params: 0\n",
            "_________________________________________________________________\n"
          ],
          "name": "stdout"
        },
        {
          "output_type": "stream",
          "text": [
            "\r 53%|█████▎    | 16/30 [2:54:03<2:34:51, 663.68s/it]"
          ],
          "name": "stderr"
        },
        {
          "output_type": "stream",
          "text": [
            "{'dropout1': 0.35, 'dropout2': 0.45, 'n_hidden1': 30, 'n_hidden2': 60}\n",
            "Model: \"sequential_1\"\n",
            "_________________________________________________________________\n",
            "Layer (type)                 Output Shape              Param #   \n",
            "=================================================================\n",
            "lstm_1 (LSTM)                (None, 128, 30)           4800      \n",
            "_________________________________________________________________\n",
            "dropout_1 (Dropout)          (None, 128, 30)           0         \n",
            "_________________________________________________________________\n",
            "lstm_2 (LSTM)                (None, 60)                21840     \n",
            "_________________________________________________________________\n",
            "dropout_2 (Dropout)          (None, 60)                0         \n",
            "_________________________________________________________________\n",
            "dense_1 (Dense)              (None, 6)                 366       \n",
            "=================================================================\n",
            "Total params: 27,006\n",
            "Trainable params: 27,006\n",
            "Non-trainable params: 0\n",
            "_________________________________________________________________\n"
          ],
          "name": "stdout"
        },
        {
          "output_type": "stream",
          "text": [
            "\r 57%|█████▋    | 17/30 [3:05:58<2:27:08, 679.15s/it]"
          ],
          "name": "stderr"
        },
        {
          "output_type": "stream",
          "text": [
            "{'dropout1': 0.35, 'dropout2': 0.45, 'n_hidden1': 30, 'n_hidden2': 70}\n",
            "Model: \"sequential_1\"\n",
            "_________________________________________________________________\n",
            "Layer (type)                 Output Shape              Param #   \n",
            "=================================================================\n",
            "lstm_1 (LSTM)                (None, 128, 30)           4800      \n",
            "_________________________________________________________________\n",
            "dropout_1 (Dropout)          (None, 128, 30)           0         \n",
            "_________________________________________________________________\n",
            "lstm_2 (LSTM)                (None, 70)                28280     \n",
            "_________________________________________________________________\n",
            "dropout_2 (Dropout)          (None, 70)                0         \n",
            "_________________________________________________________________\n",
            "dense_1 (Dense)              (None, 6)                 426       \n",
            "=================================================================\n",
            "Total params: 33,506\n",
            "Trainable params: 33,506\n",
            "Non-trainable params: 0\n",
            "_________________________________________________________________\n"
          ],
          "name": "stdout"
        },
        {
          "output_type": "stream",
          "text": [
            "\r 60%|██████    | 18/30 [3:18:33<2:20:21, 701.79s/it]"
          ],
          "name": "stderr"
        },
        {
          "output_type": "stream",
          "text": [
            "{'dropout1': 0.35, 'dropout2': 0.55, 'n_hidden1': 30, 'n_hidden2': 20}\n",
            "WARNING:tensorflow:Large dropout rate: 0.55 (>0.5). In TensorFlow 2.x, dropout() uses dropout rate instead of keep_prob. Please ensure that this is intended.\n",
            "Model: \"sequential_1\"\n",
            "_________________________________________________________________\n",
            "Layer (type)                 Output Shape              Param #   \n",
            "=================================================================\n",
            "lstm_1 (LSTM)                (None, 128, 30)           4800      \n",
            "_________________________________________________________________\n",
            "dropout_1 (Dropout)          (None, 128, 30)           0         \n",
            "_________________________________________________________________\n",
            "lstm_2 (LSTM)                (None, 20)                4080      \n",
            "_________________________________________________________________\n",
            "dropout_2 (Dropout)          (None, 20)                0         \n",
            "_________________________________________________________________\n",
            "dense_1 (Dense)              (None, 6)                 126       \n",
            "=================================================================\n",
            "Total params: 9,006\n",
            "Trainable params: 9,006\n",
            "Non-trainable params: 0\n",
            "_________________________________________________________________\n"
          ],
          "name": "stdout"
        },
        {
          "output_type": "stream",
          "text": [
            "\r 63%|██████▎   | 19/30 [3:28:19<2:02:16, 666.99s/it]"
          ],
          "name": "stderr"
        },
        {
          "output_type": "stream",
          "text": [
            "{'dropout1': 0.35, 'dropout2': 0.55, 'n_hidden1': 30, 'n_hidden2': 30}\n",
            "WARNING:tensorflow:Large dropout rate: 0.55 (>0.5). In TensorFlow 2.x, dropout() uses dropout rate instead of keep_prob. Please ensure that this is intended.\n",
            "Model: \"sequential_1\"\n",
            "_________________________________________________________________\n",
            "Layer (type)                 Output Shape              Param #   \n",
            "=================================================================\n",
            "lstm_1 (LSTM)                (None, 128, 30)           4800      \n",
            "_________________________________________________________________\n",
            "dropout_1 (Dropout)          (None, 128, 30)           0         \n",
            "_________________________________________________________________\n",
            "lstm_2 (LSTM)                (None, 30)                7320      \n",
            "_________________________________________________________________\n",
            "dropout_2 (Dropout)          (None, 30)                0         \n",
            "_________________________________________________________________\n",
            "dense_1 (Dense)              (None, 6)                 186       \n",
            "=================================================================\n",
            "Total params: 12,306\n",
            "Trainable params: 12,306\n",
            "Non-trainable params: 0\n",
            "_________________________________________________________________\n"
          ],
          "name": "stdout"
        },
        {
          "output_type": "stream",
          "text": [
            "\r 67%|██████▋   | 20/30 [3:38:28<1:48:15, 649.53s/it]"
          ],
          "name": "stderr"
        },
        {
          "output_type": "stream",
          "text": [
            "{'dropout1': 0.35, 'dropout2': 0.55, 'n_hidden1': 30, 'n_hidden2': 40}\n",
            "WARNING:tensorflow:Large dropout rate: 0.55 (>0.5). In TensorFlow 2.x, dropout() uses dropout rate instead of keep_prob. Please ensure that this is intended.\n",
            "Model: \"sequential_1\"\n",
            "_________________________________________________________________\n",
            "Layer (type)                 Output Shape              Param #   \n",
            "=================================================================\n",
            "lstm_1 (LSTM)                (None, 128, 30)           4800      \n",
            "_________________________________________________________________\n",
            "dropout_1 (Dropout)          (None, 128, 30)           0         \n",
            "_________________________________________________________________\n",
            "lstm_2 (LSTM)                (None, 40)                11360     \n",
            "_________________________________________________________________\n",
            "dropout_2 (Dropout)          (None, 40)                0         \n",
            "_________________________________________________________________\n",
            "dense_1 (Dense)              (None, 6)                 246       \n",
            "=================================================================\n",
            "Total params: 16,406\n",
            "Trainable params: 16,406\n",
            "Non-trainable params: 0\n",
            "_________________________________________________________________\n"
          ],
          "name": "stdout"
        },
        {
          "output_type": "stream",
          "text": [
            "\r 70%|███████   | 21/30 [3:48:56<1:36:28, 643.12s/it]"
          ],
          "name": "stderr"
        },
        {
          "output_type": "stream",
          "text": [
            "{'dropout1': 0.35, 'dropout2': 0.55, 'n_hidden1': 30, 'n_hidden2': 50}\n",
            "WARNING:tensorflow:Large dropout rate: 0.55 (>0.5). In TensorFlow 2.x, dropout() uses dropout rate instead of keep_prob. Please ensure that this is intended.\n",
            "Model: \"sequential_1\"\n",
            "_________________________________________________________________\n",
            "Layer (type)                 Output Shape              Param #   \n",
            "=================================================================\n",
            "lstm_1 (LSTM)                (None, 128, 30)           4800      \n",
            "_________________________________________________________________\n",
            "dropout_1 (Dropout)          (None, 128, 30)           0         \n",
            "_________________________________________________________________\n",
            "lstm_2 (LSTM)                (None, 50)                16200     \n",
            "_________________________________________________________________\n",
            "dropout_2 (Dropout)          (None, 50)                0         \n",
            "_________________________________________________________________\n",
            "dense_1 (Dense)              (None, 6)                 306       \n",
            "=================================================================\n",
            "Total params: 21,306\n",
            "Trainable params: 21,306\n",
            "Non-trainable params: 0\n",
            "_________________________________________________________________\n"
          ],
          "name": "stdout"
        },
        {
          "output_type": "stream",
          "text": [
            "\r 73%|███████▎  | 22/30 [4:00:21<1:27:26, 655.86s/it]"
          ],
          "name": "stderr"
        },
        {
          "output_type": "stream",
          "text": [
            "{'dropout1': 0.35, 'dropout2': 0.55, 'n_hidden1': 30, 'n_hidden2': 60}\n",
            "WARNING:tensorflow:Large dropout rate: 0.55 (>0.5). In TensorFlow 2.x, dropout() uses dropout rate instead of keep_prob. Please ensure that this is intended.\n",
            "Model: \"sequential_1\"\n",
            "_________________________________________________________________\n",
            "Layer (type)                 Output Shape              Param #   \n",
            "=================================================================\n",
            "lstm_1 (LSTM)                (None, 128, 30)           4800      \n",
            "_________________________________________________________________\n",
            "dropout_1 (Dropout)          (None, 128, 30)           0         \n",
            "_________________________________________________________________\n",
            "lstm_2 (LSTM)                (None, 60)                21840     \n",
            "_________________________________________________________________\n",
            "dropout_2 (Dropout)          (None, 60)                0         \n",
            "_________________________________________________________________\n",
            "dense_1 (Dense)              (None, 6)                 366       \n",
            "=================================================================\n",
            "Total params: 27,006\n",
            "Trainable params: 27,006\n",
            "Non-trainable params: 0\n",
            "_________________________________________________________________\n"
          ],
          "name": "stdout"
        },
        {
          "output_type": "stream",
          "text": [
            "\r 77%|███████▋  | 23/30 [4:12:19<1:18:40, 674.32s/it]"
          ],
          "name": "stderr"
        },
        {
          "output_type": "stream",
          "text": [
            "{'dropout1': 0.35, 'dropout2': 0.55, 'n_hidden1': 30, 'n_hidden2': 70}\n",
            "Model: \"sequential_1\"\n",
            "_________________________________________________________________\n",
            "Layer (type)                 Output Shape              Param #   \n",
            "=================================================================\n",
            "lstm_1 (LSTM)                (None, 128, 30)           4800      \n",
            "_________________________________________________________________\n",
            "dropout_1 (Dropout)          (None, 128, 30)           0         \n",
            "_________________________________________________________________\n",
            "lstm_2 (LSTM)                (None, 70)                28280     \n",
            "_________________________________________________________________\n",
            "dropout_2 (Dropout)          (None, 70)                0         \n",
            "_________________________________________________________________\n",
            "dense_1 (Dense)              (None, 6)                 426       \n",
            "=================================================================\n",
            "Total params: 33,506\n",
            "Trainable params: 33,506\n",
            "Non-trainable params: 0\n",
            "_________________________________________________________________\n"
          ],
          "name": "stdout"
        },
        {
          "output_type": "stream",
          "text": [
            "\r 80%|████████  | 24/30 [4:24:53<1:09:50, 698.41s/it]"
          ],
          "name": "stderr"
        },
        {
          "output_type": "stream",
          "text": [
            "{'dropout1': 0.35, 'dropout2': 0.65, 'n_hidden1': 30, 'n_hidden2': 20}\n",
            "Model: \"sequential_1\"\n",
            "_________________________________________________________________\n",
            "Layer (type)                 Output Shape              Param #   \n",
            "=================================================================\n",
            "lstm_1 (LSTM)                (None, 128, 30)           4800      \n",
            "_________________________________________________________________\n",
            "dropout_1 (Dropout)          (None, 128, 30)           0         \n",
            "_________________________________________________________________\n",
            "lstm_2 (LSTM)                (None, 20)                4080      \n",
            "_________________________________________________________________\n",
            "dropout_2 (Dropout)          (None, 20)                0         \n",
            "_________________________________________________________________\n",
            "dense_1 (Dense)              (None, 6)                 126       \n",
            "=================================================================\n",
            "Total params: 9,006\n",
            "Trainable params: 9,006\n",
            "Non-trainable params: 0\n",
            "_________________________________________________________________\n"
          ],
          "name": "stdout"
        },
        {
          "output_type": "stream",
          "text": [
            "\r 83%|████████▎ | 25/30 [4:34:38<55:21, 664.29s/it]  "
          ],
          "name": "stderr"
        },
        {
          "output_type": "stream",
          "text": [
            "{'dropout1': 0.35, 'dropout2': 0.65, 'n_hidden1': 30, 'n_hidden2': 30}\n",
            "Model: \"sequential_1\"\n",
            "_________________________________________________________________\n",
            "Layer (type)                 Output Shape              Param #   \n",
            "=================================================================\n",
            "lstm_1 (LSTM)                (None, 128, 30)           4800      \n",
            "_________________________________________________________________\n",
            "dropout_1 (Dropout)          (None, 128, 30)           0         \n",
            "_________________________________________________________________\n",
            "lstm_2 (LSTM)                (None, 30)                7320      \n",
            "_________________________________________________________________\n",
            "dropout_2 (Dropout)          (None, 30)                0         \n",
            "_________________________________________________________________\n",
            "dense_1 (Dense)              (None, 6)                 186       \n",
            "=================================================================\n",
            "Total params: 12,306\n",
            "Trainable params: 12,306\n",
            "Non-trainable params: 0\n",
            "_________________________________________________________________\n"
          ],
          "name": "stdout"
        },
        {
          "output_type": "stream",
          "text": [
            "\r 87%|████████▋ | 26/30 [4:44:53<43:18, 649.59s/it]"
          ],
          "name": "stderr"
        },
        {
          "output_type": "stream",
          "text": [
            "{'dropout1': 0.35, 'dropout2': 0.65, 'n_hidden1': 30, 'n_hidden2': 40}\n",
            "Model: \"sequential_1\"\n",
            "_________________________________________________________________\n",
            "Layer (type)                 Output Shape              Param #   \n",
            "=================================================================\n",
            "lstm_1 (LSTM)                (None, 128, 30)           4800      \n",
            "_________________________________________________________________\n",
            "dropout_1 (Dropout)          (None, 128, 30)           0         \n",
            "_________________________________________________________________\n",
            "lstm_2 (LSTM)                (None, 40)                11360     \n",
            "_________________________________________________________________\n",
            "dropout_2 (Dropout)          (None, 40)                0         \n",
            "_________________________________________________________________\n",
            "dense_1 (Dense)              (None, 6)                 246       \n",
            "=================================================================\n",
            "Total params: 16,406\n",
            "Trainable params: 16,406\n",
            "Non-trainable params: 0\n",
            "_________________________________________________________________\n"
          ],
          "name": "stdout"
        },
        {
          "output_type": "stream",
          "text": [
            "\r 90%|█████████ | 27/30 [4:55:13<32:02, 640.76s/it]"
          ],
          "name": "stderr"
        },
        {
          "output_type": "stream",
          "text": [
            "{'dropout1': 0.35, 'dropout2': 0.65, 'n_hidden1': 30, 'n_hidden2': 50}\n",
            "Model: \"sequential_1\"\n",
            "_________________________________________________________________\n",
            "Layer (type)                 Output Shape              Param #   \n",
            "=================================================================\n",
            "lstm_1 (LSTM)                (None, 128, 30)           4800      \n",
            "_________________________________________________________________\n",
            "dropout_1 (Dropout)          (None, 128, 30)           0         \n",
            "_________________________________________________________________\n",
            "lstm_2 (LSTM)                (None, 50)                16200     \n",
            "_________________________________________________________________\n",
            "dropout_2 (Dropout)          (None, 50)                0         \n",
            "_________________________________________________________________\n",
            "dense_1 (Dense)              (None, 6)                 306       \n",
            "=================================================================\n",
            "Total params: 21,306\n",
            "Trainable params: 21,306\n",
            "Non-trainable params: 0\n",
            "_________________________________________________________________\n"
          ],
          "name": "stdout"
        },
        {
          "output_type": "stream",
          "text": [
            "\r 93%|█████████▎| 28/30 [5:06:43<21:50, 655.35s/it]"
          ],
          "name": "stderr"
        },
        {
          "output_type": "stream",
          "text": [
            "{'dropout1': 0.35, 'dropout2': 0.65, 'n_hidden1': 30, 'n_hidden2': 60}\n",
            "Model: \"sequential_1\"\n",
            "_________________________________________________________________\n",
            "Layer (type)                 Output Shape              Param #   \n",
            "=================================================================\n",
            "lstm_1 (LSTM)                (None, 128, 30)           4800      \n",
            "_________________________________________________________________\n",
            "dropout_1 (Dropout)          (None, 128, 30)           0         \n",
            "_________________________________________________________________\n",
            "lstm_2 (LSTM)                (None, 60)                21840     \n",
            "_________________________________________________________________\n",
            "dropout_2 (Dropout)          (None, 60)                0         \n",
            "_________________________________________________________________\n",
            "dense_1 (Dense)              (None, 6)                 366       \n",
            "=================================================================\n",
            "Total params: 27,006\n",
            "Trainable params: 27,006\n",
            "Non-trainable params: 0\n",
            "_________________________________________________________________\n"
          ],
          "name": "stdout"
        },
        {
          "output_type": "stream",
          "text": [
            "\r 97%|█████████▋| 29/30 [5:18:44<11:15, 675.12s/it]"
          ],
          "name": "stderr"
        },
        {
          "output_type": "stream",
          "text": [
            "{'dropout1': 0.35, 'dropout2': 0.65, 'n_hidden1': 30, 'n_hidden2': 70}\n",
            "Model: \"sequential_1\"\n",
            "_________________________________________________________________\n",
            "Layer (type)                 Output Shape              Param #   \n",
            "=================================================================\n",
            "lstm_1 (LSTM)                (None, 128, 30)           4800      \n",
            "_________________________________________________________________\n",
            "dropout_1 (Dropout)          (None, 128, 30)           0         \n",
            "_________________________________________________________________\n",
            "lstm_2 (LSTM)                (None, 70)                28280     \n",
            "_________________________________________________________________\n",
            "dropout_2 (Dropout)          (None, 70)                0         \n",
            "_________________________________________________________________\n",
            "dense_1 (Dense)              (None, 6)                 426       \n",
            "=================================================================\n",
            "Total params: 33,506\n",
            "Trainable params: 33,506\n",
            "Non-trainable params: 0\n",
            "_________________________________________________________________\n"
          ],
          "name": "stdout"
        },
        {
          "output_type": "stream",
          "text": [
            "\r100%|██████████| 30/30 [5:31:32<00:00, 702.90s/it]\n"
          ],
          "name": "stderr"
        }
      ]
    },
    {
      "cell_type": "code",
      "metadata": {
        "colab_type": "code",
        "outputId": "6a563981-25b7-45a8-f460-bb7ae28a6033",
        "id": "04FsHa7ogh2y",
        "colab": {
          "base_uri": "https://localhost:8080/",
          "height": 578
        }
      },
      "source": [
        "print (t16.data)\n"
      ],
      "execution_count": 31,
      "outputs": [
        {
          "output_type": "stream",
          "text": [
            "    round_epochs  val_loss   val_acc  ...  dropout2  n_hidden1  n_hidden2\n",
            "0             30  0.371702  0.810063  ...      0.25         30         20\n",
            "1             30  0.169048  0.943336  ...      0.25         30         30\n",
            "2             30  0.159836  0.932004  ...      0.25         30         40\n",
            "3             30  0.165138  0.938803  ...      0.25         30         50\n",
            "4             30  0.174891  0.922937  ...      0.25         30         60\n",
            "5             30  0.147778  0.939710  ...      0.25         30         70\n",
            "6             30  0.400641  0.773799  ...      0.35         30         20\n",
            "7             30  0.387033  0.805530  ...      0.35         30         30\n",
            "8             30  0.154402  0.943336  ...      0.35         30         40\n",
            "9             30  0.139102  0.946510  ...      0.35         30         50\n",
            "10            30  0.308922  0.864007  ...      0.35         30         60\n",
            "11            30  0.124542  0.952856  ...      0.35         30         70\n",
            "12            30  0.169123  0.939257  ...      0.45         30         20\n",
            "13            30  0.473252  0.697643  ...      0.45         30         30\n",
            "14            30  0.232896  0.932004  ...      0.45         30         40\n",
            "15            30  0.497632  0.783318  ...      0.45         30         50\n",
            "16            30  0.339531  0.887126  ...      0.45         30         60\n",
            "17            30  0.370026  0.815956  ...      0.45         30         70\n",
            "18            30  0.944083  0.450136  ...      0.55         30         20\n",
            "19            30  0.623931  0.666364  ...      0.55         30         30\n",
            "20            30  0.313481  0.875793  ...      0.55         30         40\n",
            "21            30  0.598161  0.751587  ...      0.55         30         50\n",
            "22            30  0.303635  0.875340  ...      0.55         30         60\n",
            "23            30  0.157457  0.934270  ...      0.55         30         70\n",
            "24            30  0.560996  0.705349  ...      0.65         30         20\n",
            "25            30  0.351882  0.786038  ...      0.65         30         30\n",
            "26            30  0.621902  0.673164  ...      0.65         30         40\n",
            "27            30  0.278725  0.912965  ...      0.65         30         50\n",
            "28            30  0.352447  0.860381  ...      0.65         30         60\n",
            "29            30  0.359918  0.806437  ...      0.65         30         70\n",
            "\n",
            "[30 rows x 9 columns]\n"
          ],
          "name": "stdout"
        }
      ]
    },
    {
      "cell_type": "markdown",
      "metadata": {
        "id": "xMjRRLw14EmT",
        "colab_type": "text"
      },
      "source": [
        "**CONCLUSION**"
      ]
    },
    {
      "cell_type": "markdown",
      "metadata": {
        "id": "q-pepwvR2-zG",
        "colab_type": "text"
      },
      "source": [
        "So there are 1000s of model which we can try , but now we can stop here becuase we have got model which is hitting 95% accuracy with 2 Layer LSTM\n",
        "\n",
        "Model parameters\n",
        "\n",
        "\n",
        "```\n",
        "{'dropout1': 0.35, 'dropout2': 0.35, 'n_hidden1': 30, 'n_hidden2': 70}\n",
        "\n"
      ]
    },
    {
      "cell_type": "markdown",
      "metadata": {
        "id": "omJrQOXW3S3I",
        "colab_type": "text"
      },
      "source": [
        "So for Single Layer LSTM Best parameters we got is\n",
        "\n",
        "```\n",
        "round_epochs  val_loss   val_acc      loss       acc          dropout  n_hidden\n",
        "30            0.135911   0.949683     0.123179   0.952779     0.00       115\n",
        "\n",
        "\n"
      ]
    },
    {
      "cell_type": "markdown",
      "metadata": {
        "id": "RJ5iry2d3uxe",
        "colab_type": "text"
      },
      "source": [
        "So for double LSTM best parameter we got is\n",
        "\n",
        "{'dropout1': 0.35, 'dropout2': 0.35, 'n_hidden1': 30, 'n_hidden2': 70}\n"
      ]
    }
  ]
}